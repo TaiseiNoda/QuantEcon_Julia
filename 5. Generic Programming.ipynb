{
 "cells": [
  {
   "cell_type": "markdown",
   "metadata": {},
   "source": [
    "#### Generic Programming"
   ]
  },
  {
   "cell_type": "code",
   "execution_count": 2,
   "metadata": {},
   "outputs": [
    {
     "name": "stdout",
     "output_type": "stream",
     "text": [
      "\u001b[32m\u001b[1mActivated\u001b[0m /Users/yurimatsumura/Project.toml\u001b[39m\n",
      "\u001b[36m\u001b[1mInfo\u001b[0m quantecon-notebooks-julia 0.5.0 activated, 0.6.0 requested\u001b[39m\n"
     ]
    }
   ],
   "source": [
    "using InstantiateFromURL\n",
    "github_project(\"QuantEcon/quantecon-notebooks-julia\", version = \"0.6.0\")\n",
    "# uncomment to force package installation and precompilation\n",
    "# github_project(\"QuantEcon/quantecon-notebooks-julia\", version=\"0.6.0\", instantiate=true, precompile = true)\n",
    "using LinearAlgebra, Statistics\n",
    "using Distributions, Plots, QuadGK, Polynomials, Interpolations"
   ]
  },
  {
   "cell_type": "code",
   "execution_count": 4,
   "metadata": {},
   "outputs": [
    {
     "name": "stdout",
     "output_type": "stream",
     "text": [
      "search: \u001b[0m\u001b[1mw\u001b[22m\u001b[0m\u001b[1mh\u001b[22m\u001b[0m\u001b[1mi\u001b[22m\u001b[0m\u001b[1mc\u001b[22m\u001b[0m\u001b[1mh\u001b[22m @\u001b[0m\u001b[1mw\u001b[22m\u001b[0m\u001b[1mh\u001b[22m\u001b[0m\u001b[1mi\u001b[22m\u001b[0m\u001b[1mc\u001b[22m\u001b[0m\u001b[1mh\u001b[22m\n",
      "\n"
     ]
    },
    {
     "data": {
      "text/latex": [
       "\\begin{verbatim}\n",
       "which(f, types)\n",
       "\\end{verbatim}\n",
       "Returns the method of \\texttt{f} (a \\texttt{Method} object) that would be called for arguments of the given \\texttt{types}.\n",
       "\n",
       "If \\texttt{types} is an abstract type, then the method that would be called by \\texttt{invoke} is returned.\n",
       "\n",
       "\\rule{\\textwidth}{1pt}\n",
       "\\begin{verbatim}\n",
       "which(module, symbol)\n",
       "\\end{verbatim}\n",
       "Return the module in which the binding for the variable referenced by \\texttt{symbol} in \\texttt{module} was created.\n",
       "\n"
      ],
      "text/markdown": [
       "```\n",
       "which(f, types)\n",
       "```\n",
       "\n",
       "Returns the method of `f` (a `Method` object) that would be called for arguments of the given `types`.\n",
       "\n",
       "If `types` is an abstract type, then the method that would be called by `invoke` is returned.\n",
       "\n",
       "---\n",
       "\n",
       "```\n",
       "which(module, symbol)\n",
       "```\n",
       "\n",
       "Return the module in which the binding for the variable referenced by `symbol` in `module` was created.\n"
      ],
      "text/plain": [
       "\u001b[36m  which(f, types)\u001b[39m\n",
       "\n",
       "  Returns the method of \u001b[36mf\u001b[39m (a \u001b[36mMethod\u001b[39m object) that would be called for arguments\n",
       "  of the given \u001b[36mtypes\u001b[39m.\n",
       "\n",
       "  If \u001b[36mtypes\u001b[39m is an abstract type, then the method that would be called by \u001b[36minvoke\u001b[39m\n",
       "  is returned.\n",
       "\n",
       "  ────────────────────────────────────────────────────────────────────────────\n",
       "\n",
       "\u001b[36m  which(module, symbol)\u001b[39m\n",
       "\n",
       "  Return the module in which the binding for the variable referenced by \u001b[36msymbol\u001b[39m\n",
       "  in \u001b[36mmodule\u001b[39m was created."
      ]
     },
     "execution_count": 4,
     "metadata": {},
     "output_type": "execute_result"
    }
   ],
   "source": [
    "?which"
   ]
  },
  {
   "cell_type": "code",
   "execution_count": 8,
   "metadata": {},
   "outputs": [
    {
     "name": "stdout",
     "output_type": "stream",
     "text": [
      "6 / 18 = 0.3333333333333333\n",
      "6 // 18 = 1//3\n"
     ]
    },
    {
     "data": {
      "text/plain": [
       "1//3"
      ]
     },
     "execution_count": 8,
     "metadata": {},
     "output_type": "execute_result"
    }
   ],
   "source": [
    "@show 6/18\n",
    "@show 6//18"
   ]
  },
  {
   "cell_type": "code",
   "execution_count": 12,
   "metadata": {},
   "outputs": [
    {
     "data": {
      "text/plain": [
       "0.33333754198126314"
      ]
     },
     "execution_count": 12,
     "metadata": {},
     "output_type": "execute_result"
    }
   ],
   "source": [
    "# more efficient version of previous exercise\n",
    "\n",
    "\n",
    "function trapezoidal(f::Function, x_l, x_u, N)\n",
    "    x = range(x_l,x_u, length = N)\n",
    "    ω = step(x) * [0.5;ones(length(x) - 2);0.5]\n",
    "    return dot(f.(x),ω )\n",
    "end\n",
    "\n",
    "\n",
    "f(x) = x^2\n",
    "\n",
    "trapezoidal(f,0.0,1.0,200)\n"
   ]
  },
  {
   "cell_type": "code",
   "execution_count": 100,
   "metadata": {},
   "outputs": [
    {
     "name": "stdout",
     "output_type": "stream",
     "text": [
      "  0.046588 seconds (65.69 k allocations: 3.289 MiB)\n"
     ]
    },
    {
     "data": {
      "text/plain": [
       "0.3333503384008434"
      ]
     },
     "execution_count": 100,
     "metadata": {},
     "output_type": "execute_result"
    }
   ],
   "source": [
    "# Exerceise 1.a\n",
    "\n",
    "using LinearAlgebra, BenchmarkTools\n",
    "\n",
    "\n",
    "\n",
    "\n",
    "# Original algorithm\n",
    "\n",
    "\n",
    "function trap_weights(x)\n",
    "    return step(x) * [0.5; ones(length(x) - 2); 0.5]\n",
    "end\n",
    "\n",
    "\n",
    "x = range(0.0, 1.0, length = 100)\n",
    "f(x) = x^2\n",
    "ω = trap_weights(x)    \n",
    "f(x) = x^2\n",
    "dot(f.(x),ω)\n"
   ]
  },
  {
   "cell_type": "code",
   "execution_count": 99,
   "metadata": {},
   "outputs": [
    {
     "name": "stdout",
     "output_type": "stream",
     "text": [
      "  0.002161 seconds (136 allocations: 8.846 KiB)\n"
     ]
    },
    {
     "data": {
      "text/plain": [
       "UniformTrapezoidal(100, 0.010101010101010102)"
      ]
     },
     "execution_count": 99,
     "metadata": {},
     "output_type": "execute_result"
    }
   ],
   "source": [
    "\n",
    "# Modified \n",
    "    \n",
    "using LinearAlgebra, BenchmarkTools\n",
    "\n",
    "@time begin\n",
    "\n",
    "struct UniformTrapezoidal\n",
    "    count::Int\n",
    "    Δ::Float64\n",
    "end\n",
    "\n",
    "Base.iterate(S::UniformTrapezoidal, state = 1) = (state == 1) || (state == S.count) ? (S.Δ * 0.5 , state+1) : ( state > S.count ? nothing : (S.Δ, state+1))\n",
    "end  \n",
    "\n",
    "\n",
    "x_1 = range(0.0, 1.0, length = 100)\n",
    "UniformTrapezoidal(length(x),step(x))\n",
    "    \n"
   ]
  },
  {
   "cell_type": "code",
   "execution_count": 16,
   "metadata": {},
   "outputs": [
    {
     "data": {
      "text/plain": [
       "Squares(7)"
      ]
     },
     "execution_count": 16,
     "metadata": {},
     "output_type": "execute_result"
    }
   ],
   "source": [
    "Squares(7)"
   ]
  },
  {
   "cell_type": "code",
   "execution_count": null,
   "metadata": {},
   "outputs": [],
   "source": []
  }
 ],
 "metadata": {
  "kernelspec": {
   "display_name": "Julia 1.4.1",
   "language": "julia",
   "name": "julia-1.4"
  },
  "language_info": {
   "file_extension": ".jl",
   "mimetype": "application/julia",
   "name": "julia",
   "version": "1.4.1"
  }
 },
 "nbformat": 4,
 "nbformat_minor": 4
}
