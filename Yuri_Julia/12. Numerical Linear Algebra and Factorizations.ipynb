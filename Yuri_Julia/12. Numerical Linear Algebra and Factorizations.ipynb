{
 "cells": [
  {
   "cell_type": "code",
   "execution_count": 1,
   "metadata": {},
   "outputs": [],
   "source": [
    "using LinearAlgebra, Statistics, BenchmarkTools, SparseArrays, Random\n",
    "Random.seed!(42); "
   ]
  },
  {
   "cell_type": "code",
   "execution_count": 32,
   "metadata": {},
   "outputs": [
    {
     "name": "stdout",
     "output_type": "stream",
     "text": [
      "  0.000036 seconds (6 allocations: 7.094 KiB)\n"
     ]
    },
    {
     "data": {
      "text/plain": [
       "10×10 SparseMatrixCSC{Float64,Int64} with 100 stored entries:\n",
       "  [1 ,  1]  =  -0.191886\n",
       "  [2 ,  1]  =  -0.293568\n",
       "  [3 ,  1]  =  0.418896\n",
       "  [4 ,  1]  =  1.5174\n",
       "  [5 ,  1]  =  -0.0357174\n",
       "  [6 ,  1]  =  -0.0930237\n",
       "  [7 ,  1]  =  0.0790766\n",
       "  [8 ,  1]  =  0.175746\n",
       "  [9 ,  1]  =  0.00209055\n",
       "  [10,  1]  =  -0.87469\n",
       "  [1 ,  2]  =  -0.211962\n",
       "  [2 ,  2]  =  0.900332\n",
       "  ⋮\n",
       "  [8 ,  9]  =  6.78016\n",
       "  [9 ,  9]  =  2.61579\n",
       "  [10,  9]  =  -3.71619\n",
       "  [1 , 10]  =  -0.790739\n",
       "  [2 , 10]  =  0.0162444\n",
       "  [3 , 10]  =  -0.0443224\n",
       "  [4 , 10]  =  0.182893\n",
       "  [5 , 10]  =  0.0212251\n",
       "  [6 , 10]  =  0.547007\n",
       "  [7 , 10]  =  1.67983\n",
       "  [8 , 10]  =  -1.6328\n",
       "  [9 , 10]  =  -0.012293\n",
       "  [10, 10]  =  -1.64688"
      ]
     },
     "execution_count": 32,
     "metadata": {},
     "output_type": "execute_result"
    }
   ],
   "source": [
    "A = sprand(10, 10, 0.45)\n",
    "@time invA = inv(Array(A))\n",
    "\n",
    "B = sprand(10, 10, 0.45)\n",
    "invB = sparse(inv(Array(B)))"
   ]
  },
  {
   "cell_type": "code",
   "execution_count": 33,
   "metadata": {},
   "outputs": [
    {
     "name": "stdout",
     "output_type": "stream",
     "text": [
      "A\\b for typeof(A) = Tridiagonal{Float64,Array{Float64,1}}\n",
      "  23.514 μs (9 allocations: 47.75 KiB)\n",
      "A\\b for typeof(A) = SparseMatrixCSC{Float64,Int64}\n",
      "  784.823 μs (69 allocations: 1.06 MiB)\n",
      "A\\b for typeof(A) = Array{Float64,2}\n",
      "  16.977 ms (5 allocations: 7.65 MiB)\n"
     ]
    }
   ],
   "source": [
    "using BenchmarkTools\n",
    "function benchmark_solve(A, b)\n",
    "    println(\"A\\\\b for typeof(A) = $(string(typeof(A)))\")\n",
    "    @btime $A \\ $b\n",
    "end\n",
    "\n",
    "\n",
    "N = 1000\n",
    "b = rand(N)\n",
    "A = Tridiagonal([fill(0.1, N-2); 0.2], fill(0.8, N), [0.2; fill(0.1, N-2);])\n",
    "A_sparse = sparse(A)  # sparse but losing tridiagonal structure\n",
    "A_dense = Array(A)    # dropping the sparsity structure, dense 1000x1000\n",
    "\n",
    "# benchmark solution to system A x = b\n",
    "benchmark_solve(A, b)\n",
    "benchmark_solve(A_sparse, b)\n",
    "benchmark_solve(A_dense, b);"
   ]
  },
  {
   "cell_type": "markdown",
   "metadata": {},
   "source": [
    "In fact, the difference becomes more extreme as the matrices grow. Solving a tridiagonal system is $O(N)$ while that of a dense matrix without any structure is $O(N^3)$. "
   ]
  },
  {
   "cell_type": "code",
   "execution_count": 34,
   "metadata": {},
   "outputs": [
    {
     "name": "stdout",
     "output_type": "stream",
     "text": [
      "  0.105660 seconds (147.26 k allocations: 7.369 MiB)\n",
      "  0.609682 seconds (2.08 M allocations: 99.588 MiB, 4.55% gc time)\n"
     ]
    },
    {
     "data": {
      "text/plain": [
       "5×5 Tridiagonal{Float64,Array{Float64,1}}:\n",
       " 0.586056   0.146514     ⋅          ⋅           ⋅ \n",
       " 0.0620506  0.496405    0.0620506   ⋅           ⋅ \n",
       "  ⋅         0.00307175  0.024574   0.00307175   ⋅ \n",
       "  ⋅          ⋅          0.0920293  0.736234    0.0920293\n",
       "  ⋅          ⋅           ⋅         0.111219    0.444877"
      ]
     },
     "execution_count": 34,
     "metadata": {},
     "output_type": "execute_result"
    }
   ],
   "source": [
    "N = 5\n",
    "U = UpperTriangular(rand(N,N))\n",
    "L = U'\n",
    "@time L * U\n",
    "\n",
    "\n",
    "A = Tridiagonal([fill(0.1, N-2); 0.2], fill(0.8, N), [0.2; fill(0.1, N-2);])\n",
    "D = Diagonal(rand(N))\n",
    "@time D * A\n"
   ]
  },
  {
   "cell_type": "code",
   "execution_count": 36,
   "metadata": {},
   "outputs": [
    {
     "name": "stdout",
     "output_type": "stream",
     "text": [
      "  405.866 μs (68 allocations: 205.28 KiB)\n",
      "  228.978 μs (96 allocations: 155.59 KiB)\n",
      "  148.140 μs (6 allocations: 102.63 KiB)\n"
     ]
    }
   ],
   "source": [
    "N = 100\n",
    "A = rand(N,N)\n",
    "M = 30\n",
    "B = rand(N,M)\n",
    "function solve_inverting(A, B)\n",
    "    A_inv = inv(A)\n",
    "    X = similar(B)\n",
    "    for i in 1:size(B,2)\n",
    "        X[:,i] = A_inv * B[:,i]\n",
    "    end\n",
    "    return X\n",
    "end\n",
    "\n",
    "function solve_factoring(A, B)\n",
    "    X = similar(B)\n",
    "    A = factorize(A)\n",
    "    for i in 1:size(B,2)\n",
    "        X[:,i] = A \\ B[:,i]\n",
    "    end\n",
    "    return X\n",
    "end\n",
    "\n",
    "\n",
    "\n",
    "@btime solve_inverting($A, $B)\n",
    "@btime solve_factoring($A, $B)\n",
    "\n",
    "# even better, use built-in feature for multiple RHS\n",
    "@btime $A \\ $B;"
   ]
  },
  {
   "cell_type": "code",
   "execution_count": 37,
   "metadata": {},
   "outputs": [
    {
     "data": {
      "text/plain": [
       "3-element Array{Float64,1}:\n",
       " -2.090019248085796\n",
       "  0.9049883755395551\n",
       "  1.2806259962712583"
      ]
     },
     "execution_count": 37,
     "metadata": {},
     "output_type": "execute_result"
    }
   ],
   "source": [
    "N = 10\n",
    "M = 3\n",
    "x_true = rand(3)\n",
    "\n",
    "A = rand(N,M) .+ randn(N)\n",
    "b = rand(N)\n",
    "x = A \\ b"
   ]
  },
  {
   "cell_type": "markdown",
   "metadata": {},
   "source": [
    "### Exercise 2a,b"
   ]
  },
  {
   "cell_type": "markdown",
   "metadata": {},
   "source": [
    "#### Solution"
   ]
  },
  {
   "cell_type": "code",
   "execution_count": 100,
   "metadata": {},
   "outputs": [
    {
     "name": "stdout",
     "output_type": "stream",
     "text": [
      "  0.054605 seconds (19.56 k allocations: 1.187 MiB)\n",
      "  0.019347 seconds (5.04 k allocations: 1.440 MiB)\n",
      "  0.012553 seconds (3.99 k allocations: 482.340 KiB)\n",
      "iteration_1(T) ≈ iteration_2(T) = true\n",
      "iteration_1(T) ≈ iteration_3(T) = true\n",
      "iteration_2(T) ≈ iteration_3(T) = true\n"
     ]
    }
   ],
   "source": [
    "N = 100\n",
    "A = Tridiagonal([fill(0.1, N-2); 0.2], fill(0.8, N), [0.2; fill(0.1, N-2)])\n",
    "A_adjoint = A';\n",
    "\n",
    "\n",
    "# iterative calculation of  ψ_T\n",
    "\n",
    "function iteration_1(T)\n",
    "    ψ_old = [1; zeros(N-1)]\n",
    "    for t in 1:T\n",
    "        ψ_old = A' * ψ_old \n",
    "    end\n",
    "    return ψ_old\n",
    "end\n",
    "\n",
    "\n",
    "\n",
    "# direct calculation of ψ_T\n",
    "\n",
    "function iteration_2(T)\n",
    "    ψ_old = [1; zeros(N-1)]\n",
    "    return A_adjoint^T * ψ_old\n",
    "end\n",
    "\n",
    "# Eigen decomposition \n",
    "\n",
    "A = Array(A)\n",
    "A_eig = eigen(A')\n",
    "Λ = Diagonal(A_eig.values)\n",
    "Q = A_eig.vectors\n",
    "\n",
    "function iteration_3(T)\n",
    "    ψ_old = [1; zeros(N-1)]\n",
    "    return  Q * Λ^T * inv(Q)* ψ_old\n",
    "end\n",
    "\n",
    "\n",
    "\n",
    "T = 2N\n",
    "\n",
    "@time iteration_1(T)\n",
    "@time iteration_2(T)\n",
    "@time iteration_3(T)\n",
    "\n",
    "\n",
    "@show iteration_1(T) ≈ iteration_2(T)\n",
    "@show iteration_1(T) ≈ iteration_3(T)\n",
    "@show iteration_2(T) ≈ iteration_3(T);"
   ]
  },
  {
   "cell_type": "code",
   "execution_count": null,
   "metadata": {},
   "outputs": [],
   "source": []
  }
 ],
 "metadata": {
  "kernelspec": {
   "display_name": "Julia 1.4.1",
   "language": "julia",
   "name": "julia-1.4"
  },
  "language_info": {
   "file_extension": ".jl",
   "mimetype": "application/julia",
   "name": "julia",
   "version": "1.4.1"
  }
 },
 "nbformat": 4,
 "nbformat_minor": 4
}
