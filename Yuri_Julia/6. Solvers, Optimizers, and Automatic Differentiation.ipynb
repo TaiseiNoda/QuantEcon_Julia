{
 "cells": [
  {
   "cell_type": "code",
   "execution_count": 2,
   "metadata": {},
   "outputs": [
    {
     "name": "stdout",
     "output_type": "stream",
     "text": [
      "\u001b[32m\u001b[1mActivated\u001b[0m /Users/yurimatsumura/QuantEcon with Julia/Project.toml\u001b[39m\n",
      "\u001b[36m\u001b[1mInfo\u001b[0m Project name is quantecon-notebooks-julia, version is 0.6.0\u001b[39m\n"
     ]
    }
   ],
   "source": [
    "using InstantiateFromURL\n",
    "github_project(\"QuantEcon/quantecon-notebooks-julia\", version = \"0.6.0\")\n",
    "# uncomment to force package installation and precompilation\n",
    "# github_project(\"QuantEcon/quantecon-notebooks-julia\", version=\"0.6.0\", instantiate=true, precompile = true)"
   ]
  },
  {
   "cell_type": "code",
   "execution_count": 5,
   "metadata": {},
   "outputs": [
    {
     "name": "stderr",
     "output_type": "stream",
     "text": [
      "┌ Info: Precompiling DataFramesMeta [1313f7d8-7da2-5740-9ea0-a2ca25f37964]\n",
      "└ @ Base loading.jl:1260\n",
      "┌ Info: Precompiling Query [1a8c2f83-1ff3-5112-b086-8aa67b057ba1]\n",
      "└ @ Base loading.jl:1260\n",
      "┌ Info: Precompiling VegaLite [112f6efa-9a02-5b7d-90c0-432ed331239a]\n",
      "└ @ Base loading.jl:1260\n",
      "┌ Info: Precompiling GLM [38e38edf-8417-5370-95a0-9cbb8c7f171a]\n",
      "└ @ Base loading.jl:1260\n"
     ]
    }
   ],
   "source": [
    "using LinearAlgebra, Statistics\n",
    "using DataFrames, RDatasets, DataFramesMeta, CategoricalArrays, Query, VegaLite\n",
    "using GLM"
   ]
  },
  {
   "cell_type": "code",
   "execution_count": 1,
   "metadata": {},
   "outputs": [
    {
     "data": {
      "text/html": [
       "<table class=\"data-frame\"><thead><tr><th></th><th>commod</th><th>price</th></tr><tr><th></th><th>String</th><th>Float64⍰</th></tr></thead><tbody><p>4 rows × 2 columns</p><tr><th>1</th><td>crude</td><td>4.2</td></tr><tr><th>2</th><td>gas</td><td>11.3</td></tr><tr><th>3</th><td>gold</td><td>12.1</td></tr><tr><th>4</th><td>silver</td><td>missing</td></tr></tbody></table>"
      ],
      "text/latex": [
       "\\begin{tabular}{r|cc}\n",
       "\t& commod & price\\\\\n",
       "\t\\hline\n",
       "\t& String & Float64⍰\\\\\n",
       "\t\\hline\n",
       "\t1 & crude & 4.2 \\\\\n",
       "\t2 & gas & 11.3 \\\\\n",
       "\t3 & gold & 12.1 \\\\\n",
       "\t4 & silver &  \\\\\n",
       "\\end{tabular}\n"
      ],
      "text/plain": [
       "4×2 DataFrame\n",
       "│ Row │ commod │ price    │\n",
       "│     │ \u001b[90mString\u001b[39m │ \u001b[90mFloat64⍰\u001b[39m │\n",
       "├─────┼────────┼──────────┤\n",
       "│ 1   │ crude  │ 4.2      │\n",
       "│ 2   │ gas    │ 11.3     │\n",
       "│ 3   │ gold   │ 12.1     │\n",
       "│ 4   │ silver │ \u001b[90mmissing\u001b[39m  │"
      ]
     },
     "execution_count": 1,
     "metadata": {},
     "output_type": "execute_result"
    }
   ],
   "source": [
    "using DataFrames, RDatasets  # RDatasets provides good standard data examples from R\n",
    "\n",
    "# note use of missing\n",
    "commodities = [\"crude\", \"gas\", \"gold\", \"silver\"]\n",
    "last_price = [4.2, 11.3, 12.1, missing]\n",
    "df = DataFrame(commod = commodities, price = last_price)"
   ]
  },
  {
   "cell_type": "code",
   "execution_count": null,
   "metadata": {},
   "outputs": [
    {
     "name": "stdout",
     "output_type": "stream",
     "text": [
      "\u001b[32m\u001b[1mActivated\u001b[0m /Users/yurimatsumura/QuantEcon with Julia/Project.toml\u001b[39m\n",
      "\u001b[36m\u001b[1mInfo\u001b[0m Project name is quantecon-notebooks-julia, version is 0.6.0\u001b[39m\n"
     ]
    },
    {
     "name": "stderr",
     "output_type": "stream",
     "text": [
      "┌ Info: Precompiling Zygote [e88e6eb3-aa80-5325-afca-941959d7151f]\n",
      "└ @ Base loading.jl:1260\n",
      "┌ Info: Precompiling Optim [429524aa-4258-5aef-a3af-852621145aeb]\n",
      "└ @ Base loading.jl:1260\n",
      "┌ Info: Precompiling JuMP [4076af6c-e467-56ae-b986-b466b2749572]\n",
      "└ @ Base loading.jl:1260\n"
     ]
    }
   ],
   "source": [
    "using InstantiateFromURL\n",
    "github_project(\"QuantEcon/quantecon-notebooks-julia\", version = \"0.6.0\")\n",
    "# uncomment to force package installation and precompilation\n",
    "# github_project(\"QuantEcon/quantecon-notebooks-julia\", version=\"0.6.0\", instantiate=true, precompile = true)\n",
    "using LinearAlgebra, Statistics\n",
    "using ForwardDiff, Zygote, Optim, JuMP, Ipopt, BlackBoxOptim, Roots, NLsolve, LeastSquaresOptim\n",
    "using Optim: converged, maximum, maximizer, minimizer, iterations #some extra function"
   ]
  },
  {
   "cell_type": "code",
   "execution_count": 2,
   "metadata": {},
   "outputs": [
    {
     "name": "stdout",
     "output_type": "stream",
     "text": [
      "ForwardDiff.gradient(h, x) = [26.354764961030977, 16.663053156992284]\n"
     ]
    }
   ],
   "source": [
    "using ForwardDiff\n",
    "h(x) = sin(x[1]) + x[1] * x[2] + sinh(x[1] * x[2])\n",
    "x = [1.4,2.2]\n",
    "@show ForwardDiff.gradient(h,x);"
   ]
  },
  {
   "cell_type": "code",
   "execution_count": 3,
   "metadata": {},
   "outputs": [
    {
     "data": {
      "text/plain": [
       "0.35355339059327373"
      ]
     },
     "execution_count": 3,
     "metadata": {},
     "output_type": "execute_result"
    }
   ],
   "source": [
    "function squareroot(x) #pretending we don't know sqrt()\n",
    "    z = copy(x) # Initial starting point for Newton’s method\n",
    "    while abs(z*z - x) > 1e-13\n",
    "        z = z - (z*z-x)/(2z)\n",
    "    end\n",
    "    return z\n",
    "end\n",
    "squareroot(2.0)\n",
    "\n",
    "\n",
    "dsqrt(x) = ForwardDiff.derivative(squareroot, x)\n",
    "dsqrt(2.0)"
   ]
  },
  {
   "cell_type": "code",
   "execution_count": 4,
   "metadata": {},
   "outputs": [
    {
     "data": {
      "text/plain": [
       "(25.0, 2.0)"
      ]
     },
     "execution_count": 4,
     "metadata": {},
     "output_type": "execute_result"
    }
   ],
   "source": [
    "using Zygote\n",
    "\n",
    "h(x, y) = 3x^2 + 2x + 1 + y*x - y\n",
    "gradient(h, 3.0, 5.0)"
   ]
  },
  {
   "cell_type": "code",
   "execution_count": 5,
   "metadata": {},
   "outputs": [
    {
     "data": {
      "text/plain": [
       "Results of Optimization Algorithm\n",
       " * Algorithm: Brent's Method\n",
       " * Search Interval: [-2.000000, 1.000000]\n",
       " * Minimizer: 0.000000e+00\n",
       " * Minimum: 0.000000e+00\n",
       " * Iterations: 5\n",
       " * Convergence: max(|x - x_upper|, |x - x_lower|) <= 2*(1.5e-08*|x|+2.2e-16): true\n",
       " * Objective Function Calls: 6"
      ]
     },
     "execution_count": 5,
     "metadata": {},
     "output_type": "execute_result"
    }
   ],
   "source": [
    "using Optim\n",
    "using Optim: converged, maximum, maximizer, minimizer, iterations #some extra functions\n",
    "\n",
    "result = optimize(x-> x^2, -2.0, 1.0)"
   ]
  },
  {
   "cell_type": "code",
   "execution_count": 6,
   "metadata": {},
   "outputs": [
    {
     "data": {
      "text/plain": [
       " * Status: success\n",
       "\n",
       " * Candidate solution\n",
       "    Minimizer: [1.00e+00, 1.00e+00]\n",
       "    Minimum:   3.525527e-09\n",
       "\n",
       " * Found with\n",
       "    Algorithm:     Nelder-Mead\n",
       "    Initial Point: [0.00e+00, 0.00e+00]\n",
       "\n",
       " * Convergence measures\n",
       "    √(Σ(yᵢ-ȳ)²)/n ≤ 1.0e-08\n",
       "\n",
       " * Work counters\n",
       "    Seconds run:   0  (vs limit Inf)\n",
       "    Iterations:    60\n",
       "    f(x) calls:    118\n"
      ]
     },
     "execution_count": 6,
     "metadata": {},
     "output_type": "execute_result"
    }
   ],
   "source": [
    "f(x) = (1.0 - x[1])^2 + 100.0 * (x[2] - x[1]^2)^2\n",
    "x_iv = [0.0, 0.0]\n",
    "results = optimize(f, x_iv) # i.e. optimize(f, x_iv, NelderMead())"
   ]
  },
  {
   "cell_type": "code",
   "execution_count": 8,
   "metadata": {},
   "outputs": [
    {
     "data": {
      "text/plain": [
       " * Status: success\n",
       "\n",
       " * Candidate solution\n",
       "    Minimizer: [1.00e+00, 1.00e+00]\n",
       "    Minimum:   5.378388e-17\n",
       "\n",
       " * Found with\n",
       "    Algorithm:     L-BFGS\n",
       "    Initial Point: [0.00e+00, 0.00e+00]\n",
       "\n",
       " * Convergence measures\n",
       "    |x - x'|               = 4.54e-11 ≰ 0.0e+00\n",
       "    |x - x'|/|x'|          = 4.54e-11 ≰ 0.0e+00\n",
       "    |f(x) - f(x')|         = 2.85e-19 ≰ 0.0e+00\n",
       "    |f(x) - f(x')|/|f(x')| = 5.30e-03 ≰ 0.0e+00\n",
       "    |g(x)|                 = 9.88e-14 ≤ 1.0e-08\n",
       "\n",
       " * Work counters\n",
       "    Seconds run:   0  (vs limit Inf)\n",
       "    Iterations:    24\n",
       "    f(x) calls:    67\n",
       "    ∇f(x) calls:   67\n"
      ]
     },
     "execution_count": 8,
     "metadata": {},
     "output_type": "execute_result"
    }
   ],
   "source": [
    "f(x) = (1.0 - x[1])^2 + 100.0 * (x[2] - x[1]^2)^2\n",
    "x_iv = [0.0, 0.0]\n",
    "results = optimize(f, x_iv, LBFGS()) # i.e. optimize(f, x_iv, NelderMead())"
   ]
  },
  {
   "cell_type": "code",
   "execution_count": 10,
   "metadata": {},
   "outputs": [
    {
     "data": {
      "text/plain": [
       " * Status: success\n",
       "\n",
       " * Candidate solution\n",
       "    Minimizer: [1.00e+00, 1.00e+00]\n",
       "    Minimum:   5.191703e-27\n",
       "\n",
       " * Found with\n",
       "    Algorithm:     L-BFGS\n",
       "    Initial Point: [0.00e+00, 0.00e+00]\n",
       "\n",
       " * Convergence measures\n",
       "    |x - x'|               = 4.58e-11 ≰ 0.0e+00\n",
       "    |x - x'|/|x'|          = 4.58e-11 ≰ 0.0e+00\n",
       "    |f(x) - f(x')|         = 4.41e-19 ≰ 0.0e+00\n",
       "    |f(x) - f(x')|/|f(x')| = 8.50e+07 ≰ 0.0e+00\n",
       "    |g(x)|                 = 1.44e-13 ≤ 1.0e-08\n",
       "\n",
       " * Work counters\n",
       "    Seconds run:   0  (vs limit Inf)\n",
       "    Iterations:    24\n",
       "    f(x) calls:    67\n",
       "    ∇f(x) calls:   67\n"
      ]
     },
     "execution_count": 10,
     "metadata": {},
     "output_type": "execute_result"
    }
   ],
   "source": [
    "x_iv = [0.0, 0.0]\n",
    "results = optimize(f, x_iv, LBFGS(), autodiff=:forward) # i.e. use ForwardDiff.jl\n"
   ]
  },
  {
   "cell_type": "code",
   "execution_count": 11,
   "metadata": {},
   "outputs": [
    {
     "data": {
      "text/plain": [
       " * Status: success\n",
       "\n",
       " * Candidate solution\n",
       "    Minimizer: [1.00e+00, 1.00e+00]\n",
       "    Minimum:   5.191703e-27\n",
       "\n",
       " * Found with\n",
       "    Algorithm:     L-BFGS\n",
       "    Initial Point: [0.00e+00, 0.00e+00]\n",
       "\n",
       " * Convergence measures\n",
       "    |x - x'|               = 4.58e-11 ≰ 0.0e+00\n",
       "    |x - x'|/|x'|          = 4.58e-11 ≰ 0.0e+00\n",
       "    |f(x) - f(x')|         = 4.41e-19 ≰ 0.0e+00\n",
       "    |f(x) - f(x')|/|f(x')| = 8.50e+07 ≰ 0.0e+00\n",
       "    |g(x)|                 = 1.44e-13 ≤ 1.0e-08\n",
       "\n",
       " * Work counters\n",
       "    Seconds run:   0  (vs limit Inf)\n",
       "    Iterations:    24\n",
       "    f(x) calls:    67\n",
       "    ∇f(x) calls:   67\n"
      ]
     },
     "execution_count": 11,
     "metadata": {},
     "output_type": "execute_result"
    }
   ],
   "source": [
    "f(x) = (1.0 - x[1])^2 + 100.0 * (x[2] - x[1]^2)^2\n",
    "x_iv = [0.0, 0.0]\n",
    "function g!(G, x)\n",
    "    G[1] = -2.0 * (1.0 - x[1]) - 400.0 * (x[2] - x[1]^2) * x[1]\n",
    "    G[2] = 200.0 * (x[2] - x[1]^2)\n",
    "end\n",
    "\n",
    "results = optimize(f, g!, x_iv, LBFGS()) # or ConjugateGradient()"
   ]
  },
  {
   "cell_type": "code",
   "execution_count": 16,
   "metadata": {},
   "outputs": [
    {
     "name": "stderr",
     "output_type": "stream",
     "text": [
      "┌ Warning: `with_optimizer` is deprecated. Adapt the following example to update your code:\n",
      "│ `with_optimizer(Ipopt.Optimizer)` becomes `Ipopt.Optimizer`.\n",
      "│   caller = top-level scope at In[16]:5\n",
      "└ @ Core In[16]:5\n"
     ]
    },
    {
     "name": "stdout",
     "output_type": "stream",
     "text": [
      "This is Ipopt version 3.12.10, running with linear solver mumps.\n",
      "NOTE: Other linear solvers might be more efficient (see Ipopt documentation).\n",
      "\n",
      "Number of nonzeros in equality constraint Jacobian...:        0\n",
      "Number of nonzeros in inequality constraint Jacobian.:        0\n",
      "Number of nonzeros in Lagrangian Hessian.............:        3\n",
      "\n",
      "Total number of variables............................:        2\n",
      "                     variables with only lower bounds:        0\n",
      "                variables with lower and upper bounds:        0\n",
      "                     variables with only upper bounds:        0\n",
      "Total number of equality constraints.................:        0\n",
      "Total number of inequality constraints...............:        0\n",
      "        inequality constraints with only lower bounds:        0\n",
      "   inequality constraints with lower and upper bounds:        0\n",
      "        inequality constraints with only upper bounds:        0\n",
      "\n",
      "iter    objective    inf_pr   inf_du lg(mu)  ||d||  lg(rg) alpha_du alpha_pr  ls\n",
      "   0  1.0000000e+00 0.00e+00 2.00e+00  -1.0 0.00e+00    -  0.00e+00 0.00e+00   0\n",
      "   1  9.5312500e-01 0.00e+00 1.25e+01  -1.0 1.00e+00    -  1.00e+00 2.50e-01f  3\n",
      "   2  4.8320569e-01 0.00e+00 1.01e+00  -1.0 9.03e-02    -  1.00e+00 1.00e+00f  1\n",
      "   3  4.5708829e-01 0.00e+00 9.53e+00  -1.0 4.29e-01    -  1.00e+00 5.00e-01f  2\n",
      "   4  1.8894205e-01 0.00e+00 4.15e-01  -1.0 9.51e-02    -  1.00e+00 1.00e+00f  1\n",
      "   5  1.3918726e-01 0.00e+00 6.51e+00  -1.7 3.49e-01    -  1.00e+00 5.00e-01f  2\n",
      "   6  5.4940990e-02 0.00e+00 4.51e-01  -1.7 9.29e-02    -  1.00e+00 1.00e+00f  1\n",
      "   7  2.9144630e-02 0.00e+00 2.27e+00  -1.7 2.49e-01    -  1.00e+00 5.00e-01f  2\n",
      "   8  9.8586451e-03 0.00e+00 1.15e+00  -1.7 1.10e-01    -  1.00e+00 1.00e+00f  1\n",
      "   9  2.3237475e-03 0.00e+00 1.00e+00  -1.7 1.00e-01    -  1.00e+00 1.00e+00f  1\n",
      "iter    objective    inf_pr   inf_du lg(mu)  ||d||  lg(rg) alpha_du alpha_pr  ls\n",
      "  10  2.3797236e-04 0.00e+00 2.19e-01  -1.7 5.09e-02    -  1.00e+00 1.00e+00f  1\n",
      "  11  4.9267371e-06 0.00e+00 5.95e-02  -1.7 2.53e-02    -  1.00e+00 1.00e+00f  1\n",
      "  12  2.8189505e-09 0.00e+00 8.31e-04  -2.5 3.20e-03    -  1.00e+00 1.00e+00f  1\n",
      "  13  1.0095040e-15 0.00e+00 8.68e-07  -5.7 9.78e-05    -  1.00e+00 1.00e+00f  1\n",
      "  14  1.3288608e-28 0.00e+00 2.02e-13  -8.6 4.65e-08    -  1.00e+00 1.00e+00f  1\n",
      "\n",
      "Number of Iterations....: 14\n",
      "\n",
      "                                   (scaled)                 (unscaled)\n",
      "Objective...............:   1.3288608467480825e-28    1.3288608467480825e-28\n",
      "Dual infeasibility......:   2.0183854587685121e-13    2.0183854587685121e-13\n",
      "Constraint violation....:   0.0000000000000000e+00    0.0000000000000000e+00\n",
      "Complementarity.........:   0.0000000000000000e+00    0.0000000000000000e+00\n",
      "Overall NLP error.......:   2.0183854587685121e-13    2.0183854587685121e-13\n",
      "\n",
      "\n",
      "Number of objective function evaluations             = 36\n",
      "Number of objective gradient evaluations             = 15\n",
      "Number of equality constraint evaluations            = 0\n",
      "Number of inequality constraint evaluations          = 0\n",
      "Number of equality constraint Jacobian evaluations   = 0\n",
      "Number of inequality constraint Jacobian evaluations = 0\n",
      "Number of Lagrangian Hessian evaluations             = 14\n",
      "Total CPU secs in IPOPT (w/o function evaluations)   =      0.012\n",
      "Total CPU secs in NLP function evaluations           =      0.001\n",
      "\n",
      "EXIT: Optimal Solution Found.\n",
      "x = 0.9999999999999899 y = 0.9999999999999792\n",
      "This is Ipopt version 3.12.10, running with linear solver mumps.\n",
      "NOTE: Other linear solvers might be more efficient (see Ipopt documentation).\n",
      "\n",
      "Number of nonzeros in equality constraint Jacobian...:        2\n",
      "Number of nonzeros in inequality constraint Jacobian.:        0\n",
      "Number of nonzeros in Lagrangian Hessian.............:        3\n",
      "\n",
      "Total number of variables............................:        2\n",
      "                     variables with only lower bounds:        0\n",
      "                variables with lower and upper bounds:        0\n",
      "                     variables with only upper bounds:        0\n",
      "Total number of equality constraints.................:        1\n",
      "Total number of inequality constraints...............:        0\n",
      "        inequality constraints with only lower bounds:        0\n",
      "   inequality constraints with lower and upper bounds:        0\n",
      "        inequality constraints with only upper bounds:        0\n",
      "\n",
      "iter    objective    inf_pr   inf_du lg(mu)  ||d||  lg(rg) alpha_du alpha_pr  ls\n",
      "   0  1.0000000e+00 1.00e+01 1.00e+00  -1.0 0.00e+00    -  0.00e+00 0.00e+00   0\n",
      "   1  9.6315968e+05 0.00e+00 3.89e+05  -1.0 9.91e+00    -  1.00e+00 1.00e+00h  1\n",
      "   2  1.6901461e+05 0.00e+00 1.16e+05  -1.0 3.24e+00    -  1.00e+00 1.00e+00f  1\n",
      "   3  2.5433173e+04 1.78e-15 3.18e+04  -1.0 2.05e+00    -  1.00e+00 1.00e+00f  1\n",
      "   4  2.6527756e+03 0.00e+00 7.79e+03  -1.0 1.19e+00    -  1.00e+00 1.00e+00f  1\n",
      "   5  1.1380324e+02 0.00e+00 1.35e+03  -1.0 5.62e-01    -  1.00e+00 1.00e+00f  1\n",
      "   6  3.3745506e+00 0.00e+00 8.45e+01  -1.0 1.50e-01    -  1.00e+00 1.00e+00f  1\n",
      "   7  2.8946196e+00 0.00e+00 4.22e-01  -1.0 1.07e-02    -  1.00e+00 1.00e+00f  1\n",
      "   8  2.8946076e+00 0.00e+00 1.07e-05  -1.7 5.42e-05    -  1.00e+00 1.00e+00f  1\n",
      "   9  2.8946076e+00 0.00e+00 5.91e-13  -8.6 1.38e-09    -  1.00e+00 1.00e+00f  1\n",
      "\n",
      "Number of Iterations....: 9\n",
      "\n",
      "                                   (scaled)                 (unscaled)\n",
      "Objective...............:   2.8946075504894599e+00    2.8946075504894599e+00\n",
      "Dual infeasibility......:   5.9130478291535837e-13    5.9130478291535837e-13\n",
      "Constraint violation....:   0.0000000000000000e+00    0.0000000000000000e+00\n",
      "Complementarity.........:   0.0000000000000000e+00    0.0000000000000000e+00\n",
      "Overall NLP error.......:   5.9130478291535837e-13    5.9130478291535837e-13\n",
      "\n",
      "\n",
      "Number of objective function evaluations             = 10\n",
      "Number of objective gradient evaluations             = 10\n",
      "Number of equality constraint evaluations            = 10\n",
      "Number of inequality constraint evaluations          = 0\n",
      "Number of equality constraint Jacobian evaluations   = 1\n",
      "Number of inequality constraint Jacobian evaluations = 0\n",
      "Number of Lagrangian Hessian evaluations             = 9\n",
      "Total CPU secs in IPOPT (w/o function evaluations)   =      0.003\n",
      "Total CPU secs in NLP function evaluations           =      0.142\n",
      "\n",
      "EXIT: Optimal Solution Found.\n",
      "x = 2.701147124098218 y = 7.2988528759017814\n"
     ]
    }
   ],
   "source": [
    "# min (1-x)^2 + 100(y-x^2)^2)\n",
    "# st x + y >= 10\n",
    "\n",
    "using JuMP,Ipopt\n",
    "m = Model(with_optimizer(Ipopt.Optimizer)) # settings for the solver\n",
    "@variable(m, x, start = 0.0)\n",
    "@variable(m, y, start = 0.0)\n",
    "\n",
    "@NLobjective(m, Min, (1-x)^2 + 100(y-x^2)^2)\n",
    "\n",
    "JuMP.optimize!(m)\n",
    "println(\"x = \", value(x), \" y = \", value(y))\n",
    "\n",
    "# adding a (linear) constraint\n",
    "@constraint(m, x + y == 10)\n",
    "JuMP.optimize!(m)\n",
    "println(\"x = \", value(x), \" y = \", value(y))"
   ]
  },
  {
   "cell_type": "code",
   "execution_count": 17,
   "metadata": {},
   "outputs": [
    {
     "name": "stderr",
     "output_type": "stream",
     "text": [
      "┌ Info: Precompiling BlackBoxOptim [a134a8b2-14d6-55f6-9291-3336d3ab0209]\n",
      "└ @ Base loading.jl:1260\n"
     ]
    },
    {
     "name": "stdout",
     "output_type": "stream",
     "text": [
      "Starting optimization with optimizer DiffEvoOpt{FitPopulation{Float64},RadiusLimitedSelector,BlackBoxOptim.AdaptiveDiffEvoRandBin{3},RandomBound{ContinuousRectSearchSpace}}\n",
      "0.00 secs, 0 evals, 0 steps\n",
      "\n",
      "Optimization stopped after 10001 steps and 0.13 seconds\n",
      "Termination reason: Max number of steps (10000) reached\n",
      "Steps per second = 77763.44\n",
      "Function evals per second = 78502.12\n",
      "Improvements/step = 0.20040\n",
      "Total function evaluations = 10096\n",
      "\n",
      "\n",
      "Best candidate found: [1.0, 1.0]\n",
      "\n",
      "Fitness: 0.000000000\n",
      "\n"
     ]
    }
   ],
   "source": [
    "using BlackBoxOptim\n",
    "\n",
    "function rosenbrock2d(x)\n",
    "return (1.0 - x[1])^2 + 100.0 * (x[2] - x[1]^2)^2\n",
    "end\n",
    "\n",
    "results = bboptimize(rosenbrock2d; SearchRange = (-5.0, 5.0), NumDimensions = 2);"
   ]
  },
  {
   "cell_type": "code",
   "execution_count": 18,
   "metadata": {},
   "outputs": [
    {
     "name": "stderr",
     "output_type": "stream",
     "text": [
      "┌ Info: Precompiling LeastSquaresOptim [0fc2ff8b-aaa3-5acd-a817-1944a5e08891]\n",
      "└ @ Base loading.jl:1260\n"
     ]
    },
    {
     "data": {
      "text/plain": [
       "Results of Optimization Algorithm\n",
       " * Algorithm: Dogleg\n",
       " * Minimizer: [1.0,1.0]\n",
       " * Sum of squares at Minimum: 0.000000\n",
       " * Iterations: 51\n",
       " * Convergence: true\n",
       " * |x - x'| < 1.0e-08: false\n",
       " * |f(x) - f(x')| / |f(x)| < 1.0e-08: true\n",
       " * |g(x)| < 1.0e-08: false\n",
       " * Function Calls: 52\n",
       " * Gradient Calls: 36\n",
       " * Multiplication Calls: 159\n"
      ]
     },
     "execution_count": 18,
     "metadata": {},
     "output_type": "execute_result"
    }
   ],
   "source": [
    "using LeastSquaresOptim\n",
    "function rosenbrock(x)\n",
    "    [1 - x[1], 100 * (x[2]-x[1]^2)]\n",
    "end\n",
    "LeastSquaresOptim.optimize(rosenbrock, zeros(2), Dogleg())"
   ]
  },
  {
   "cell_type": "code",
   "execution_count": 20,
   "metadata": {},
   "outputs": [
    {
     "name": "stdout",
     "output_type": "stream",
     "text": [
      "g(f(x)) = 2.1972245773362196\n",
      "(x |> f) |> g = 2.1972245773362196\n"
     ]
    }
   ],
   "source": [
    "x = 3.0\n",
    "f(x) = x^2\n",
    "g(x) = log(x)\n",
    "\n",
    "@show g(f(x))\n",
    "@show x |> f |> g; # pipes nest function calls"
   ]
  },
  {
   "cell_type": "code",
   "execution_count": 22,
   "metadata": {},
   "outputs": [
    {
     "data": {
      "text/html": [
       "<table class=\"data-frame\"><thead><tr><th></th><th>name</th><th>children</th></tr><tr><th></th><th>String</th><th>Int64</th></tr></thead><tbody><p>1 rows × 2 columns</p><tr><th>1</th><td>Kirk</td><td>2</td></tr></tbody></table>"
      ],
      "text/latex": [
       "\\begin{tabular}{r|cc}\n",
       "\t& name & children\\\\\n",
       "\t\\hline\n",
       "\t& String & Int64\\\\\n",
       "\t\\hline\n",
       "\t1 & Kirk & 2 \\\\\n",
       "\\end{tabular}\n"
      ],
      "text/plain": [
       "1×2 DataFrame\n",
       "│ Row │ name   │ children │\n",
       "│     │ \u001b[90mString\u001b[39m │ \u001b[90mInt64\u001b[39m    │\n",
       "├─────┼────────┼──────────┤\n",
       "│ 1   │ Kirk   │ 2        │"
      ]
     },
     "execution_count": 22,
     "metadata": {},
     "output_type": "execute_result"
    }
   ],
   "source": [
    "using Query, DataFrames\n",
    "\n",
    "df = DataFrame(name=[\"John\", \"Sally\", \"Kirk\"], age=[23., 42., 59.], children=[3,5,2])\n",
    "\n",
    "x = @from i in df begin\n",
    "    @where i.age>50\n",
    "    @select {i.name, i.children}\n",
    "    @collect DataFrame\n",
    "end"
   ]
  },
  {
   "cell_type": "code",
   "execution_count": 23,
   "metadata": {},
   "outputs": [
    {
     "data": {
      "application/vnd.vegalite.v4+json": {
       "data": {
        "values": [
         {
          "PetalLength": 1.4,
          "PetalWidth": 0.2,
          "SepalLength": 5.1,
          "SepalWidth": 3.5,
          "Species": "setosa"
         },
         {
          "PetalLength": 1.4,
          "PetalWidth": 0.2,
          "SepalLength": 4.9,
          "SepalWidth": 3,
          "Species": "setosa"
         },
         {
          "PetalLength": 1.3,
          "PetalWidth": 0.2,
          "SepalLength": 4.7,
          "SepalWidth": 3.2,
          "Species": "setosa"
         },
         {
          "PetalLength": 1.5,
          "PetalWidth": 0.2,
          "SepalLength": 4.6,
          "SepalWidth": 3.1,
          "Species": "setosa"
         },
         {
          "PetalLength": 1.4,
          "PetalWidth": 0.2,
          "SepalLength": 5,
          "SepalWidth": 3.6,
          "Species": "setosa"
         },
         {
          "PetalLength": 1.7,
          "PetalWidth": 0.4,
          "SepalLength": 5.4,
          "SepalWidth": 3.9,
          "Species": "setosa"
         },
         {
          "PetalLength": 1.4,
          "PetalWidth": 0.3,
          "SepalLength": 4.6,
          "SepalWidth": 3.4,
          "Species": "setosa"
         },
         {
          "PetalLength": 1.5,
          "PetalWidth": 0.2,
          "SepalLength": 5,
          "SepalWidth": 3.4,
          "Species": "setosa"
         },
         {
          "PetalLength": 1.4,
          "PetalWidth": 0.2,
          "SepalLength": 4.4,
          "SepalWidth": 2.9,
          "Species": "setosa"
         },
         {
          "PetalLength": 1.5,
          "PetalWidth": 0.1,
          "SepalLength": 4.9,
          "SepalWidth": 3.1,
          "Species": "setosa"
         },
         {
          "PetalLength": 1.5,
          "PetalWidth": 0.2,
          "SepalLength": 5.4,
          "SepalWidth": 3.7,
          "Species": "setosa"
         },
         {
          "PetalLength": 1.6,
          "PetalWidth": 0.2,
          "SepalLength": 4.8,
          "SepalWidth": 3.4,
          "Species": "setosa"
         },
         {
          "PetalLength": 1.4,
          "PetalWidth": 0.1,
          "SepalLength": 4.8,
          "SepalWidth": 3,
          "Species": "setosa"
         },
         {
          "PetalLength": 1.1,
          "PetalWidth": 0.1,
          "SepalLength": 4.3,
          "SepalWidth": 3,
          "Species": "setosa"
         },
         {
          "PetalLength": 1.2,
          "PetalWidth": 0.2,
          "SepalLength": 5.8,
          "SepalWidth": 4,
          "Species": "setosa"
         },
         {
          "PetalLength": 1.5,
          "PetalWidth": 0.4,
          "SepalLength": 5.7,
          "SepalWidth": 4.4,
          "Species": "setosa"
         },
         {
          "PetalLength": 1.3,
          "PetalWidth": 0.4,
          "SepalLength": 5.4,
          "SepalWidth": 3.9,
          "Species": "setosa"
         },
         {
          "PetalLength": 1.4,
          "PetalWidth": 0.3,
          "SepalLength": 5.1,
          "SepalWidth": 3.5,
          "Species": "setosa"
         },
         {
          "PetalLength": 1.7,
          "PetalWidth": 0.3,
          "SepalLength": 5.7,
          "SepalWidth": 3.8,
          "Species": "setosa"
         },
         {
          "PetalLength": 1.5,
          "PetalWidth": 0.3,
          "SepalLength": 5.1,
          "SepalWidth": 3.8,
          "Species": "setosa"
         },
         {
          "PetalLength": 1.7,
          "PetalWidth": 0.2,
          "SepalLength": 5.4,
          "SepalWidth": 3.4,
          "Species": "setosa"
         },
         {
          "PetalLength": 1.5,
          "PetalWidth": 0.4,
          "SepalLength": 5.1,
          "SepalWidth": 3.7,
          "Species": "setosa"
         },
         {
          "PetalLength": 1,
          "PetalWidth": 0.2,
          "SepalLength": 4.6,
          "SepalWidth": 3.6,
          "Species": "setosa"
         },
         {
          "PetalLength": 1.7,
          "PetalWidth": 0.5,
          "SepalLength": 5.1,
          "SepalWidth": 3.3,
          "Species": "setosa"
         },
         {
          "PetalLength": 1.9,
          "PetalWidth": 0.2,
          "SepalLength": 4.8,
          "SepalWidth": 3.4,
          "Species": "setosa"
         },
         {
          "PetalLength": 1.6,
          "PetalWidth": 0.2,
          "SepalLength": 5,
          "SepalWidth": 3,
          "Species": "setosa"
         },
         {
          "PetalLength": 1.6,
          "PetalWidth": 0.4,
          "SepalLength": 5,
          "SepalWidth": 3.4,
          "Species": "setosa"
         },
         {
          "PetalLength": 1.5,
          "PetalWidth": 0.2,
          "SepalLength": 5.2,
          "SepalWidth": 3.5,
          "Species": "setosa"
         },
         {
          "PetalLength": 1.4,
          "PetalWidth": 0.2,
          "SepalLength": 5.2,
          "SepalWidth": 3.4,
          "Species": "setosa"
         },
         {
          "PetalLength": 1.6,
          "PetalWidth": 0.2,
          "SepalLength": 4.7,
          "SepalWidth": 3.2,
          "Species": "setosa"
         },
         {
          "PetalLength": 1.6,
          "PetalWidth": 0.2,
          "SepalLength": 4.8,
          "SepalWidth": 3.1,
          "Species": "setosa"
         },
         {
          "PetalLength": 1.5,
          "PetalWidth": 0.4,
          "SepalLength": 5.4,
          "SepalWidth": 3.4,
          "Species": "setosa"
         },
         {
          "PetalLength": 1.5,
          "PetalWidth": 0.1,
          "SepalLength": 5.2,
          "SepalWidth": 4.1,
          "Species": "setosa"
         },
         {
          "PetalLength": 1.4,
          "PetalWidth": 0.2,
          "SepalLength": 5.5,
          "SepalWidth": 4.2,
          "Species": "setosa"
         },
         {
          "PetalLength": 1.5,
          "PetalWidth": 0.2,
          "SepalLength": 4.9,
          "SepalWidth": 3.1,
          "Species": "setosa"
         },
         {
          "PetalLength": 1.2,
          "PetalWidth": 0.2,
          "SepalLength": 5,
          "SepalWidth": 3.2,
          "Species": "setosa"
         },
         {
          "PetalLength": 1.3,
          "PetalWidth": 0.2,
          "SepalLength": 5.5,
          "SepalWidth": 3.5,
          "Species": "setosa"
         },
         {
          "PetalLength": 1.4,
          "PetalWidth": 0.1,
          "SepalLength": 4.9,
          "SepalWidth": 3.6,
          "Species": "setosa"
         },
         {
          "PetalLength": 1.3,
          "PetalWidth": 0.2,
          "SepalLength": 4.4,
          "SepalWidth": 3,
          "Species": "setosa"
         },
         {
          "PetalLength": 1.5,
          "PetalWidth": 0.2,
          "SepalLength": 5.1,
          "SepalWidth": 3.4,
          "Species": "setosa"
         },
         {
          "PetalLength": 1.3,
          "PetalWidth": 0.3,
          "SepalLength": 5,
          "SepalWidth": 3.5,
          "Species": "setosa"
         },
         {
          "PetalLength": 1.3,
          "PetalWidth": 0.3,
          "SepalLength": 4.5,
          "SepalWidth": 2.3,
          "Species": "setosa"
         },
         {
          "PetalLength": 1.3,
          "PetalWidth": 0.2,
          "SepalLength": 4.4,
          "SepalWidth": 3.2,
          "Species": "setosa"
         },
         {
          "PetalLength": 1.6,
          "PetalWidth": 0.6,
          "SepalLength": 5,
          "SepalWidth": 3.5,
          "Species": "setosa"
         },
         {
          "PetalLength": 1.9,
          "PetalWidth": 0.4,
          "SepalLength": 5.1,
          "SepalWidth": 3.8,
          "Species": "setosa"
         },
         {
          "PetalLength": 1.4,
          "PetalWidth": 0.3,
          "SepalLength": 4.8,
          "SepalWidth": 3,
          "Species": "setosa"
         },
         {
          "PetalLength": 1.6,
          "PetalWidth": 0.2,
          "SepalLength": 5.1,
          "SepalWidth": 3.8,
          "Species": "setosa"
         },
         {
          "PetalLength": 1.4,
          "PetalWidth": 0.2,
          "SepalLength": 4.6,
          "SepalWidth": 3.2,
          "Species": "setosa"
         },
         {
          "PetalLength": 1.5,
          "PetalWidth": 0.2,
          "SepalLength": 5.3,
          "SepalWidth": 3.7,
          "Species": "setosa"
         },
         {
          "PetalLength": 1.4,
          "PetalWidth": 0.2,
          "SepalLength": 5,
          "SepalWidth": 3.3,
          "Species": "setosa"
         },
         {
          "PetalLength": 4.7,
          "PetalWidth": 1.4,
          "SepalLength": 7,
          "SepalWidth": 3.2,
          "Species": "versicolor"
         },
         {
          "PetalLength": 4.5,
          "PetalWidth": 1.5,
          "SepalLength": 6.4,
          "SepalWidth": 3.2,
          "Species": "versicolor"
         },
         {
          "PetalLength": 4.9,
          "PetalWidth": 1.5,
          "SepalLength": 6.9,
          "SepalWidth": 3.1,
          "Species": "versicolor"
         },
         {
          "PetalLength": 4,
          "PetalWidth": 1.3,
          "SepalLength": 5.5,
          "SepalWidth": 2.3,
          "Species": "versicolor"
         },
         {
          "PetalLength": 4.6,
          "PetalWidth": 1.5,
          "SepalLength": 6.5,
          "SepalWidth": 2.8,
          "Species": "versicolor"
         },
         {
          "PetalLength": 4.5,
          "PetalWidth": 1.3,
          "SepalLength": 5.7,
          "SepalWidth": 2.8,
          "Species": "versicolor"
         },
         {
          "PetalLength": 4.7,
          "PetalWidth": 1.6,
          "SepalLength": 6.3,
          "SepalWidth": 3.3,
          "Species": "versicolor"
         },
         {
          "PetalLength": 3.3,
          "PetalWidth": 1,
          "SepalLength": 4.9,
          "SepalWidth": 2.4,
          "Species": "versicolor"
         },
         {
          "PetalLength": 4.6,
          "PetalWidth": 1.3,
          "SepalLength": 6.6,
          "SepalWidth": 2.9,
          "Species": "versicolor"
         },
         {
          "PetalLength": 3.9,
          "PetalWidth": 1.4,
          "SepalLength": 5.2,
          "SepalWidth": 2.7,
          "Species": "versicolor"
         },
         {
          "PetalLength": 3.5,
          "PetalWidth": 1,
          "SepalLength": 5,
          "SepalWidth": 2,
          "Species": "versicolor"
         },
         {
          "PetalLength": 4.2,
          "PetalWidth": 1.5,
          "SepalLength": 5.9,
          "SepalWidth": 3,
          "Species": "versicolor"
         },
         {
          "PetalLength": 4,
          "PetalWidth": 1,
          "SepalLength": 6,
          "SepalWidth": 2.2,
          "Species": "versicolor"
         },
         {
          "PetalLength": 4.7,
          "PetalWidth": 1.4,
          "SepalLength": 6.1,
          "SepalWidth": 2.9,
          "Species": "versicolor"
         },
         {
          "PetalLength": 3.6,
          "PetalWidth": 1.3,
          "SepalLength": 5.6,
          "SepalWidth": 2.9,
          "Species": "versicolor"
         },
         {
          "PetalLength": 4.4,
          "PetalWidth": 1.4,
          "SepalLength": 6.7,
          "SepalWidth": 3.1,
          "Species": "versicolor"
         },
         {
          "PetalLength": 4.5,
          "PetalWidth": 1.5,
          "SepalLength": 5.6,
          "SepalWidth": 3,
          "Species": "versicolor"
         },
         {
          "PetalLength": 4.1,
          "PetalWidth": 1,
          "SepalLength": 5.8,
          "SepalWidth": 2.7,
          "Species": "versicolor"
         },
         {
          "PetalLength": 4.5,
          "PetalWidth": 1.5,
          "SepalLength": 6.2,
          "SepalWidth": 2.2,
          "Species": "versicolor"
         },
         {
          "PetalLength": 3.9,
          "PetalWidth": 1.1,
          "SepalLength": 5.6,
          "SepalWidth": 2.5,
          "Species": "versicolor"
         },
         {
          "PetalLength": 4.8,
          "PetalWidth": 1.8,
          "SepalLength": 5.9,
          "SepalWidth": 3.2,
          "Species": "versicolor"
         },
         {
          "PetalLength": 4,
          "PetalWidth": 1.3,
          "SepalLength": 6.1,
          "SepalWidth": 2.8,
          "Species": "versicolor"
         },
         {
          "PetalLength": 4.9,
          "PetalWidth": 1.5,
          "SepalLength": 6.3,
          "SepalWidth": 2.5,
          "Species": "versicolor"
         },
         {
          "PetalLength": 4.7,
          "PetalWidth": 1.2,
          "SepalLength": 6.1,
          "SepalWidth": 2.8,
          "Species": "versicolor"
         },
         {
          "PetalLength": 4.3,
          "PetalWidth": 1.3,
          "SepalLength": 6.4,
          "SepalWidth": 2.9,
          "Species": "versicolor"
         },
         {
          "PetalLength": 4.4,
          "PetalWidth": 1.4,
          "SepalLength": 6.6,
          "SepalWidth": 3,
          "Species": "versicolor"
         },
         {
          "PetalLength": 4.8,
          "PetalWidth": 1.4,
          "SepalLength": 6.8,
          "SepalWidth": 2.8,
          "Species": "versicolor"
         },
         {
          "PetalLength": 5,
          "PetalWidth": 1.7,
          "SepalLength": 6.7,
          "SepalWidth": 3,
          "Species": "versicolor"
         },
         {
          "PetalLength": 4.5,
          "PetalWidth": 1.5,
          "SepalLength": 6,
          "SepalWidth": 2.9,
          "Species": "versicolor"
         },
         {
          "PetalLength": 3.5,
          "PetalWidth": 1,
          "SepalLength": 5.7,
          "SepalWidth": 2.6,
          "Species": "versicolor"
         },
         {
          "PetalLength": 3.8,
          "PetalWidth": 1.1,
          "SepalLength": 5.5,
          "SepalWidth": 2.4,
          "Species": "versicolor"
         },
         {
          "PetalLength": 3.7,
          "PetalWidth": 1,
          "SepalLength": 5.5,
          "SepalWidth": 2.4,
          "Species": "versicolor"
         },
         {
          "PetalLength": 3.9,
          "PetalWidth": 1.2,
          "SepalLength": 5.8,
          "SepalWidth": 2.7,
          "Species": "versicolor"
         },
         {
          "PetalLength": 5.1,
          "PetalWidth": 1.6,
          "SepalLength": 6,
          "SepalWidth": 2.7,
          "Species": "versicolor"
         },
         {
          "PetalLength": 4.5,
          "PetalWidth": 1.5,
          "SepalLength": 5.4,
          "SepalWidth": 3,
          "Species": "versicolor"
         },
         {
          "PetalLength": 4.5,
          "PetalWidth": 1.6,
          "SepalLength": 6,
          "SepalWidth": 3.4,
          "Species": "versicolor"
         },
         {
          "PetalLength": 4.7,
          "PetalWidth": 1.5,
          "SepalLength": 6.7,
          "SepalWidth": 3.1,
          "Species": "versicolor"
         },
         {
          "PetalLength": 4.4,
          "PetalWidth": 1.3,
          "SepalLength": 6.3,
          "SepalWidth": 2.3,
          "Species": "versicolor"
         },
         {
          "PetalLength": 4.1,
          "PetalWidth": 1.3,
          "SepalLength": 5.6,
          "SepalWidth": 3,
          "Species": "versicolor"
         },
         {
          "PetalLength": 4,
          "PetalWidth": 1.3,
          "SepalLength": 5.5,
          "SepalWidth": 2.5,
          "Species": "versicolor"
         },
         {
          "PetalLength": 4.4,
          "PetalWidth": 1.2,
          "SepalLength": 5.5,
          "SepalWidth": 2.6,
          "Species": "versicolor"
         },
         {
          "PetalLength": 4.6,
          "PetalWidth": 1.4,
          "SepalLength": 6.1,
          "SepalWidth": 3,
          "Species": "versicolor"
         },
         {
          "PetalLength": 4,
          "PetalWidth": 1.2,
          "SepalLength": 5.8,
          "SepalWidth": 2.6,
          "Species": "versicolor"
         },
         {
          "PetalLength": 3.3,
          "PetalWidth": 1,
          "SepalLength": 5,
          "SepalWidth": 2.3,
          "Species": "versicolor"
         },
         {
          "PetalLength": 4.2,
          "PetalWidth": 1.3,
          "SepalLength": 5.6,
          "SepalWidth": 2.7,
          "Species": "versicolor"
         },
         {
          "PetalLength": 4.2,
          "PetalWidth": 1.2,
          "SepalLength": 5.7,
          "SepalWidth": 3,
          "Species": "versicolor"
         },
         {
          "PetalLength": 4.2,
          "PetalWidth": 1.3,
          "SepalLength": 5.7,
          "SepalWidth": 2.9,
          "Species": "versicolor"
         },
         {
          "PetalLength": 4.3,
          "PetalWidth": 1.3,
          "SepalLength": 6.2,
          "SepalWidth": 2.9,
          "Species": "versicolor"
         },
         {
          "PetalLength": 3,
          "PetalWidth": 1.1,
          "SepalLength": 5.1,
          "SepalWidth": 2.5,
          "Species": "versicolor"
         },
         {
          "PetalLength": 4.1,
          "PetalWidth": 1.3,
          "SepalLength": 5.7,
          "SepalWidth": 2.8,
          "Species": "versicolor"
         },
         {
          "PetalLength": 6,
          "PetalWidth": 2.5,
          "SepalLength": 6.3,
          "SepalWidth": 3.3,
          "Species": "virginica"
         },
         {
          "PetalLength": 5.1,
          "PetalWidth": 1.9,
          "SepalLength": 5.8,
          "SepalWidth": 2.7,
          "Species": "virginica"
         },
         {
          "PetalLength": 5.9,
          "PetalWidth": 2.1,
          "SepalLength": 7.1,
          "SepalWidth": 3,
          "Species": "virginica"
         },
         {
          "PetalLength": 5.6,
          "PetalWidth": 1.8,
          "SepalLength": 6.3,
          "SepalWidth": 2.9,
          "Species": "virginica"
         },
         {
          "PetalLength": 5.8,
          "PetalWidth": 2.2,
          "SepalLength": 6.5,
          "SepalWidth": 3,
          "Species": "virginica"
         },
         {
          "PetalLength": 6.6,
          "PetalWidth": 2.1,
          "SepalLength": 7.6,
          "SepalWidth": 3,
          "Species": "virginica"
         },
         {
          "PetalLength": 4.5,
          "PetalWidth": 1.7,
          "SepalLength": 4.9,
          "SepalWidth": 2.5,
          "Species": "virginica"
         },
         {
          "PetalLength": 6.3,
          "PetalWidth": 1.8,
          "SepalLength": 7.3,
          "SepalWidth": 2.9,
          "Species": "virginica"
         },
         {
          "PetalLength": 5.8,
          "PetalWidth": 1.8,
          "SepalLength": 6.7,
          "SepalWidth": 2.5,
          "Species": "virginica"
         },
         {
          "PetalLength": 6.1,
          "PetalWidth": 2.5,
          "SepalLength": 7.2,
          "SepalWidth": 3.6,
          "Species": "virginica"
         },
         {
          "PetalLength": 5.1,
          "PetalWidth": 2,
          "SepalLength": 6.5,
          "SepalWidth": 3.2,
          "Species": "virginica"
         },
         {
          "PetalLength": 5.3,
          "PetalWidth": 1.9,
          "SepalLength": 6.4,
          "SepalWidth": 2.7,
          "Species": "virginica"
         },
         {
          "PetalLength": 5.5,
          "PetalWidth": 2.1,
          "SepalLength": 6.8,
          "SepalWidth": 3,
          "Species": "virginica"
         },
         {
          "PetalLength": 5,
          "PetalWidth": 2,
          "SepalLength": 5.7,
          "SepalWidth": 2.5,
          "Species": "virginica"
         },
         {
          "PetalLength": 5.1,
          "PetalWidth": 2.4,
          "SepalLength": 5.8,
          "SepalWidth": 2.8,
          "Species": "virginica"
         },
         {
          "PetalLength": 5.3,
          "PetalWidth": 2.3,
          "SepalLength": 6.4,
          "SepalWidth": 3.2,
          "Species": "virginica"
         },
         {
          "PetalLength": 5.5,
          "PetalWidth": 1.8,
          "SepalLength": 6.5,
          "SepalWidth": 3,
          "Species": "virginica"
         },
         {
          "PetalLength": 6.7,
          "PetalWidth": 2.2,
          "SepalLength": 7.7,
          "SepalWidth": 3.8,
          "Species": "virginica"
         },
         {
          "PetalLength": 6.9,
          "PetalWidth": 2.3,
          "SepalLength": 7.7,
          "SepalWidth": 2.6,
          "Species": "virginica"
         },
         {
          "PetalLength": 5,
          "PetalWidth": 1.5,
          "SepalLength": 6,
          "SepalWidth": 2.2,
          "Species": "virginica"
         },
         {
          "PetalLength": 5.7,
          "PetalWidth": 2.3,
          "SepalLength": 6.9,
          "SepalWidth": 3.2,
          "Species": "virginica"
         },
         {
          "PetalLength": 4.9,
          "PetalWidth": 2,
          "SepalLength": 5.6,
          "SepalWidth": 2.8,
          "Species": "virginica"
         },
         {
          "PetalLength": 6.7,
          "PetalWidth": 2,
          "SepalLength": 7.7,
          "SepalWidth": 2.8,
          "Species": "virginica"
         },
         {
          "PetalLength": 4.9,
          "PetalWidth": 1.8,
          "SepalLength": 6.3,
          "SepalWidth": 2.7,
          "Species": "virginica"
         },
         {
          "PetalLength": 5.7,
          "PetalWidth": 2.1,
          "SepalLength": 6.7,
          "SepalWidth": 3.3,
          "Species": "virginica"
         },
         {
          "PetalLength": 6,
          "PetalWidth": 1.8,
          "SepalLength": 7.2,
          "SepalWidth": 3.2,
          "Species": "virginica"
         },
         {
          "PetalLength": 4.8,
          "PetalWidth": 1.8,
          "SepalLength": 6.2,
          "SepalWidth": 2.8,
          "Species": "virginica"
         },
         {
          "PetalLength": 4.9,
          "PetalWidth": 1.8,
          "SepalLength": 6.1,
          "SepalWidth": 3,
          "Species": "virginica"
         },
         {
          "PetalLength": 5.6,
          "PetalWidth": 2.1,
          "SepalLength": 6.4,
          "SepalWidth": 2.8,
          "Species": "virginica"
         },
         {
          "PetalLength": 5.8,
          "PetalWidth": 1.6,
          "SepalLength": 7.2,
          "SepalWidth": 3,
          "Species": "virginica"
         },
         {
          "PetalLength": 6.1,
          "PetalWidth": 1.9,
          "SepalLength": 7.4,
          "SepalWidth": 2.8,
          "Species": "virginica"
         },
         {
          "PetalLength": 6.4,
          "PetalWidth": 2,
          "SepalLength": 7.9,
          "SepalWidth": 3.8,
          "Species": "virginica"
         },
         {
          "PetalLength": 5.6,
          "PetalWidth": 2.2,
          "SepalLength": 6.4,
          "SepalWidth": 2.8,
          "Species": "virginica"
         },
         {
          "PetalLength": 5.1,
          "PetalWidth": 1.5,
          "SepalLength": 6.3,
          "SepalWidth": 2.8,
          "Species": "virginica"
         },
         {
          "PetalLength": 5.6,
          "PetalWidth": 1.4,
          "SepalLength": 6.1,
          "SepalWidth": 2.6,
          "Species": "virginica"
         },
         {
          "PetalLength": 6.1,
          "PetalWidth": 2.3,
          "SepalLength": 7.7,
          "SepalWidth": 3,
          "Species": "virginica"
         },
         {
          "PetalLength": 5.6,
          "PetalWidth": 2.4,
          "SepalLength": 6.3,
          "SepalWidth": 3.4,
          "Species": "virginica"
         },
         {
          "PetalLength": 5.5,
          "PetalWidth": 1.8,
          "SepalLength": 6.4,
          "SepalWidth": 3.1,
          "Species": "virginica"
         },
         {
          "PetalLength": 4.8,
          "PetalWidth": 1.8,
          "SepalLength": 6,
          "SepalWidth": 3,
          "Species": "virginica"
         },
         {
          "PetalLength": 5.4,
          "PetalWidth": 2.1,
          "SepalLength": 6.9,
          "SepalWidth": 3.1,
          "Species": "virginica"
         },
         {
          "PetalLength": 5.6,
          "PetalWidth": 2.4,
          "SepalLength": 6.7,
          "SepalWidth": 3.1,
          "Species": "virginica"
         },
         {
          "PetalLength": 5.1,
          "PetalWidth": 2.3,
          "SepalLength": 6.9,
          "SepalWidth": 3.1,
          "Species": "virginica"
         },
         {
          "PetalLength": 5.1,
          "PetalWidth": 1.9,
          "SepalLength": 5.8,
          "SepalWidth": 2.7,
          "Species": "virginica"
         },
         {
          "PetalLength": 5.9,
          "PetalWidth": 2.3,
          "SepalLength": 6.8,
          "SepalWidth": 3.2,
          "Species": "virginica"
         },
         {
          "PetalLength": 5.7,
          "PetalWidth": 2.5,
          "SepalLength": 6.7,
          "SepalWidth": 3.3,
          "Species": "virginica"
         },
         {
          "PetalLength": 5.2,
          "PetalWidth": 2.3,
          "SepalLength": 6.7,
          "SepalWidth": 3,
          "Species": "virginica"
         },
         {
          "PetalLength": 5,
          "PetalWidth": 1.9,
          "SepalLength": 6.3,
          "SepalWidth": 2.5,
          "Species": "virginica"
         },
         {
          "PetalLength": 5.2,
          "PetalWidth": 2,
          "SepalLength": 6.5,
          "SepalWidth": 3,
          "Species": "virginica"
         },
         {
          "PetalLength": 5.4,
          "PetalWidth": 2.3,
          "SepalLength": 6.2,
          "SepalWidth": 3.4,
          "Species": "virginica"
         },
         {
          "PetalLength": 5.1,
          "PetalWidth": 1.8,
          "SepalLength": 5.9,
          "SepalWidth": 3,
          "Species": "virginica"
         }
        ]
       },
       "encoding": {
        "color": {
         "field": "Species",
         "type": "nominal"
        },
        "x": {
         "field": "PetalLength",
         "type": "quantitative"
        },
        "y": {
         "field": "PetalWidth",
         "type": "quantitative"
        }
       },
       "mark": "point"
      },
      "image/png": "[encoded data removed]",
      "image/svg+xml": [
       "<?xml version=\"1.0\" encoding=\"utf-8\"?>\n",
       "<!DOCTYPE svg PUBLIC \"-//W3C//DTD SVG 1.1//EN\" \"http://www.w3.org/Graphics/SVG/1.1/DTD/svg11.dtd\">\n",
       "<svg class=\"marks\" width=\"324\" height=\"242\" viewBox=\"0 0 324 242\" version=\"1.1\" xmlns=\"http://www.w3.org/2000/svg\" xmlns:xlink=\"http://www.w3.org/1999/xlink\"><rect width=\"324\" height=\"242\" style=\"fill: white;\"></rect><g transform=\"translate(42,5)\"><g class=\"mark-group role-frame root\"><g transform=\"translate(0,0)\"><path class=\"background\" d=\"M0.5,0.5h200v200h-200Z\" style=\"fill: none; stroke: #ddd;\"></path><g><g class=\"mark-group role-axis\"><g transform=\"translate(0.5,200.5)\"><path class=\"background\" d=\"M0,0h0v0h0Z\" style=\"pointer-events: none; fill: none;\"></path><g><g class=\"mark-rule role-axis-grid\" style=\"pointer-events: none;\"><line transform=\"translate(0,-200)\" x2=\"0\" y2=\"200\" style=\"fill: none; stroke: #ddd; stroke-width: 1; opacity: 1;\"></line><line transform=\"translate(29,-200)\" x2=\"0\" y2=\"200\" style=\"fill: none; stroke: #ddd; stroke-width: 1; opacity: 1;\"></line><line transform=\"translate(57,-200)\" x2=\"0\" y2=\"200\" style=\"fill: none; stroke: #ddd; stroke-width: 1; opacity: 1;\"></line><line transform=\"translate(86,-200)\" x2=\"0\" y2=\"200\" style=\"fill: none; stroke: #ddd; stroke-width: 1; opacity: 1;\"></line><line transform=\"translate(114,-200)\" x2=\"0\" y2=\"200\" style=\"fill: none; stroke: #ddd; stroke-width: 1; opacity: 1;\"></line><line transform=\"translate(143,-200)\" x2=\"0\" y2=\"200\" style=\"fill: none; stroke: #ddd; stroke-width: 1; opacity: 1;\"></line><line transform=\"translate(171,-200)\" x2=\"0\" y2=\"200\" style=\"fill: none; stroke: #ddd; stroke-width: 1; opacity: 1;\"></line><line transform=\"translate(200,-200)\" x2=\"0\" y2=\"200\" style=\"fill: none; stroke: #ddd; stroke-width: 1; opacity: 1;\"></line></g></g><path class=\"foreground\" d=\"\" style=\"pointer-events: none; display: none; fill: none;\"></path></g></g><g class=\"mark-group role-axis\"><g transform=\"translate(0.5,0.5)\"><path class=\"background\" d=\"M0,0h0v0h0Z\" style=\"pointer-events: none; fill: none;\"></path><g><g class=\"mark-rule role-axis-grid\" style=\"pointer-events: none;\"><line transform=\"translate(0,200)\" x2=\"200\" y2=\"0\" style=\"fill: none; stroke: #ddd; stroke-width: 1; opacity: 1;\"></line><line transform=\"translate(0,162)\" x2=\"200\" y2=\"0\" style=\"fill: none; stroke: #ddd; stroke-width: 1; opacity: 1;\"></line><line transform=\"translate(0,123)\" x2=\"200\" y2=\"0\" style=\"fill: none; stroke: #ddd; stroke-width: 1; opacity: 1;\"></line><line transform=\"translate(0,85)\" x2=\"200\" y2=\"0\" style=\"fill: none; stroke: #ddd; stroke-width: 1; opacity: 1;\"></line><line transform=\"translate(0,46)\" x2=\"200\" y2=\"0\" style=\"fill: none; stroke: #ddd; stroke-width: 1; opacity: 1;\"></line><line transform=\"translate(0,8)\" x2=\"200\" y2=\"0\" style=\"fill: none; stroke: #ddd; stroke-width: 1; opacity: 1;\"></line></g></g><path class=\"foreground\" d=\"\" style=\"pointer-events: none; display: none; fill: none;\"></path></g></g><g class=\"mark-group role-axis\"><g transform=\"translate(0.5,200.5)\"><path class=\"background\" d=\"M0,0h0v0h0Z\" style=\"pointer-events: none; fill: none;\"></path><g><g class=\"mark-rule role-axis-tick\" style=\"pointer-events: none;\"><line transform=\"translate(0,0)\" x2=\"0\" y2=\"5\" style=\"fill: none; stroke: #888; stroke-width: 1; opacity: 1;\"></line><line transform=\"translate(29,0)\" x2=\"0\" y2=\"5\" style=\"fill: none; stroke: #888; stroke-width: 1; opacity: 1;\"></line><line transform=\"translate(57,0)\" x2=\"0\" y2=\"5\" style=\"fill: none; stroke: #888; stroke-width: 1; opacity: 1;\"></line><line transform=\"translate(86,0)\" x2=\"0\" y2=\"5\" style=\"fill: none; stroke: #888; stroke-width: 1; opacity: 1;\"></line><line transform=\"translate(114,0)\" x2=\"0\" y2=\"5\" style=\"fill: none; stroke: #888; stroke-width: 1; opacity: 1;\"></line><line transform=\"translate(143,0)\" x2=\"0\" y2=\"5\" style=\"fill: none; stroke: #888; stroke-width: 1; opacity: 1;\"></line><line transform=\"translate(171,0)\" x2=\"0\" y2=\"5\" style=\"fill: none; stroke: #888; stroke-width: 1; opacity: 1;\"></line><line transform=\"translate(200,0)\" x2=\"0\" y2=\"5\" style=\"fill: none; stroke: #888; stroke-width: 1; opacity: 1;\"></line></g><g class=\"mark-text role-axis-label\" style=\"pointer-events: none;\"><text text-anchor=\"start\" transform=\"translate(0,15)\" style=\"font-family: sans-serif; font-size: 10px; fill: #000; opacity: 1;\">0</text><text text-anchor=\"middle\" transform=\"translate(28.57142857142857,15)\" style=\"font-family: sans-serif; font-size: 10px; fill: #000; opacity: 1;\">1</text><text text-anchor=\"middle\" transform=\"translate(57.14285714285714,15)\" style=\"font-family: sans-serif; font-size: 10px; fill: #000; opacity: 1;\">2</text><text text-anchor=\"middle\" transform=\"translate(85.71428571428571,15)\" style=\"font-family: sans-serif; font-size: 10px; fill: #000; opacity: 1;\">3</text><text text-anchor=\"middle\" transform=\"translate(114.28571428571428,15)\" style=\"font-family: sans-serif; font-size: 10px; fill: #000; opacity: 1;\">4</text><text text-anchor=\"middle\" transform=\"translate(142.85714285714286,15)\" style=\"font-family: sans-serif; font-size: 10px; fill: #000; opacity: 1;\">5</text><text text-anchor=\"middle\" transform=\"translate(171.42857142857142,15)\" style=\"font-family: sans-serif; font-size: 10px; fill: #000; opacity: 1;\">6</text><text text-anchor=\"end\" transform=\"translate(200,15)\" style=\"font-family: sans-serif; font-size: 10px; fill: #000; opacity: 1;\">7</text></g><g class=\"mark-rule role-axis-domain\" style=\"pointer-events: none;\"><line transform=\"translate(0,0)\" x2=\"200\" y2=\"0\" style=\"fill: none; stroke: #888; stroke-width: 1; opacity: 1;\"></line></g><g class=\"mark-text role-axis-title\" style=\"pointer-events: none;\"><text text-anchor=\"middle\" transform=\"translate(100,30)\" style=\"font-family: sans-serif; font-size: 11px; font-weight: bold; fill: #000; opacity: 1;\">PetalLength</text></g></g><path class=\"foreground\" d=\"\" style=\"pointer-events: none; display: none; fill: none;\"></path></g></g><g class=\"mark-group role-axis\"><g transform=\"translate(0.5,0.5)\"><path class=\"background\" d=\"M0,0h0v0h0Z\" style=\"pointer-events: none; fill: none;\"></path><g><g class=\"mark-rule role-axis-tick\" style=\"pointer-events: none;\"><line transform=\"translate(0,200)\" x2=\"-5\" y2=\"0\" style=\"fill: none; stroke: #888; stroke-width: 1; opacity: 1;\"></line><line transform=\"translate(0,162)\" x2=\"-5\" y2=\"0\" style=\"fill: none; stroke: #888; stroke-width: 1; opacity: 1;\"></line><line transform=\"translate(0,123)\" x2=\"-5\" y2=\"0\" style=\"fill: none; stroke: #888; stroke-width: 1; opacity: 1;\"></line><line transform=\"translate(0,85)\" x2=\"-5\" y2=\"0\" style=\"fill: none; stroke: #888; stroke-width: 1; opacity: 1;\"></line><line transform=\"translate(0,46)\" x2=\"-5\" y2=\"0\" style=\"fill: none; stroke: #888; stroke-width: 1; opacity: 1;\"></line><line transform=\"translate(0,8)\" x2=\"-5\" y2=\"0\" style=\"fill: none; stroke: #888; stroke-width: 1; opacity: 1;\"></line></g><g class=\"mark-text role-axis-label\" style=\"pointer-events: none;\"><text text-anchor=\"end\" transform=\"translate(-7,203)\" style=\"font-family: sans-serif; font-size: 10px; fill: #000; opacity: 1;\">0.0</text><text text-anchor=\"end\" transform=\"translate(-7,164.53846153846155)\" style=\"font-family: sans-serif; font-size: 10px; fill: #000; opacity: 1;\">0.5</text><text text-anchor=\"end\" transform=\"translate(-7,126.07692307692308)\" style=\"font-family: sans-serif; font-size: 10px; fill: #000; opacity: 1;\">1.0</text><text text-anchor=\"end\" transform=\"translate(-7,87.61538461538463)\" style=\"font-family: sans-serif; font-size: 10px; fill: #000; opacity: 1;\">1.5</text><text text-anchor=\"end\" transform=\"translate(-7,49.15384615384617)\" style=\"font-family: sans-serif; font-size: 10px; fill: #000; opacity: 1;\">2.0</text><text text-anchor=\"end\" transform=\"translate(-7,10.69230769230771)\" style=\"font-family: sans-serif; font-size: 10px; fill: #000; opacity: 1;\">2.5</text></g><g class=\"mark-rule role-axis-domain\" style=\"pointer-events: none;\"><line transform=\"translate(0,200)\" x2=\"0\" y2=\"-200\" style=\"fill: none; stroke: #888; stroke-width: 1; opacity: 1;\"></line></g><g class=\"mark-text role-axis-title\" style=\"pointer-events: none;\"><text text-anchor=\"middle\" transform=\"translate(-26,100) rotate(-90) translate(0,-2)\" style=\"font-family: sans-serif; font-size: 11px; font-weight: bold; fill: #000; opacity: 1;\">PetalWidth</text></g></g><path class=\"foreground\" d=\"\" style=\"pointer-events: none; display: none; fill: none;\"></path></g></g><g class=\"mark-symbol role-mark marks\"><path transform=\"translate(40,184.6153846153846)\" d=\"M2.7386127875258306,0A2.7386127875258306,2.7386127875258306,0,1,1,-2.7386127875258306,0A2.7386127875258306,2.7386127875258306,0,1,1,2.7386127875258306,0\" style=\"fill: none; stroke: #4c78a8; stroke-width: 2; opacity: 0.7;\"></path><path transform=\"translate(40,184.6153846153846)\" d=\"M2.7386127875258306,0A2.7386127875258306,2.7386127875258306,0,1,1,-2.7386127875258306,0A2.7386127875258306,2.7386127875258306,0,1,1,2.7386127875258306,0\" style=\"fill: none; stroke: #4c78a8; stroke-width: 2; opacity: 0.7;\"></path><path transform=\"translate(37.142857142857146,184.6153846153846)\" d=\"M2.7386127875258306,0A2.7386127875258306,2.7386127875258306,0,1,1,-2.7386127875258306,0A2.7386127875258306,2.7386127875258306,0,1,1,2.7386127875258306,0\" style=\"fill: none; stroke: #4c78a8; stroke-width: 2; opacity: 0.7;\"></path><path transform=\"translate(42.857142857142854,184.6153846153846)\" d=\"M2.7386127875258306,0A2.7386127875258306,2.7386127875258306,0,1,1,-2.7386127875258306,0A2.7386127875258306,2.7386127875258306,0,1,1,2.7386127875258306,0\" style=\"fill: none; stroke: #4c78a8; stroke-width: 2; opacity: 0.7;\"></path><path transform=\"translate(40,184.6153846153846)\" d=\"M2.7386127875258306,0A2.7386127875258306,2.7386127875258306,0,1,1,-2.7386127875258306,0A2.7386127875258306,2.7386127875258306,0,1,1,2.7386127875258306,0\" style=\"fill: none; stroke: #4c78a8; stroke-width: 2; opacity: 0.7;\"></path><path transform=\"translate(48.57142857142857,169.23076923076923)\" d=\"M2.7386127875258306,0A2.7386127875258306,2.7386127875258306,0,1,1,-2.7386127875258306,0A2.7386127875258306,2.7386127875258306,0,1,1,2.7386127875258306,0\" style=\"fill: none; stroke: #4c78a8; stroke-width: 2; opacity: 0.7;\"></path><path transform=\"translate(40,176.9230769230769)\" d=\"M2.7386127875258306,0A2.7386127875258306,2.7386127875258306,0,1,1,-2.7386127875258306,0A2.7386127875258306,2.7386127875258306,0,1,1,2.7386127875258306,0\" style=\"fill: none; stroke: #4c78a8; stroke-width: 2; opacity: 0.7;\"></path><path transform=\"translate(42.857142857142854,184.6153846153846)\" d=\"M2.7386127875258306,0A2.7386127875258306,2.7386127875258306,0,1,1,-2.7386127875258306,0A2.7386127875258306,2.7386127875258306,0,1,1,2.7386127875258306,0\" style=\"fill: none; stroke: #4c78a8; stroke-width: 2; opacity: 0.7;\"></path><path transform=\"translate(40,184.6153846153846)\" d=\"M2.7386127875258306,0A2.7386127875258306,2.7386127875258306,0,1,1,-2.7386127875258306,0A2.7386127875258306,2.7386127875258306,0,1,1,2.7386127875258306,0\" style=\"fill: none; stroke: #4c78a8; stroke-width: 2; opacity: 0.7;\"></path><path transform=\"translate(42.857142857142854,192.30769230769232)\" d=\"M2.7386127875258306,0A2.7386127875258306,2.7386127875258306,0,1,1,-2.7386127875258306,0A2.7386127875258306,2.7386127875258306,0,1,1,2.7386127875258306,0\" style=\"fill: none; stroke: #4c78a8; stroke-width: 2; opacity: 0.7;\"></path><path transform=\"translate(42.857142857142854,184.6153846153846)\" d=\"M2.7386127875258306,0A2.7386127875258306,2.7386127875258306,0,1,1,-2.7386127875258306,0A2.7386127875258306,2.7386127875258306,0,1,1,2.7386127875258306,0\" style=\"fill: none; stroke: #4c78a8; stroke-width: 2; opacity: 0.7;\"></path><path transform=\"translate(45.714285714285715,184.6153846153846)\" d=\"M2.7386127875258306,0A2.7386127875258306,2.7386127875258306,0,1,1,-2.7386127875258306,0A2.7386127875258306,2.7386127875258306,0,1,1,2.7386127875258306,0\" style=\"fill: none; stroke: #4c78a8; stroke-width: 2; opacity: 0.7;\"></path><path transform=\"translate(40,192.30769230769232)\" d=\"M2.7386127875258306,0A2.7386127875258306,2.7386127875258306,0,1,1,-2.7386127875258306,0A2.7386127875258306,2.7386127875258306,0,1,1,2.7386127875258306,0\" style=\"fill: none; stroke: #4c78a8; stroke-width: 2; opacity: 0.7;\"></path><path transform=\"translate(31.428571428571434,192.30769230769232)\" d=\"M2.7386127875258306,0A2.7386127875258306,2.7386127875258306,0,1,1,-2.7386127875258306,0A2.7386127875258306,2.7386127875258306,0,1,1,2.7386127875258306,0\" style=\"fill: none; stroke: #4c78a8; stroke-width: 2; opacity: 0.7;\"></path><path transform=\"translate(34.285714285714285,184.6153846153846)\" d=\"M2.7386127875258306,0A2.7386127875258306,2.7386127875258306,0,1,1,-2.7386127875258306,0A2.7386127875258306,2.7386127875258306,0,1,1,2.7386127875258306,0\" style=\"fill: none; stroke: #4c78a8; stroke-width: 2; opacity: 0.7;\"></path><path transform=\"translate(42.857142857142854,169.23076923076923)\" d=\"M2.7386127875258306,0A2.7386127875258306,2.7386127875258306,0,1,1,-2.7386127875258306,0A2.7386127875258306,2.7386127875258306,0,1,1,2.7386127875258306,0\" style=\"fill: none; stroke: #4c78a8; stroke-width: 2; opacity: 0.7;\"></path><path transform=\"translate(37.142857142857146,169.23076923076923)\" d=\"M2.7386127875258306,0A2.7386127875258306,2.7386127875258306,0,1,1,-2.7386127875258306,0A2.7386127875258306,2.7386127875258306,0,1,1,2.7386127875258306,0\" style=\"fill: none; stroke: #4c78a8; stroke-width: 2; opacity: 0.7;\"></path><path transform=\"translate(40,176.9230769230769)\" d=\"M2.7386127875258306,0A2.7386127875258306,2.7386127875258306,0,1,1,-2.7386127875258306,0A2.7386127875258306,2.7386127875258306,0,1,1,2.7386127875258306,0\" style=\"fill: none; stroke: #4c78a8; stroke-width: 2; opacity: 0.7;\"></path><path transform=\"translate(48.57142857142857,176.9230769230769)\" d=\"M2.7386127875258306,0A2.7386127875258306,2.7386127875258306,0,1,1,-2.7386127875258306,0A2.7386127875258306,2.7386127875258306,0,1,1,2.7386127875258306,0\" style=\"fill: none; stroke: #4c78a8; stroke-width: 2; opacity: 0.7;\"></path><path transform=\"translate(42.857142857142854,176.9230769230769)\" d=\"M2.7386127875258306,0A2.7386127875258306,2.7386127875258306,0,1,1,-2.7386127875258306,0A2.7386127875258306,2.7386127875258306,0,1,1,2.7386127875258306,0\" style=\"fill: none; stroke: #4c78a8; stroke-width: 2; opacity: 0.7;\"></path><path transform=\"translate(48.57142857142857,184.6153846153846)\" d=\"M2.7386127875258306,0A2.7386127875258306,2.7386127875258306,0,1,1,-2.7386127875258306,0A2.7386127875258306,2.7386127875258306,0,1,1,2.7386127875258306,0\" style=\"fill: none; stroke: #4c78a8; stroke-width: 2; opacity: 0.7;\"></path><path transform=\"translate(42.857142857142854,169.23076923076923)\" d=\"M2.7386127875258306,0A2.7386127875258306,2.7386127875258306,0,1,1,-2.7386127875258306,0A2.7386127875258306,2.7386127875258306,0,1,1,2.7386127875258306,0\" style=\"fill: none; stroke: #4c78a8; stroke-width: 2; opacity: 0.7;\"></path><path transform=\"translate(28.57142857142857,184.6153846153846)\" d=\"M2.7386127875258306,0A2.7386127875258306,2.7386127875258306,0,1,1,-2.7386127875258306,0A2.7386127875258306,2.7386127875258306,0,1,1,2.7386127875258306,0\" style=\"fill: none; stroke: #4c78a8; stroke-width: 2; opacity: 0.7;\"></path><path transform=\"translate(48.57142857142857,161.53846153846155)\" d=\"M2.7386127875258306,0A2.7386127875258306,2.7386127875258306,0,1,1,-2.7386127875258306,0A2.7386127875258306,2.7386127875258306,0,1,1,2.7386127875258306,0\" style=\"fill: none; stroke: #4c78a8; stroke-width: 2; opacity: 0.7;\"></path><path transform=\"translate(54.285714285714285,184.6153846153846)\" d=\"M2.7386127875258306,0A2.7386127875258306,2.7386127875258306,0,1,1,-2.7386127875258306,0A2.7386127875258306,2.7386127875258306,0,1,1,2.7386127875258306,0\" style=\"fill: none; stroke: #4c78a8; stroke-width: 2; opacity: 0.7;\"></path><path transform=\"translate(45.714285714285715,184.6153846153846)\" d=\"M2.7386127875258306,0A2.7386127875258306,2.7386127875258306,0,1,1,-2.7386127875258306,0A2.7386127875258306,2.7386127875258306,0,1,1,2.7386127875258306,0\" style=\"fill: none; stroke: #4c78a8; stroke-width: 2; opacity: 0.7;\"></path><path transform=\"translate(45.714285714285715,169.23076923076923)\" d=\"M2.7386127875258306,0A2.7386127875258306,2.7386127875258306,0,1,1,-2.7386127875258306,0A2.7386127875258306,2.7386127875258306,0,1,1,2.7386127875258306,0\" style=\"fill: none; stroke: #4c78a8; stroke-width: 2; opacity: 0.7;\"></path><path transform=\"translate(42.857142857142854,184.6153846153846)\" d=\"M2.7386127875258306,0A2.7386127875258306,2.7386127875258306,0,1,1,-2.7386127875258306,0A2.7386127875258306,2.7386127875258306,0,1,1,2.7386127875258306,0\" style=\"fill: none; stroke: #4c78a8; stroke-width: 2; opacity: 0.7;\"></path><path transform=\"translate(40,184.6153846153846)\" d=\"M2.7386127875258306,0A2.7386127875258306,2.7386127875258306,0,1,1,-2.7386127875258306,0A2.7386127875258306,2.7386127875258306,0,1,1,2.7386127875258306,0\" style=\"fill: none; stroke: #4c78a8; stroke-width: 2; opacity: 0.7;\"></path><path transform=\"translate(45.714285714285715,184.6153846153846)\" d=\"M2.7386127875258306,0A2.7386127875258306,2.7386127875258306,0,1,1,-2.7386127875258306,0A2.7386127875258306,2.7386127875258306,0,1,1,2.7386127875258306,0\" style=\"fill: none; stroke: #4c78a8; stroke-width: 2; opacity: 0.7;\"></path><path transform=\"translate(45.714285714285715,184.6153846153846)\" d=\"M2.7386127875258306,0A2.7386127875258306,2.7386127875258306,0,1,1,-2.7386127875258306,0A2.7386127875258306,2.7386127875258306,0,1,1,2.7386127875258306,0\" style=\"fill: none; stroke: #4c78a8; stroke-width: 2; opacity: 0.7;\"></path><path transform=\"translate(42.857142857142854,169.23076923076923)\" d=\"M2.7386127875258306,0A2.7386127875258306,2.7386127875258306,0,1,1,-2.7386127875258306,0A2.7386127875258306,2.7386127875258306,0,1,1,2.7386127875258306,0\" style=\"fill: none; stroke: #4c78a8; stroke-width: 2; opacity: 0.7;\"></path><path transform=\"translate(42.857142857142854,192.30769230769232)\" d=\"M2.7386127875258306,0A2.7386127875258306,2.7386127875258306,0,1,1,-2.7386127875258306,0A2.7386127875258306,2.7386127875258306,0,1,1,2.7386127875258306,0\" style=\"fill: none; stroke: #4c78a8; stroke-width: 2; opacity: 0.7;\"></path><path transform=\"translate(40,184.6153846153846)\" d=\"M2.7386127875258306,0A2.7386127875258306,2.7386127875258306,0,1,1,-2.7386127875258306,0A2.7386127875258306,2.7386127875258306,0,1,1,2.7386127875258306,0\" style=\"fill: none; stroke: #4c78a8; stroke-width: 2; opacity: 0.7;\"></path><path transform=\"translate(42.857142857142854,184.6153846153846)\" d=\"M2.7386127875258306,0A2.7386127875258306,2.7386127875258306,0,1,1,-2.7386127875258306,0A2.7386127875258306,2.7386127875258306,0,1,1,2.7386127875258306,0\" style=\"fill: none; stroke: #4c78a8; stroke-width: 2; opacity: 0.7;\"></path><path transform=\"translate(34.285714285714285,184.6153846153846)\" d=\"M2.7386127875258306,0A2.7386127875258306,2.7386127875258306,0,1,1,-2.7386127875258306,0A2.7386127875258306,2.7386127875258306,0,1,1,2.7386127875258306,0\" style=\"fill: none; stroke: #4c78a8; stroke-width: 2; opacity: 0.7;\"></path><path transform=\"translate(37.142857142857146,184.6153846153846)\" d=\"M2.7386127875258306,0A2.7386127875258306,2.7386127875258306,0,1,1,-2.7386127875258306,0A2.7386127875258306,2.7386127875258306,0,1,1,2.7386127875258306,0\" style=\"fill: none; stroke: #4c78a8; stroke-width: 2; opacity: 0.7;\"></path><path transform=\"translate(40,192.30769230769232)\" d=\"M2.7386127875258306,0A2.7386127875258306,2.7386127875258306,0,1,1,-2.7386127875258306,0A2.7386127875258306,2.7386127875258306,0,1,1,2.7386127875258306,0\" style=\"fill: none; stroke: #4c78a8; stroke-width: 2; opacity: 0.7;\"></path><path transform=\"translate(37.142857142857146,184.6153846153846)\" d=\"M2.7386127875258306,0A2.7386127875258306,2.7386127875258306,0,1,1,-2.7386127875258306,0A2.7386127875258306,2.7386127875258306,0,1,1,2.7386127875258306,0\" style=\"fill: none; stroke: #4c78a8; stroke-width: 2; opacity: 0.7;\"></path><path transform=\"translate(42.857142857142854,184.6153846153846)\" d=\"M2.7386127875258306,0A2.7386127875258306,2.7386127875258306,0,1,1,-2.7386127875258306,0A2.7386127875258306,2.7386127875258306,0,1,1,2.7386127875258306,0\" style=\"fill: none; stroke: #4c78a8; stroke-width: 2; opacity: 0.7;\"></path><path transform=\"translate(37.142857142857146,176.9230769230769)\" d=\"M2.7386127875258306,0A2.7386127875258306,2.7386127875258306,0,1,1,-2.7386127875258306,0A2.7386127875258306,2.7386127875258306,0,1,1,2.7386127875258306,0\" style=\"fill: none; stroke: #4c78a8; stroke-width: 2; opacity: 0.7;\"></path><path transform=\"translate(37.142857142857146,176.9230769230769)\" d=\"M2.7386127875258306,0A2.7386127875258306,2.7386127875258306,0,1,1,-2.7386127875258306,0A2.7386127875258306,2.7386127875258306,0,1,1,2.7386127875258306,0\" style=\"fill: none; stroke: #4c78a8; stroke-width: 2; opacity: 0.7;\"></path><path transform=\"translate(37.142857142857146,184.6153846153846)\" d=\"M2.7386127875258306,0A2.7386127875258306,2.7386127875258306,0,1,1,-2.7386127875258306,0A2.7386127875258306,2.7386127875258306,0,1,1,2.7386127875258306,0\" style=\"fill: none; stroke: #4c78a8; stroke-width: 2; opacity: 0.7;\"></path><path transform=\"translate(45.714285714285715,153.84615384615387)\" d=\"M2.7386127875258306,0A2.7386127875258306,2.7386127875258306,0,1,1,-2.7386127875258306,0A2.7386127875258306,2.7386127875258306,0,1,1,2.7386127875258306,0\" style=\"fill: none; stroke: #4c78a8; stroke-width: 2; opacity: 0.7;\"></path><path transform=\"translate(54.285714285714285,169.23076923076923)\" d=\"M2.7386127875258306,0A2.7386127875258306,2.7386127875258306,0,1,1,-2.7386127875258306,0A2.7386127875258306,2.7386127875258306,0,1,1,2.7386127875258306,0\" style=\"fill: none; stroke: #4c78a8; stroke-width: 2; opacity: 0.7;\"></path><path transform=\"translate(40,176.9230769230769)\" d=\"M2.7386127875258306,0A2.7386127875258306,2.7386127875258306,0,1,1,-2.7386127875258306,0A2.7386127875258306,2.7386127875258306,0,1,1,2.7386127875258306,0\" style=\"fill: none; stroke: #4c78a8; stroke-width: 2; opacity: 0.7;\"></path><path transform=\"translate(45.714285714285715,184.6153846153846)\" d=\"M2.7386127875258306,0A2.7386127875258306,2.7386127875258306,0,1,1,-2.7386127875258306,0A2.7386127875258306,2.7386127875258306,0,1,1,2.7386127875258306,0\" style=\"fill: none; stroke: #4c78a8; stroke-width: 2; opacity: 0.7;\"></path><path transform=\"translate(40,184.6153846153846)\" d=\"M2.7386127875258306,0A2.7386127875258306,2.7386127875258306,0,1,1,-2.7386127875258306,0A2.7386127875258306,2.7386127875258306,0,1,1,2.7386127875258306,0\" style=\"fill: none; stroke: #4c78a8; stroke-width: 2; opacity: 0.7;\"></path><path transform=\"translate(42.857142857142854,184.6153846153846)\" d=\"M2.7386127875258306,0A2.7386127875258306,2.7386127875258306,0,1,1,-2.7386127875258306,0A2.7386127875258306,2.7386127875258306,0,1,1,2.7386127875258306,0\" style=\"fill: none; stroke: #4c78a8; stroke-width: 2; opacity: 0.7;\"></path><path transform=\"translate(40,184.6153846153846)\" d=\"M2.7386127875258306,0A2.7386127875258306,2.7386127875258306,0,1,1,-2.7386127875258306,0A2.7386127875258306,2.7386127875258306,0,1,1,2.7386127875258306,0\" style=\"fill: none; stroke: #4c78a8; stroke-width: 2; opacity: 0.7;\"></path><path transform=\"translate(134.2857142857143,92.3076923076923)\" d=\"M2.7386127875258306,0A2.7386127875258306,2.7386127875258306,0,1,1,-2.7386127875258306,0A2.7386127875258306,2.7386127875258306,0,1,1,2.7386127875258306,0\" style=\"fill: none; stroke: #f58518; stroke-width: 2; opacity: 0.7;\"></path><path transform=\"translate(128.57142857142858,84.61538461538463)\" d=\"M2.7386127875258306,0A2.7386127875258306,2.7386127875258306,0,1,1,-2.7386127875258306,0A2.7386127875258306,2.7386127875258306,0,1,1,2.7386127875258306,0\" style=\"fill: none; stroke: #f58518; stroke-width: 2; opacity: 0.7;\"></path><path transform=\"translate(140,84.61538461538463)\" d=\"M2.7386127875258306,0A2.7386127875258306,2.7386127875258306,0,1,1,-2.7386127875258306,0A2.7386127875258306,2.7386127875258306,0,1,1,2.7386127875258306,0\" style=\"fill: none; stroke: #f58518; stroke-width: 2; opacity: 0.7;\"></path><path transform=\"translate(114.28571428571428,100)\" d=\"M2.7386127875258306,0A2.7386127875258306,2.7386127875258306,0,1,1,-2.7386127875258306,0A2.7386127875258306,2.7386127875258306,0,1,1,2.7386127875258306,0\" style=\"fill: none; stroke: #f58518; stroke-width: 2; opacity: 0.7;\"></path><path transform=\"translate(131.42857142857142,84.61538461538463)\" d=\"M2.7386127875258306,0A2.7386127875258306,2.7386127875258306,0,1,1,-2.7386127875258306,0A2.7386127875258306,2.7386127875258306,0,1,1,2.7386127875258306,0\" style=\"fill: none; stroke: #f58518; stroke-width: 2; opacity: 0.7;\"></path><path transform=\"translate(128.57142857142858,100)\" d=\"M2.7386127875258306,0A2.7386127875258306,2.7386127875258306,0,1,1,-2.7386127875258306,0A2.7386127875258306,2.7386127875258306,0,1,1,2.7386127875258306,0\" style=\"fill: none; stroke: #f58518; stroke-width: 2; opacity: 0.7;\"></path><path transform=\"translate(134.2857142857143,76.92307692307692)\" d=\"M2.7386127875258306,0A2.7386127875258306,2.7386127875258306,0,1,1,-2.7386127875258306,0A2.7386127875258306,2.7386127875258306,0,1,1,2.7386127875258306,0\" style=\"fill: none; stroke: #f58518; stroke-width: 2; opacity: 0.7;\"></path><path transform=\"translate(94.28571428571428,123.07692307692308)\" d=\"M2.7386127875258306,0A2.7386127875258306,2.7386127875258306,0,1,1,-2.7386127875258306,0A2.7386127875258306,2.7386127875258306,0,1,1,2.7386127875258306,0\" style=\"fill: none; stroke: #f58518; stroke-width: 2; opacity: 0.7;\"></path><path transform=\"translate(131.42857142857142,100)\" d=\"M2.7386127875258306,0A2.7386127875258306,2.7386127875258306,0,1,1,-2.7386127875258306,0A2.7386127875258306,2.7386127875258306,0,1,1,2.7386127875258306,0\" style=\"fill: none; stroke: #f58518; stroke-width: 2; opacity: 0.7;\"></path><path transform=\"translate(111.42857142857143,92.3076923076923)\" d=\"M2.7386127875258306,0A2.7386127875258306,2.7386127875258306,0,1,1,-2.7386127875258306,0A2.7386127875258306,2.7386127875258306,0,1,1,2.7386127875258306,0\" style=\"fill: none; stroke: #f58518; stroke-width: 2; opacity: 0.7;\"></path><path transform=\"translate(100,123.07692307692308)\" d=\"M2.7386127875258306,0A2.7386127875258306,2.7386127875258306,0,1,1,-2.7386127875258306,0A2.7386127875258306,2.7386127875258306,0,1,1,2.7386127875258306,0\" style=\"fill: none; stroke: #f58518; stroke-width: 2; opacity: 0.7;\"></path><path transform=\"translate(120,84.61538461538463)\" d=\"M2.7386127875258306,0A2.7386127875258306,2.7386127875258306,0,1,1,-2.7386127875258306,0A2.7386127875258306,2.7386127875258306,0,1,1,2.7386127875258306,0\" style=\"fill: none; stroke: #f58518; stroke-width: 2; opacity: 0.7;\"></path><path transform=\"translate(114.28571428571428,123.07692307692308)\" d=\"M2.7386127875258306,0A2.7386127875258306,2.7386127875258306,0,1,1,-2.7386127875258306,0A2.7386127875258306,2.7386127875258306,0,1,1,2.7386127875258306,0\" style=\"fill: none; stroke: #f58518; stroke-width: 2; opacity: 0.7;\"></path><path transform=\"translate(134.2857142857143,92.3076923076923)\" d=\"M2.7386127875258306,0A2.7386127875258306,2.7386127875258306,0,1,1,-2.7386127875258306,0A2.7386127875258306,2.7386127875258306,0,1,1,2.7386127875258306,0\" style=\"fill: none; stroke: #f58518; stroke-width: 2; opacity: 0.7;\"></path><path transform=\"translate(102.85714285714288,100)\" d=\"M2.7386127875258306,0A2.7386127875258306,2.7386127875258306,0,1,1,-2.7386127875258306,0A2.7386127875258306,2.7386127875258306,0,1,1,2.7386127875258306,0\" style=\"fill: none; stroke: #f58518; stroke-width: 2; opacity: 0.7;\"></path><path transform=\"translate(125.71428571428574,92.3076923076923)\" d=\"M2.7386127875258306,0A2.7386127875258306,2.7386127875258306,0,1,1,-2.7386127875258306,0A2.7386127875258306,2.7386127875258306,0,1,1,2.7386127875258306,0\" style=\"fill: none; stroke: #f58518; stroke-width: 2; opacity: 0.7;\"></path><path transform=\"translate(128.57142857142858,84.61538461538463)\" d=\"M2.7386127875258306,0A2.7386127875258306,2.7386127875258306,0,1,1,-2.7386127875258306,0A2.7386127875258306,2.7386127875258306,0,1,1,2.7386127875258306,0\" style=\"fill: none; stroke: #f58518; stroke-width: 2; opacity: 0.7;\"></path><path transform=\"translate(117.14285714285712,123.07692307692308)\" d=\"M2.7386127875258306,0A2.7386127875258306,2.7386127875258306,0,1,1,-2.7386127875258306,0A2.7386127875258306,2.7386127875258306,0,1,1,2.7386127875258306,0\" style=\"fill: none; stroke: #f58518; stroke-width: 2; opacity: 0.7;\"></path><path transform=\"translate(128.57142857142858,84.61538461538463)\" d=\"M2.7386127875258306,0A2.7386127875258306,2.7386127875258306,0,1,1,-2.7386127875258306,0A2.7386127875258306,2.7386127875258306,0,1,1,2.7386127875258306,0\" style=\"fill: none; stroke: #f58518; stroke-width: 2; opacity: 0.7;\"></path><path transform=\"translate(111.42857142857143,115.38461538461537)\" d=\"M2.7386127875258306,0A2.7386127875258306,2.7386127875258306,0,1,1,-2.7386127875258306,0A2.7386127875258306,2.7386127875258306,0,1,1,2.7386127875258306,0\" style=\"fill: none; stroke: #f58518; stroke-width: 2; opacity: 0.7;\"></path><path transform=\"translate(137.14285714285714,61.53846153846154)\" d=\"M2.7386127875258306,0A2.7386127875258306,2.7386127875258306,0,1,1,-2.7386127875258306,0A2.7386127875258306,2.7386127875258306,0,1,1,2.7386127875258306,0\" style=\"fill: none; stroke: #f58518; stroke-width: 2; opacity: 0.7;\"></path><path transform=\"translate(114.28571428571428,100)\" d=\"M2.7386127875258306,0A2.7386127875258306,2.7386127875258306,0,1,1,-2.7386127875258306,0A2.7386127875258306,2.7386127875258306,0,1,1,2.7386127875258306,0\" style=\"fill: none; stroke: #f58518; stroke-width: 2; opacity: 0.7;\"></path><path transform=\"translate(140,84.61538461538463)\" d=\"M2.7386127875258306,0A2.7386127875258306,2.7386127875258306,0,1,1,-2.7386127875258306,0A2.7386127875258306,2.7386127875258306,0,1,1,2.7386127875258306,0\" style=\"fill: none; stroke: #f58518; stroke-width: 2; opacity: 0.7;\"></path><path transform=\"translate(134.2857142857143,107.69230769230771)\" d=\"M2.7386127875258306,0A2.7386127875258306,2.7386127875258306,0,1,1,-2.7386127875258306,0A2.7386127875258306,2.7386127875258306,0,1,1,2.7386127875258306,0\" style=\"fill: none; stroke: #f58518; stroke-width: 2; opacity: 0.7;\"></path><path transform=\"translate(122.85714285714285,100)\" d=\"M2.7386127875258306,0A2.7386127875258306,2.7386127875258306,0,1,1,-2.7386127875258306,0A2.7386127875258306,2.7386127875258306,0,1,1,2.7386127875258306,0\" style=\"fill: none; stroke: #f58518; stroke-width: 2; opacity: 0.7;\"></path><path transform=\"translate(125.71428571428574,92.3076923076923)\" d=\"M2.7386127875258306,0A2.7386127875258306,2.7386127875258306,0,1,1,-2.7386127875258306,0A2.7386127875258306,2.7386127875258306,0,1,1,2.7386127875258306,0\" style=\"fill: none; stroke: #f58518; stroke-width: 2; opacity: 0.7;\"></path><path transform=\"translate(137.14285714285714,92.3076923076923)\" d=\"M2.7386127875258306,0A2.7386127875258306,2.7386127875258306,0,1,1,-2.7386127875258306,0A2.7386127875258306,2.7386127875258306,0,1,1,2.7386127875258306,0\" style=\"fill: none; stroke: #f58518; stroke-width: 2; opacity: 0.7;\"></path><path transform=\"translate(142.85714285714286,69.23076923076923)\" d=\"M2.7386127875258306,0A2.7386127875258306,2.7386127875258306,0,1,1,-2.7386127875258306,0A2.7386127875258306,2.7386127875258306,0,1,1,2.7386127875258306,0\" style=\"fill: none; stroke: #f58518; stroke-width: 2; opacity: 0.7;\"></path><path transform=\"translate(128.57142857142858,84.61538461538463)\" d=\"M2.7386127875258306,0A2.7386127875258306,2.7386127875258306,0,1,1,-2.7386127875258306,0A2.7386127875258306,2.7386127875258306,0,1,1,2.7386127875258306,0\" style=\"fill: none; stroke: #f58518; stroke-width: 2; opacity: 0.7;\"></path><path transform=\"translate(100,123.07692307692308)\" d=\"M2.7386127875258306,0A2.7386127875258306,2.7386127875258306,0,1,1,-2.7386127875258306,0A2.7386127875258306,2.7386127875258306,0,1,1,2.7386127875258306,0\" style=\"fill: none; stroke: #f58518; stroke-width: 2; opacity: 0.7;\"></path><path transform=\"translate(108.57142857142857,115.38461538461537)\" d=\"M2.7386127875258306,0A2.7386127875258306,2.7386127875258306,0,1,1,-2.7386127875258306,0A2.7386127875258306,2.7386127875258306,0,1,1,2.7386127875258306,0\" style=\"fill: none; stroke: #f58518; stroke-width: 2; opacity: 0.7;\"></path><path transform=\"translate(105.71428571428572,123.07692307692308)\" d=\"M2.7386127875258306,0A2.7386127875258306,2.7386127875258306,0,1,1,-2.7386127875258306,0A2.7386127875258306,2.7386127875258306,0,1,1,2.7386127875258306,0\" style=\"fill: none; stroke: #f58518; stroke-width: 2; opacity: 0.7;\"></path><path transform=\"translate(111.42857142857143,107.69230769230771)\" d=\"M2.7386127875258306,0A2.7386127875258306,2.7386127875258306,0,1,1,-2.7386127875258306,0A2.7386127875258306,2.7386127875258306,0,1,1,2.7386127875258306,0\" style=\"fill: none; stroke: #f58518; stroke-width: 2; opacity: 0.7;\"></path><path transform=\"translate(145.7142857142857,76.92307692307692)\" d=\"M2.7386127875258306,0A2.7386127875258306,2.7386127875258306,0,1,1,-2.7386127875258306,0A2.7386127875258306,2.7386127875258306,0,1,1,2.7386127875258306,0\" style=\"fill: none; stroke: #f58518; stroke-width: 2; opacity: 0.7;\"></path><path transform=\"translate(128.57142857142858,84.61538461538463)\" d=\"M2.7386127875258306,0A2.7386127875258306,2.7386127875258306,0,1,1,-2.7386127875258306,0A2.7386127875258306,2.7386127875258306,0,1,1,2.7386127875258306,0\" style=\"fill: none; stroke: #f58518; stroke-width: 2; opacity: 0.7;\"></path><path transform=\"translate(128.57142857142858,76.92307692307692)\" d=\"M2.7386127875258306,0A2.7386127875258306,2.7386127875258306,0,1,1,-2.7386127875258306,0A2.7386127875258306,2.7386127875258306,0,1,1,2.7386127875258306,0\" style=\"fill: none; stroke: #f58518; stroke-width: 2; opacity: 0.7;\"></path><path transform=\"translate(134.2857142857143,84.61538461538463)\" d=\"M2.7386127875258306,0A2.7386127875258306,2.7386127875258306,0,1,1,-2.7386127875258306,0A2.7386127875258306,2.7386127875258306,0,1,1,2.7386127875258306,0\" style=\"fill: none; stroke: #f58518; stroke-width: 2; opacity: 0.7;\"></path><path transform=\"translate(125.71428571428574,100)\" d=\"M2.7386127875258306,0A2.7386127875258306,2.7386127875258306,0,1,1,-2.7386127875258306,0A2.7386127875258306,2.7386127875258306,0,1,1,2.7386127875258306,0\" style=\"fill: none; stroke: #f58518; stroke-width: 2; opacity: 0.7;\"></path><path transform=\"translate(117.14285714285712,100)\" d=\"M2.7386127875258306,0A2.7386127875258306,2.7386127875258306,0,1,1,-2.7386127875258306,0A2.7386127875258306,2.7386127875258306,0,1,1,2.7386127875258306,0\" style=\"fill: none; stroke: #f58518; stroke-width: 2; opacity: 0.7;\"></path><path transform=\"translate(114.28571428571428,100)\" d=\"M2.7386127875258306,0A2.7386127875258306,2.7386127875258306,0,1,1,-2.7386127875258306,0A2.7386127875258306,2.7386127875258306,0,1,1,2.7386127875258306,0\" style=\"fill: none; stroke: #f58518; stroke-width: 2; opacity: 0.7;\"></path><path transform=\"translate(125.71428571428574,107.69230769230771)\" d=\"M2.7386127875258306,0A2.7386127875258306,2.7386127875258306,0,1,1,-2.7386127875258306,0A2.7386127875258306,2.7386127875258306,0,1,1,2.7386127875258306,0\" style=\"fill: none; stroke: #f58518; stroke-width: 2; opacity: 0.7;\"></path><path transform=\"translate(131.42857142857142,92.3076923076923)\" d=\"M2.7386127875258306,0A2.7386127875258306,2.7386127875258306,0,1,1,-2.7386127875258306,0A2.7386127875258306,2.7386127875258306,0,1,1,2.7386127875258306,0\" style=\"fill: none; stroke: #f58518; stroke-width: 2; opacity: 0.7;\"></path><path transform=\"translate(114.28571428571428,107.69230769230771)\" d=\"M2.7386127875258306,0A2.7386127875258306,2.7386127875258306,0,1,1,-2.7386127875258306,0A2.7386127875258306,2.7386127875258306,0,1,1,2.7386127875258306,0\" style=\"fill: none; stroke: #f58518; stroke-width: 2; opacity: 0.7;\"></path><path transform=\"translate(94.28571428571428,123.07692307692308)\" d=\"M2.7386127875258306,0A2.7386127875258306,2.7386127875258306,0,1,1,-2.7386127875258306,0A2.7386127875258306,2.7386127875258306,0,1,1,2.7386127875258306,0\" style=\"fill: none; stroke: #f58518; stroke-width: 2; opacity: 0.7;\"></path><path transform=\"translate(120,100)\" d=\"M2.7386127875258306,0A2.7386127875258306,2.7386127875258306,0,1,1,-2.7386127875258306,0A2.7386127875258306,2.7386127875258306,0,1,1,2.7386127875258306,0\" style=\"fill: none; stroke: #f58518; stroke-width: 2; opacity: 0.7;\"></path><path transform=\"translate(120,107.69230769230771)\" d=\"M2.7386127875258306,0A2.7386127875258306,2.7386127875258306,0,1,1,-2.7386127875258306,0A2.7386127875258306,2.7386127875258306,0,1,1,2.7386127875258306,0\" style=\"fill: none; stroke: #f58518; stroke-width: 2; opacity: 0.7;\"></path><path transform=\"translate(120,100)\" d=\"M2.7386127875258306,0A2.7386127875258306,2.7386127875258306,0,1,1,-2.7386127875258306,0A2.7386127875258306,2.7386127875258306,0,1,1,2.7386127875258306,0\" style=\"fill: none; stroke: #f58518; stroke-width: 2; opacity: 0.7;\"></path><path transform=\"translate(122.85714285714285,100)\" d=\"M2.7386127875258306,0A2.7386127875258306,2.7386127875258306,0,1,1,-2.7386127875258306,0A2.7386127875258306,2.7386127875258306,0,1,1,2.7386127875258306,0\" style=\"fill: none; stroke: #f58518; stroke-width: 2; opacity: 0.7;\"></path><path transform=\"translate(85.71428571428571,115.38461538461537)\" d=\"M2.7386127875258306,0A2.7386127875258306,2.7386127875258306,0,1,1,-2.7386127875258306,0A2.7386127875258306,2.7386127875258306,0,1,1,2.7386127875258306,0\" style=\"fill: none; stroke: #f58518; stroke-width: 2; opacity: 0.7;\"></path><path transform=\"translate(117.14285714285712,100)\" d=\"M2.7386127875258306,0A2.7386127875258306,2.7386127875258306,0,1,1,-2.7386127875258306,0A2.7386127875258306,2.7386127875258306,0,1,1,2.7386127875258306,0\" style=\"fill: none; stroke: #f58518; stroke-width: 2; opacity: 0.7;\"></path><path transform=\"translate(171.42857142857142,7.692307692307709)\" d=\"M2.7386127875258306,0A2.7386127875258306,2.7386127875258306,0,1,1,-2.7386127875258306,0A2.7386127875258306,2.7386127875258306,0,1,1,2.7386127875258306,0\" style=\"fill: none; stroke: #e45756; stroke-width: 2; opacity: 0.7;\"></path><path transform=\"translate(145.7142857142857,53.846153846153854)\" d=\"M2.7386127875258306,0A2.7386127875258306,2.7386127875258306,0,1,1,-2.7386127875258306,0A2.7386127875258306,2.7386127875258306,0,1,1,2.7386127875258306,0\" style=\"fill: none; stroke: #e45756; stroke-width: 2; opacity: 0.7;\"></path><path transform=\"translate(168.57142857142858,38.46153846153846)\" d=\"M2.7386127875258306,0A2.7386127875258306,2.7386127875258306,0,1,1,-2.7386127875258306,0A2.7386127875258306,2.7386127875258306,0,1,1,2.7386127875258306,0\" style=\"fill: none; stroke: #e45756; stroke-width: 2; opacity: 0.7;\"></path><path transform=\"translate(160,61.53846153846154)\" d=\"M2.7386127875258306,0A2.7386127875258306,2.7386127875258306,0,1,1,-2.7386127875258306,0A2.7386127875258306,2.7386127875258306,0,1,1,2.7386127875258306,0\" style=\"fill: none; stroke: #e45756; stroke-width: 2; opacity: 0.7;\"></path><path transform=\"translate(165.7142857142857,30.76923076923077)\" d=\"M2.7386127875258306,0A2.7386127875258306,2.7386127875258306,0,1,1,-2.7386127875258306,0A2.7386127875258306,2.7386127875258306,0,1,1,2.7386127875258306,0\" style=\"fill: none; stroke: #e45756; stroke-width: 2; opacity: 0.7;\"></path><path transform=\"translate(188.57142857142856,38.46153846153846)\" d=\"M2.7386127875258306,0A2.7386127875258306,2.7386127875258306,0,1,1,-2.7386127875258306,0A2.7386127875258306,2.7386127875258306,0,1,1,2.7386127875258306,0\" style=\"fill: none; stroke: #e45756; stroke-width: 2; opacity: 0.7;\"></path><path transform=\"translate(128.57142857142858,69.23076923076923)\" d=\"M2.7386127875258306,0A2.7386127875258306,2.7386127875258306,0,1,1,-2.7386127875258306,0A2.7386127875258306,2.7386127875258306,0,1,1,2.7386127875258306,0\" style=\"fill: none; stroke: #e45756; stroke-width: 2; opacity: 0.7;\"></path><path transform=\"translate(180,61.53846153846154)\" d=\"M2.7386127875258306,0A2.7386127875258306,2.7386127875258306,0,1,1,-2.7386127875258306,0A2.7386127875258306,2.7386127875258306,0,1,1,2.7386127875258306,0\" style=\"fill: none; stroke: #e45756; stroke-width: 2; opacity: 0.7;\"></path><path transform=\"translate(165.7142857142857,61.53846153846154)\" d=\"M2.7386127875258306,0A2.7386127875258306,2.7386127875258306,0,1,1,-2.7386127875258306,0A2.7386127875258306,2.7386127875258306,0,1,1,2.7386127875258306,0\" style=\"fill: none; stroke: #e45756; stroke-width: 2; opacity: 0.7;\"></path><path transform=\"translate(174.28571428571428,7.692307692307709)\" d=\"M2.7386127875258306,0A2.7386127875258306,2.7386127875258306,0,1,1,-2.7386127875258306,0A2.7386127875258306,2.7386127875258306,0,1,1,2.7386127875258306,0\" style=\"fill: none; stroke: #e45756; stroke-width: 2; opacity: 0.7;\"></path><path transform=\"translate(145.7142857142857,46.15384615384617)\" d=\"M2.7386127875258306,0A2.7386127875258306,2.7386127875258306,0,1,1,-2.7386127875258306,0A2.7386127875258306,2.7386127875258306,0,1,1,2.7386127875258306,0\" style=\"fill: none; stroke: #e45756; stroke-width: 2; opacity: 0.7;\"></path><path transform=\"translate(151.42857142857142,53.846153846153854)\" d=\"M2.7386127875258306,0A2.7386127875258306,2.7386127875258306,0,1,1,-2.7386127875258306,0A2.7386127875258306,2.7386127875258306,0,1,1,2.7386127875258306,0\" style=\"fill: none; stroke: #e45756; stroke-width: 2; opacity: 0.7;\"></path><path transform=\"translate(157.14285714285714,38.46153846153846)\" d=\"M2.7386127875258306,0A2.7386127875258306,2.7386127875258306,0,1,1,-2.7386127875258306,0A2.7386127875258306,2.7386127875258306,0,1,1,2.7386127875258306,0\" style=\"fill: none; stroke: #e45756; stroke-width: 2; opacity: 0.7;\"></path><path transform=\"translate(142.85714285714286,46.15384615384617)\" d=\"M2.7386127875258306,0A2.7386127875258306,2.7386127875258306,0,1,1,-2.7386127875258306,0A2.7386127875258306,2.7386127875258306,0,1,1,2.7386127875258306,0\" style=\"fill: none; stroke: #e45756; stroke-width: 2; opacity: 0.7;\"></path><path transform=\"translate(145.7142857142857,15.384615384615397)\" d=\"M2.7386127875258306,0A2.7386127875258306,2.7386127875258306,0,1,1,-2.7386127875258306,0A2.7386127875258306,2.7386127875258306,0,1,1,2.7386127875258306,0\" style=\"fill: none; stroke: #e45756; stroke-width: 2; opacity: 0.7;\"></path><path transform=\"translate(151.42857142857142,23.076923076923105)\" d=\"M2.7386127875258306,0A2.7386127875258306,2.7386127875258306,0,1,1,-2.7386127875258306,0A2.7386127875258306,2.7386127875258306,0,1,1,2.7386127875258306,0\" style=\"fill: none; stroke: #e45756; stroke-width: 2; opacity: 0.7;\"></path><path transform=\"translate(157.14285714285714,61.53846153846154)\" d=\"M2.7386127875258306,0A2.7386127875258306,2.7386127875258306,0,1,1,-2.7386127875258306,0A2.7386127875258306,2.7386127875258306,0,1,1,2.7386127875258306,0\" style=\"fill: none; stroke: #e45756; stroke-width: 2; opacity: 0.7;\"></path><path transform=\"translate(191.42857142857144,30.76923076923077)\" d=\"M2.7386127875258306,0A2.7386127875258306,2.7386127875258306,0,1,1,-2.7386127875258306,0A2.7386127875258306,2.7386127875258306,0,1,1,2.7386127875258306,0\" style=\"fill: none; stroke: #e45756; stroke-width: 2; opacity: 0.7;\"></path><path transform=\"translate(197.14285714285717,23.076923076923105)\" d=\"M2.7386127875258306,0A2.7386127875258306,2.7386127875258306,0,1,1,-2.7386127875258306,0A2.7386127875258306,2.7386127875258306,0,1,1,2.7386127875258306,0\" style=\"fill: none; stroke: #e45756; stroke-width: 2; opacity: 0.7;\"></path><path transform=\"translate(142.85714285714286,84.61538461538463)\" d=\"M2.7386127875258306,0A2.7386127875258306,2.7386127875258306,0,1,1,-2.7386127875258306,0A2.7386127875258306,2.7386127875258306,0,1,1,2.7386127875258306,0\" style=\"fill: none; stroke: #e45756; stroke-width: 2; opacity: 0.7;\"></path><path transform=\"translate(162.85714285714286,23.076923076923105)\" d=\"M2.7386127875258306,0A2.7386127875258306,2.7386127875258306,0,1,1,-2.7386127875258306,0A2.7386127875258306,2.7386127875258306,0,1,1,2.7386127875258306,0\" style=\"fill: none; stroke: #e45756; stroke-width: 2; opacity: 0.7;\"></path><path transform=\"translate(140,46.15384615384617)\" d=\"M2.7386127875258306,0A2.7386127875258306,2.7386127875258306,0,1,1,-2.7386127875258306,0A2.7386127875258306,2.7386127875258306,0,1,1,2.7386127875258306,0\" style=\"fill: none; stroke: #e45756; stroke-width: 2; opacity: 0.7;\"></path><path transform=\"translate(191.42857142857144,46.15384615384617)\" d=\"M2.7386127875258306,0A2.7386127875258306,2.7386127875258306,0,1,1,-2.7386127875258306,0A2.7386127875258306,2.7386127875258306,0,1,1,2.7386127875258306,0\" style=\"fill: none; stroke: #e45756; stroke-width: 2; opacity: 0.7;\"></path><path transform=\"translate(140,61.53846153846154)\" d=\"M2.7386127875258306,0A2.7386127875258306,2.7386127875258306,0,1,1,-2.7386127875258306,0A2.7386127875258306,2.7386127875258306,0,1,1,2.7386127875258306,0\" style=\"fill: none; stroke: #e45756; stroke-width: 2; opacity: 0.7;\"></path><path transform=\"translate(162.85714285714286,38.46153846153846)\" d=\"M2.7386127875258306,0A2.7386127875258306,2.7386127875258306,0,1,1,-2.7386127875258306,0A2.7386127875258306,2.7386127875258306,0,1,1,2.7386127875258306,0\" style=\"fill: none; stroke: #e45756; stroke-width: 2; opacity: 0.7;\"></path><path transform=\"translate(171.42857142857142,61.53846153846154)\" d=\"M2.7386127875258306,0A2.7386127875258306,2.7386127875258306,0,1,1,-2.7386127875258306,0A2.7386127875258306,2.7386127875258306,0,1,1,2.7386127875258306,0\" style=\"fill: none; stroke: #e45756; stroke-width: 2; opacity: 0.7;\"></path><path transform=\"translate(137.14285714285714,61.53846153846154)\" d=\"M2.7386127875258306,0A2.7386127875258306,2.7386127875258306,0,1,1,-2.7386127875258306,0A2.7386127875258306,2.7386127875258306,0,1,1,2.7386127875258306,0\" style=\"fill: none; stroke: #e45756; stroke-width: 2; opacity: 0.7;\"></path><path transform=\"translate(140,61.53846153846154)\" d=\"M2.7386127875258306,0A2.7386127875258306,2.7386127875258306,0,1,1,-2.7386127875258306,0A2.7386127875258306,2.7386127875258306,0,1,1,2.7386127875258306,0\" style=\"fill: none; stroke: #e45756; stroke-width: 2; opacity: 0.7;\"></path><path transform=\"translate(160,38.46153846153846)\" d=\"M2.7386127875258306,0A2.7386127875258306,2.7386127875258306,0,1,1,-2.7386127875258306,0A2.7386127875258306,2.7386127875258306,0,1,1,2.7386127875258306,0\" style=\"fill: none; stroke: #e45756; stroke-width: 2; opacity: 0.7;\"></path><path transform=\"translate(165.7142857142857,76.92307692307692)\" d=\"M2.7386127875258306,0A2.7386127875258306,2.7386127875258306,0,1,1,-2.7386127875258306,0A2.7386127875258306,2.7386127875258306,0,1,1,2.7386127875258306,0\" style=\"fill: none; stroke: #e45756; stroke-width: 2; opacity: 0.7;\"></path><path transform=\"translate(174.28571428571428,53.846153846153854)\" d=\"M2.7386127875258306,0A2.7386127875258306,2.7386127875258306,0,1,1,-2.7386127875258306,0A2.7386127875258306,2.7386127875258306,0,1,1,2.7386127875258306,0\" style=\"fill: none; stroke: #e45756; stroke-width: 2; opacity: 0.7;\"></path><path transform=\"translate(182.85714285714286,46.15384615384617)\" d=\"M2.7386127875258306,0A2.7386127875258306,2.7386127875258306,0,1,1,-2.7386127875258306,0A2.7386127875258306,2.7386127875258306,0,1,1,2.7386127875258306,0\" style=\"fill: none; stroke: #e45756; stroke-width: 2; opacity: 0.7;\"></path><path transform=\"translate(160,30.76923076923077)\" d=\"M2.7386127875258306,0A2.7386127875258306,2.7386127875258306,0,1,1,-2.7386127875258306,0A2.7386127875258306,2.7386127875258306,0,1,1,2.7386127875258306,0\" style=\"fill: none; stroke: #e45756; stroke-width: 2; opacity: 0.7;\"></path><path transform=\"translate(145.7142857142857,84.61538461538463)\" d=\"M2.7386127875258306,0A2.7386127875258306,2.7386127875258306,0,1,1,-2.7386127875258306,0A2.7386127875258306,2.7386127875258306,0,1,1,2.7386127875258306,0\" style=\"fill: none; stroke: #e45756; stroke-width: 2; opacity: 0.7;\"></path><path transform=\"translate(160,92.3076923076923)\" d=\"M2.7386127875258306,0A2.7386127875258306,2.7386127875258306,0,1,1,-2.7386127875258306,0A2.7386127875258306,2.7386127875258306,0,1,1,2.7386127875258306,0\" style=\"fill: none; stroke: #e45756; stroke-width: 2; opacity: 0.7;\"></path><path transform=\"translate(174.28571428571428,23.076923076923105)\" d=\"M2.7386127875258306,0A2.7386127875258306,2.7386127875258306,0,1,1,-2.7386127875258306,0A2.7386127875258306,2.7386127875258306,0,1,1,2.7386127875258306,0\" style=\"fill: none; stroke: #e45756; stroke-width: 2; opacity: 0.7;\"></path><path transform=\"translate(160,15.384615384615397)\" d=\"M2.7386127875258306,0A2.7386127875258306,2.7386127875258306,0,1,1,-2.7386127875258306,0A2.7386127875258306,2.7386127875258306,0,1,1,2.7386127875258306,0\" style=\"fill: none; stroke: #e45756; stroke-width: 2; opacity: 0.7;\"></path><path transform=\"translate(157.14285714285714,61.53846153846154)\" d=\"M2.7386127875258306,0A2.7386127875258306,2.7386127875258306,0,1,1,-2.7386127875258306,0A2.7386127875258306,2.7386127875258306,0,1,1,2.7386127875258306,0\" style=\"fill: none; stroke: #e45756; stroke-width: 2; opacity: 0.7;\"></path><path transform=\"translate(137.14285714285714,61.53846153846154)\" d=\"M2.7386127875258306,0A2.7386127875258306,2.7386127875258306,0,1,1,-2.7386127875258306,0A2.7386127875258306,2.7386127875258306,0,1,1,2.7386127875258306,0\" style=\"fill: none; stroke: #e45756; stroke-width: 2; opacity: 0.7;\"></path><path transform=\"translate(154.2857142857143,38.46153846153846)\" d=\"M2.7386127875258306,0A2.7386127875258306,2.7386127875258306,0,1,1,-2.7386127875258306,0A2.7386127875258306,2.7386127875258306,0,1,1,2.7386127875258306,0\" style=\"fill: none; stroke: #e45756; stroke-width: 2; opacity: 0.7;\"></path><path transform=\"translate(160,15.384615384615397)\" d=\"M2.7386127875258306,0A2.7386127875258306,2.7386127875258306,0,1,1,-2.7386127875258306,0A2.7386127875258306,2.7386127875258306,0,1,1,2.7386127875258306,0\" style=\"fill: none; stroke: #e45756; stroke-width: 2; opacity: 0.7;\"></path><path transform=\"translate(145.7142857142857,23.076923076923105)\" d=\"M2.7386127875258306,0A2.7386127875258306,2.7386127875258306,0,1,1,-2.7386127875258306,0A2.7386127875258306,2.7386127875258306,0,1,1,2.7386127875258306,0\" style=\"fill: none; stroke: #e45756; stroke-width: 2; opacity: 0.7;\"></path><path transform=\"translate(145.7142857142857,53.846153846153854)\" d=\"M2.7386127875258306,0A2.7386127875258306,2.7386127875258306,0,1,1,-2.7386127875258306,0A2.7386127875258306,2.7386127875258306,0,1,1,2.7386127875258306,0\" style=\"fill: none; stroke: #e45756; stroke-width: 2; opacity: 0.7;\"></path><path transform=\"translate(168.57142857142858,23.076923076923105)\" d=\"M2.7386127875258306,0A2.7386127875258306,2.7386127875258306,0,1,1,-2.7386127875258306,0A2.7386127875258306,2.7386127875258306,0,1,1,2.7386127875258306,0\" style=\"fill: none; stroke: #e45756; stroke-width: 2; opacity: 0.7;\"></path><path transform=\"translate(162.85714285714286,7.692307692307709)\" d=\"M2.7386127875258306,0A2.7386127875258306,2.7386127875258306,0,1,1,-2.7386127875258306,0A2.7386127875258306,2.7386127875258306,0,1,1,2.7386127875258306,0\" style=\"fill: none; stroke: #e45756; stroke-width: 2; opacity: 0.7;\"></path><path transform=\"translate(148.57142857142858,23.076923076923105)\" d=\"M2.7386127875258306,0A2.7386127875258306,2.7386127875258306,0,1,1,-2.7386127875258306,0A2.7386127875258306,2.7386127875258306,0,1,1,2.7386127875258306,0\" style=\"fill: none; stroke: #e45756; stroke-width: 2; opacity: 0.7;\"></path><path transform=\"translate(142.85714285714286,53.846153846153854)\" d=\"M2.7386127875258306,0A2.7386127875258306,2.7386127875258306,0,1,1,-2.7386127875258306,0A2.7386127875258306,2.7386127875258306,0,1,1,2.7386127875258306,0\" style=\"fill: none; stroke: #e45756; stroke-width: 2; opacity: 0.7;\"></path><path transform=\"translate(148.57142857142858,46.15384615384617)\" d=\"M2.7386127875258306,0A2.7386127875258306,2.7386127875258306,0,1,1,-2.7386127875258306,0A2.7386127875258306,2.7386127875258306,0,1,1,2.7386127875258306,0\" style=\"fill: none; stroke: #e45756; stroke-width: 2; opacity: 0.7;\"></path><path transform=\"translate(154.2857142857143,23.076923076923105)\" d=\"M2.7386127875258306,0A2.7386127875258306,2.7386127875258306,0,1,1,-2.7386127875258306,0A2.7386127875258306,2.7386127875258306,0,1,1,2.7386127875258306,0\" style=\"fill: none; stroke: #e45756; stroke-width: 2; opacity: 0.7;\"></path><path transform=\"translate(145.7142857142857,61.53846153846154)\" d=\"M2.7386127875258306,0A2.7386127875258306,2.7386127875258306,0,1,1,-2.7386127875258306,0A2.7386127875258306,2.7386127875258306,0,1,1,2.7386127875258306,0\" style=\"fill: none; stroke: #e45756; stroke-width: 2; opacity: 0.7;\"></path></g><g class=\"mark-group role-legend\"><g transform=\"translate(218,0)\"><path class=\"background\" d=\"M0,0h59v61h-59Z\" style=\"pointer-events: none; fill: none;\"></path><g><g class=\"mark-group role-legend-entry\"><g transform=\"translate(0,16)\"><path class=\"background\" d=\"M0,0h0v0h0Z\" style=\"pointer-events: none; fill: none;\"></path><g><g class=\"mark-group role-scope\"><g transform=\"translate(0,0)\"><path class=\"background\" d=\"M0,0h59v12.5h-59Z\" style=\"pointer-events: none; fill: none; opacity: 1;\"></path><g><g class=\"mark-symbol role-legend-symbol\" style=\"pointer-events: none;\"><path transform=\"translate(6,6)\" d=\"M5,0A5,5,0,1,1,-5,0A5,5,0,1,1,5,0\" style=\"fill: none; stroke: #4c78a8; stroke-width: 1.5; opacity: 0.7;\"></path></g><g class=\"mark-text role-legend-label\" style=\"pointer-events: none;\"><text text-anchor=\"start\" transform=\"translate(16,9)\" style=\"font-family: sans-serif; font-size: 10px; fill: #000; opacity: 1;\">setosa</text></g></g><path class=\"foreground\" d=\"\" style=\"pointer-events: none; display: none; fill: none;\"></path></g><g transform=\"translate(0,16)\"><path class=\"background\" d=\"M0,0h59v12.5h-59Z\" style=\"pointer-events: none; fill: none; opacity: 1;\"></path><g><g class=\"mark-symbol role-legend-symbol\" style=\"pointer-events: none;\"><path transform=\"translate(6,6)\" d=\"M5,0A5,5,0,1,1,-5,0A5,5,0,1,1,5,0\" style=\"fill: none; stroke: #f58518; stroke-width: 1.5; opacity: 0.7;\"></path></g><g class=\"mark-text role-legend-label\" style=\"pointer-events: none;\"><text text-anchor=\"start\" transform=\"translate(16,9)\" style=\"font-family: sans-serif; font-size: 10px; fill: #000; opacity: 1;\">versicolor</text></g></g><path class=\"foreground\" d=\"\" style=\"pointer-events: none; display: none; fill: none;\"></path></g><g transform=\"translate(0,32)\"><path class=\"background\" d=\"M0,0h59v12.5h-59Z\" style=\"pointer-events: none; fill: none; opacity: 1;\"></path><g><g class=\"mark-symbol role-legend-symbol\" style=\"pointer-events: none;\"><path transform=\"translate(6,6)\" d=\"M5,0A5,5,0,1,1,-5,0A5,5,0,1,1,5,0\" style=\"fill: none; stroke: #e45756; stroke-width: 1.5; opacity: 0.7;\"></path></g><g class=\"mark-text role-legend-label\" style=\"pointer-events: none;\"><text text-anchor=\"start\" transform=\"translate(16,9)\" style=\"font-family: sans-serif; font-size: 10px; fill: #000; opacity: 1;\">virginica</text></g></g><path class=\"foreground\" d=\"\" style=\"pointer-events: none; display: none; fill: none;\"></path></g></g></g><path class=\"foreground\" d=\"\" style=\"pointer-events: none; display: none; fill: none;\"></path></g></g><g class=\"mark-text role-legend-title\" style=\"pointer-events: none;\"><text text-anchor=\"start\" transform=\"translate(0,9)\" style=\"font-family: sans-serif; font-size: 11px; font-weight: bold; fill: #000; opacity: 1;\">Species</text></g></g><path class=\"foreground\" d=\"\" style=\"pointer-events: none; display: none; fill: none;\"></path></g></g></g><path class=\"foreground\" d=\"\" style=\"display: none; fill: none;\"></path></g></g></g></svg>\n"
      ],
      "text/plain": [
       "@vlplot(\n",
       "    mark=\"point\",\n",
       "    encoding={\n",
       "        x={\n",
       "            field=\"PetalLength\"\n",
       "        },\n",
       "        y={\n",
       "            field=\"PetalWidth\"\n",
       "        },\n",
       "        color={\n",
       "            field=\"Species\"\n",
       "        }\n",
       "    },\n",
       "    data={\n",
       "        values=...\n",
       "    }\n",
       ")"
      ]
     },
     "execution_count": 23,
     "metadata": {},
     "output_type": "execute_result"
    }
   ],
   "source": [
    "using RDatasets, VegaLite\n",
    "iris = dataset(\"datasets\", \"iris\")\n",
    "\n",
    "iris |> @vlplot(\n",
    "    :point,\n",
    "    x=:PetalLength,\n",
    "    y=:PetalWidth,\n",
    "    color=:Species\n",
    ")"
   ]
  },
  {
   "cell_type": "code",
   "execution_count": 24,
   "metadata": {},
   "outputs": [
    {
     "data": {
      "text/plain": [
       "StatsModels.TableRegressionModel{LinearModel{GLM.LmResp{Array{Float64,1}},GLM.DensePredChol{Float64,LinearAlgebra.Cholesky{Float64,Array{Float64,2}}}},Array{Float64,2}}\n",
       "\n",
       "y ~ 1 + x\n",
       "\n",
       "Coefficients:\n",
       "──────────────────────────────────────────────────────────────────────────\n",
       "             Estimate  Std. Error  t value  Pr(>|t|)  Lower 95%  Upper 95%\n",
       "──────────────────────────────────────────────────────────────────────────\n",
       "(Intercept)  0.256986   0.0149723  17.1641    <1e-30   0.227274   0.286698\n",
       "x            0.891689   0.0152882  58.3254    <1e-77   0.861351   0.922028\n",
       "──────────────────────────────────────────────────────────────────────────"
      ]
     },
     "execution_count": 24,
     "metadata": {},
     "output_type": "execute_result"
    }
   ],
   "source": [
    "using GLM\n",
    "\n",
    "x = randn(100)\n",
    "y = 0.9 .* x + 0.5 * rand(100)\n",
    "df = DataFrame(x=x, y=y)\n",
    "ols = lm(@formula(y ~ x), df) # R-style notation"
   ]
  },
  {
   "cell_type": "code",
   "execution_count": 25,
   "metadata": {},
   "outputs": [
    {
     "name": "stderr",
     "output_type": "stream",
     "text": [
      "┌ Info: Precompiling RegressionTables [d519eb52-b820-54da-95a6-98e1306fdade]\n",
      "└ @ Base loading.jl:1260\n"
     ]
    },
    {
     "name": "stdout",
     "output_type": "stream",
     "text": [
      "\n",
      "----------------------\n",
      "                  y   \n",
      "              --------\n",
      "                   (1)\n",
      "----------------------\n",
      "(Intercept)   0.257***\n",
      "               (0.015)\n",
      "x             0.892***\n",
      "               (0.015)\n",
      "----------------------\n",
      "Estimator          OLS\n",
      "----------------------\n",
      "N                  100\n",
      "R2               0.972\n",
      "----------------------\n",
      "\n",
      "\n"
     ]
    }
   ],
   "source": [
    "using RegressionTables\n",
    "regtable(ols)\n",
    "# regtable(ols,  renderSettings = latexOutput()) # for LaTex output"
   ]
  },
  {
   "cell_type": "code",
   "execution_count": 26,
   "metadata": {},
   "outputs": [
    {
     "name": "stdout",
     "output_type": "stream",
     "text": [
      "\n",
      "----------------------------\n",
      "                     Sales  \n",
      "                   ---------\n",
      "                         (1)\n",
      "----------------------------\n",
      "NDI                -0.005***\n",
      "                     (0.001)\n",
      "----------------------------\n",
      "StateCategorical         Yes\n",
      "YearCategorical          Yes\n",
      "----------------------------\n",
      "Estimator                OLS\n",
      "----------------------------\n",
      "N                      1,380\n",
      "R2                     0.803\n",
      "----------------------------\n",
      "\n",
      "\n"
     ]
    }
   ],
   "source": [
    "using FixedEffectModels\n",
    "cigar = dataset(\"plm\", \"Cigar\")\n",
    "cigar.StateCategorical =  categorical(cigar.State)\n",
    "cigar.YearCategorical =  categorical(cigar.Year)\n",
    "fixedeffectresults = reg(cigar, @formula(Sales ~ NDI + fe(StateCategorical) + fe(YearCategorical)),\n",
    "                            weights = :Pop, Vcov.cluster(:State))\n",
    "regtable(fixedeffectresults)"
   ]
  },
  {
   "cell_type": "code",
   "execution_count": 30,
   "metadata": {},
   "outputs": [
    {
     "data": {
      "text/plain": [
       "exp (generic function with 20 methods)"
      ]
     },
     "execution_count": 30,
     "metadata": {},
     "output_type": "execute_result"
    }
   ],
   "source": [
    "# Exercise 1\n",
    "\n",
    "struct DualNumber{T} <: Real\n",
    "    val::T\n",
    "    ϵ::T\n",
    "end\n",
    "\n",
    "import Base: +, *, -, ^, exp\n",
    "+(x::DualNumber, y::DualNumber) = DualNumber(x.val + y.val, x.ϵ + y.ϵ)  # dual addition\n",
    "+(x::DualNumber, a::Number) = DualNumber(x.val + a, x.ϵ)  # i.e. scalar addition, not dual\n",
    "+(a::Number, x::DualNumber) = DualNumber(x.val + a, x.ϵ)  # i.e. scalar addition, not dual\n",
    "*(x::DualNumber, y::DualNumber) = DualNumber(x.val * y.val, x.ϵ * y + x * y.ϵ)  \n",
    "*(x::DualNumber, a::Number) = DualNumber(x.val *  a, a * x.ϵ)  \n",
    "*(a::Number, x::DualNumber) = DualNumber(x.val * a, a * x.ϵ)  \n",
    "-(x::DualNumber, y::DualNumber) = DualNumber(x.val - y.val, x.ϵ - y.ϵ)  \n",
    "-(x::DualNumber, a::Number) = DualNumber(x.val - a, x.ϵ)  \n",
    "-(a::Number, x::DualNumber) = DualNumber(x.val - a, x.ϵ)  \n",
    "^(x::DualNumber, a::Number) = DualNumber(x.val^a, a*(x.val)^(a-1)*x.ϵ)  \n",
    "exp(x::DualNumber) =  DualNumber(exp(x.val), exp(x.val)*x.ϵ)\n",
    "exp(x::DualNumber, a::Number ) =  DualNumber(exp(a*x.val), a*exp(x.val)*x.ϵ)"
   ]
  },
  {
   "cell_type": "code",
   "execution_count": 31,
   "metadata": {},
   "outputs": [
    {
     "data": {
      "text/plain": [
       "DualNumber{Float64}(54.598150033144236, 109.19630006628847)"
      ]
     },
     "execution_count": 31,
     "metadata": {},
     "output_type": "execute_result"
    }
   ],
   "source": [
    "f(x) = exp(2.0 * x)\n",
    "\n",
    "x = DualNumber(2.0, 1.0)\n",
    "\n",
    "f(x)"
   ]
  },
  {
   "cell_type": "code",
   "execution_count": 32,
   "metadata": {},
   "outputs": [
    {
     "data": {
      "text/plain": [
       "54.598150033144236"
      ]
     },
     "execution_count": 32,
     "metadata": {},
     "output_type": "execute_result"
    }
   ],
   "source": []
  }
 ],
 "metadata": {
  "kernelspec": {
   "display_name": "Julia 1.4.1",
   "language": "julia",
   "name": "julia-1.4"
  },
  "language_info": {
   "file_extension": ".jl",
   "mimetype": "application/julia",
   "name": "julia",
   "version": "1.4.1"
  }
 },
 "nbformat": 4,
 "nbformat_minor": 4
}
