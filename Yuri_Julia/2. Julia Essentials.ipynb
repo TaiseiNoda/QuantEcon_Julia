{
 "cells": [
  {
   "cell_type": "code",
   "execution_count": 4,
   "metadata": {},
   "outputs": [
    {
     "name": "stdout",
     "output_type": "stream",
     "text": [
      "\u001b[32m\u001b[1mActivated\u001b[0m /Users/yurimatsumura/Project.toml\u001b[39m\n",
      "\u001b[36m\u001b[1mInfo\u001b[0m Project name is quantecon-notebooks-julia, version is 0.5.0\u001b[39m\n"
     ]
    },
    {
     "data": {
      "text/plain": [
       "\"foobar\""
      ]
     },
     "execution_count": 4,
     "metadata": {},
     "output_type": "execute_result"
    }
   ],
   "source": [
    "using InstantiateFromURL\n",
    "github_project(\"QuantEcon/quantecon-notebooks-julia\", version = \"0.5.0\")\n",
    "# uncomment to force package installation\n",
    "# github_project(\"QuantEcon/quantecon-notebooks-julia\", version=\"0.5.0\", instantiate=true)\n",
    "\n",
    "\n",
    "using LinearAlgebra, Statistics\n",
    "\n",
    "\"foo\" * \"bar\""
   ]
  },
  {
   "cell_type": "code",
   "execution_count": 6,
   "metadata": {},
   "outputs": [
    {
     "data": {
      "text/plain": [
       "3-element Array{SubString{String},1}:\n",
       " \"Hello\"\n",
       " \"the\"\n",
       " \"World\""
      ]
     },
     "execution_count": 6,
     "metadata": {},
     "output_type": "execute_result"
    }
   ],
   "source": [
    "s = \"Hello the World\"\n",
    "split(s)"
   ]
  },
  {
   "cell_type": "code",
   "execution_count": 8,
   "metadata": {},
   "outputs": [
    {
     "data": {
      "text/plain": [
       "\"Goodbay the World\""
      ]
     },
     "execution_count": 8,
     "metadata": {},
     "output_type": "execute_result"
    }
   ],
   "source": [
    "replace(s, \"Hello\" => \"Goodbay\")"
   ]
  },
  {
   "cell_type": "code",
   "execution_count": 10,
   "metadata": {},
   "outputs": [
    {
     "name": "stdout",
     "output_type": "stream",
     "text": [
      "Taisei doesn't surf.\n",
      "Taisei doesn't ski.\n"
     ]
    }
   ],
   "source": [
    "actions = [\"surf\" , \"ski\"]\n",
    "for action in actions\n",
    "    println(\"Taisei doesn't $action.\")\n",
    "end"
   ]
  },
  {
   "cell_type": "code",
   "execution_count": 18,
   "metadata": {},
   "outputs": [
    {
     "data": {
      "text/plain": [
       "Base.ValueIterator for a Dict{String,Any} with 2 entries. Values:\n",
       "  \"Frodo\"\n",
       "  33"
      ]
     },
     "execution_count": 18,
     "metadata": {},
     "output_type": "execute_result"
    }
   ],
   "source": [
    "d = Dict(\"nam\" => \"Frodo\", \"age\" => 33)\n",
    "values(d)"
   ]
  },
  {
   "cell_type": "code",
   "execution_count": 22,
   "metadata": {},
   "outputs": [
    {
     "name": "stdout",
     "output_type": "stream",
     "text": [
      "[0.9092974268256817, -0.7568024953079282, -0.27941549819892586, 0.9893582466233818]"
     ]
    }
   ],
   "source": [
    "x_vec = [2.0, 4.0, 6.0, 8.0]\n",
    "y_vec = similar(x_vec)\n",
    "for (i,x) in enumerate(x_vec)\n",
    "    y_vec[i] = sin(x)\n",
    "end\n",
    "\n",
    "print(y_vec)"
   ]
  },
  {
   "cell_type": "code",
   "execution_count": 28,
   "metadata": {},
   "outputs": [
    {
     "data": {
      "text/plain": [
       "6"
      ]
     },
     "execution_count": 28,
     "metadata": {},
     "output_type": "execute_result"
    }
   ],
   "source": [
    "# Exercise 1 part 1\n",
    "\n",
    "n = 100\n",
    "\n",
    "x_vals = [1,2,3]\n",
    "y_vals = [1,1,1]\n",
    "\n",
    "\n",
    "inner_prod = sum(x * y for (x, y) in zip(x_vals, y_vals))\n",
    "\n"
   ]
  },
  {
   "cell_type": "code",
   "execution_count": 40,
   "metadata": {},
   "outputs": [
    {
     "data": {
      "text/plain": [
       "50"
      ]
     },
     "execution_count": 40,
     "metadata": {},
     "output_type": "execute_result"
    }
   ],
   "source": [
    "# Exercise 1 part 2\n",
    "\n",
    "numbers = [i for i in 0:99]\n",
    "\n",
    "\n",
    "count = sum(iseven, 0:99)"
   ]
  },
  {
   "cell_type": "code",
   "execution_count": 89,
   "metadata": {},
   "outputs": [
    {
     "data": {
      "text/plain": [
       "2"
      ]
     },
     "execution_count": 89,
     "metadata": {},
     "output_type": "execute_result"
    }
   ],
   "source": [
    "# Exercise 1 part 3\n",
    "\n",
    "pairs = ((2, 5), (4, 2), (9, 8), (12, 10))\n",
    "count = sum(iseven, [iseven.(pairs[i][1]) .* iseven.(pairs[i][2]) for i  in 1:4 ]  ) \n",
    "\n"
   ]
  },
  {
   "cell_type": "code",
   "execution_count": 141,
   "metadata": {},
   "outputs": [
    {
     "data": {
      "text/plain": [
       "5"
      ]
     },
     "execution_count": 141,
     "metadata": {},
     "output_type": "execute_result"
    }
   ],
   "source": [
    "# Exercise 2\n",
    "\n",
    "p(x,coeff) = sum( a * x^(i-1) for (i, a) in enumerate(coeff))\n",
    "\n",
    "p(2,[1,2])"
   ]
  },
  {
   "cell_type": "code",
   "execution_count": 152,
   "metadata": {},
   "outputs": [
    {
     "data": {
      "text/plain": [
       "4"
      ]
     },
     "execution_count": 152,
     "metadata": {},
     "output_type": "execute_result"
    }
   ],
   "source": [
    "# Exercise 3\n",
    "\n",
    "\n",
    "counter(x) = sum(uppercase(x)[i] == x[i] for i in 1:length(x)) # uppercase makes all letters be capital letters\n",
    "\n",
    "x = \"ClosurWithTheEmbedded\"\n",
    "counter(x)"
   ]
  },
  {
   "cell_type": "code",
   "execution_count": 1,
   "metadata": {},
   "outputs": [
    {
     "data": {
      "text/plain": [
       "true"
      ]
     },
     "execution_count": 1,
     "metadata": {},
     "output_type": "execute_result"
    }
   ],
   "source": [
    "# Exercise 4 \n",
    "\n",
    "counter(x, y) = all(x[i] == y[i] for i in 1:length(x))  # all is a function which returns true if for every elements an argument is true\n",
    "\n",
    "x = [1,2,5,6,7,83,100]\n",
    "y = [1,2,5,6,7,83,100]\n",
    "    \n",
    "counter(x,y)\n"
   ]
  },
  {
   "cell_type": "code",
   "execution_count": 2,
   "metadata": {},
   "outputs": [
    {
     "data": {
      "text/plain": [
       "linear_approximate (generic function with 1 method)"
      ]
     },
     "execution_count": 2,
     "metadata": {},
     "output_type": "execute_result"
    }
   ],
   "source": [
    "function linear_approximate(f,a,b,n,x)\n",
    "    setp = (a - b)/(n - 1)\n",
    "    point = a\n",
    "    while point ≤ x\n",
    "        point += step\n",
    "    end\n",
    "    \n",
    "    u , v = point - step, point\n",
    "    \n",
    "    return f(u) + (x - u) *(f(u) - f(v))/(u - v)\n",
    "end         \n",
    "        "
   ]
  },
  {
   "cell_type": "code",
   "execution_count": 20,
   "metadata": {},
   "outputs": [
    {
     "name": "stdout",
     "output_type": "stream",
     "text": [
      "23831986"
     ]
    }
   ],
   "source": [
    "# Exercise 6 ver.1\n",
    "\n",
    "\n",
    "open(\"us_cities.txt\", \"w\") do f\n",
    "  write(f,\n",
    "\"new york: 8244910\n",
    "los angeles: 3819702\n",
    "chicago: 2707120\n",
    "houston: 2145146\n",
    "philadelphia: 1536471\n",
    "phoenix: 1469471\n",
    "san antonio: 1359758\n",
    "san diego: 1326179\n",
    "dallas: 1223229\")\n",
    "end\n",
    "\n",
    "\n",
    "total_population = 0\n",
    "for line in  eachline(\"us_cities.txt\")\n",
    "    sentence = split(line)\n",
    "    total_population += parse(Int, sentence[end])\n",
    "end\n",
    "\n",
    "print(total_population)\n",
    "\n",
    "\n"
   ]
  },
  {
   "cell_type": "code",
   "execution_count": 22,
   "metadata": {},
   "outputs": [
    {
     "name": "stdout",
     "output_type": "stream",
     "text": [
      "23831986"
     ]
    }
   ],
   "source": [
    "# Exercise 6 ver.2\n",
    "\n",
    "\n",
    "open(\"us_cities.txt\", \"w\") do f\n",
    "  write(f,\n",
    "\"new york: 8244910\n",
    "los angeles: 3819702\n",
    "chicago: 2707120\n",
    "houston: 2145146\n",
    "philadelphia: 1536471\n",
    "phoenix: 1469471\n",
    "san antonio: 1359758\n",
    "san diego: 1326179\n",
    "dallas: 1223229\")\n",
    "end\n",
    "\n",
    "x = open(\"us_cities.txt\", \"r\")\n",
    "total_population = 0\n",
    "for line in  eachline(x)\n",
    "    city, population = split(line, \":\")\n",
    "    total_population += parse(Int, population)\n",
    "end\n",
    "\n",
    "print(total_population)\n",
    "\n",
    "\n"
   ]
  },
  {
   "cell_type": "code",
   "execution_count": 40,
   "metadata": {},
   "outputs": [
    {
     "data": {
      "image/svg+xml": [
       "<?xml version=\"1.0\" encoding=\"utf-8\"?>\n",
       "<svg xmlns=\"http://www.w3.org/2000/svg\" xmlns:xlink=\"http://www.w3.org/1999/xlink\" width=\"600\" height=\"400\" viewBox=\"0 0 2400 1600\">\n",
       "<defs>\n",
       "  <clipPath id=\"clip080\">\n",
       "    <rect x=\"0\" y=\"0\" width=\"2400\" height=\"1600\"/>\n",
       "  </clipPath>\n",
       "</defs>\n",
       "<path clip-path=\"url(#clip080)\" d=\"\n",
       "M0 1600 L2400 1600 L2400 0 L0 0  Z\n",
       "  \" fill=\"#ffffff\" fill-rule=\"evenodd\" fill-opacity=\"1\"/>\n",
       "<defs>\n",
       "  <clipPath id=\"clip081\">\n",
       "    <rect x=\"480\" y=\"0\" width=\"1681\" height=\"1600\"/>\n",
       "  </clipPath>\n",
       "</defs>\n",
       "<path clip-path=\"url(#clip080)\" d=\"\n",
       "M180.66 1487.47 L2352.76 1487.47 L2352.76 47.2441 L180.66 47.2441  Z\n",
       "  \" fill=\"#ffffff\" fill-rule=\"evenodd\" fill-opacity=\"1\"/>\n",
       "<defs>\n",
       "  <clipPath id=\"clip082\">\n",
       "    <rect x=\"180\" y=\"47\" width=\"2173\" height=\"1441\"/>\n",
       "  </clipPath>\n",
       "</defs>\n",
       "<polyline clip-path=\"url(#clip082)\" style=\"stroke:#000000; stroke-width:1.6; stroke-opacity:0.1; fill:none\" points=\"\n",
       "  242.135,1487.47 242.135,47.2441 \n",
       "  \"/>\n",
       "<polyline clip-path=\"url(#clip082)\" style=\"stroke:#000000; stroke-width:1.6; stroke-opacity:0.1; fill:none\" points=\"\n",
       "  754.421,1487.47 754.421,47.2441 \n",
       "  \"/>\n",
       "<polyline clip-path=\"url(#clip082)\" style=\"stroke:#000000; stroke-width:1.6; stroke-opacity:0.1; fill:none\" points=\"\n",
       "  1266.71,1487.47 1266.71,47.2441 \n",
       "  \"/>\n",
       "<polyline clip-path=\"url(#clip082)\" style=\"stroke:#000000; stroke-width:1.6; stroke-opacity:0.1; fill:none\" points=\"\n",
       "  1778.99,1487.47 1778.99,47.2441 \n",
       "  \"/>\n",
       "<polyline clip-path=\"url(#clip082)\" style=\"stroke:#000000; stroke-width:1.6; stroke-opacity:0.1; fill:none\" points=\"\n",
       "  2291.28,1487.47 2291.28,47.2441 \n",
       "  \"/>\n",
       "<polyline clip-path=\"url(#clip082)\" style=\"stroke:#000000; stroke-width:1.6; stroke-opacity:0.1; fill:none\" points=\"\n",
       "  180.66,1446.85 2352.76,1446.85 \n",
       "  \"/>\n",
       "<polyline clip-path=\"url(#clip082)\" style=\"stroke:#000000; stroke-width:1.6; stroke-opacity:0.1; fill:none\" points=\"\n",
       "  180.66,1107.14 2352.76,1107.14 \n",
       "  \"/>\n",
       "<polyline clip-path=\"url(#clip082)\" style=\"stroke:#000000; stroke-width:1.6; stroke-opacity:0.1; fill:none\" points=\"\n",
       "  180.66,767.429 2352.76,767.429 \n",
       "  \"/>\n",
       "<polyline clip-path=\"url(#clip082)\" style=\"stroke:#000000; stroke-width:1.6; stroke-opacity:0.1; fill:none\" points=\"\n",
       "  180.66,427.717 2352.76,427.717 \n",
       "  \"/>\n",
       "<polyline clip-path=\"url(#clip082)\" style=\"stroke:#000000; stroke-width:1.6; stroke-opacity:0.1; fill:none\" points=\"\n",
       "  180.66,88.0053 2352.76,88.0053 \n",
       "  \"/>\n",
       "<polyline clip-path=\"url(#clip080)\" style=\"stroke:#000000; stroke-width:3.2; stroke-opacity:1; fill:none\" points=\"\n",
       "  180.66,1487.47 2352.76,1487.47 \n",
       "  \"/>\n",
       "<polyline clip-path=\"url(#clip080)\" style=\"stroke:#000000; stroke-width:3.2; stroke-opacity:1; fill:none\" points=\"\n",
       "  180.66,1487.47 180.66,47.2441 \n",
       "  \"/>\n",
       "<polyline clip-path=\"url(#clip080)\" style=\"stroke:#000000; stroke-width:3.2; stroke-opacity:1; fill:none\" points=\"\n",
       "  242.135,1487.47 242.135,1465.87 \n",
       "  \"/>\n",
       "<polyline clip-path=\"url(#clip080)\" style=\"stroke:#000000; stroke-width:3.2; stroke-opacity:1; fill:none\" points=\"\n",
       "  754.421,1487.47 754.421,1465.87 \n",
       "  \"/>\n",
       "<polyline clip-path=\"url(#clip080)\" style=\"stroke:#000000; stroke-width:3.2; stroke-opacity:1; fill:none\" points=\"\n",
       "  1266.71,1487.47 1266.71,1465.87 \n",
       "  \"/>\n",
       "<polyline clip-path=\"url(#clip080)\" style=\"stroke:#000000; stroke-width:3.2; stroke-opacity:1; fill:none\" points=\"\n",
       "  1778.99,1487.47 1778.99,1465.87 \n",
       "  \"/>\n",
       "<polyline clip-path=\"url(#clip080)\" style=\"stroke:#000000; stroke-width:3.2; stroke-opacity:1; fill:none\" points=\"\n",
       "  2291.28,1487.47 2291.28,1465.87 \n",
       "  \"/>\n",
       "<polyline clip-path=\"url(#clip080)\" style=\"stroke:#000000; stroke-width:3.2; stroke-opacity:1; fill:none\" points=\"\n",
       "  180.66,1446.85 213.242,1446.85 \n",
       "  \"/>\n",
       "<polyline clip-path=\"url(#clip080)\" style=\"stroke:#000000; stroke-width:3.2; stroke-opacity:1; fill:none\" points=\"\n",
       "  180.66,1107.14 213.242,1107.14 \n",
       "  \"/>\n",
       "<polyline clip-path=\"url(#clip080)\" style=\"stroke:#000000; stroke-width:3.2; stroke-opacity:1; fill:none\" points=\"\n",
       "  180.66,767.429 213.242,767.429 \n",
       "  \"/>\n",
       "<polyline clip-path=\"url(#clip080)\" style=\"stroke:#000000; stroke-width:3.2; stroke-opacity:1; fill:none\" points=\"\n",
       "  180.66,427.717 213.242,427.717 \n",
       "  \"/>\n",
       "<polyline clip-path=\"url(#clip080)\" style=\"stroke:#000000; stroke-width:3.2; stroke-opacity:1; fill:none\" points=\"\n",
       "  180.66,88.0053 213.242,88.0053 \n",
       "  \"/>\n",
       "<g clip-path=\"url(#clip080)\">\n",
       "<text style=\"fill:#000000; fill-opacity:1; font-family:Arial,Helvetica Neue,Helvetica,sans-serif; font-size:48px; text-anchor:middle;\" transform=\"rotate(0, 242.135, 1541.47)\" x=\"242.135\" y=\"1541.47\">-1.0</text>\n",
       "</g>\n",
       "<g clip-path=\"url(#clip080)\">\n",
       "<text style=\"fill:#000000; fill-opacity:1; font-family:Arial,Helvetica Neue,Helvetica,sans-serif; font-size:48px; text-anchor:middle;\" transform=\"rotate(0, 754.421, 1541.47)\" x=\"754.421\" y=\"1541.47\">-0.5</text>\n",
       "</g>\n",
       "<g clip-path=\"url(#clip080)\">\n",
       "<text style=\"fill:#000000; fill-opacity:1; font-family:Arial,Helvetica Neue,Helvetica,sans-serif; font-size:48px; text-anchor:middle;\" transform=\"rotate(0, 1266.71, 1541.47)\" x=\"1266.71\" y=\"1541.47\">0.0</text>\n",
       "</g>\n",
       "<g clip-path=\"url(#clip080)\">\n",
       "<text style=\"fill:#000000; fill-opacity:1; font-family:Arial,Helvetica Neue,Helvetica,sans-serif; font-size:48px; text-anchor:middle;\" transform=\"rotate(0, 1778.99, 1541.47)\" x=\"1778.99\" y=\"1541.47\">0.5</text>\n",
       "</g>\n",
       "<g clip-path=\"url(#clip080)\">\n",
       "<text style=\"fill:#000000; fill-opacity:1; font-family:Arial,Helvetica Neue,Helvetica,sans-serif; font-size:48px; text-anchor:middle;\" transform=\"rotate(0, 2291.28, 1541.47)\" x=\"2291.28\" y=\"1541.47\">1.0</text>\n",
       "</g>\n",
       "<g clip-path=\"url(#clip080)\">\n",
       "<text style=\"fill:#000000; fill-opacity:1; font-family:Arial,Helvetica Neue,Helvetica,sans-serif; font-size:48px; text-anchor:end;\" transform=\"rotate(0, 156.66, 1464.35)\" x=\"156.66\" y=\"1464.35\">0.00</text>\n",
       "</g>\n",
       "<g clip-path=\"url(#clip080)\">\n",
       "<text style=\"fill:#000000; fill-opacity:1; font-family:Arial,Helvetica Neue,Helvetica,sans-serif; font-size:48px; text-anchor:end;\" transform=\"rotate(0, 156.66, 1124.64)\" x=\"156.66\" y=\"1124.64\">0.25</text>\n",
       "</g>\n",
       "<g clip-path=\"url(#clip080)\">\n",
       "<text style=\"fill:#000000; fill-opacity:1; font-family:Arial,Helvetica Neue,Helvetica,sans-serif; font-size:48px; text-anchor:end;\" transform=\"rotate(0, 156.66, 784.929)\" x=\"156.66\" y=\"784.929\">0.50</text>\n",
       "</g>\n",
       "<g clip-path=\"url(#clip080)\">\n",
       "<text style=\"fill:#000000; fill-opacity:1; font-family:Arial,Helvetica Neue,Helvetica,sans-serif; font-size:48px; text-anchor:end;\" transform=\"rotate(0, 156.66, 445.217)\" x=\"156.66\" y=\"445.217\">0.75</text>\n",
       "</g>\n",
       "<g clip-path=\"url(#clip080)\">\n",
       "<text style=\"fill:#000000; fill-opacity:1; font-family:Arial,Helvetica Neue,Helvetica,sans-serif; font-size:48px; text-anchor:end;\" transform=\"rotate(0, 156.66, 105.505)\" x=\"156.66\" y=\"105.505\">1.00</text>\n",
       "</g>\n",
       "<polyline clip-path=\"url(#clip082)\" style=\"stroke:#009af9; stroke-width:3.2; stroke-opacity:1; fill:none\" points=\"\n",
       "  242.135,88.0053 262.833,142.354 283.532,195.593 304.23,247.723 324.929,298.744 345.627,348.655 366.325,397.458 387.024,445.151 407.722,491.736 428.421,537.211 \n",
       "  449.119,581.577 469.818,624.834 490.516,666.981 511.215,708.02 531.913,747.949 552.612,786.77 573.31,824.481 594.008,861.083 614.707,896.575 635.405,930.959 \n",
       "  656.104,964.233 676.802,996.399 697.501,1027.45 718.199,1057.4 738.898,1086.24 759.596,1113.97 780.294,1140.59 800.993,1166.1 821.691,1190.5 842.39,1213.79 \n",
       "  863.088,1235.98 883.787,1257.05 904.485,1277.01 925.184,1295.87 945.882,1313.62 966.581,1330.25 987.279,1345.78 1007.98,1360.2 1028.68,1373.51 1049.37,1385.71 \n",
       "  1070.07,1396.8 1090.77,1406.78 1111.47,1415.66 1132.17,1423.42 1152.87,1430.08 1173.57,1435.62 1194.26,1440.06 1214.96,1443.39 1235.66,1445.6 1256.36,1446.71 \n",
       "  1277.06,1446.71 1297.76,1445.6 1318.45,1443.39 1339.15,1440.06 1359.85,1435.62 1380.55,1430.08 1401.25,1423.42 1421.95,1415.66 1442.64,1406.78 1463.34,1396.8 \n",
       "  1484.04,1385.71 1504.74,1373.51 1525.44,1360.2 1546.14,1345.78 1566.84,1330.25 1587.53,1313.62 1608.23,1295.87 1628.93,1277.01 1649.63,1257.05 1670.33,1235.98 \n",
       "  1691.03,1213.79 1711.72,1190.5 1732.42,1166.1 1753.12,1140.59 1773.82,1113.97 1794.52,1086.24 1815.22,1057.4 1835.92,1027.45 1856.61,996.399 1877.31,964.233 \n",
       "  1898.01,930.959 1918.71,896.575 1939.41,861.083 1960.11,824.481 1980.8,786.77 2001.5,747.949 2022.2,708.02 2042.9,666.981 2063.6,624.834 2084.3,581.577 \n",
       "  2105,537.211 2125.69,491.736 2146.39,445.151 2167.09,397.458 2187.79,348.655 2208.49,298.744 2229.19,247.723 2249.88,195.593 2270.58,142.354 2291.28,88.0053 \n",
       "  \n",
       "  \"/>\n",
       "<polyline clip-path=\"url(#clip082)\" style=\"stroke:#e26f46; stroke-width:3.2; stroke-opacity:1; fill:none\" points=\"\n",
       "  242.135,88.0053 262.833,129.183 283.532,170.36 304.23,211.537 324.929,252.714 345.627,293.891 366.325,335.068 387.024,376.246 407.722,417.423 428.421,458.6 \n",
       "  449.119,499.777 469.818,540.954 490.516,582.131 511.215,623.309 531.913,664.486 552.612,705.663 573.31,746.84 594.008,788.017 614.707,829.194 635.405,870.372 \n",
       "  656.104,911.549 676.802,952.726 697.501,993.903 718.199,1035.08 738.898,1076.26 759.596,1110.57 780.294,1124.3 800.993,1138.02 821.691,1151.75 842.39,1165.47 \n",
       "  863.088,1179.2 883.787,1192.93 904.485,1206.65 925.184,1220.38 945.882,1234.1 966.581,1247.83 987.279,1261.55 1007.98,1275.28 1028.68,1289.01 1049.37,1302.73 \n",
       "  1070.07,1316.46 1090.77,1330.18 1111.47,1343.91 1132.17,1357.63 1152.87,1371.36 1173.57,1385.09 1194.26,1398.81 1214.96,1412.54 1235.66,1426.26 1256.36,1439.99 \n",
       "  1277.06,1439.99 1297.76,1426.26 1318.45,1412.54 1339.15,1398.81 1359.85,1385.09 1380.55,1371.36 1401.25,1357.63 1421.95,1343.91 1442.64,1330.18 1463.34,1316.46 \n",
       "  1484.04,1302.73 1504.74,1289.01 1525.44,1275.28 1546.14,1261.55 1566.84,1247.83 1587.53,1234.1 1608.23,1220.38 1628.93,1206.65 1649.63,1192.93 1670.33,1179.2 \n",
       "  1691.03,1165.47 1711.72,1151.75 1732.42,1138.02 1753.12,1124.3 1773.82,1110.57 1794.52,1076.26 1815.22,1035.08 1835.92,993.903 1856.61,952.726 1877.31,911.549 \n",
       "  1898.01,870.372 1918.71,829.194 1939.41,788.017 1960.11,746.84 1980.8,705.663 2001.5,664.486 2022.2,623.309 2042.9,582.131 2063.6,540.954 2084.3,499.777 \n",
       "  2105,458.6 2125.69,417.423 2146.39,376.246 2167.09,335.068 2187.79,293.891 2208.49,252.714 2229.19,211.537 2249.88,170.36 2270.58,129.183 2291.28,88.0053 \n",
       "  \n",
       "  \"/>\n",
       "<path clip-path=\"url(#clip080)\" d=\"\n",
       "M1738.48 312.204 L2280.76 312.204 L2280.76 130.764 L1738.48 130.764  Z\n",
       "  \" fill=\"#ffffff\" fill-rule=\"evenodd\" fill-opacity=\"1\"/>\n",
       "<polyline clip-path=\"url(#clip080)\" style=\"stroke:#000000; stroke-width:3.2; stroke-opacity:1; fill:none\" points=\"\n",
       "  1738.48,312.204 2280.76,312.204 2280.76,130.764 1738.48,130.764 1738.48,312.204 \n",
       "  \"/>\n",
       "<polyline clip-path=\"url(#clip080)\" style=\"stroke:#009af9; stroke-width:3.2; stroke-opacity:1; fill:none\" points=\"\n",
       "  1762.48,191.244 1906.48,191.244 \n",
       "  \"/>\n",
       "<g clip-path=\"url(#clip080)\">\n",
       "<text style=\"fill:#000000; fill-opacity:1; font-family:Arial,Helvetica Neue,Helvetica,sans-serif; font-size:48px; text-anchor:start;\" transform=\"rotate(0, 1930.48, 208.744)\" x=\"1930.48\" y=\"208.744\">true</text>\n",
       "</g>\n",
       "<polyline clip-path=\"url(#clip080)\" style=\"stroke:#e26f46; stroke-width:3.2; stroke-opacity:1; fill:none\" points=\"\n",
       "  1762.48,251.724 1906.48,251.724 \n",
       "  \"/>\n",
       "<g clip-path=\"url(#clip080)\">\n",
       "<text style=\"fill:#000000; fill-opacity:1; font-family:Arial,Helvetica Neue,Helvetica,sans-serif; font-size:48px; text-anchor:start;\" transform=\"rotate(0, 1930.48, 269.224)\" x=\"1930.48\" y=\"269.224\">approximation</text>\n",
       "</g>\n",
       "</svg>\n"
      ]
     },
     "execution_count": 40,
     "metadata": {},
     "output_type": "execute_result"
    }
   ],
   "source": [
    "# Exercise 7 \n",
    "\n",
    "using Plots\n",
    "\n",
    "\n",
    "function linapprox(f, nodes, x)\n",
    "    point = nodes[1]\n",
    "    steps = step(nodes)\n",
    "    point += steps * floor((x - point)/steps)\n",
    "    \n",
    "    u , v = point, point + steps  \n",
    "    \n",
    "    return f(u) + (x - u) * (f(v) - f(u)) / (v - u)\n",
    "end\n",
    "\n",
    "\n",
    "f_ex5(x) = x^2\n",
    "nodes = -1.0:0.5:1.0\n",
    "\n",
    "g_ex5(x) = linapprox(f_ex5,nodes, x)\n",
    "x_grid = range(-1.0, 1.0, length = 100)\n",
    "y_vals = f_ex5.(x_grid)\n",
    "y = g_ex5.(x_grid)\n",
    "plot(x_grid, y_vals, label = \"true\")\n",
    "plot!(x_grid, y, label = \"approximation\")\n"
   ]
  },
  {
   "cell_type": "code",
   "execution_count": null,
   "metadata": {},
   "outputs": [],
   "source": []
  }
 ],
 "metadata": {
  "kernelspec": {
   "display_name": "Julia 1.4.1",
   "language": "julia",
   "name": "julia-1.4"
  },
  "language_info": {
   "file_extension": ".jl",
   "mimetype": "application/julia",
   "name": "julia",
   "version": "1.4.1"
  }
 },
 "nbformat": 4,
 "nbformat_minor": 4
}
