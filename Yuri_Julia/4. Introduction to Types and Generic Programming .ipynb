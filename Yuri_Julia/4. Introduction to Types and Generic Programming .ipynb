{
 "cells": [
  {
   "cell_type": "markdown",
   "metadata": {},
   "source": [
    "#### Introduction to Types and Generic Programming"
   ]
  },
  {
   "cell_type": "code",
   "execution_count": 106,
   "metadata": {},
   "outputs": [
    {
     "name": "stdout",
     "output_type": "stream",
     "text": [
      "\u001b[32m\u001b[1mActivated\u001b[0m /Users/yurimatsumura/Project.toml\u001b[39m\n",
      "\u001b[36m\u001b[1mInfo\u001b[0m quantecon-notebooks-julia 0.5.0 activated, 0.6.0 requested\u001b[39m\n"
     ]
    }
   ],
   "source": [
    "using InstantiateFromURL\n",
    "github_project(\"QuantEcon/quantecon-notebooks-julia\", version = \"0.6.0\")\n",
    "# uncomment to force package installation and precompilation\n",
    "# github_project(\"QuantEcon/quantecon-notebooks-julia\", version=\"0.6.0\", instantiate=true, precompile = true)\n",
    "using LinearAlgebra, Statistics\n",
    "using Distributions, Plots, QuadGK, Polynomials, Interpolations"
   ]
  },
  {
   "cell_type": "code",
   "execution_count": 11,
   "metadata": {},
   "outputs": [
    {
     "name": "stdout",
     "output_type": "stream",
     "text": [
      "typeof(1.0 + 1im) = Complex{Float64}\n",
      "typeof(ones(2, 2)) = Array{Float64,2}\n",
      "typeof(x) = Tuple{Int64,Float64,String}\n",
      "typeof(y) = NamedTuple{(:a, :b, :c),Tuple{Int64,Float64,String}}\n"
     ]
    }
   ],
   "source": [
    "\n",
    "\n",
    "x = (1, 2.0, \"test\")\n",
    "\n",
    "\n",
    "y = (a = 1, b = 2.0, c = \"test\")\n",
    "\n",
    "\n",
    "\n",
    "@show typeof(1.0 + 1im)\n",
    "@show typeof(ones(2, 2))\n",
    "@show typeof(x)\n",
    "@show typeof(y);"
   ]
  },
  {
   "cell_type": "markdown",
   "metadata": {},
   "source": [
    "Complex, Array, Tuple, and NamedTuple are called Prametric type. "
   ]
  },
  {
   "cell_type": "code",
   "execution_count": 12,
   "metadata": {},
   "outputs": [
    {
     "data": {
      "text/plain": [
       "false"
      ]
     },
     "execution_count": 12,
     "metadata": {},
     "output_type": "execute_result"
    }
   ],
   "source": [
    "Array <: Number "
   ]
  },
  {
   "cell_type": "code",
   "execution_count": 13,
   "metadata": {},
   "outputs": [
    {
     "name": "stdout",
     "output_type": "stream",
     "text": [
      "Int64 <: Signed <: Integer <: Real <: Number <: Any"
     ]
    }
   ],
   "source": [
    "using Base: show_supertypes\n",
    "\n",
    "show_supertypes(Int64)"
   ]
  },
  {
   "cell_type": "code",
   "execution_count": 15,
   "metadata": {},
   "outputs": [
    {
     "name": "stdout",
     "output_type": "stream",
     "text": [
      "typeof(x1) = Array{Int64,1}\n",
      "typeof(x2) = Array{Float64,1}\n"
     ]
    }
   ],
   "source": [
    "x1 = [1, 2, 3]\n",
    "x2 = [1.0, 2.0, 3.0]\n",
    "\n",
    "@show typeof(x1)\n",
    "@show typeof(x2);"
   ]
  },
  {
   "cell_type": "code",
   "execution_count": 16,
   "metadata": {},
   "outputs": [
    {
     "data": {
      "text/plain": [
       "2-element Array{Float64,1}:\n",
       "  9.1\n",
       " 14.3"
      ]
     },
     "execution_count": 16,
     "metadata": {},
     "output_type": "execute_result"
    }
   ],
   "source": [
    "function f(x, A)\n",
    "    b = [5.0, 6.0]\n",
    "    return A * x .+ b\n",
    "end\n",
    "\n",
    "val = f([0.1, 2.0], [1.0 2.0; 3.0 4.0])"
   ]
  },
  {
   "cell_type": "code",
   "execution_count": 18,
   "metadata": {},
   "outputs": [
    {
     "data": {
      "text/plain": [
       "Diagonal{Float64,Array{Float64,1}}"
      ]
     },
     "execution_count": 18,
     "metadata": {},
     "output_type": "execute_result"
    }
   ],
   "source": [
    "typeof(Diagonal([1.0,2.0]))"
   ]
  },
  {
   "cell_type": "code",
   "execution_count": 19,
   "metadata": {},
   "outputs": [
    {
     "name": "stdout",
     "output_type": "stream",
     "text": [
      "f([0.1; 2.0], [1 2; 3 4]) = [9.1, 14.3]\n",
      "f([0.1; 2.0], Diagonal([1.0, 2.0])) = [5.1, 10.0]\n"
     ]
    },
    {
     "data": {
      "text/plain": [
       "2-element Array{Float64,1}:\n",
       "  5.1\n",
       " 10.0"
      ]
     },
     "execution_count": 19,
     "metadata": {},
     "output_type": "execute_result"
    }
   ],
   "source": [
    "@show f([0.1; 2.0], [1 2; 3 4])\n",
    "@show f([0.1; 2.0], Diagonal([1.0, 2.0]))"
   ]
  },
  {
   "cell_type": "code",
   "execution_count": 20,
   "metadata": {},
   "outputs": [],
   "source": [
    "struct FooNotTyped  # immutable by default, use `mutable struct` otherwise\n",
    "    a # BAD! not typed\n",
    "    b\n",
    "    c\n",
    "end"
   ]
  },
  {
   "cell_type": "code",
   "execution_count": 21,
   "metadata": {},
   "outputs": [],
   "source": [
    "struct Foo\n",
    "    a::Float64\n",
    "    b::Int64\n",
    "    c::Vector{Float64}\n",
    "end"
   ]
  },
  {
   "cell_type": "code",
   "execution_count": 25,
   "metadata": {},
   "outputs": [
    {
     "name": "stdout",
     "output_type": "stream",
     "text": [
      "typeof(foo) = Foo\n",
      "foo.a = 2.0\n",
      "foo.b = 3\n",
      "foo.c = [1.0, 2.0, 3.0]\n",
      "typeof(foo_nt) = FooNotTyped\n",
      "foo_nt.a = 2.0\n",
      "foo_nt.b = 3\n",
      "foo_nt.c = [1.0, 2.0, 3.0]\n",
      "typeof(foo2) = Foo\n",
      "foo2.a = 2.0\n",
      "foo2.b = 3\n",
      "foo2.c = [1.0, 2.0, 3.0]\n"
     ]
    }
   ],
   "source": [
    "foo_nt = FooNotTyped(2.0, 3, [1.0, 2.0, 3.0])\n",
    "foo = Foo(2.0, 3, [1.0, 2.0, 3.0]) # creates a new `Foo`\n",
    "\n",
    "@show typeof(foo)\n",
    "@show foo.a       # get the value for a field\n",
    "@show foo.b\n",
    "@show foo.c;\n",
    "\n",
    "@show typeof(foo_nt)\n",
    "@show foo_nt.a       # get the value for a field\n",
    "@show foo_nt.b\n",
    "@show foo_nt.c;\n",
    "\n",
    "\n",
    "struct Foo2\n",
    "    a::Float64\n",
    "    b::Integer  # BAD! Not a concrete type\n",
    "    c::Vector{Real}  # BAD! Not a concrete type\n",
    "end\n",
    "\n",
    "foo2 = Foo(2.0, 3, [1.0, 2.0, 3.0])\n",
    "\n",
    "@show typeof(foo2)\n",
    "@show foo2.a       # get the value for a field\n",
    "@show foo2.b\n",
    "@show foo2.c;\n",
    "\n",
    "\n",
    "\n",
    "# foo.a = 2.0     # fails since it is immutable"
   ]
  },
  {
   "cell_type": "code",
   "execution_count": 29,
   "metadata": {},
   "outputs": [
    {
     "name": "stdout",
     "output_type": "stream",
     "text": [
      "f(foo) = 11.0\n"
     ]
    },
    {
     "ename": "MethodError",
     "evalue": "MethodError: no method matching Array{Float64,1}(::Adjoint{Float64,Array{Float64,1}})\nClosest candidates are:\n  Array{Float64,1}(::AbstractArray{S,N}) where {T, N, S} at array.jl:541\n  Array{Float64,1}() where T at boot.jl:424\n  Array{Float64,1}(!Matched::UndefInitializer, !Matched::Int64) where T at boot.jl:405\n  ...",
     "output_type": "error",
     "traceback": [
      "MethodError: no method matching Array{Float64,1}(::Adjoint{Float64,Array{Float64,1}})\nClosest candidates are:\n  Array{Float64,1}(::AbstractArray{S,N}) where {T, N, S} at array.jl:541\n  Array{Float64,1}() where T at boot.jl:424\n  Array{Float64,1}(!Matched::UndefInitializer, !Matched::Int64) where T at boot.jl:405\n  ...",
      "",
      "Stacktrace:",
      " [1] convert(::Type{Array{Float64,1}}, ::Adjoint{Float64,Array{Float64,1}}) at ./array.jl:533",
      " [2] Foo(::Float64, ::Int64, ::Adjoint{Float64,Array{Float64,1}}) at ./In[21]:2",
      " [3] top-level scope at In[29]:12"
     ]
    }
   ],
   "source": [
    "f(x) = x.a + x.b + sum(x.c) # use the type\n",
    "a = 2.0\n",
    "b = 3\n",
    "c = [1.0, 2.0, 3.0]\n",
    "foo = Foo(a, b, c)\n",
    "@show f(foo)\n",
    "\n",
    "# some other typed for the values\n",
    "a = 2   # not a floating point but `f()` would work\n",
    "b = 3\n",
    "c = [1.0, 2.0, 3.0]'   # transpose is not a `Vector` but `f()` would work\n",
    "foo_1 = Foo(a, b, c)   # fails to compile\n",
    "@show f(foo_1)"
   ]
  },
  {
   "cell_type": "markdown",
   "metadata": {},
   "source": [
    "In this case, foo_1 does not work becuase a and c do not match the type defined in Foo.\n",
    "Then to be flexible for type, declear ambiguously may be effective."
   ]
  },
  {
   "cell_type": "code",
   "execution_count": 30,
   "metadata": {},
   "outputs": [
    {
     "name": "stdout",
     "output_type": "stream",
     "text": [
      "typeof(foo) = Foo3{Int64,Int64,Adjoint{Float64,Array{Float64,1}}}\n"
     ]
    },
    {
     "data": {
      "text/plain": [
       "11.0"
      ]
     },
     "execution_count": 30,
     "metadata": {},
     "output_type": "execute_result"
    }
   ],
   "source": [
    "struct Foo3{T1, T2, T3}\n",
    "    a::T1   # could be any type\n",
    "    b::T2\n",
    "    c::T3\n",
    "end\n",
    "\n",
    "# works fine\n",
    "a = 2\n",
    "b = 3\n",
    "c = [1.0, 2.0, 3.0]'    # transpose is not a `Vector` but `f()` would work\n",
    "foo = Foo3(a, b, c)\n",
    "@show typeof(foo)\n",
    "f(foo)"
   ]
  },
  {
   "cell_type": "code",
   "execution_count": 32,
   "metadata": {},
   "outputs": [
    {
     "name": "stdout",
     "output_type": "stream",
     "text": [
      "typeof([1.0, 2.0, 3.0]) = Array{Float64,1}\n",
      "eltype([1.0, 2.0, 3.0]) = Float64\n"
     ]
    }
   ],
   "source": [
    "@show typeof([1.0, 2.0, 3.0])\n",
    "@show eltype([1.0, 2.0, 3.0]);"
   ]
  },
  {
   "cell_type": "code",
   "execution_count": 33,
   "metadata": {},
   "outputs": [
    {
     "name": "stdout",
     "output_type": "stream",
     "text": [
      "search: \u001b[0m\u001b[1me\u001b[22m\u001b[0m\u001b[1ml\u001b[22m\u001b[0m\u001b[1mt\u001b[22m\u001b[0m\u001b[1my\u001b[22m\u001b[0m\u001b[1mp\u001b[22m\u001b[0m\u001b[1me\u001b[22m fi\u001b[0m\u001b[1me\u001b[22m\u001b[0m\u001b[1ml\u001b[22md\u001b[0m\u001b[1mt\u001b[22m\u001b[0m\u001b[1my\u001b[22m\u001b[0m\u001b[1mp\u001b[22m\u001b[0m\u001b[1me\u001b[22m fi\u001b[0m\u001b[1me\u001b[22m\u001b[0m\u001b[1ml\u001b[22md\u001b[0m\u001b[1mt\u001b[22m\u001b[0m\u001b[1my\u001b[22m\u001b[0m\u001b[1mp\u001b[22m\u001b[0m\u001b[1me\u001b[22ms bas\u001b[0m\u001b[1me\u001b[22m_co\u001b[0m\u001b[1ml\u001b[22mor_\u001b[0m\u001b[1mt\u001b[22m\u001b[0m\u001b[1my\u001b[22m\u001b[0m\u001b[1mp\u001b[22m\u001b[0m\u001b[1me\u001b[22m bas\u001b[0m\u001b[1me\u001b[22m_co\u001b[0m\u001b[1ml\u001b[22moran\u001b[0m\u001b[1mt\u001b[22m_t\u001b[0m\u001b[1my\u001b[22m\u001b[0m\u001b[1mp\u001b[22m\u001b[0m\u001b[1me\u001b[22m\n",
      "\n"
     ]
    },
    {
     "data": {
      "text/latex": [
       "\\begin{verbatim}\n",
       "eltype(type)\n",
       "\\end{verbatim}\n",
       "Determine the type of the elements generated by iterating a collection of the given \\texttt{type}. For dictionary types, this will be a \\texttt{Pair\\{KeyType,ValType\\}}. The definition \\texttt{eltype(x) = eltype(typeof(x))} is provided for convenience so that instances can be passed instead of types. However the form that accepts a type argument should be defined for new types.\n",
       "\n",
       "\\section{Examples}\n",
       "\\begin{verbatim}\n",
       "julia> eltype(fill(1f0, (2,2)))\n",
       "Float32\n",
       "\n",
       "julia> eltype(fill(0x1, (2,2)))\n",
       "UInt8\n",
       "\\end{verbatim}\n",
       "\\rule{\\textwidth}{1pt}\n",
       "\\begin{verbatim}\n",
       "eltype(sc)\n",
       "\\end{verbatim}\n",
       "Returns the (key,value) type (a 2-entry pair, i.e., \\texttt{Pair\\{K,V\\}}) for SortedDict and SortedMultiDict. Returns the key type for SortedSet. This function may also be applied to the type itself. Time: O(1)\n",
       "\n",
       "\\rule{\\textwidth}{1pt}\n",
       "\\begin{verbatim}\n",
       "eltype(sc)\n",
       "\\end{verbatim}\n",
       "Returns the (key,value) type (a 2-entry pair, i.e., \\texttt{Pair\\{K,V\\}}) for SortedDict and SortedMultiDict. Returns the key type for SortedSet. This function may also be applied to the type itself. Time: O(1)\n",
       "\n",
       "\\rule{\\textwidth}{1pt}\n",
       "\\begin{verbatim}\n",
       "eltype(sc)\n",
       "\\end{verbatim}\n",
       "Returns the key type for SortedSet. This function may also be applied to the type itself. Time: O(1)\n",
       "\n",
       "\\rule{\\textwidth}{1pt}\n",
       "\\begin{verbatim}\n",
       "eltype(s::Sampleable)\n",
       "\\end{verbatim}\n",
       "The default element type of a sample. This is the type of elements of the samples generated by the \\texttt{rand} method. However, one can provide an array of different element types to store the samples using \\texttt{rand!}.\n",
       "\n",
       "\\rule{\\textwidth}{1pt}\n",
       "\\begin{verbatim}\n",
       "eltype(d::MultivariateDistribution)\n",
       "\\end{verbatim}\n",
       "Return the sample type of distribution \\texttt{d}\n",
       "\n"
      ],
      "text/markdown": [
       "```\n",
       "eltype(type)\n",
       "```\n",
       "\n",
       "Determine the type of the elements generated by iterating a collection of the given `type`. For dictionary types, this will be a `Pair{KeyType,ValType}`. The definition `eltype(x) = eltype(typeof(x))` is provided for convenience so that instances can be passed instead of types. However the form that accepts a type argument should be defined for new types.\n",
       "\n",
       "# Examples\n",
       "\n",
       "```jldoctest\n",
       "julia> eltype(fill(1f0, (2,2)))\n",
       "Float32\n",
       "\n",
       "julia> eltype(fill(0x1, (2,2)))\n",
       "UInt8\n",
       "```\n",
       "\n",
       "---\n",
       "\n",
       "```\n",
       "eltype(sc)\n",
       "```\n",
       "\n",
       "Returns the (key,value) type (a 2-entry pair, i.e., `Pair{K,V}`) for SortedDict and SortedMultiDict. Returns the key type for SortedSet. This function may also be applied to the type itself. Time: O(1)\n",
       "\n",
       "---\n",
       "\n",
       "```\n",
       "eltype(sc)\n",
       "```\n",
       "\n",
       "Returns the (key,value) type (a 2-entry pair, i.e., `Pair{K,V}`) for SortedDict and SortedMultiDict. Returns the key type for SortedSet. This function may also be applied to the type itself. Time: O(1)\n",
       "\n",
       "---\n",
       "\n",
       "```\n",
       "eltype(sc)\n",
       "```\n",
       "\n",
       "Returns the key type for SortedSet. This function may also be applied to the type itself. Time: O(1)\n",
       "\n",
       "---\n",
       "\n",
       "```\n",
       "eltype(s::Sampleable)\n",
       "```\n",
       "\n",
       "The default element type of a sample. This is the type of elements of the samples generated by the `rand` method. However, one can provide an array of different element types to store the samples using `rand!`.\n",
       "\n",
       "---\n",
       "\n",
       "```\n",
       "eltype(d::MultivariateDistribution)\n",
       "```\n",
       "\n",
       "Return the sample type of distribution `d`\n"
      ],
      "text/plain": [
       "\u001b[36m  eltype(type)\u001b[39m\n",
       "\n",
       "  Determine the type of the elements generated by iterating a collection of\n",
       "  the given \u001b[36mtype\u001b[39m. For dictionary types, this will be a \u001b[36mPair{KeyType,ValType}\u001b[39m.\n",
       "  The definition \u001b[36meltype(x) = eltype(typeof(x))\u001b[39m is provided for convenience so\n",
       "  that instances can be passed instead of types. However the form that accepts\n",
       "  a type argument should be defined for new types.\n",
       "\n",
       "\u001b[1m  Examples\u001b[22m\n",
       "\u001b[1m  ≡≡≡≡≡≡≡≡≡≡\u001b[22m\n",
       "\n",
       "\u001b[36m  julia> eltype(fill(1f0, (2,2)))\u001b[39m\n",
       "\u001b[36m  Float32\u001b[39m\n",
       "\u001b[36m  \u001b[39m\n",
       "\u001b[36m  julia> eltype(fill(0x1, (2,2)))\u001b[39m\n",
       "\u001b[36m  UInt8\u001b[39m\n",
       "\n",
       "  ────────────────────────────────────────────────────────────────────────────\n",
       "\n",
       "\u001b[36m  eltype(sc)\u001b[39m\n",
       "\n",
       "  Returns the (key,value) type (a 2-entry pair, i.e., \u001b[36mPair{K,V}\u001b[39m) for\n",
       "  SortedDict and SortedMultiDict. Returns the key type for SortedSet. This\n",
       "  function may also be applied to the type itself. Time: O(1)\n",
       "\n",
       "  ────────────────────────────────────────────────────────────────────────────\n",
       "\n",
       "\u001b[36m  eltype(sc)\u001b[39m\n",
       "\n",
       "  Returns the (key,value) type (a 2-entry pair, i.e., \u001b[36mPair{K,V}\u001b[39m) for\n",
       "  SortedDict and SortedMultiDict. Returns the key type for SortedSet. This\n",
       "  function may also be applied to the type itself. Time: O(1)\n",
       "\n",
       "  ────────────────────────────────────────────────────────────────────────────\n",
       "\n",
       "\u001b[36m  eltype(sc)\u001b[39m\n",
       "\n",
       "  Returns the key type for SortedSet. This function may also be applied to the\n",
       "  type itself. Time: O(1)\n",
       "\n",
       "  ────────────────────────────────────────────────────────────────────────────\n",
       "\n",
       "\u001b[36m  eltype(s::Sampleable)\u001b[39m\n",
       "\n",
       "  The default element type of a sample. This is the type of elements of the\n",
       "  samples generated by the \u001b[36mrand\u001b[39m method. However, one can provide an array of\n",
       "  different element types to store the samples using \u001b[36mrand!\u001b[39m.\n",
       "\n",
       "  ────────────────────────────────────────────────────────────────────────────\n",
       "\n",
       "\u001b[36m  eltype(d::MultivariateDistribution)\u001b[39m\n",
       "\n",
       "  Return the sample type of distribution \u001b[36md\u001b[39m"
      ]
     },
     "execution_count": 33,
     "metadata": {},
     "output_type": "execute_result"
    }
   ],
   "source": [
    "?eltype"
   ]
  },
  {
   "cell_type": "code",
   "execution_count": 134,
   "metadata": {},
   "outputs": [
    {
     "name": "stdout",
     "output_type": "stream",
     "text": [
      "ourabs(1) = 1\n"
     ]
    }
   ],
   "source": [
    "function ourabs(x::Int64)\n",
    "    if x > zero(x)   # note, not 0!\n",
    "        return x\n",
    "    else\n",
    "        return - x\n",
    "    end\n",
    "end\n",
    "\n",
    "@show ourabs(1);"
   ]
  },
  {
   "cell_type": "code",
   "execution_count": 1,
   "metadata": {},
   "outputs": [
    {
     "name": "stderr",
     "output_type": "stream",
     "text": [
      "┌ Info: Precompiling ForwardDiff [f6369f11-7733-5829-9624-2563aa707210]\n",
      "└ @ Base loading.jl:1260\n"
     ]
    },
    {
     "ename": "UndefVarError",
     "evalue": "UndefVarError: x not defined",
     "output_type": "error",
     "traceback": [
      "UndefVarError: x not defined",
      "",
      "Stacktrace:",
      " [1] top-level scope at In[1]:10"
     ]
    }
   ],
   "source": [
    "using Plots, ForwardDiff\n",
    "\n",
    "\n",
    "slopes(f_x::AbstractVector, x::AbstractRange) = diff(f_x) / step(x)\n",
    "# operator to get the derivative of this function using AD\n",
    "D(f) = x -> ForwardDiff.derivative(f, x)\n",
    "\n",
    "# compare slopes with AD for sin(x)\n",
    "f(x) = x^2\n",
    "f_x = f.(x)\n",
    "q(x) = sin(x)\n",
    "x = 0.0:0.1:4.0\n",
    "q_x = q.(x)\n",
    "q_slopes_x = slopes(q_x, x)\n",
    "\n",
    "D_q_x = D(q).(x)  # broadcasts AD across vector\n",
    "\n",
    "plot(x[1:end-1], D_q_x[1:end-1], label = \"q' with AD\")\n",
    "plot!(x[1:end-1], q_slopes_x, label = \"q slopes\")"
   ]
  },
  {
   "cell_type": "markdown",
   "metadata": {},
   "source": [
    "### Exercises"
   ]
  },
  {
   "cell_type": "code",
   "execution_count": 55,
   "metadata": {},
   "outputs": [
    {
     "name": "stdout",
     "output_type": "stream",
     "text": [
      "  83.903 ns (1 allocation: 112 bytes)\n",
      "  695.497 ns (5 allocations: 1.98 KiB)\n",
      "  0.050 ns (0 allocations: 0 bytes)\n",
      "  8.373 ns (0 allocations: 0 bytes)\n"
     ]
    }
   ],
   "source": [
    "# Exercise 1\n",
    "\n",
    "using StaticArrays\n",
    "using LinearAlgebra\n",
    "using BenchmarkTools\n",
    "\n",
    "\n",
    "N = 3\n",
    "A = rand(N, N)\n",
    "x = rand(N)\n",
    "\n",
    "@btime $A * $x  # the $ in front of variable names is sometimes important\n",
    "@btime inv($A)\n",
    "\n",
    "\n",
    "\n",
    "\n",
    "A_s = @SMatrix rand(N, N)\n",
    "x_s = @SVector rand(N)\n",
    "\n",
    "@btime $A_s * $x_s  # the $ in front of variable names is sometimes important\n",
    "@btime inv($A_s);\n",
    "\n"
   ]
  },
  {
   "cell_type": "code",
   "execution_count": 56,
   "metadata": {},
   "outputs": [
    {
     "name": "stdout",
     "output_type": "stream",
     "text": [
      "  874.333 ns (10 allocations: 1.94 KiB)\n",
      "  13.702 ns (0 allocations: 0 bytes)\n"
     ]
    },
    {
     "data": {
      "text/plain": [
       "2×2 SArray{Tuple{2,2},Float64,2,4} with indices SOneTo(2)×SOneTo(2):\n",
       " 0.666667     1.11022e-16\n",
       " 2.22045e-16  0.666667"
      ]
     },
     "execution_count": 56,
     "metadata": {},
     "output_type": "execute_result"
    }
   ],
   "source": [
    "# Exercise 2\n",
    "\n",
    "using StaticArrays\n",
    "using LinearAlgebra\n",
    "using BenchmarkTools\n",
    "\n",
    "Σ = [0.4  0.3;\n",
    "     0.3  0.45]\n",
    "G = I\n",
    "R = 0.5 * Σ\n",
    "\n",
    "gain(Σ, G, R) = Σ * G' * inv(G * Σ * G' + R)\n",
    "@btime time = gain($Σ, $G, $R)\n",
    "\n",
    "\n",
    "Σ_s = @SMatrix [0.4  0.3; 0.3  0.45] #Use StaticArrays \n",
    "G_s = I\n",
    "R_s == 0.5 * Σ #Use StaticArrays \n",
    "\n",
    "gain(Σ_s, G_s, R_s) = Σ_s * G_s' * inv(G_s * Σ_s * G_s' + R_s)\n",
    "@btime time_s = gain($Σ_s, $G_s, $R_s)\n",
    "\n"
   ]
  },
  {
   "cell_type": "code",
   "execution_count": 144,
   "metadata": {},
   "outputs": [
    {
     "name": "stdout",
     "output_type": "stream",
     "text": [
      "(p(0.1), p′(0.1)) = (1.52, -4.6)\n",
      "roots(p) = [0.5, 2.0]\n",
      "typeof(p′) = Poly{Int64}\n"
     ]
    },
    {
     "data": {
      "image/svg+xml": [
       "<?xml version=\"1.0\" encoding=\"utf-8\"?>\n",
       "<svg xmlns=\"http://www.w3.org/2000/svg\" xmlns:xlink=\"http://www.w3.org/1999/xlink\" width=\"600\" height=\"400\" viewBox=\"0 0 2400 1600\">\n",
       "<defs>\n",
       "  <clipPath id=\"clip390\">\n",
       "    <rect x=\"0\" y=\"0\" width=\"2400\" height=\"1600\"/>\n",
       "  </clipPath>\n",
       "</defs>\n",
       "<path clip-path=\"url(#clip390)\" d=\"\n",
       "M0 1600 L2400 1600 L2400 0 L0 0  Z\n",
       "  \" fill=\"#ffffff\" fill-rule=\"evenodd\" fill-opacity=\"1\"/>\n",
       "<defs>\n",
       "  <clipPath id=\"clip391\">\n",
       "    <rect x=\"480\" y=\"0\" width=\"1681\" height=\"1600\"/>\n",
       "  </clipPath>\n",
       "</defs>\n",
       "<path clip-path=\"url(#clip390)\" d=\"\n",
       "M168.627 1487.47 L2352.76 1487.47 L2352.76 47.2441 L168.627 47.2441  Z\n",
       "  \" fill=\"#ffffff\" fill-rule=\"evenodd\" fill-opacity=\"1\"/>\n",
       "<defs>\n",
       "  <clipPath id=\"clip392\">\n",
       "    <rect x=\"168\" y=\"47\" width=\"2185\" height=\"1441\"/>\n",
       "  </clipPath>\n",
       "</defs>\n",
       "<polyline clip-path=\"url(#clip392)\" style=\"stroke:#000000; stroke-width:1.6; stroke-opacity:0.1; fill:none\" points=\"\n",
       "  230.442,1487.47 230.442,47.2441 \n",
       "  \"/>\n",
       "<polyline clip-path=\"url(#clip392)\" style=\"stroke:#000000; stroke-width:1.6; stroke-opacity:0.1; fill:none\" points=\"\n",
       "  745.567,1487.47 745.567,47.2441 \n",
       "  \"/>\n",
       "<polyline clip-path=\"url(#clip392)\" style=\"stroke:#000000; stroke-width:1.6; stroke-opacity:0.1; fill:none\" points=\"\n",
       "  1260.69,1487.47 1260.69,47.2441 \n",
       "  \"/>\n",
       "<polyline clip-path=\"url(#clip392)\" style=\"stroke:#000000; stroke-width:1.6; stroke-opacity:0.1; fill:none\" points=\"\n",
       "  1775.82,1487.47 1775.82,47.2441 \n",
       "  \"/>\n",
       "<polyline clip-path=\"url(#clip392)\" style=\"stroke:#000000; stroke-width:1.6; stroke-opacity:0.1; fill:none\" points=\"\n",
       "  2290.94,1487.47 2290.94,47.2441 \n",
       "  \"/>\n",
       "<polyline clip-path=\"url(#clip392)\" style=\"stroke:#000000; stroke-width:1.6; stroke-opacity:0.1; fill:none\" points=\"\n",
       "  168.627,1323.19 2352.76,1323.19 \n",
       "  \"/>\n",
       "<polyline clip-path=\"url(#clip392)\" style=\"stroke:#000000; stroke-width:1.6; stroke-opacity:0.1; fill:none\" points=\"\n",
       "  168.627,911.465 2352.76,911.465 \n",
       "  \"/>\n",
       "<polyline clip-path=\"url(#clip392)\" style=\"stroke:#000000; stroke-width:1.6; stroke-opacity:0.1; fill:none\" points=\"\n",
       "  168.627,499.735 2352.76,499.735 \n",
       "  \"/>\n",
       "<polyline clip-path=\"url(#clip392)\" style=\"stroke:#000000; stroke-width:1.6; stroke-opacity:0.1; fill:none\" points=\"\n",
       "  168.627,88.0053 2352.76,88.0053 \n",
       "  \"/>\n",
       "<polyline clip-path=\"url(#clip390)\" style=\"stroke:#000000; stroke-width:3.2; stroke-opacity:1; fill:none\" points=\"\n",
       "  168.627,1487.47 2352.76,1487.47 \n",
       "  \"/>\n",
       "<polyline clip-path=\"url(#clip390)\" style=\"stroke:#000000; stroke-width:3.2; stroke-opacity:1; fill:none\" points=\"\n",
       "  168.627,1487.47 168.627,47.2441 \n",
       "  \"/>\n",
       "<polyline clip-path=\"url(#clip390)\" style=\"stroke:#000000; stroke-width:3.2; stroke-opacity:1; fill:none\" points=\"\n",
       "  230.442,1487.47 230.442,1465.87 \n",
       "  \"/>\n",
       "<polyline clip-path=\"url(#clip390)\" style=\"stroke:#000000; stroke-width:3.2; stroke-opacity:1; fill:none\" points=\"\n",
       "  745.567,1487.47 745.567,1465.87 \n",
       "  \"/>\n",
       "<polyline clip-path=\"url(#clip390)\" style=\"stroke:#000000; stroke-width:3.2; stroke-opacity:1; fill:none\" points=\"\n",
       "  1260.69,1487.47 1260.69,1465.87 \n",
       "  \"/>\n",
       "<polyline clip-path=\"url(#clip390)\" style=\"stroke:#000000; stroke-width:3.2; stroke-opacity:1; fill:none\" points=\"\n",
       "  1775.82,1487.47 1775.82,1465.87 \n",
       "  \"/>\n",
       "<polyline clip-path=\"url(#clip390)\" style=\"stroke:#000000; stroke-width:3.2; stroke-opacity:1; fill:none\" points=\"\n",
       "  2290.94,1487.47 2290.94,1465.87 \n",
       "  \"/>\n",
       "<polyline clip-path=\"url(#clip390)\" style=\"stroke:#000000; stroke-width:3.2; stroke-opacity:1; fill:none\" points=\"\n",
       "  168.627,1323.19 201.389,1323.19 \n",
       "  \"/>\n",
       "<polyline clip-path=\"url(#clip390)\" style=\"stroke:#000000; stroke-width:3.2; stroke-opacity:1; fill:none\" points=\"\n",
       "  168.627,911.465 201.389,911.465 \n",
       "  \"/>\n",
       "<polyline clip-path=\"url(#clip390)\" style=\"stroke:#000000; stroke-width:3.2; stroke-opacity:1; fill:none\" points=\"\n",
       "  168.627,499.735 201.389,499.735 \n",
       "  \"/>\n",
       "<polyline clip-path=\"url(#clip390)\" style=\"stroke:#000000; stroke-width:3.2; stroke-opacity:1; fill:none\" points=\"\n",
       "  168.627,88.0053 201.389,88.0053 \n",
       "  \"/>\n",
       "<g clip-path=\"url(#clip390)\">\n",
       "<text style=\"fill:#000000; fill-opacity:1; font-family:Arial,Helvetica Neue,Helvetica,sans-serif; font-size:48px; text-anchor:middle;\" transform=\"rotate(0, 230.442, 1541.47)\" x=\"230.442\" y=\"1541.47\">-2</text>\n",
       "</g>\n",
       "<g clip-path=\"url(#clip390)\">\n",
       "<text style=\"fill:#000000; fill-opacity:1; font-family:Arial,Helvetica Neue,Helvetica,sans-serif; font-size:48px; text-anchor:middle;\" transform=\"rotate(0, 745.567, 1541.47)\" x=\"745.567\" y=\"1541.47\">-1</text>\n",
       "</g>\n",
       "<g clip-path=\"url(#clip390)\">\n",
       "<text style=\"fill:#000000; fill-opacity:1; font-family:Arial,Helvetica Neue,Helvetica,sans-serif; font-size:48px; text-anchor:middle;\" transform=\"rotate(0, 1260.69, 1541.47)\" x=\"1260.69\" y=\"1541.47\">0</text>\n",
       "</g>\n",
       "<g clip-path=\"url(#clip390)\">\n",
       "<text style=\"fill:#000000; fill-opacity:1; font-family:Arial,Helvetica Neue,Helvetica,sans-serif; font-size:48px; text-anchor:middle;\" transform=\"rotate(0, 1775.82, 1541.47)\" x=\"1775.82\" y=\"1541.47\">1</text>\n",
       "</g>\n",
       "<g clip-path=\"url(#clip390)\">\n",
       "<text style=\"fill:#000000; fill-opacity:1; font-family:Arial,Helvetica Neue,Helvetica,sans-serif; font-size:48px; text-anchor:middle;\" transform=\"rotate(0, 2290.94, 1541.47)\" x=\"2290.94\" y=\"1541.47\">2</text>\n",
       "</g>\n",
       "<g clip-path=\"url(#clip390)\">\n",
       "<text style=\"fill:#000000; fill-opacity:1; font-family:Arial,Helvetica Neue,Helvetica,sans-serif; font-size:48px; text-anchor:end;\" transform=\"rotate(0, 144.627, 1340.69)\" x=\"144.627\" y=\"1340.69\">-10</text>\n",
       "</g>\n",
       "<g clip-path=\"url(#clip390)\">\n",
       "<text style=\"fill:#000000; fill-opacity:1; font-family:Arial,Helvetica Neue,Helvetica,sans-serif; font-size:48px; text-anchor:end;\" transform=\"rotate(0, 144.627, 928.965)\" x=\"144.627\" y=\"928.965\">0</text>\n",
       "</g>\n",
       "<g clip-path=\"url(#clip390)\">\n",
       "<text style=\"fill:#000000; fill-opacity:1; font-family:Arial,Helvetica Neue,Helvetica,sans-serif; font-size:48px; text-anchor:end;\" transform=\"rotate(0, 144.627, 517.235)\" x=\"144.627\" y=\"517.235\">10</text>\n",
       "</g>\n",
       "<g clip-path=\"url(#clip390)\">\n",
       "<text style=\"fill:#000000; fill-opacity:1; font-family:Arial,Helvetica Neue,Helvetica,sans-serif; font-size:48px; text-anchor:end;\" transform=\"rotate(0, 144.627, 105.505)\" x=\"144.627\" y=\"105.505\">20</text>\n",
       "</g>\n",
       "<polyline clip-path=\"url(#clip392)\" style=\"stroke:#009af9; stroke-width:3.2; stroke-opacity:1; fill:none\" points=\"\n",
       "  230.442,88.0053 235.593,93.3496 240.744,98.6774 245.896,103.989 251.047,109.284 256.198,114.562 261.349,119.824 266.501,125.069 271.652,130.298 276.803,135.511 \n",
       "  281.954,140.707 287.106,145.886 292.257,151.049 297.408,156.196 302.559,161.326 307.711,166.44 312.862,171.537 318.013,176.618 323.164,181.682 328.316,186.73 \n",
       "  333.467,191.761 338.618,196.776 343.769,201.775 348.921,206.756 354.072,211.722 359.223,216.671 364.374,221.603 369.526,226.519 374.677,231.419 379.828,236.302 \n",
       "  384.979,241.169 390.131,246.019 395.282,250.853 400.433,255.67 405.584,260.471 410.736,265.255 415.887,270.023 421.038,274.774 426.189,279.509 431.341,284.227 \n",
       "  436.492,288.929 441.643,293.615 446.794,298.284 451.946,302.936 457.097,307.573 462.248,312.192 467.399,316.795 472.551,321.382 477.702,325.952 482.853,330.506 \n",
       "  488.004,335.043 493.155,339.564 498.307,344.068 503.458,348.556 508.609,353.028 513.76,357.482 518.912,361.921 524.063,366.343 529.214,370.748 534.365,375.137 \n",
       "  539.517,379.51 544.668,383.866 549.819,388.206 554.97,392.529 560.122,396.836 565.273,401.126 570.424,405.4 575.575,409.657 580.727,413.898 585.878,418.122 \n",
       "  591.029,422.33 596.18,426.521 601.332,430.696 606.483,434.855 611.634,438.997 616.785,443.122 621.937,447.231 627.088,451.324 632.239,455.4 637.39,459.46 \n",
       "  642.542,463.503 647.693,467.53 652.844,471.54 657.995,475.534 663.147,479.511 668.298,483.472 673.449,487.416 678.6,491.344 683.752,495.255 688.903,499.15 \n",
       "  694.054,503.029 699.205,506.891 704.357,510.736 709.508,514.566 714.659,518.378 719.81,522.174 724.962,525.954 730.113,529.717 735.264,533.464 740.415,537.194 \n",
       "  745.567,540.908 750.718,544.605 755.869,548.286 761.02,551.951 766.172,555.599 771.323,559.23 776.474,562.845 781.625,566.444 786.777,570.026 791.928,573.591 \n",
       "  797.079,577.14 802.23,580.673 807.382,584.189 812.533,587.689 817.684,591.172 822.835,594.639 827.987,598.089 833.138,601.523 838.289,604.94 843.44,608.341 \n",
       "  848.592,611.726 853.743,615.094 858.894,618.445 864.045,621.78 869.197,625.099 874.348,628.401 879.499,631.686 884.65,634.955 889.802,638.208 894.953,641.444 \n",
       "  900.104,644.664 905.255,647.867 910.407,651.054 915.558,654.224 920.709,657.378 925.86,660.516 931.012,663.636 936.163,666.741 941.314,669.829 946.465,672.9 \n",
       "  951.617,675.955 956.768,678.994 961.919,682.016 967.07,685.022 972.222,688.011 977.373,690.984 982.524,693.94 987.675,696.88 992.827,699.803 997.978,702.71 \n",
       "  1003.13,705.6 1008.28,708.474 1013.43,711.331 1018.58,714.172 1023.73,716.997 1028.89,719.805 1034.04,722.596 1039.19,725.371 1044.34,728.13 1049.49,730.872 \n",
       "  1054.64,733.598 1059.79,736.307 1064.94,738.999 1070.1,741.676 1075.25,744.335 1080.4,746.979 1085.55,749.606 1090.7,752.216 1095.85,754.81 1101,757.387 \n",
       "  1106.15,759.948 1111.31,762.493 1116.46,765.021 1121.61,767.532 1126.76,770.027 1131.91,772.506 1137.06,774.968 1142.21,777.414 1147.36,779.843 1152.52,782.256 \n",
       "  1157.67,784.652 1162.82,787.032 1167.97,789.395 1173.12,791.742 1178.27,794.072 1183.42,796.386 1188.57,798.684 1193.73,800.965 1198.88,803.229 1204.03,805.477 \n",
       "  1209.18,807.709 1214.33,809.924 1219.48,812.123 1224.63,814.305 1229.78,816.471 1234.94,818.62 1240.09,820.753 1245.24,822.869 1250.39,824.969 1255.54,827.052 \n",
       "  1260.69,829.119 1265.84,831.169 1270.99,833.203 1276.15,835.221 1281.3,837.222 1286.45,839.206 1291.6,841.174 1296.75,843.126 1301.9,845.061 1307.05,846.98 \n",
       "  1312.2,848.882 1317.36,850.768 1322.51,852.637 1327.66,854.49 1332.81,856.326 1337.96,858.146 1343.11,859.949 1348.26,861.736 1353.41,863.507 1358.57,865.261 \n",
       "  1363.72,866.998 1368.87,868.719 1374.02,870.424 1379.17,872.112 1384.32,873.783 1389.47,875.438 1394.62,877.077 1399.78,878.699 1404.93,880.305 1410.08,881.894 \n",
       "  1415.23,883.467 1420.38,885.024 1425.53,886.563 1430.68,888.087 1435.83,889.594 1440.99,891.084 1446.14,892.558 1451.29,894.016 1456.44,895.457 1461.59,896.881 \n",
       "  1466.74,898.289 1471.89,899.681 1477.04,901.056 1482.2,902.415 1487.35,903.757 1492.5,905.083 1497.65,906.392 1502.8,907.685 1507.95,908.962 1513.1,910.221 \n",
       "  1518.25,911.465 1523.41,912.692 1528.56,913.902 1533.71,915.096 1538.86,916.274 1544.01,917.435 1549.16,918.58 1554.31,919.708 1559.46,920.819 1564.62,921.915 \n",
       "  1569.77,922.993 1574.92,924.056 1580.07,925.101 1585.22,926.131 1590.37,927.143 1595.52,928.14 1600.67,929.12 1605.82,930.083 1610.98,931.03 1616.13,931.961 \n",
       "  1621.28,932.875 1626.43,933.772 1631.58,934.653 1636.73,935.518 1641.88,936.366 1647.03,937.198 1652.19,938.013 1657.34,938.812 1662.49,939.594 1667.64,940.36 \n",
       "  1672.79,941.109 1677.94,941.842 1683.09,942.559 1688.24,943.259 1693.4,943.942 1698.55,944.609 1703.7,945.26 1708.85,945.894 1714,946.511 1719.15,947.112 \n",
       "  1724.3,947.697 1729.45,948.265 1734.61,948.817 1739.76,949.352 1744.91,949.871 1750.06,950.373 1755.21,950.859 1760.36,951.328 1765.51,951.781 1770.66,952.218 \n",
       "  1775.82,952.638 1780.97,953.041 1786.12,953.428 1791.27,953.799 1796.42,954.153 1801.57,954.491 1806.72,954.812 1811.87,955.116 1817.03,955.405 1822.18,955.676 \n",
       "  1827.33,955.932 1832.48,956.17 1837.63,956.393 1842.78,956.599 1847.93,956.788 1853.08,956.961 1858.24,957.117 1863.39,957.257 1868.54,957.381 1873.69,957.488 \n",
       "  1878.84,957.579 1883.99,957.653 1889.14,957.71 1894.29,957.751 1899.45,957.776 1904.6,957.784 1909.75,957.776 1914.9,957.751 1920.05,957.71 1925.2,957.653 \n",
       "  1930.35,957.579 1935.5,957.488 1940.66,957.381 1945.81,957.257 1950.96,957.117 1956.11,956.961 1961.26,956.788 1966.41,956.599 1971.56,956.393 1976.71,956.17 \n",
       "  1981.87,955.932 1987.02,955.676 1992.17,955.405 1997.32,955.116 2002.47,954.812 2007.62,954.491 2012.77,954.153 2017.92,953.799 2023.08,953.428 2028.23,953.041 \n",
       "  2033.38,952.638 2038.53,952.218 2043.68,951.781 2048.83,951.328 2053.98,950.859 2059.13,950.373 2064.29,949.871 2069.44,949.352 2074.59,948.817 2079.74,948.265 \n",
       "  2084.89,947.697 2090.04,947.112 2095.19,946.511 2100.34,945.894 2105.5,945.26 2110.65,944.609 2115.8,943.942 2120.95,943.259 2126.1,942.559 2131.25,941.842 \n",
       "  2136.4,941.109 2141.55,940.36 2146.71,939.594 2151.86,938.812 2157.01,938.013 2162.16,937.198 2167.31,936.366 2172.46,935.518 2177.61,934.653 2182.76,933.772 \n",
       "  2187.92,932.875 2193.07,931.961 2198.22,931.03 2203.37,930.083 2208.52,929.12 2213.67,928.14 2218.82,927.143 2223.97,926.131 2229.13,925.101 2234.28,924.056 \n",
       "  2239.43,922.993 2244.58,921.915 2249.73,920.819 2254.88,919.708 2260.03,918.58 2265.18,917.435 2270.34,916.274 2275.49,915.096 2280.64,913.902 2285.79,912.692 \n",
       "  2290.94,911.465 \n",
       "  \"/>\n",
       "<polyline clip-path=\"url(#clip392)\" style=\"stroke:#e26f46; stroke-width:3.2; stroke-opacity:1; fill:none\" points=\"\n",
       "  230.442,1446.71 235.593,1445.07 240.744,1443.42 245.896,1441.77 251.047,1440.13 256.198,1438.48 261.349,1436.83 266.501,1435.19 271.652,1433.54 276.803,1431.89 \n",
       "  281.954,1430.24 287.106,1428.6 292.257,1426.95 297.408,1425.3 302.559,1423.66 307.711,1422.01 312.862,1420.36 318.013,1418.72 323.164,1417.07 328.316,1415.42 \n",
       "  333.467,1413.78 338.618,1412.13 343.769,1410.48 348.921,1408.83 354.072,1407.19 359.223,1405.54 364.374,1403.89 369.526,1402.25 374.677,1400.6 379.828,1398.95 \n",
       "  384.979,1397.31 390.131,1395.66 395.282,1394.01 400.433,1392.37 405.584,1390.72 410.736,1389.07 415.887,1387.42 421.038,1385.78 426.189,1384.13 431.341,1382.48 \n",
       "  436.492,1380.84 441.643,1379.19 446.794,1377.54 451.946,1375.9 457.097,1374.25 462.248,1372.6 467.399,1370.96 472.551,1369.31 477.702,1367.66 482.853,1366.01 \n",
       "  488.004,1364.37 493.155,1362.72 498.307,1361.07 503.458,1359.43 508.609,1357.78 513.76,1356.13 518.912,1354.49 524.063,1352.84 529.214,1351.19 534.365,1349.55 \n",
       "  539.517,1347.9 544.668,1346.25 549.819,1344.6 554.97,1342.96 560.122,1341.31 565.273,1339.66 570.424,1338.02 575.575,1336.37 580.727,1334.72 585.878,1333.08 \n",
       "  591.029,1331.43 596.18,1329.78 601.332,1328.14 606.483,1326.49 611.634,1324.84 616.785,1323.19 621.937,1321.55 627.088,1319.9 632.239,1318.25 637.39,1316.61 \n",
       "  642.542,1314.96 647.693,1313.31 652.844,1311.67 657.995,1310.02 663.147,1308.37 668.298,1306.73 673.449,1305.08 678.6,1303.43 683.752,1301.78 688.903,1300.14 \n",
       "  694.054,1298.49 699.205,1296.84 704.357,1295.2 709.508,1293.55 714.659,1291.9 719.81,1290.26 724.962,1288.61 730.113,1286.96 735.264,1285.32 740.415,1283.67 \n",
       "  745.567,1282.02 750.718,1280.37 755.869,1278.73 761.02,1277.08 766.172,1275.43 771.323,1273.79 776.474,1272.14 781.625,1270.49 786.777,1268.85 791.928,1267.2 \n",
       "  797.079,1265.55 802.23,1263.91 807.382,1262.26 812.533,1260.61 817.684,1258.96 822.835,1257.32 827.987,1255.67 833.138,1254.02 838.289,1252.38 843.44,1250.73 \n",
       "  848.592,1249.08 853.743,1247.44 858.894,1245.79 864.045,1244.14 869.197,1242.5 874.348,1240.85 879.499,1239.2 884.65,1237.55 889.802,1235.91 894.953,1234.26 \n",
       "  900.104,1232.61 905.255,1230.97 910.407,1229.32 915.558,1227.67 920.709,1226.03 925.86,1224.38 931.012,1222.73 936.163,1221.09 941.314,1219.44 946.465,1217.79 \n",
       "  951.617,1216.14 956.768,1214.5 961.919,1212.85 967.07,1211.2 972.222,1209.56 977.373,1207.91 982.524,1206.26 987.675,1204.62 992.827,1202.97 997.978,1201.32 \n",
       "  1003.13,1199.68 1008.28,1198.03 1013.43,1196.38 1018.58,1194.73 1023.73,1193.09 1028.89,1191.44 1034.04,1189.79 1039.19,1188.15 1044.34,1186.5 1049.49,1184.85 \n",
       "  1054.64,1183.21 1059.79,1181.56 1064.94,1179.91 1070.1,1178.27 1075.25,1176.62 1080.4,1174.97 1085.55,1173.32 1090.7,1171.68 1095.85,1170.03 1101,1168.38 \n",
       "  1106.15,1166.74 1111.31,1165.09 1116.46,1163.44 1121.61,1161.8 1126.76,1160.15 1131.91,1158.5 1137.06,1156.86 1142.21,1155.21 1147.36,1153.56 1152.52,1151.91 \n",
       "  1157.67,1150.27 1162.82,1148.62 1167.97,1146.97 1173.12,1145.33 1178.27,1143.68 1183.42,1142.03 1188.57,1140.39 1193.73,1138.74 1198.88,1137.09 1204.03,1135.45 \n",
       "  1209.18,1133.8 1214.33,1132.15 1219.48,1130.51 1224.63,1128.86 1229.78,1127.21 1234.94,1125.56 1240.09,1123.92 1245.24,1122.27 1250.39,1120.62 1255.54,1118.98 \n",
       "  1260.69,1117.33 1265.84,1115.68 1270.99,1114.04 1276.15,1112.39 1281.3,1110.74 1286.45,1109.1 1291.6,1107.45 1296.75,1105.8 1301.9,1104.15 1307.05,1102.51 \n",
       "  1312.2,1100.86 1317.36,1099.21 1322.51,1097.57 1327.66,1095.92 1332.81,1094.27 1337.96,1092.63 1343.11,1090.98 1348.26,1089.33 1353.41,1087.69 1358.57,1086.04 \n",
       "  1363.72,1084.39 1368.87,1082.74 1374.02,1081.1 1379.17,1079.45 1384.32,1077.8 1389.47,1076.16 1394.62,1074.51 1399.78,1072.86 1404.93,1071.22 1410.08,1069.57 \n",
       "  1415.23,1067.92 1420.38,1066.28 1425.53,1064.63 1430.68,1062.98 1435.83,1061.33 1440.99,1059.69 1446.14,1058.04 1451.29,1056.39 1456.44,1054.75 1461.59,1053.1 \n",
       "  1466.74,1051.45 1471.89,1049.81 1477.04,1048.16 1482.2,1046.51 1487.35,1044.87 1492.5,1043.22 1497.65,1041.57 1502.8,1039.92 1507.95,1038.28 1513.1,1036.63 \n",
       "  1518.25,1034.98 1523.41,1033.34 1528.56,1031.69 1533.71,1030.04 1538.86,1028.4 1544.01,1026.75 1549.16,1025.1 1554.31,1023.46 1559.46,1021.81 1564.62,1020.16 \n",
       "  1569.77,1018.51 1574.92,1016.87 1580.07,1015.22 1585.22,1013.57 1590.37,1011.93 1595.52,1010.28 1600.67,1008.63 1605.82,1006.99 1610.98,1005.34 1616.13,1003.69 \n",
       "  1621.28,1002.05 1626.43,1000.4 1631.58,998.752 1636.73,997.105 1641.88,995.458 1647.03,993.811 1652.19,992.164 1657.34,990.517 1662.49,988.87 1667.64,987.223 \n",
       "  1672.79,985.576 1677.94,983.929 1683.09,982.282 1688.24,980.635 1693.4,978.988 1698.55,977.342 1703.7,975.695 1708.85,974.048 1714,972.401 1719.15,970.754 \n",
       "  1724.3,969.107 1729.45,967.46 1734.61,965.813 1739.76,964.166 1744.91,962.519 1750.06,960.872 1755.21,959.225 1760.36,957.579 1765.51,955.932 1770.66,954.285 \n",
       "  1775.82,952.638 1780.97,950.991 1786.12,949.344 1791.27,947.697 1796.42,946.05 1801.57,944.403 1806.72,942.756 1811.87,941.109 1817.03,939.462 1822.18,937.816 \n",
       "  1827.33,936.169 1832.48,934.522 1837.63,932.875 1842.78,931.228 1847.93,929.581 1853.08,927.934 1858.24,926.287 1863.39,924.64 1868.54,922.993 1873.69,921.346 \n",
       "  1878.84,919.699 1883.99,918.052 1889.14,916.406 1894.29,914.759 1899.45,913.112 1904.6,911.465 1909.75,909.818 1914.9,908.171 1920.05,906.524 1925.2,904.877 \n",
       "  1930.35,903.23 1935.5,901.583 1940.66,899.936 1945.81,898.289 1950.96,896.643 1956.11,894.996 1961.26,893.349 1966.41,891.702 1971.56,890.055 1976.71,888.408 \n",
       "  1981.87,886.761 1987.02,885.114 1992.17,883.467 1997.32,881.82 2002.47,880.173 2007.62,878.526 2012.77,876.88 2017.92,875.233 2023.08,873.586 2028.23,871.939 \n",
       "  2033.38,870.292 2038.53,868.645 2043.68,866.998 2048.83,865.351 2053.98,863.704 2059.13,862.057 2064.29,860.41 2069.44,858.763 2074.59,857.116 2079.74,855.47 \n",
       "  2084.89,853.823 2090.04,852.176 2095.19,850.529 2100.34,848.882 2105.5,847.235 2110.65,845.588 2115.8,843.941 2120.95,842.294 2126.1,840.647 2131.25,839 \n",
       "  2136.4,837.353 2141.55,835.707 2146.71,834.06 2151.86,832.413 2157.01,830.766 2162.16,829.119 2167.31,827.472 2172.46,825.825 2177.61,824.178 2182.76,822.531 \n",
       "  2187.92,820.884 2193.07,819.237 2198.22,817.59 2203.37,815.944 2208.52,814.297 2213.67,812.65 2218.82,811.003 2223.97,809.356 2229.13,807.709 2234.28,806.062 \n",
       "  2239.43,804.415 2244.58,802.768 2249.73,801.121 2254.88,799.474 2260.03,797.827 2265.18,796.18 2270.34,794.534 2275.49,792.887 2280.64,791.24 2285.79,789.593 \n",
       "  \n",
       "  \"/>\n",
       "<path clip-path=\"url(#clip390)\" d=\"\n",
       "M1987.23 312.204 L2280.76 312.204 L2280.76 130.764 L1987.23 130.764  Z\n",
       "  \" fill=\"#ffffff\" fill-rule=\"evenodd\" fill-opacity=\"1\"/>\n",
       "<polyline clip-path=\"url(#clip390)\" style=\"stroke:#000000; stroke-width:3.2; stroke-opacity:1; fill:none\" points=\"\n",
       "  1987.23,312.204 2280.76,312.204 2280.76,130.764 1987.23,130.764 1987.23,312.204 \n",
       "  \"/>\n",
       "<polyline clip-path=\"url(#clip390)\" style=\"stroke:#009af9; stroke-width:3.2; stroke-opacity:1; fill:none\" points=\"\n",
       "  2011.23,191.244 2155.23,191.244 \n",
       "  \"/>\n",
       "<g clip-path=\"url(#clip390)\">\n",
       "<text style=\"fill:#000000; fill-opacity:1; font-family:Arial,Helvetica Neue,Helvetica,sans-serif; font-size:48px; text-anchor:start;\" transform=\"rotate(0, 2179.23, 208.744)\" x=\"2179.23\" y=\"208.744\">p</text>\n",
       "</g>\n",
       "<polyline clip-path=\"url(#clip390)\" style=\"stroke:#e26f46; stroke-width:3.2; stroke-opacity:1; fill:none\" points=\"\n",
       "  2011.23,251.724 2155.23,251.724 \n",
       "  \"/>\n",
       "<g clip-path=\"url(#clip390)\">\n",
       "<text style=\"fill:#000000; fill-opacity:1; font-family:Arial,Helvetica Neue,Helvetica,sans-serif; font-size:48px; text-anchor:start;\" transform=\"rotate(0, 2179.23, 269.224)\" x=\"2179.23\" y=\"269.224\">p′</text>\n",
       "</g>\n",
       "</svg>\n"
      ]
     },
     "execution_count": 144,
     "metadata": {},
     "output_type": "execute_result"
    }
   ],
   "source": [
    "#Exercise 3\n",
    "\n",
    "\n",
    "using Polynomials\n",
    "using Plots\n",
    "\n",
    "p = Poly([2, -5, 2], :x)  # :x just gives a symbol for display\n",
    "p′ = polyder(p)   # gives the derivative of p, another polynomial\n",
    "\n",
    "@show p(0.1), p′(0.1)  # call like a function\n",
    "@show roots(p);   # find roots such that p(x) = 0\n",
    "@show typeof(p′) \n",
    "\n",
    "x = -2:0.01:2\n",
    "p_x = p.(x)\n",
    "p′_x = p′.(x)\n",
    "\n",
    "\n",
    "plot(x[1:end], p_x[1:end],label = \"p\") \n",
    "plot!(x[1:end-1], p′_x[1:end-1],label = \"p′\")"
   ]
  },
  {
   "cell_type": "code",
   "execution_count": 195,
   "metadata": {},
   "outputs": [
    {
     "name": "stdout",
     "output_type": "stream",
     "text": [
      "p = Poly(2 - 5*x + 2*x^2)\n",
      "newtonsmethod_result(randn(100)) = [0.5, 2.0]\n",
      "roots(p) = [0.5, 2.0]\n",
      "  39.430 μs (708 allocations: 39.84 KiB)\n",
      "  1.520 μs (23 allocations: 2.33 KiB)\n"
     ]
    }
   ],
   "source": [
    "#Exercise 4\n",
    "\n",
    "\n",
    "using Polynomials\n",
    "using BenchmarkTools\n",
    "\n",
    "\n",
    "function newtonsmethod(p::Poly, x_0; tolerance = 1E-100, maxiter = 500)\n",
    "    x_old = x_0\n",
    "    normdiff = Inf\n",
    "    iter = 1\n",
    "    p′ = polyder(p)\n",
    "    while normdiff > tolerance  && iter <= maxiter\n",
    "        x_new = x_old - p(x_old)/p′(x_old)\n",
    "        normdiff = norm(x_new - x_old)\n",
    "        x_old = x_new\n",
    "        iter = iter + 1\n",
    "    end\n",
    "    return x_old # show elements in a vector without duplication\n",
    "end\n",
    "\n",
    "\n",
    "\n",
    "function newtonsmethod_result(x_initial)\n",
    "    result = zeros(length(x_initial))\n",
    "    for i in 1:length(x_initial)\n",
    "        result[i] = newtonsmethod(p,x_initial[i])\n",
    "    end\n",
    "    return unique(result)\n",
    "end \n",
    "    \n",
    "\n",
    "p = Poly([2, -5, 2], :x)  # :x just gives a symbol for display\n",
    "@show p\n",
    "@show newtonsmethod_result(randn(100))\n",
    "@show roots(p)\n",
    "\n",
    "@btime newtonsmethod_result(randn(100))\n",
    "@btime roots(p);\n",
    "\n",
    "\n"
   ]
  },
  {
   "cell_type": "code",
   "execution_count": 178,
   "metadata": {},
   "outputs": [
    {
     "data": {
      "text/plain": [
       "0.0"
      ]
     },
     "execution_count": 178,
     "metadata": {},
     "output_type": "execute_result"
    }
   ],
   "source": [
    "x_0[2]"
   ]
  },
  {
   "cell_type": "code",
   "execution_count": 136,
   "metadata": {},
   "outputs": [
    {
     "name": "stdout",
     "output_type": "stream",
     "text": [
      "trapezoidal_1(f_x, x) = 0.33333754198126314\n",
      "trapezoidal_2(f_x, x) = 0.33333754198126314\n",
      "trapezoidal_3(f, x_l, x_u, N) = 0.33333754198126314\n",
      "(value, accuracy) = quadgk(f, 0.0, 1.0) = (0.3333333333333333, 5.551115123125783e-17)\n"
     ]
    },
    {
     "data": {
      "image/svg+xml": [
       "<?xml version=\"1.0\" encoding=\"utf-8\"?>\n",
       "<svg xmlns=\"http://www.w3.org/2000/svg\" xmlns:xlink=\"http://www.w3.org/1999/xlink\" width=\"600\" height=\"400\" viewBox=\"0 0 2400 1600\">\n",
       "<defs>\n",
       "  <clipPath id=\"clip500\">\n",
       "    <rect x=\"0\" y=\"0\" width=\"2400\" height=\"1600\"/>\n",
       "  </clipPath>\n",
       "</defs>\n",
       "<path clip-path=\"url(#clip500)\" d=\"\n",
       "M0 1600 L2400 1600 L2400 0 L0 0  Z\n",
       "  \" fill=\"#ffffff\" fill-rule=\"evenodd\" fill-opacity=\"1\"/>\n",
       "<defs>\n",
       "  <clipPath id=\"clip501\">\n",
       "    <rect x=\"480\" y=\"0\" width=\"1681\" height=\"1600\"/>\n",
       "  </clipPath>\n",
       "</defs>\n",
       "<path clip-path=\"url(#clip500)\" d=\"\n",
       "M180.66 1487.47 L2352.76 1487.47 L2352.76 47.2441 L180.66 47.2441  Z\n",
       "  \" fill=\"#ffffff\" fill-rule=\"evenodd\" fill-opacity=\"1\"/>\n",
       "<defs>\n",
       "  <clipPath id=\"clip502\">\n",
       "    <rect x=\"180\" y=\"47\" width=\"2173\" height=\"1441\"/>\n",
       "  </clipPath>\n",
       "</defs>\n",
       "<polyline clip-path=\"url(#clip502)\" style=\"stroke:#000000; stroke-width:1.6; stroke-opacity:0.1; fill:none\" points=\"\n",
       "  231.785,1487.47 231.785,47.2441 \n",
       "  \"/>\n",
       "<polyline clip-path=\"url(#clip502)\" style=\"stroke:#000000; stroke-width:1.6; stroke-opacity:0.1; fill:none\" points=\"\n",
       "  749.247,1487.47 749.247,47.2441 \n",
       "  \"/>\n",
       "<polyline clip-path=\"url(#clip502)\" style=\"stroke:#000000; stroke-width:1.6; stroke-opacity:0.1; fill:none\" points=\"\n",
       "  1266.71,1487.47 1266.71,47.2441 \n",
       "  \"/>\n",
       "<polyline clip-path=\"url(#clip502)\" style=\"stroke:#000000; stroke-width:1.6; stroke-opacity:0.1; fill:none\" points=\"\n",
       "  1784.17,1487.47 1784.17,47.2441 \n",
       "  \"/>\n",
       "<polyline clip-path=\"url(#clip502)\" style=\"stroke:#000000; stroke-width:1.6; stroke-opacity:0.1; fill:none\" points=\"\n",
       "  2301.63,1487.47 2301.63,47.2441 \n",
       "  \"/>\n",
       "<polyline clip-path=\"url(#clip502)\" style=\"stroke:#000000; stroke-width:1.6; stroke-opacity:0.1; fill:none\" points=\"\n",
       "  180.66,1446.75 2352.76,1446.75 \n",
       "  \"/>\n",
       "<polyline clip-path=\"url(#clip502)\" style=\"stroke:#000000; stroke-width:1.6; stroke-opacity:0.1; fill:none\" points=\"\n",
       "  180.66,1039.13 2352.76,1039.13 \n",
       "  \"/>\n",
       "<polyline clip-path=\"url(#clip502)\" style=\"stroke:#000000; stroke-width:1.6; stroke-opacity:0.1; fill:none\" points=\"\n",
       "  180.66,631.502 2352.76,631.502 \n",
       "  \"/>\n",
       "<polyline clip-path=\"url(#clip502)\" style=\"stroke:#000000; stroke-width:1.6; stroke-opacity:0.1; fill:none\" points=\"\n",
       "  180.66,223.88 2352.76,223.88 \n",
       "  \"/>\n",
       "<polyline clip-path=\"url(#clip500)\" style=\"stroke:#000000; stroke-width:3.2; stroke-opacity:1; fill:none\" points=\"\n",
       "  180.66,1487.47 2352.76,1487.47 \n",
       "  \"/>\n",
       "<polyline clip-path=\"url(#clip500)\" style=\"stroke:#000000; stroke-width:3.2; stroke-opacity:1; fill:none\" points=\"\n",
       "  180.66,1487.47 180.66,47.2441 \n",
       "  \"/>\n",
       "<polyline clip-path=\"url(#clip500)\" style=\"stroke:#000000; stroke-width:3.2; stroke-opacity:1; fill:none\" points=\"\n",
       "  231.785,1487.47 231.785,1465.87 \n",
       "  \"/>\n",
       "<polyline clip-path=\"url(#clip500)\" style=\"stroke:#000000; stroke-width:3.2; stroke-opacity:1; fill:none\" points=\"\n",
       "  749.247,1487.47 749.247,1465.87 \n",
       "  \"/>\n",
       "<polyline clip-path=\"url(#clip500)\" style=\"stroke:#000000; stroke-width:3.2; stroke-opacity:1; fill:none\" points=\"\n",
       "  1266.71,1487.47 1266.71,1465.87 \n",
       "  \"/>\n",
       "<polyline clip-path=\"url(#clip500)\" style=\"stroke:#000000; stroke-width:3.2; stroke-opacity:1; fill:none\" points=\"\n",
       "  1784.17,1487.47 1784.17,1465.87 \n",
       "  \"/>\n",
       "<polyline clip-path=\"url(#clip500)\" style=\"stroke:#000000; stroke-width:3.2; stroke-opacity:1; fill:none\" points=\"\n",
       "  2301.63,1487.47 2301.63,1465.87 \n",
       "  \"/>\n",
       "<polyline clip-path=\"url(#clip500)\" style=\"stroke:#000000; stroke-width:3.2; stroke-opacity:1; fill:none\" points=\"\n",
       "  180.66,1446.75 213.242,1446.75 \n",
       "  \"/>\n",
       "<polyline clip-path=\"url(#clip500)\" style=\"stroke:#000000; stroke-width:3.2; stroke-opacity:1; fill:none\" points=\"\n",
       "  180.66,1039.13 213.242,1039.13 \n",
       "  \"/>\n",
       "<polyline clip-path=\"url(#clip500)\" style=\"stroke:#000000; stroke-width:3.2; stroke-opacity:1; fill:none\" points=\"\n",
       "  180.66,631.502 213.242,631.502 \n",
       "  \"/>\n",
       "<polyline clip-path=\"url(#clip500)\" style=\"stroke:#000000; stroke-width:3.2; stroke-opacity:1; fill:none\" points=\"\n",
       "  180.66,223.88 213.242,223.88 \n",
       "  \"/>\n",
       "<g clip-path=\"url(#clip500)\">\n",
       "<text style=\"fill:#000000; fill-opacity:1; font-family:Arial,Helvetica Neue,Helvetica,sans-serif; font-size:48px; text-anchor:middle;\" transform=\"rotate(0, 231.785, 1541.47)\" x=\"231.785\" y=\"1541.47\">0</text>\n",
       "</g>\n",
       "<g clip-path=\"url(#clip500)\">\n",
       "<text style=\"fill:#000000; fill-opacity:1; font-family:Arial,Helvetica Neue,Helvetica,sans-serif; font-size:48px; text-anchor:middle;\" transform=\"rotate(0, 749.247, 1541.47)\" x=\"749.247\" y=\"1541.47\">50</text>\n",
       "</g>\n",
       "<g clip-path=\"url(#clip500)\">\n",
       "<text style=\"fill:#000000; fill-opacity:1; font-family:Arial,Helvetica Neue,Helvetica,sans-serif; font-size:48px; text-anchor:middle;\" transform=\"rotate(0, 1266.71, 1541.47)\" x=\"1266.71\" y=\"1541.47\">100</text>\n",
       "</g>\n",
       "<g clip-path=\"url(#clip500)\">\n",
       "<text style=\"fill:#000000; fill-opacity:1; font-family:Arial,Helvetica Neue,Helvetica,sans-serif; font-size:48px; text-anchor:middle;\" transform=\"rotate(0, 1784.17, 1541.47)\" x=\"1784.17\" y=\"1541.47\">150</text>\n",
       "</g>\n",
       "<g clip-path=\"url(#clip500)\">\n",
       "<text style=\"fill:#000000; fill-opacity:1; font-family:Arial,Helvetica Neue,Helvetica,sans-serif; font-size:48px; text-anchor:middle;\" transform=\"rotate(0, 2301.63, 1541.47)\" x=\"2301.63\" y=\"1541.47\">200</text>\n",
       "</g>\n",
       "<g clip-path=\"url(#clip500)\">\n",
       "<text style=\"fill:#000000; fill-opacity:1; font-family:Arial,Helvetica Neue,Helvetica,sans-serif; font-size:48px; text-anchor:end;\" transform=\"rotate(0, 156.66, 1464.25)\" x=\"156.66\" y=\"1464.25\">0.00</text>\n",
       "</g>\n",
       "<g clip-path=\"url(#clip500)\">\n",
       "<text style=\"fill:#000000; fill-opacity:1; font-family:Arial,Helvetica Neue,Helvetica,sans-serif; font-size:48px; text-anchor:end;\" transform=\"rotate(0, 156.66, 1056.63)\" x=\"156.66\" y=\"1056.63\">0.05</text>\n",
       "</g>\n",
       "<g clip-path=\"url(#clip500)\">\n",
       "<text style=\"fill:#000000; fill-opacity:1; font-family:Arial,Helvetica Neue,Helvetica,sans-serif; font-size:48px; text-anchor:end;\" transform=\"rotate(0, 156.66, 649.002)\" x=\"156.66\" y=\"649.002\">0.10</text>\n",
       "</g>\n",
       "<g clip-path=\"url(#clip500)\">\n",
       "<text style=\"fill:#000000; fill-opacity:1; font-family:Arial,Helvetica Neue,Helvetica,sans-serif; font-size:48px; text-anchor:end;\" transform=\"rotate(0, 156.66, 241.38)\" x=\"156.66\" y=\"241.38\">0.15</text>\n",
       "</g>\n",
       "<polyline clip-path=\"url(#clip502)\" style=\"stroke:#009af9; stroke-width:3.2; stroke-opacity:1; fill:none\" points=\"\n",
       "  242.135,88.0053 252.484,1107.06 262.833,1295.78 273.182,1361.83 283.532,1392.4 293.881,1409 304.23,1419.02 314.579,1425.52 324.929,1429.97 335.278,1433.16 \n",
       "  345.627,1435.52 355.976,1437.31 366.325,1438.71 376.675,1439.82 387.024,1440.71 397.373,1441.44 407.722,1442.05 418.072,1442.55 428.421,1442.98 438.77,1443.35 \n",
       "  449.119,1443.67 459.468,1443.94 469.818,1444.18 480.167,1444.39 490.516,1444.57 500.865,1444.74 511.215,1444.88 521.564,1445.01 531.913,1445.13 542.262,1445.24 \n",
       "  552.612,1445.33 562.961,1445.42 573.31,1445.5 583.659,1445.57 594.008,1445.64 604.358,1445.7 614.707,1445.76 625.056,1445.81 635.405,1445.85 645.755,1445.9 \n",
       "  656.104,1445.94 666.453,1445.98 676.802,1446.01 687.151,1446.05 697.501,1446.08 707.85,1446.11 718.199,1446.13 728.548,1446.16 738.898,1446.18 749.247,1446.2 \n",
       "  759.596,1446.23 769.945,1446.25 780.294,1446.26 790.644,1446.28 800.993,1446.3 811.342,1446.31 821.691,1446.33 832.041,1446.34 842.39,1446.36 852.739,1446.37 \n",
       "  863.088,1446.38 873.438,1446.39 883.787,1446.41 894.136,1446.42 904.485,1446.43 914.834,1446.44 925.184,1446.45 935.533,1446.45 945.882,1446.46 956.231,1446.47 \n",
       "  966.581,1446.48 976.93,1446.49 987.279,1446.49 997.628,1446.5 1007.98,1446.51 1018.33,1446.51 1028.68,1446.52 1039.03,1446.52 1049.37,1446.53 1059.72,1446.54 \n",
       "  1070.07,1446.54 1080.42,1446.55 1090.77,1446.55 1101.12,1446.56 1111.47,1446.56 1121.82,1446.56 1132.17,1446.57 1142.52,1446.57 1152.87,1446.58 1163.22,1446.58 \n",
       "  1173.57,1446.58 1183.91,1446.59 1194.26,1446.59 1204.61,1446.59 1214.96,1446.6 1225.31,1446.6 1235.66,1446.6 1246.01,1446.61 1256.36,1446.61 1266.71,1446.61 \n",
       "  1277.06,1446.61 1287.41,1446.62 1297.76,1446.62 1308.11,1446.62 1318.45,1446.62 1328.8,1446.63 1339.15,1446.63 1349.5,1446.63 1359.85,1446.63 1370.2,1446.64 \n",
       "  1380.55,1446.64 1390.9,1446.64 1401.25,1446.64 1411.6,1446.64 1421.95,1446.65 1432.3,1446.65 1442.64,1446.65 1452.99,1446.65 1463.34,1446.65 1473.69,1446.65 \n",
       "  1484.04,1446.65 1494.39,1446.66 1504.74,1446.66 1515.09,1446.66 1525.44,1446.66 1535.79,1446.66 1546.14,1446.66 1556.49,1446.66 1566.84,1446.67 1577.18,1446.67 \n",
       "  1587.53,1446.67 1597.88,1446.67 1608.23,1446.67 1618.58,1446.67 1628.93,1446.67 1639.28,1446.67 1649.63,1446.68 1659.98,1446.68 1670.33,1446.68 1680.68,1446.68 \n",
       "  1691.03,1446.68 1701.38,1446.68 1711.72,1446.68 1722.07,1446.68 1732.42,1446.68 1742.77,1446.68 1753.12,1446.68 1763.47,1446.69 1773.82,1446.69 1784.17,1446.69 \n",
       "  1794.52,1446.69 1804.87,1446.69 1815.22,1446.69 1825.57,1446.69 1835.92,1446.69 1846.26,1446.69 1856.61,1446.69 1866.96,1446.69 1877.31,1446.69 1887.66,1446.69 \n",
       "  1898.01,1446.7 1908.36,1446.7 1918.71,1446.7 1929.06,1446.7 1939.41,1446.7 1949.76,1446.7 1960.11,1446.7 1970.46,1446.7 1980.8,1446.7 1991.15,1446.7 \n",
       "  2001.5,1446.7 2011.85,1446.7 2022.2,1446.7 2032.55,1446.7 2042.9,1446.7 2053.25,1446.7 2063.6,1446.7 2073.95,1446.7 2084.3,1446.71 2094.65,1446.71 \n",
       "  2105,1446.71 2115.34,1446.71 2125.69,1446.71 2136.04,1446.71 2146.39,1446.71 2156.74,1446.71 2167.09,1446.71 2177.44,1446.71 2187.79,1446.71 2198.14,1446.71 \n",
       "  2208.49,1446.71 2218.84,1446.71 2229.19,1446.71 2239.54,1446.71 2249.88,1446.71 2260.23,1446.71 2270.58,1446.71 2280.93,1446.71 2291.28,1446.71 \n",
       "  \"/>\n",
       "<path clip-path=\"url(#clip500)\" d=\"\n",
       "M1618.14 251.724 L2280.76 251.724 L2280.76 130.764 L1618.14 130.764  Z\n",
       "  \" fill=\"#ffffff\" fill-rule=\"evenodd\" fill-opacity=\"1\"/>\n",
       "<polyline clip-path=\"url(#clip500)\" style=\"stroke:#000000; stroke-width:3.2; stroke-opacity:1; fill:none\" points=\"\n",
       "  1618.14,251.724 2280.76,251.724 2280.76,130.764 1618.14,130.764 1618.14,251.724 \n",
       "  \"/>\n",
       "<polyline clip-path=\"url(#clip500)\" style=\"stroke:#009af9; stroke-width:3.2; stroke-opacity:1; fill:none\" points=\"\n",
       "  1642.14,191.244 1786.14,191.244 \n",
       "  \"/>\n",
       "<g clip-path=\"url(#clip500)\">\n",
       "<text style=\"fill:#000000; fill-opacity:1; font-family:Arial,Helvetica Neue,Helvetica,sans-serif; font-size:48px; text-anchor:start;\" transform=\"rotate(0, 1810.14, 208.744)\" x=\"1810.14\" y=\"208.744\">Approximation error</text>\n",
       "</g>\n",
       "</svg>\n"
      ]
     },
     "execution_count": 136,
     "metadata": {},
     "output_type": "execute_result"
    }
   ],
   "source": [
    "#Exercise 5 \n",
    "\n",
    "using QuadGK, Plots\n",
    "\n",
    "\n",
    "\n",
    "function trapezoidal_1(f::AbstractArray ,x::AbstractArray)\n",
    "    f_n = zeros(length(x)-1) \n",
    "    for n in 1:length(x)-1\n",
    "        f_n[n] = (x[n + 1] - x[n])*(f[n] + f[n + 1])/2   #note that there is a typo in definition Δx\n",
    "    end\n",
    "    return sum(f_n)\n",
    "end\n",
    "\n",
    "\n",
    "\n",
    "function trapezoidal_2(f::AbstractArray ,x::AbstractRange)\n",
    "    f_n = zeros(length(x)-1) \n",
    "    for n in 1:length(x)-1\n",
    "        f_n[n] = (x[n + 1] - x[n])*(f[n] + f[n + 1])/2\n",
    "    end\n",
    "    return sum(f_n)\n",
    "end\n",
    "\n",
    "function trapezoidal_3(f::Function, x_l, x_u, N)\n",
    "    f_n = zeros(N)\n",
    "    step = (x_u - x_l)/N\n",
    "    X = range(x_l, x_u,length = N)\n",
    "    for n in 1:N-1\n",
    "        f_n[n] = (X[n+1] - X[n])*(f(X[n+1]) + f(X[n]))/2\n",
    "    end\n",
    "    return sum(f_n)\n",
    "end\n",
    "\n",
    "\n",
    "\n",
    "x = range(0.0, 1.0, length = 200)\n",
    "x_l = 0.0\n",
    "x_u = 1.0\n",
    "N = 200\n",
    "f(x) = x^2\n",
    "f_x = f.(x)\n",
    "\n",
    "\n",
    "@show trapezoidal_1(f_x,x)\n",
    "@show trapezoidal_2(f_x,x)\n",
    "@show trapezoidal_3(f,x_l, x_u, N)\n",
    "\n",
    "\n",
    "@show value, accuracy = quadgk(f,0.0,1.0)\n",
    "\n",
    "\n",
    "\n",
    "error = zeros(N-1) \n",
    "for n in 2:N\n",
    "    error[n-1] =  abs(value - trapezoidal_3(f,x_l, x_u, n)) \n",
    "end \n",
    "plot(error, label = \"Approximation error\")"
   ]
  },
  {
   "cell_type": "code",
   "execution_count": 165,
   "metadata": {},
   "outputs": [
    {
     "name": "stdout",
     "output_type": "stream",
     "text": [
      "g(1.0) = 0.33333754198126314\n"
     ]
    },
    {
     "ename": "MethodError",
     "evalue": "MethodError: no method matching Float64(::ForwardDiff.Dual{ForwardDiff.Tag{var\"#97#98\",Float64},Float64,1})\nClosest candidates are:\n  Float64(::Real, !Matched::RoundingMode) where T<:AbstractFloat at rounding.jl:200\n  Float64(::T) where T<:Number at boot.jl:715\n  Float64(!Matched::Int8) at float.jl:60\n  ...",
     "output_type": "error",
     "traceback": [
      "MethodError: no method matching Float64(::ForwardDiff.Dual{ForwardDiff.Tag{var\"#97#98\",Float64},Float64,1})\nClosest candidates are:\n  Float64(::Real, !Matched::RoundingMode) where T<:AbstractFloat at rounding.jl:200\n  Float64(::T) where T<:Number at boot.jl:715\n  Float64(!Matched::Int8) at float.jl:60\n  ...",
      "",
      "Stacktrace:",
      " [1] convert(::Type{Float64}, ::ForwardDiff.Dual{ForwardDiff.Tag{var\"#97#98\",Float64},Float64,1}) at ./number.jl:7",
      " [2] setindex!(::Array{Float64,1}, ::ForwardDiff.Dual{ForwardDiff.Tag{var\"#97#98\",Float64},Float64,1}, ::Int64) at ./array.jl:826",
      " [3] trapezoidal_3(::typeof(f), ::Float64, ::ForwardDiff.Dual{ForwardDiff.Tag{var\"#97#98\",Float64},Float64,1}, ::Int64) at ./In[163]:11",
      " [4] (::var\"#97#98\")(::ForwardDiff.Dual{ForwardDiff.Tag{var\"#97#98\",Float64},Float64,1}) at ./In[165]:25",
      " [5] derivative at /Users/yurimatsumura/.julia/packages/ForwardDiff/N0wMF/src/derivative.jl:14 [inlined]",
      " [6] Df(::Float64) at ./In[165]:25",
      " [7] top-level scope at In[165]:26"
     ]
    }
   ],
   "source": [
    "#Exercise 6  (incomplete)\n",
    "\n",
    "using Plots, ForwardDiff\n",
    "\n",
    "\n",
    "function trapezoidal_3(f, x_l, x_u, N)\n",
    "    f_n = zeros(N)\n",
    "    step = (x_u - x_l)/N\n",
    "    X = range(x_l, x_u,length = N)\n",
    "    for n in 1:N-1\n",
    "        f_n[n] = (X[n+1] - X[n])*(f(X[n+1]) + f(X[n]))/2\n",
    "    end\n",
    "    return sum(f_n)\n",
    "end\n",
    "\n",
    "x_l = 0.0\n",
    "x_u = 1.0\n",
    "N = 200\n",
    "f(x) = x^2\n",
    "\n",
    "g = x -> trapezoidal_3(f, x_l, x, N)\n",
    "\n",
    "@show g(1.0)\n",
    "\n",
    "Df(z) = ForwardDiff.derivative(y -> trapezoidal_3(f, x_l, y, N),z)\n",
    "\n",
    "Df(1.0)\n",
    "\n",
    "\n"
   ]
  },
  {
   "cell_type": "code",
   "execution_count": null,
   "metadata": {},
   "outputs": [],
   "source": [
    "# more efficient version\n",
    "\n",
    "\n",
    "function trapezoidal_4(f::Function, x_l, x_u, N)\n",
    "    x = range(x_l,x_u, length = N)\n",
    "    ω = step(x) * [0.5;ones(length(x) - 2);0.5]\n",
    "    return dot(f.(x),ω )\n",
    "end\n",
    "\n"
   ]
  }
 ],
 "metadata": {
  "kernelspec": {
   "display_name": "Julia 1.4.1",
   "language": "julia",
   "name": "julia-1.4"
  },
  "language_info": {
   "file_extension": ".jl",
   "mimetype": "application/julia",
   "name": "julia",
   "version": "1.4.1"
  }
 },
 "nbformat": 4,
 "nbformat_minor": 4
}
