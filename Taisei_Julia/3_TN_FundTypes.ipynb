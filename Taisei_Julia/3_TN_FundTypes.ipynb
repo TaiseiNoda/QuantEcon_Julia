{
 "cells": [
  {
   "cell_type": "markdown",
   "metadata": {},
   "source": [
    "**Arrays, Tuples, Ranges, and Other Fundamental Types**\n",
    "\n",
    "[Quant Econ](https://julia.quantecon.org/getting_started_julia/fundamental_types.html)\n",
    "\n",
    "May 20th 2020\n",
    "\n",
    "Taisei Noda"
   ]
  },
  {
   "cell_type": "markdown",
   "metadata": {},
   "source": [
    "* Setup"
   ]
  },
  {
   "cell_type": "code",
   "execution_count": 1,
   "metadata": {},
   "outputs": [
    {
     "name": "stdout",
     "output_type": "stream",
     "text": [
      "\u001b[32m\u001b[1mActivated\u001b[0m /Users/taisei/Project.toml\u001b[39m\n",
      "\u001b[36m\u001b[1mInfo\u001b[0m quantecon-notebooks-julia 0.5.0 activated, 0.6.0 requested\u001b[39m\n"
     ]
    }
   ],
   "source": [
    "using InstantiateFromURL\n",
    "github_project(\"QuantEcon/quantecon-notebooks-julia\", version = \"0.6.0\")\n",
    "# uncomment to force package installation and precompilation"
   ]
  },
  {
   "cell_type": "code",
   "execution_count": 16,
   "metadata": {},
   "outputs": [],
   "source": [
    "using LinearAlgebra, Statistics"
   ]
  },
  {
   "cell_type": "markdown",
   "metadata": {},
   "source": [
    "# Array Basics"
   ]
  },
  {
   "cell_type": "markdown",
   "metadata": {},
   "source": [
    "## Shape and Dimension"
   ]
  },
  {
   "cell_type": "markdown",
   "metadata": {},
   "source": [
    "* Example of arrays"
   ]
  },
  {
   "cell_type": "code",
   "execution_count": 3,
   "metadata": {},
   "outputs": [
    {
     "data": {
      "text/plain": [
       "3-element Array{Int64,1}:\n",
       " 10\n",
       " 20\n",
       " 30"
      ]
     },
     "execution_count": 3,
     "metadata": {},
     "output_type": "execute_result"
    }
   ],
   "source": [
    "a = [10, 20, 30]"
   ]
  },
  {
   "cell_type": "code",
   "execution_count": 4,
   "metadata": {},
   "outputs": [
    {
     "data": {
      "text/plain": [
       "3-element Array{Float64,1}:\n",
       " 1.0\n",
       " 2.0\n",
       " 3.0"
      ]
     },
     "execution_count": 4,
     "metadata": {},
     "output_type": "execute_result"
    }
   ],
   "source": [
    "a = [1.0, 2.0, 3.0]"
   ]
  },
  {
   "cell_type": "code",
   "execution_count": 5,
   "metadata": {},
   "outputs": [
    {
     "data": {
      "text/plain": [
       "Array{Float64,1}"
      ]
     },
     "execution_count": 5,
     "metadata": {},
     "output_type": "execute_result"
    }
   ],
   "source": [
    "typeof(randn(100))"
   ]
  },
  {
   "cell_type": "code",
   "execution_count": 6,
   "metadata": {},
   "outputs": [
    {
     "data": {
      "text/plain": [
       "1"
      ]
     },
     "execution_count": 6,
     "metadata": {},
     "output_type": "execute_result"
    }
   ],
   "source": [
    "ndims(a)"
   ]
  },
  {
   "cell_type": "code",
   "execution_count": 7,
   "metadata": {},
   "outputs": [
    {
     "data": {
      "text/plain": [
       "(3,)"
      ]
     },
     "execution_count": 7,
     "metadata": {},
     "output_type": "execute_result"
    }
   ],
   "source": [
    "size(a)"
   ]
  },
  {
   "cell_type": "markdown",
   "metadata": {},
   "source": [
    "* One dimentional arrays = vectors"
   ]
  },
  {
   "cell_type": "markdown",
   "metadata": {},
   "source": [
    "* Two dimentional arrays = matrix"
   ]
  },
  {
   "cell_type": "code",
   "execution_count": 9,
   "metadata": {
    "collapsed": true,
    "jupyter": {
     "outputs_hidden": true
    }
   },
   "outputs": [
    {
     "data": {
      "text/plain": [
       "2×2 Array{Float64,2}:\n",
       " 5.0  5.0\n",
       " 5.0  5.0"
      ]
     },
     "execution_count": 9,
     "metadata": {},
     "output_type": "execute_result"
    }
   ],
   "source": [
    "fill(5.0, 2, 2)"
   ]
  },
  {
   "cell_type": "code",
   "execution_count": 10,
   "metadata": {},
   "outputs": [
    {
     "data": {
      "text/plain": [
       "2×2 Array{Float64,2}:\n",
       " 2.2399e-314   2.28629e-314\n",
       " 2.28629e-314  2.25494e-314"
      ]
     },
     "execution_count": 10,
     "metadata": {},
     "output_type": "execute_result"
    }
   ],
   "source": [
    "x = Array{Float64}(undef, 2, 2)"
   ]
  },
  {
   "cell_type": "markdown",
   "metadata": {},
   "source": [
    "Note: this is an empty array"
   ]
  },
  {
   "cell_type": "markdown",
   "metadata": {},
   "source": [
    "* Rewrite existing arrays"
   ]
  },
  {
   "cell_type": "raw",
   "metadata": {},
   "source": [
    "x = [1, 2, 3]\n",
    "y = x\n",
    "y[1] = 2\n",
    "x"
   ]
  },
  {
   "cell_type": "markdown",
   "metadata": {},
   "source": [
    "* Copy()"
   ]
  },
  {
   "cell_type": "code",
   "execution_count": 13,
   "metadata": {},
   "outputs": [
    {
     "data": {
      "text/plain": [
       "([1, 2, 3], [2, 2, 3])"
      ]
     },
     "execution_count": 13,
     "metadata": {},
     "output_type": "execute_result"
    }
   ],
   "source": [
    "x = [1, 2, 3]\n",
    "y = copy(x)\n",
    "y[1] = 2\n",
    "x,y"
   ]
  },
  {
   "cell_type": "markdown",
   "metadata": {},
   "source": [
    "* similar()"
   ]
  },
  {
   "cell_type": "code",
   "execution_count": 15,
   "metadata": {},
   "outputs": [
    {
     "data": {
      "text/plain": [
       "4-element Array{Int64,1}:\n",
       " 4573270616\n",
       " 4572959072\n",
       " 4572392000\n",
       " 4684860848"
      ]
     },
     "execution_count": 15,
     "metadata": {},
     "output_type": "execute_result"
    }
   ],
   "source": [
    "x = [1, 2, 3]\n",
    "y = similar(x,4)\n",
    "y"
   ]
  },
  {
   "cell_type": "code",
   "execution_count": 22,
   "metadata": {},
   "outputs": [
    {
     "name": "stdout",
     "output_type": "stream",
     "text": [
      "Array{Int64,1}Array{Int64,2}\n"
     ]
    }
   ],
   "source": [
    "a = [10, 20, 30, 40]\n",
    "b = [10 20 30 40] # two dimensional\n",
    "println(typeof(a),typeof(b))"
   ]
  },
  {
   "cell_type": "code",
   "execution_count": 25,
   "metadata": {},
   "outputs": [
    {
     "data": {
      "text/plain": [
       "2"
      ]
     },
     "execution_count": 25,
     "metadata": {},
     "output_type": "execute_result"
    }
   ],
   "source": [
    "ndims(b)"
   ]
  },
  {
   "cell_type": "code",
   "execution_count": 23,
   "metadata": {},
   "outputs": [
    {
     "data": {
      "text/plain": [
       "2×2 Array{Int64,2}:\n",
       " 10  20\n",
       " 30  40"
      ]
     },
     "execution_count": 23,
     "metadata": {},
     "output_type": "execute_result"
    }
   ],
   "source": [
    "a =[10 20;30 40]"
   ]
  },
  {
   "cell_type": "markdown",
   "metadata": {},
   "source": [
    "## Array Indexing"
   ]
  },
  {
   "cell_type": "code",
   "execution_count": 24,
   "metadata": {},
   "outputs": [
    {
     "data": {
      "text/plain": [
       "1"
      ]
     },
     "execution_count": 24,
     "metadata": {},
     "output_type": "execute_result"
    }
   ],
   "source": [
    "a = [10;20;30;40]\n",
    "ndims(a)"
   ]
  },
  {
   "cell_type": "code",
   "execution_count": 27,
   "metadata": {},
   "outputs": [
    {
     "data": {
      "text/plain": [
       "2×2 Array{Float64,2}:\n",
       " -0.636296  2.19925\n",
       " -0.735761  0.718596"
      ]
     },
     "execution_count": 27,
     "metadata": {},
     "output_type": "execute_result"
    }
   ],
   "source": [
    "a = randn(2,2)"
   ]
  },
  {
   "cell_type": "code",
   "execution_count": 28,
   "metadata": {},
   "outputs": [
    {
     "data": {
      "text/plain": [
       "2-element Array{Float64,1}:\n",
       " -0.6362962385620883\n",
       "  2.1992539865402345"
      ]
     },
     "execution_count": 28,
     "metadata": {},
     "output_type": "execute_result"
    }
   ],
   "source": [
    "a[1,:]# first row"
   ]
  },
  {
   "cell_type": "code",
   "execution_count": 29,
   "metadata": {},
   "outputs": [
    {
     "data": {
      "text/plain": [
       "2-element Array{Float64,1}:\n",
       " -0.6362962385620883\n",
       " -0.7357606610084996"
      ]
     },
     "execution_count": 29,
     "metadata": {},
     "output_type": "execute_result"
    }
   ],
   "source": [
    "a[:,1] # first column"
   ]
  },
  {
   "cell_type": "code",
   "execution_count": 30,
   "metadata": {},
   "outputs": [
    {
     "data": {
      "text/plain": [
       "2×2 Array{Bool,2}:\n",
       " 1  0\n",
       " 0  1"
      ]
     },
     "execution_count": 30,
     "metadata": {},
     "output_type": "execute_result"
    }
   ],
   "source": [
    "b = [true false; false true]"
   ]
  },
  {
   "cell_type": "code",
   "execution_count": 31,
   "metadata": {},
   "outputs": [
    {
     "data": {
      "text/plain": [
       "2-element Array{Float64,1}:\n",
       " -0.6362962385620883\n",
       "  0.7185956402722447"
      ]
     },
     "execution_count": 31,
     "metadata": {},
     "output_type": "execute_result"
    }
   ],
   "source": [
    "a[b]"
   ]
  },
  {
   "cell_type": "markdown",
   "metadata": {},
   "source": []
  },
  {
   "cell_type": "markdown",
   "metadata": {},
   "source": [
    "Note: we will use this operation for conditional extraction."
   ]
  },
  {
   "cell_type": "markdown",
   "metadata": {},
   "source": [
    "## Views and Slices"
   ]
  },
  {
   "cell_type": "markdown",
   "metadata": {},
   "source": [
    "Using the \":\" notation provides a slice of an array, copying the sub-array to a new array with a similar type."
   ]
  },
  {
   "cell_type": "code",
   "execution_count": 36,
   "metadata": {},
   "outputs": [
    {
     "name": "stdout",
     "output_type": "stream",
     "text": [
      "b = [2, 4]\n",
      "a = [1 4; 3 5]\n",
      "b = [2, 4]\n"
     ]
    }
   ],
   "source": [
    "a = [1 2; 3 4]\n",
    "b = a[:, 2]\n",
    "@show b\n",
    "a[:, 2] = [4, 5] # modify a\n",
    "@show a\n",
    "@show b;"
   ]
  },
  {
   "cell_type": "markdown",
   "metadata": {},
   "source": [
    "* @views"
   ]
  },
  {
   "cell_type": "code",
   "execution_count": 37,
   "metadata": {},
   "outputs": [
    {
     "name": "stdout",
     "output_type": "stream",
     "text": [
      "b = [2, 4]\n",
      "a = [1 4; 3 5]\n",
      "b = [4, 5]\n"
     ]
    }
   ],
   "source": [
    "a = [1 2; 3 4]\n",
    "@views b = a[:, 2]\n",
    "@show b\n",
    "a[:, 2] = [4, 5]\n",
    "@show a\n",
    "@show b;"
   ]
  },
  {
   "cell_type": "markdown",
   "metadata": {},
   "source": [
    "\"views\" does not copy the value. It updates any modification even after the call."
   ]
  },
  {
   "cell_type": "markdown",
   "metadata": {},
   "source": [
    "Note: Do not rely on @views very much."
   ]
  },
  {
   "cell_type": "markdown",
   "metadata": {},
   "source": [
    "## Spatial Matrices"
   ]
  },
  {
   "cell_type": "code",
   "execution_count": 38,
   "metadata": {},
   "outputs": [
    {
     "data": {
      "text/plain": [
       "2×2 Diagonal{Float64,Array{Float64,1}}:\n",
       " 1.0   ⋅ \n",
       "  ⋅   2.0"
      ]
     },
     "execution_count": 38,
     "metadata": {},
     "output_type": "execute_result"
    }
   ],
   "source": [
    "d = [1.0,2.0]\n",
    "a = Diagonal(d)"
   ]
  },
  {
   "cell_type": "code",
   "execution_count": 39,
   "metadata": {},
   "outputs": [
    {
     "data": {
      "text/plain": [
       "2×2 Array{Float64,2}:\n",
       " 0.0  2.0\n",
       " 3.0  3.0"
      ]
     },
     "execution_count": 39,
     "metadata": {},
     "output_type": "execute_result"
    }
   ],
   "source": [
    "b = [1.0 2.0; 3.0 4.0]\n",
    "b - Diagonal([1.0, 1.0])  # poor style, inefficient code"
   ]
  },
  {
   "cell_type": "markdown",
   "metadata": {},
   "source": [
    "* Recommended (Use \"I\")"
   ]
  },
  {
   "cell_type": "code",
   "execution_count": 42,
   "metadata": {},
   "outputs": [
    {
     "data": {
      "text/plain": [
       "2×2 Array{Float64,2}:\n",
       " 0.0  2.0\n",
       " 3.0  3.0"
      ]
     },
     "execution_count": 42,
     "metadata": {},
     "output_type": "execute_result"
    }
   ],
   "source": [
    "b = [1.0 2.0; 3.0 4.0]\n",
    "b - I  # good style, and note the lack of dimensions of I"
   ]
  },
  {
   "cell_type": "code",
   "execution_count": 41,
   "metadata": {},
   "outputs": [
    {
     "data": {
      "text/plain": [
       "UniformScaling{Bool}"
      ]
     },
     "execution_count": 41,
     "metadata": {},
     "output_type": "execute_result"
    }
   ],
   "source": [
    "typeof(I)"
   ]
  },
  {
   "cell_type": "markdown",
   "metadata": {},
   "source": [
    "## Assignment and Passing Arrays"
   ]
  },
  {
   "cell_type": "code",
   "execution_count": 43,
   "metadata": {},
   "outputs": [
    {
     "data": {
      "text/plain": [
       "1×3 Array{Int64,2}:\n",
       " 1  2  3"
      ]
     },
     "execution_count": 43,
     "metadata": {},
     "output_type": "execute_result"
    }
   ],
   "source": [
    "x = [1 2 3]\n",
    "y = x  # name `y` binds to whatever value `x` bound to"
   ]
  },
  {
   "cell_type": "code",
   "execution_count": 44,
   "metadata": {},
   "outputs": [
    {
     "name": "stdout",
     "output_type": "stream",
     "text": [
      "(x, y, z) = ([1 2 3], [2 3 4], [2 3 4])\n"
     ]
    }
   ],
   "source": [
    "x = [1 2 3]\n",
    "y = x        # name `y` binds to whatever `x` bound to\n",
    "z = [2 3 4]\n",
    "y = z        # only changes name binding, not value!\n",
    "@show (x, y, z);"
   ]
  },
  {
   "cell_type": "code",
   "execution_count": 45,
   "metadata": {},
   "outputs": [
    {
     "name": "stdout",
     "output_type": "stream",
     "text": [
      "(x, y, z) = ([2 3 4], [2 3 4], [2 3 4])\n"
     ]
    }
   ],
   "source": [
    "x = [1 2 3]\n",
    "y = x       # name `y` binds to whatever `x` bound to\n",
    "z = [2 3 4]\n",
    "y .= z      # now dispatches the assignment of each element\n",
    "@show (x, y, z);"
   ]
  },
  {
   "cell_type": "markdown",
   "metadata": {},
   "source": [
    "* y=z vs y.= z\n",
    "\n",
    "y.=z makes change in x if y is defined by x."
   ]
  },
  {
   "cell_type": "markdown",
   "metadata": {},
   "source": [
    "**Out-of-place functions are preferred to \"in-place\" functions**"
   ]
  },
  {
   "cell_type": "markdown",
   "metadata": {},
   "source": [
    "The mapped value is placed out of the function."
   ]
  },
  {
   "cell_type": "code",
   "execution_count": 46,
   "metadata": {},
   "outputs": [
    {
     "data": {
      "text/plain": [
       "2-element Array{Int64,1}:\n",
       "  5\n",
       " 11"
      ]
     },
     "execution_count": 46,
     "metadata": {},
     "output_type": "execute_result"
    }
   ],
   "source": [
    "function f(x)\n",
    "    return [1 2; 3 4] * x  # matrix * column vector\n",
    "end\n",
    "\n",
    "val = [1, 2]\n",
    "f(val)"
   ]
  },
  {
   "cell_type": "markdown",
   "metadata": {},
   "source": [
    "* Example of in place functions"
   ]
  },
  {
   "cell_type": "code",
   "execution_count": 47,
   "metadata": {},
   "outputs": [
    {
     "data": {
      "text/plain": [
       "2-element Array{Int64,1}:\n",
       "  5\n",
       " 11"
      ]
     },
     "execution_count": 47,
     "metadata": {},
     "output_type": "execute_result"
    }
   ],
   "source": [
    "function f(x)\n",
    "    return [1 2; 3 4] * x # matrix * column vector\n",
    "end\n",
    "\n",
    "val = [1, 2]\n",
    "y = similar(val)\n",
    "\n",
    "function f!(out, x)\n",
    "    out .= [1 2; 3 4] * x\n",
    "end\n",
    "\n",
    "f!(y, val)\n",
    "y"
   ]
  },
  {
   "cell_type": "markdown",
   "metadata": {},
   "source": [
    "* \"!\":modify any of the arguments have the name ending with !"
   ]
  },
  {
   "cell_type": "markdown",
   "metadata": {},
   "source": [
    "* Common mistake\n",
    "\n",
    "**???**"
   ]
  },
  {
   "cell_type": "code",
   "execution_count": 1,
   "metadata": {},
   "outputs": [
    {
     "data": {
      "text/plain": [
       "2-element Array{Int64,1}:\n",
       " 8704\n",
       "    6"
      ]
     },
     "execution_count": 1,
     "metadata": {},
     "output_type": "execute_result"
    }
   ],
   "source": [
    "function f(x)\n",
    "    return [1 2; 3 4] * x  # matrix * column vector\n",
    "end\n",
    "\n",
    "val = [1, 2]\n",
    "y = similar(val)\n",
    "\n",
    "function f!(out, x)\n",
    "    out = [1 2; 3 4] * x   # MISTAKE! Should be .= or [:]\n",
    "end\n",
    "f!(y, val)\n",
    "y"
   ]
  },
  {
   "cell_type": "markdown",
   "metadata": {},
   "source": [
    "## In-place and Immutable Types"
   ]
  },
  {
   "cell_type": "markdown",
   "metadata": {},
   "source": [
    "* Scalars are always immutable. They are not modified."
   ]
  },
  {
   "cell_type": "code",
   "execution_count": 3,
   "metadata": {},
   "outputs": [
    {
     "data": {
      "text/plain": [
       "1×2 Array{Int64,2}:\n",
       " -1  0"
      ]
     },
     "execution_count": 3,
     "metadata": {},
     "output_type": "execute_result"
    }
   ],
   "source": [
    "y = [1 2]\n",
    "y .-= 2    # y .= y .- 2, no problem\n"
   ]
  },
  {
   "cell_type": "markdown",
   "metadata": {},
   "source": [
    "element wise substraction"
   ]
  },
  {
   "cell_type": "code",
   "execution_count": 5,
   "metadata": {},
   "outputs": [
    {
     "data": {
      "text/plain": [
       "3"
      ]
     },
     "execution_count": 5,
     "metadata": {},
     "output_type": "execute_result"
    }
   ],
   "source": [
    "x = 5\n",
    "#x .-= 2  # Fails!\n",
    "x -=2"
   ]
  },
  {
   "cell_type": "code",
   "execution_count": 6,
   "metadata": {},
   "outputs": [
    {
     "name": "stdout",
     "output_type": "stream",
     "text": [
      "x = 2\n"
     ]
    }
   ],
   "source": [
    "x = 2\n",
    "\n",
    "function f(x)\n",
    "    x = 3     # MISTAKE! does not modify x, creates a new value!\n",
    "end\n",
    "\n",
    "f(x)          # cannot modify immutables in place\n",
    "@show x;"
   ]
  },
  {
   "cell_type": "code",
   "execution_count": 8,
   "metadata": {},
   "outputs": [
    {
     "name": "stdout",
     "output_type": "stream",
     "text": [
      "f(xdynamic) = [2, 4]\n",
      "f(xstatic) = [2, 4]\n",
      "xdynamic = [1, 2]\n",
      "g(xdynamic) = \"Success!\"\n",
      "xdynamic = [2, 4]\n"
     ]
    },
    {
     "ename": "ErrorException",
     "evalue": "setindex!(::SArray{Tuple{2},Int64,1,2}, value, ::Int) is not defined.",
     "output_type": "error",
     "traceback": [
      "setindex!(::SArray{Tuple{2},Int64,1,2}, value, ::Int) is not defined.",
      "",
      "Stacktrace:",
      " [1] error(::String) at ./error.jl:33",
      " [2] setindex!(::SArray{Tuple{2},Int64,1,2}, ::Int64, ::Int64) at /Users/taisei/.julia/packages/StaticArrays/3KEjZ/src/indexing.jl:3",
      " [3] macro expansion at /Users/taisei/.julia/packages/StaticArrays/3KEjZ/src/broadcast.jl:191 [inlined]",
      " [4] _broadcast! at /Users/taisei/.julia/packages/StaticArrays/3KEjZ/src/broadcast.jl:146 [inlined]",
      " [5] _copyto! at /Users/taisei/.julia/packages/StaticArrays/3KEjZ/src/broadcast.jl:39 [inlined]",
      " [6] copyto! at /Users/taisei/.julia/packages/StaticArrays/3KEjZ/src/broadcast.jl:30 [inlined]",
      " [7] materialize! at ./broadcast.jl:823 [inlined]",
      " [8] g(::SArray{Tuple{2},Int64,1,2}) at ./In[8]:11",
      " [9] top-level scope at show.jl:613",
      " [10] top-level scope at In[8]:17"
     ]
    }
   ],
   "source": [
    "using StaticArrays\n",
    "xdynamic = [1, 2]\n",
    "xstatic = @SVector [1, 2]  # turns it into a highly optimized static vector\n",
    "\n",
    "f(x) = 2x\n",
    "@show f(xdynamic)\n",
    "@show f(xstatic)\n",
    "\n",
    "# inplace version\n",
    "function g(x)\n",
    "    x .= 2x\n",
    "    return \"Success!\"\n",
    "end\n",
    "@show xdynamic\n",
    "@show g(xdynamic)\n",
    "@show xdynamic;\n",
    "@show g(xstatic)\n",
    "# g(xstatic) # fails, static vectors are immutable"
   ]
  },
  {
   "cell_type": "markdown",
   "metadata": {},
   "source": [
    "**Note** : .= is not applicable for static vectors. "
   ]
  },
  {
   "cell_type": "markdown",
   "metadata": {},
   "source": [
    "# Operations on Arrays"
   ]
  },
  {
   "cell_type": "markdown",
   "metadata": {},
   "source": [
    "## Array Methods"
   ]
  },
  {
   "cell_type": "code",
   "execution_count": 17,
   "metadata": {},
   "outputs": [
    {
     "name": "stdout",
     "output_type": "stream",
     "text": [
      "length(a) = 3\n",
      "sum(a) = 0\n",
      "mean(a) = 0.0\n",
      "std(a) = 1.0\n",
      "var(a) = 1.0\n",
      "maximum(a) = 1\n",
      "minimum(a) = -1\n",
      "extrema(a) = (-1, 1)\n"
     ]
    },
    {
     "data": {
      "text/plain": [
       "(-1, 1)"
      ]
     },
     "execution_count": 17,
     "metadata": {},
     "output_type": "execute_result"
    }
   ],
   "source": [
    "a = [-1, 0, 1]\n",
    "\n",
    "\n",
    "@show length(a)\n",
    "@show sum(a)\n",
    "@show mean(a)\n",
    "@show std(a)      # standard deviation\n",
    "@show var(a)      # variance\n",
    "@show maximum(a)\n",
    "@show minimum(a)\n",
    "@show extrema(a)  # (mimimum(a), maximum(a))"
   ]
  },
  {
   "cell_type": "code",
   "execution_count": 22,
   "metadata": {},
   "outputs": [
    {
     "data": {
      "text/plain": [
       "3-element Array{Int64,1}:\n",
       "  1\n",
       "  0\n",
       " -1"
      ]
     },
     "execution_count": 22,
     "metadata": {},
     "output_type": "execute_result"
    }
   ],
   "source": [
    "b = sort(a, rev = true)  # returns new array, original not modified"
   ]
  },
  {
   "cell_type": "code",
   "execution_count": 20,
   "metadata": {},
   "outputs": [
    {
     "data": {
      "text/plain": [
       "3-element Array{Int64,1}:\n",
       " -1\n",
       "  0\n",
       "  1"
      ]
     },
     "execution_count": 20,
     "metadata": {},
     "output_type": "execute_result"
    }
   ],
   "source": [
    "a"
   ]
  },
  {
   "cell_type": "code",
   "execution_count": 23,
   "metadata": {},
   "outputs": [
    {
     "data": {
      "text/plain": [
       "3-element Array{Int64,1}:\n",
       "  1\n",
       "  0\n",
       " -1"
      ]
     },
     "execution_count": 23,
     "metadata": {},
     "output_type": "execute_result"
    }
   ],
   "source": [
    "b = sort!(a, rev = true)"
   ]
  },
  {
   "cell_type": "code",
   "execution_count": 24,
   "metadata": {},
   "outputs": [
    {
     "data": {
      "text/plain": [
       "true"
      ]
     },
     "execution_count": 24,
     "metadata": {},
     "output_type": "execute_result"
    }
   ],
   "source": [
    "b ==a"
   ]
  },
  {
   "cell_type": "code",
   "execution_count": 25,
   "metadata": {},
   "outputs": [
    {
     "data": {
      "text/plain": [
       "true"
      ]
     },
     "execution_count": 25,
     "metadata": {},
     "output_type": "execute_result"
    }
   ],
   "source": [
    "b===a"
   ]
  },
  {
   "cell_type": "markdown",
   "metadata": {},
   "source": [
    "## Matrix Algebra"
   ]
  },
  {
   "cell_type": "markdown",
   "metadata": {},
   "source": [
    "* Inverse \"\\\" is preferred to inv(). Faster and more stable."
   ]
  },
  {
   "cell_type": "code",
   "execution_count": 26,
   "metadata": {},
   "outputs": [
    {
     "data": {
      "text/plain": [
       "2×1 Array{Float64,2}:\n",
       " 2.0\n",
       " 2.0"
      ]
     },
     "execution_count": 26,
     "metadata": {},
     "output_type": "execute_result"
    }
   ],
   "source": [
    "a = ones(1,2)\n",
    "b = ones(2,2)\n",
    "b*a'"
   ]
  },
  {
   "cell_type": "code",
   "execution_count": 28,
   "metadata": {},
   "outputs": [
    {
     "data": {
      "text/plain": [
       "2×2 Array{Float64,2}:\n",
       " 1.0  1.0\n",
       " 1.0  1.0"
      ]
     },
     "execution_count": 28,
     "metadata": {},
     "output_type": "execute_result"
    }
   ],
   "source": [
    "A = [1 2; 2 3]\n",
    "B = ones(2,2)"
   ]
  },
  {
   "cell_type": "markdown",
   "metadata": {},
   "source": [
    " $AX=B$ ,or $X=A^{-1}B$"
   ]
  },
  {
   "cell_type": "code",
   "execution_count": 30,
   "metadata": {},
   "outputs": [
    {
     "name": "stdout",
     "output_type": "stream",
     "text": [
      "  0.000027 seconds (4 allocations: 352 bytes)\n"
     ]
    },
    {
     "data": {
      "text/plain": [
       "2×2 Array{Float64,2}:\n",
       " -1.0  -1.0\n",
       "  1.0   1.0"
      ]
     },
     "execution_count": 30,
     "metadata": {},
     "output_type": "execute_result"
    }
   ],
   "source": [
    "@time begin\n",
    "    A\\B\n",
    "end"
   ]
  },
  {
   "cell_type": "code",
   "execution_count": 31,
   "metadata": {},
   "outputs": [
    {
     "name": "stdout",
     "output_type": "stream",
     "text": [
      "  0.088333 seconds (209.66 k allocations: 10.903 MiB)\n"
     ]
    },
    {
     "data": {
      "text/plain": [
       "2×2 Array{Float64,2}:\n",
       " -1.0  -1.0\n",
       "  1.0   1.0"
      ]
     },
     "execution_count": 31,
     "metadata": {},
     "output_type": "execute_result"
    }
   ],
   "source": [
    "@time begin\n",
    "    inv(A)*B\n",
    "end"
   ]
  },
  {
   "cell_type": "markdown",
   "metadata": {},
   "source": [
    "* Inner product of two one dimensional vectors"
   ]
  },
  {
   "cell_type": "code",
   "execution_count": 32,
   "metadata": {},
   "outputs": [
    {
     "data": {
      "text/plain": [
       "2.0"
      ]
     },
     "execution_count": 32,
     "metadata": {},
     "output_type": "execute_result"
    }
   ],
   "source": [
    "dot(ones(2),ones(2))"
   ]
  },
  {
   "cell_type": "markdown",
   "metadata": {},
   "source": [
    "## Elementwise Operations"
   ]
  },
  {
   "cell_type": "code",
   "execution_count": 33,
   "metadata": {},
   "outputs": [
    {
     "data": {
      "text/plain": [
       "2×2 Array{Float64,2}:\n",
       " 1.0  1.0\n",
       " 1.0  1.0"
      ]
     },
     "execution_count": 33,
     "metadata": {},
     "output_type": "execute_result"
    }
   ],
   "source": [
    "ones(2, 2) .* ones(2, 2)   # element by element multiplication"
   ]
  },
  {
   "cell_type": "code",
   "execution_count": 34,
   "metadata": {},
   "outputs": [
    {
     "data": {
      "text/plain": [
       "2×2 Array{Float64,2}:\n",
       " -1.0  -1.0\n",
       " -1.0  -1.0"
      ]
     },
     "execution_count": 34,
     "metadata": {},
     "output_type": "execute_result"
    }
   ],
   "source": [
    "A = -ones(2,2)"
   ]
  },
  {
   "cell_type": "code",
   "execution_count": 35,
   "metadata": {},
   "outputs": [
    {
     "data": {
      "text/plain": [
       "2×2 Array{Float64,2}:\n",
       " 1.0  1.0\n",
       " 1.0  1.0"
      ]
     },
     "execution_count": 35,
     "metadata": {},
     "output_type": "execute_result"
    }
   ],
   "source": [
    "A.^2"
   ]
  },
  {
   "cell_type": "markdown",
   "metadata": {},
   "source": [
    "* Unlike MATLAB, scalar addition requires \".+\""
   ]
  },
  {
   "cell_type": "code",
   "execution_count": 36,
   "metadata": {},
   "outputs": [
    {
     "data": {
      "text/plain": [
       "2-element Array{Int64,1}:\n",
       " 2\n",
       " 3"
      ]
     },
     "execution_count": 36,
     "metadata": {},
     "output_type": "execute_result"
    }
   ],
   "source": [
    "x = [1, 2]\n",
    "x .+ 1     # not x + 1"
   ]
  },
  {
   "cell_type": "markdown",
   "metadata": {},
   "source": [
    "* Conditional extraction"
   ]
  },
  {
   "cell_type": "code",
   "execution_count": 38,
   "metadata": {},
   "outputs": [
    {
     "data": {
      "text/plain": [
       "4-element Array{Float64,1}:\n",
       "  0.13446952833978587\n",
       " -0.15021322658749064\n",
       " -0.4031099319270369\n",
       "  0.8112192622572086"
      ]
     },
     "execution_count": 38,
     "metadata": {},
     "output_type": "execute_result"
    }
   ],
   "source": [
    "a = randn(4)"
   ]
  },
  {
   "cell_type": "code",
   "execution_count": 39,
   "metadata": {},
   "outputs": [
    {
     "data": {
      "text/plain": [
       "4-element BitArray{1}:\n",
       " 0\n",
       " 1\n",
       " 1\n",
       " 0"
      ]
     },
     "execution_count": 39,
     "metadata": {},
     "output_type": "execute_result"
    }
   ],
   "source": [
    "a.<0"
   ]
  },
  {
   "cell_type": "code",
   "execution_count": 40,
   "metadata": {},
   "outputs": [
    {
     "data": {
      "text/plain": [
       "2-element Array{Float64,1}:\n",
       " -0.15021322658749064\n",
       " -0.4031099319270369"
      ]
     },
     "execution_count": 40,
     "metadata": {},
     "output_type": "execute_result"
    }
   ],
   "source": [
    "b=a[a.<0]\n",
    "b"
   ]
  },
  {
   "cell_type": "markdown",
   "metadata": {},
   "source": [
    "* Changing Dimensions"
   ]
  },
  {
   "cell_type": "code",
   "execution_count": 44,
   "metadata": {},
   "outputs": [
    {
     "data": {
      "text/plain": [
       "2×2 Array{Int64,2}:\n",
       " 10  30\n",
       " 20  40"
      ]
     },
     "execution_count": 44,
     "metadata": {},
     "output_type": "execute_result"
    }
   ],
   "source": [
    "a = [10,20,30,40]\n",
    "b=reshape(a,2,2)"
   ]
  },
  {
   "cell_type": "code",
   "execution_count": 45,
   "metadata": {},
   "outputs": [
    {
     "data": {
      "text/plain": [
       "2×2 Array{Int64,2}:\n",
       " 100  30\n",
       "  20  40"
      ]
     },
     "execution_count": 45,
     "metadata": {},
     "output_type": "execute_result"
    }
   ],
   "source": [
    "b[1,1]=100\n",
    "b"
   ]
  },
  {
   "cell_type": "code",
   "execution_count": 46,
   "metadata": {},
   "outputs": [
    {
     "data": {
      "text/plain": [
       "4-element Array{Int64,1}:\n",
       " 100\n",
       "  20\n",
       "  30\n",
       "  40"
      ]
     },
     "execution_count": 46,
     "metadata": {},
     "output_type": "execute_result"
    }
   ],
   "source": [
    "a"
   ]
  },
  {
   "cell_type": "markdown",
   "metadata": {},
   "source": [
    "* a is modified!"
   ]
  },
  {
   "cell_type": "markdown",
   "metadata": {},
   "source": [
    "* dropdims(): collapse an array along one dimension"
   ]
  },
  {
   "cell_type": "code",
   "execution_count": 47,
   "metadata": {},
   "outputs": [
    {
     "data": {
      "text/plain": [
       "1×4 Array{Int64,2}:\n",
       " 1  2  3  4"
      ]
     },
     "execution_count": 47,
     "metadata": {},
     "output_type": "execute_result"
    }
   ],
   "source": [
    "a = [1 2 3 4]"
   ]
  },
  {
   "cell_type": "code",
   "execution_count": 48,
   "metadata": {},
   "outputs": [
    {
     "data": {
      "text/plain": [
       "4-element Array{Int64,1}:\n",
       " 1\n",
       " 2\n",
       " 3\n",
       " 4"
      ]
     },
     "execution_count": 48,
     "metadata": {},
     "output_type": "execute_result"
    }
   ],
   "source": [
    "dropdims(a,dims=1)"
   ]
  },
  {
   "cell_type": "code",
   "execution_count": 49,
   "metadata": {},
   "outputs": [
    {
     "data": {
      "text/plain": [
       "4-element Array{Float64,1}:\n",
       " 0.0\n",
       " 0.6931471805599453\n",
       " 1.0986122886681098\n",
       " 1.3862943611198906"
      ]
     },
     "execution_count": 49,
     "metadata": {},
     "output_type": "execute_result"
    }
   ],
   "source": [
    "log.(1:4)"
   ]
  },
  {
   "cell_type": "code",
   "execution_count": 50,
   "metadata": {},
   "outputs": [
    {
     "data": {
      "text/plain": [
       "4-element Array{Float64,1}:\n",
       " 0.0\n",
       " 0.6931471805599453\n",
       " 1.0986122886681098\n",
       " 1.3862943611198906"
      ]
     },
     "execution_count": 50,
     "metadata": {},
     "output_type": "execute_result"
    }
   ],
   "source": [
    "[log(x) for x in 1:4]"
   ]
  },
  {
   "cell_type": "code",
   "execution_count": 51,
   "metadata": {},
   "outputs": [
    {
     "data": {
      "text/plain": [
       "2×2 Array{Int64,2}:\n",
       " 1  2\n",
       " 3  4"
      ]
     },
     "execution_count": 51,
     "metadata": {},
     "output_type": "execute_result"
    }
   ],
   "source": [
    "A = [1 2;3 4]"
   ]
  },
  {
   "cell_type": "code",
   "execution_count": 52,
   "metadata": {},
   "outputs": [
    {
     "data": {
      "text/plain": [
       "-2.0"
      ]
     },
     "execution_count": 52,
     "metadata": {},
     "output_type": "execute_result"
    }
   ],
   "source": [
    "det(A)"
   ]
  },
  {
   "cell_type": "code",
   "execution_count": 53,
   "metadata": {},
   "outputs": [
    {
     "data": {
      "text/plain": [
       "5"
      ]
     },
     "execution_count": 53,
     "metadata": {},
     "output_type": "execute_result"
    }
   ],
   "source": [
    "tr(A)"
   ]
  },
  {
   "cell_type": "code",
   "execution_count": 54,
   "metadata": {},
   "outputs": [
    {
     "data": {
      "text/plain": [
       "2-element Array{Float64,1}:\n",
       " -0.3722813232690143\n",
       "  5.372281323269014"
      ]
     },
     "execution_count": 54,
     "metadata": {},
     "output_type": "execute_result"
    }
   ],
   "source": [
    "eigvals(A)"
   ]
  },
  {
   "cell_type": "code",
   "execution_count": 55,
   "metadata": {},
   "outputs": [
    {
     "data": {
      "text/plain": [
       "2"
      ]
     },
     "execution_count": 55,
     "metadata": {},
     "output_type": "execute_result"
    }
   ],
   "source": [
    "rank(A)"
   ]
  },
  {
   "cell_type": "markdown",
   "metadata": {},
   "source": [
    "# Ranges"
   ]
  },
  {
   "cell_type": "code",
   "execution_count": 60,
   "metadata": {},
   "outputs": [
    {
     "name": "stdout",
     "output_type": "stream",
     "text": [
      "Vector(a) = [10, 11, 12]\n"
     ]
    },
    {
     "data": {
      "text/plain": [
       "3-element Array{Float64,1}:\n",
       "  9.0\n",
       " 20.0\n",
       " 33.0"
      ]
     },
     "execution_count": 60,
     "metadata": {},
     "output_type": "execute_result"
    }
   ],
   "source": [
    "a = 10:12        # a range, equivalent to 10:11:12\n",
    "@show Vector(a)  # can convert, but shouldn't\n",
    "\n",
    "b = Diagonal([1.0, 2.0, 3.0])\n",
    "b * a .- [1.0; 2.0; 3.0]"
   ]
  },
  {
   "cell_type": "markdown",
   "metadata": {},
   "source": [
    "range => start:step:end"
   ]
  },
  {
   "cell_type": "code",
   "execution_count": 58,
   "metadata": {},
   "outputs": [
    {
     "data": {
      "text/plain": [
       "0.0:0.1:1.0"
      ]
     },
     "execution_count": 58,
     "metadata": {},
     "output_type": "execute_result"
    }
   ],
   "source": [
    "a = 0.0:0.1:1.0 "
   ]
  },
  {
   "cell_type": "code",
   "execution_count": 59,
   "metadata": {},
   "outputs": [
    {
     "name": "stdout",
     "output_type": "stream",
     "text": [
      "Vector(a) = [0.0, 0.1, 0.2, 0.3, 0.4, 0.5, 0.6, 0.7, 0.8, 0.9, 1.0]\n"
     ]
    },
    {
     "data": {
      "text/plain": [
       "11-element Array{Float64,1}:\n",
       " 0.0\n",
       " 0.1\n",
       " 0.2\n",
       " 0.3\n",
       " 0.4\n",
       " 0.5\n",
       " 0.6\n",
       " 0.7\n",
       " 0.8\n",
       " 0.9\n",
       " 1.0"
      ]
     },
     "execution_count": 59,
     "metadata": {},
     "output_type": "execute_result"
    }
   ],
   "source": [
    "@show Vector(a)"
   ]
  },
  {
   "cell_type": "code",
   "execution_count": 61,
   "metadata": {},
   "outputs": [
    {
     "data": {
      "text/plain": [
       "0.0:0.15:0.9"
      ]
     },
     "execution_count": 61,
     "metadata": {},
     "output_type": "execute_result"
    }
   ],
   "source": [
    "maxval=1.0\n",
    "minval=0.0\n",
    "stepsize=0.15\n",
    "a = minval:stepsize:maxval"
   ]
  },
  {
   "cell_type": "code",
   "execution_count": 62,
   "metadata": {},
   "outputs": [
    {
     "data": {
      "text/plain": [
       "false"
      ]
     },
     "execution_count": 62,
     "metadata": {},
     "output_type": "execute_result"
    }
   ],
   "source": [
    "maximum(a)==maxval"
   ]
  },
  {
   "cell_type": "code",
   "execution_count": 63,
   "metadata": {},
   "outputs": [
    {
     "data": {
      "text/plain": [
       "0.9"
      ]
     },
     "execution_count": 63,
     "metadata": {},
     "output_type": "execute_result"
    }
   ],
   "source": [
    "a[end]"
   ]
  },
  {
   "cell_type": "code",
   "execution_count": 64,
   "metadata": {},
   "outputs": [
    {
     "data": {
      "text/plain": [
       "0.0:0.1111111111111111:1.0"
      ]
     },
     "execution_count": 64,
     "metadata": {},
     "output_type": "execute_result"
    }
   ],
   "source": [
    "a = range(minval,maxval,length=10)"
   ]
  },
  {
   "cell_type": "code",
   "execution_count": 65,
   "metadata": {},
   "outputs": [
    {
     "data": {
      "text/plain": [
       "1.0"
      ]
     },
     "execution_count": 65,
     "metadata": {},
     "output_type": "execute_result"
    }
   ],
   "source": [
    "a[end]"
   ]
  },
  {
   "cell_type": "markdown",
   "metadata": {},
   "source": [
    "# Tuples and Named Tuples"
   ]
  },
  {
   "cell_type": "code",
   "execution_count": 68,
   "metadata": {},
   "outputs": [
    {
     "data": {
      "text/plain": [
       "(1.0, \"test\")"
      ]
     },
     "execution_count": 68,
     "metadata": {},
     "output_type": "execute_result"
    }
   ],
   "source": [
    "t=(1.0,\"test\")\n",
    "t[1]\n",
    "a,b=t\n",
    "#t[1]=3.0 would fail as tuples are immutable"
   ]
  },
  {
   "cell_type": "code",
   "execution_count": 70,
   "metadata": {},
   "outputs": [
    {
     "name": "stdout",
     "output_type": "stream",
     "text": [
      "val1=1.0 and val2=test\n"
     ]
    }
   ],
   "source": [
    "t=(val1=1.0,val2=\"test\")\n",
    "t.val1 #val1 of t\n",
    "println(\"val1=$(t.val1) and val2=$(t.val2)\")"
   ]
  },
  {
   "cell_type": "markdown",
   "metadata": {},
   "source": [
    "* Poor style"
   ]
  },
  {
   "cell_type": "code",
   "execution_count": 71,
   "metadata": {},
   "outputs": [
    {
     "data": {
      "text/plain": [
       "0.30000000000000004"
      ]
     },
     "execution_count": 71,
     "metadata": {},
     "output_type": "execute_result"
    }
   ],
   "source": [
    "function f(parameters)\n",
    "    α, β = parameters.α, parameters.β  # poor style, error prone if adding parameters\n",
    "    return α + β\n",
    "end\n",
    "\n",
    "parameters = (α = 0.1, β = 0.2)\n",
    "f(parameters)"
   ]
  },
  {
   "cell_type": "markdown",
   "metadata": {},
   "source": [
    "* Good style"
   ]
  },
  {
   "cell_type": "code",
   "execution_count": 72,
   "metadata": {},
   "outputs": [
    {
     "data": {
      "text/plain": [
       "0.30000000000000004"
      ]
     },
     "execution_count": 72,
     "metadata": {},
     "output_type": "execute_result"
    }
   ],
   "source": [
    "using Parameters\n",
    "\n",
    "function f(parameters)\n",
    "    @unpack α, β = parameters  # good style, less sensitive to errors\n",
    "    return α + β\n",
    "end\n",
    "\n",
    "parameters = (α = 0.1, β = 0.2)\n",
    "f(parameters)"
   ]
  },
  {
   "cell_type": "markdown",
   "metadata": {},
   "source": [
    "* with_kw manages default values"
   ]
  },
  {
   "cell_type": "code",
   "execution_count": 74,
   "metadata": {},
   "outputs": [
    {
     "name": "stdout",
     "output_type": "stream",
     "text": [
      "paramgen() = (α = 0.1, β = 0.2)\n",
      "paramgen(α = 0.2) = (α = 0.2, β = 0.2)\n",
      "paramgen(α = 0.2, β = 0.5) = (α = 0.2, β = 0.5)\n"
     ]
    }
   ],
   "source": [
    "paramgen = @with_kw (α = 0.1, β = 0.2)  # create named tuples with defaults\n",
    "\n",
    "# creates named tuples, replacing defaults\n",
    "@show paramgen()  # calling without arguments gives all defaults\n",
    "@show paramgen(α = 0.2)\n",
    "@show paramgen(α = 0.2, β = 0.5);"
   ]
  },
  {
   "cell_type": "markdown",
   "metadata": {},
   "source": [
    "# Nothing, Missing, and Unions"
   ]
  },
  {
   "cell_type": "markdown",
   "metadata": {},
   "source": [
    "* Nothing VS Missing"
   ]
  },
  {
   "cell_type": "markdown",
   "metadata": {},
   "source": [
    "* nothing\n",
    "\n",
    "\"software engineers null\". No value makes sense in a particular context due to a failure in the code, a function parameter not passed in etc.\n",
    "\n",
    "* missing\n",
    "\n",
    "A value whould make conceputual sense, but it isn't available."
   ]
  },
  {
   "cell_type": "markdown",
   "metadata": {},
   "source": [
    "## Nothing and Basic Error Handling"
   ]
  },
  {
   "cell_type": "code",
   "execution_count": 75,
   "metadata": {},
   "outputs": [
    {
     "data": {
      "text/plain": [
       "Nothing"
      ]
     },
     "execution_count": 75,
     "metadata": {},
     "output_type": "execute_result"
    }
   ],
   "source": [
    "typeof(nothing)"
   ]
  },
  {
   "cell_type": "code",
   "execution_count": 76,
   "metadata": {},
   "outputs": [
    {
     "name": "stdout",
     "output_type": "stream",
     "text": [
      "x = 1.0\n",
      "f(1.0) = 1.0\n",
      "x was not set\n",
      "f(-1.0) = nothing\n"
     ]
    }
   ],
   "source": [
    "function f(y)\n",
    "    x = nothing\n",
    "    if y > 0.0\n",
    "        # calculations to set `x`\n",
    "        x = y\n",
    "    end\n",
    "\n",
    "    # later, can check `x`\n",
    "    if isnothing(x)\n",
    "        println(\"x was not set\")\n",
    "    else\n",
    "        println(\"x = $x\")\n",
    "    end\n",
    "    x\n",
    "end\n",
    "\n",
    "@show f(1.0)\n",
    "@show f(-1.0);"
   ]
  },
  {
   "cell_type": "markdown",
   "metadata": {},
   "source": [
    "* \"if isnothing(x)\""
   ]
  },
  {
   "cell_type": "code",
   "execution_count": 78,
   "metadata": {},
   "outputs": [
    {
     "name": "stdout",
     "output_type": "stream",
     "text": [
      "f(-1.0) failed\n"
     ]
    }
   ],
   "source": [
    "\n",
    "function f(x)\n",
    "    if x > 0.0\n",
    "        return sqrt(x)\n",
    "    else\n",
    "        return nothing\n",
    "    end\n",
    "end\n",
    "x1 = 1.0\n",
    "x2 = -1.0\n",
    "y1 = f(x1)\n",
    "y2 = f(x2)\n",
    "\n",
    "# check results with isnothing\n",
    "if isnothing(y1)\n",
    "    println(\"f($x2) successful\")\n",
    "else\n",
    "    println(\"f($x2) failed\");\n",
    "end"
   ]
  },
  {
   "cell_type": "markdown",
   "metadata": {},
   "source": [
    "* **ternary operator** : compact way"
   ]
  },
  {
   "cell_type": "code",
   "execution_count": 81,
   "metadata": {},
   "outputs": [
    {
     "data": {
      "text/plain": [
       "(1.0, nothing)"
      ]
     },
     "execution_count": 81,
     "metadata": {},
     "output_type": "execute_result"
    }
   ],
   "source": [
    "function f(x)\n",
    "    x > 0.0 ? sqrt(x) : nothing  # the \"a ? b : c\" pattern is the ternary\n",
    "end\n",
    "\n",
    "f(1.0),f(-1.0)"
   ]
  },
  {
   "cell_type": "markdown",
   "metadata": {},
   "source": [
    "* @assert => stop if the condition fails."
   ]
  },
  {
   "cell_type": "code",
   "execution_count": 82,
   "metadata": {},
   "outputs": [
    {
     "data": {
      "text/plain": [
       "1.0"
      ]
     },
     "execution_count": 82,
     "metadata": {},
     "output_type": "execute_result"
    }
   ],
   "source": [
    "function f(x)\n",
    "    @assert x > 0.0\n",
    "    sqrt(x)\n",
    "end\n",
    "\n",
    "f(1.0)"
   ]
  },
  {
   "cell_type": "code",
   "execution_count": 83,
   "metadata": {},
   "outputs": [
    {
     "ename": "AssertionError",
     "evalue": "AssertionError: x > 0.0",
     "output_type": "error",
     "traceback": [
      "AssertionError: x > 0.0",
      "",
      "Stacktrace:",
      " [1] f(::Float64) at ./In[82]:2",
      " [2] top-level scope at In[83]:1"
     ]
    }
   ],
   "source": [
    "f(-1.0)"
   ]
  },
  {
   "cell_type": "markdown",
   "metadata": {},
   "source": [
    "* nothing is a good way to indicate an optional parameter in a function"
   ]
  },
  {
   "cell_type": "code",
   "execution_count": 84,
   "metadata": {},
   "outputs": [
    {
     "name": "stdout",
     "output_type": "stream",
     "text": [
      "No z given with 1.0\n",
      "z = 3.0 given with 1.0\n"
     ]
    }
   ],
   "source": [
    "function f(x; z = nothing)\n",
    "\n",
    "    if isnothing(z)\n",
    "        println(\"No z given with $x\")\n",
    "    else\n",
    "        println(\"z = $z given with $x\")\n",
    "    end\n",
    "end\n",
    "\n",
    "f(1.0)\n",
    "f(1.0, z=3.0)"
   ]
  },
  {
   "cell_type": "markdown",
   "metadata": {},
   "source": [
    "* NaN : alternative to nothing. could improve performance."
   ]
  },
  {
   "cell_type": "code",
   "execution_count": 86,
   "metadata": {},
   "outputs": [
    {
     "name": "stdout",
     "output_type": "stream",
     "text": [
      "typeof(f(-1.0)) = Float64\n",
      "f(-1.0) == NaN = false\n",
      "isnan(f(-1.0)) = true\n"
     ]
    },
    {
     "data": {
      "text/plain": [
       "true"
      ]
     },
     "execution_count": 86,
     "metadata": {},
     "output_type": "execute_result"
    }
   ],
   "source": [
    "function f(x)\n",
    "    if x > 0.0\n",
    "        return x\n",
    "    else\n",
    "        return NaN\n",
    "    end\n",
    "end\n",
    "\n",
    "f(0.1)\n",
    "f(-1.0)\n",
    "\n",
    "@show typeof(f(-1.0))\n",
    "@show f(-1.0) == NaN  # note, this fails!\n",
    "@show isnan(f(-1.0))  # check with this"
   ]
  },
  {
   "cell_type": "markdown",
   "metadata": {},
   "source": [
    "## Exceptions: more robust error handling method"
   ]
  },
  {
   "cell_type": "markdown",
   "metadata": {},
   "source": [
    "* \"try\" and \"catch err; err end\""
   ]
  },
  {
   "cell_type": "code",
   "execution_count": 87,
   "metadata": {},
   "outputs": [
    {
     "data": {
      "text/plain": [
       "DomainError(-1.0, \"sqrt will only return a complex result if called with a complex argument. Try sqrt(Complex(x)).\")"
      ]
     },
     "execution_count": 87,
     "metadata": {},
     "output_type": "execute_result"
    }
   ],
   "source": [
    "# to see the error\n",
    "try sqrt(-1.0); catch err; err end  # catches the exception and prints it"
   ]
  },
  {
   "cell_type": "code",
   "execution_count": 88,
   "metadata": {},
   "outputs": [
    {
     "data": {
      "text/plain": [
       "InexactError(:Int64, Int64, 3.12)"
      ]
     },
     "execution_count": 88,
     "metadata": {},
     "output_type": "execute_result"
    }
   ],
   "source": [
    "try convert(Int64, 3.12); catch err; err end"
   ]
  },
  {
   "cell_type": "markdown",
   "metadata": {},
   "source": [
    "To catch errors and recover:"
   ]
  },
  {
   "cell_type": "code",
   "execution_count": 89,
   "metadata": {},
   "outputs": [
    {
     "data": {
      "text/plain": [
       "0.0 + 1.0im"
      ]
     },
     "execution_count": 89,
     "metadata": {},
     "output_type": "execute_result"
    }
   ],
   "source": [
    "function f(x)\n",
    "    try\n",
    "        sqrt(x)\n",
    "    catch err                # enters if exception thrown\n",
    "        sqrt(complex(x, 0))  # convert to complex number\n",
    "    end\n",
    "end\n",
    "\n",
    "f(0.0)\n",
    "f(-1.0)"
   ]
  },
  {
   "cell_type": "markdown",
   "metadata": {},
   "source": [
    "## Missing"
   ]
  },
  {
   "cell_type": "code",
   "execution_count": 90,
   "metadata": {},
   "outputs": [
    {
     "name": "stdout",
     "output_type": "stream",
     "text": [
      "missing + 1.0 = missing\n",
      "missing * 2 = missing\n",
      "missing * \"test\" = missing\n",
      "f(missing) = missing\n",
      "mean(x) = 1.5\n"
     ]
    }
   ],
   "source": [
    "f(x) = x^2\n",
    "\n",
    "@show missing + 1.0\n",
    "@show missing * 2\n",
    "@show missing * \"test\"\n",
    "@show f(missing);      # even user-defined functions\n",
    "@show mean(x);"
   ]
  },
  {
   "cell_type": "code",
   "execution_count": 91,
   "metadata": {},
   "outputs": [
    {
     "data": {
      "text/plain": [
       "true"
      ]
     },
     "execution_count": 91,
     "metadata": {},
     "output_type": "execute_result"
    }
   ],
   "source": [
    "x = missing\n",
    "ismissing(x)"
   ]
  },
  {
   "cell_type": "markdown",
   "metadata": {},
   "source": [
    "* skipmissing(x), coalesce.(,values to replace missing with)"
   ]
  },
  {
   "cell_type": "code",
   "execution_count": 92,
   "metadata": {},
   "outputs": [
    {
     "name": "stdout",
     "output_type": "stream",
     "text": [
      "mean(x) = missing\n",
      "mean(skipmissing(x)) = 2.6666666666666665\n",
      "coalesce.(x, 0.0) = [1.0, 0.0, 2.0, 0.0, 0.0, 5.0]\n"
     ]
    }
   ],
   "source": [
    "x = [1.0, missing, 2.0, missing, missing, 5.0]\n",
    "\n",
    "@show mean(x)\n",
    "@show mean(skipmissing(x))\n",
    "@show coalesce.(x, 0.0);  # replace missing with 0.0;"
   ]
  },
  {
   "cell_type": "markdown",
   "metadata": {},
   "source": [
    "# Exercises"
   ]
  },
  {
   "cell_type": "markdown",
   "metadata": {},
   "source": [
    "## Exercise 1: Stochastic difference equation"
   ]
  },
  {
   "cell_type": "code",
   "execution_count": 93,
   "metadata": {},
   "outputs": [
    {
     "data": {
      "text/plain": [
       "compute_asymptotic_var (generic function with 1 method)"
      ]
     },
     "execution_count": 93,
     "metadata": {},
     "output_type": "execute_result"
    }
   ],
   "source": [
    "function compute_asymptotic_var(A, Σ;\n",
    "                                S0 = Σ * Σ',\n",
    "                                tolerance = 1e-6,\n",
    "                                maxiter = 500)\n",
    "    V = Σ * Σ'\n",
    "    S = S0\n",
    "    err = tolerance + 1\n",
    "    i = 1\n",
    "    while err > tolerance && i ≤ maxiter\n",
    "        next_S = A * S * A' + V\n",
    "        err = norm(S - next_S)\n",
    "        S = next_S\n",
    "        i += 1\n",
    "    end\n",
    "    return S\n",
    "end"
   ]
  },
  {
   "cell_type": "markdown",
   "metadata": {},
   "source": [
    "* Takeaway"
   ]
  },
  {
   "cell_type": "markdown",
   "metadata": {},
   "source": [
    "Don't forget to set maxiter (otherwise calculation might not end)"
   ]
  },
  {
   "cell_type": "code",
   "execution_count": 100,
   "metadata": {},
   "outputs": [
    {
     "data": {
      "text/plain": [
       "2×2 Array{Float64,2}:\n",
       " 0.5  0.4\n",
       " 0.4  0.6"
      ]
     },
     "execution_count": 100,
     "metadata": {},
     "output_type": "execute_result"
    }
   ],
   "source": [
    "A =[0.8 -0.2;-0.1 0.7]\n",
    "Σ =[ 0.5 0.4;0.4 0.6 ]"
   ]
  },
  {
   "cell_type": "code",
   "execution_count": 101,
   "metadata": {},
   "outputs": [
    {
     "data": {
      "text/plain": [
       "2×2 Array{Float64,2}:\n",
       " 0.671228  0.633476\n",
       " 0.633476  0.858874"
      ]
     },
     "execution_count": 101,
     "metadata": {},
     "output_type": "execute_result"
    }
   ],
   "source": [
    "myanswer=compute_asymptotic_var(A,Σ)"
   ]
  },
  {
   "cell_type": "code",
   "execution_count": 96,
   "metadata": {},
   "outputs": [],
   "source": [
    "using QuantEcon"
   ]
  },
  {
   "cell_type": "code",
   "execution_count": 103,
   "metadata": {},
   "outputs": [
    {
     "data": {
      "text/plain": [
       "2×2 Array{Float64,2}:\n",
       " 0.671231  0.633474\n",
       " 0.633474  0.858874"
      ]
     },
     "execution_count": 103,
     "metadata": {},
     "output_type": "execute_result"
    }
   ],
   "source": [
    "packsol=solve_discrete_lyapunov(A,Σ*Σ')"
   ]
  },
  {
   "cell_type": "code",
   "execution_count": 104,
   "metadata": {},
   "outputs": [
    {
     "data": {
      "text/plain": [
       "3.883245447999784e-6"
      ]
     },
     "execution_count": 104,
     "metadata": {},
     "output_type": "execute_result"
    }
   ],
   "source": [
    "deviation=norm(myanswer-packsol)"
   ]
  },
  {
   "cell_type": "code",
   "execution_count": 35,
   "metadata": {},
   "outputs": [
    {
     "name": "stdout",
     "output_type": "stream",
     "text": [
      "search: \u001b[0m\u001b[1ms\u001b[22m\u001b[0m\u001b[1mo\u001b[22m\u001b[0m\u001b[1ml\u001b[22m\u001b[0m\u001b[1mv\u001b[22m\u001b[0m\u001b[1me\u001b[22m\u001b[0m\u001b[1m_\u001b[22m\u001b[0m\u001b[1md\u001b[22m\u001b[0m\u001b[1mi\u001b[22m\u001b[0m\u001b[1ms\u001b[22m\u001b[0m\u001b[1mc\u001b[22m\u001b[0m\u001b[1mr\u001b[22m\u001b[0m\u001b[1me\u001b[22m\u001b[0m\u001b[1mt\u001b[22m\u001b[0m\u001b[1me\u001b[22m\u001b[0m\u001b[1m_\u001b[22m\u001b[0m\u001b[1ml\u001b[22m\u001b[0m\u001b[1my\u001b[22m\u001b[0m\u001b[1ma\u001b[22m\u001b[0m\u001b[1mp\u001b[22m\u001b[0m\u001b[1mu\u001b[22m\u001b[0m\u001b[1mn\u001b[22m\u001b[0m\u001b[1mo\u001b[22m\u001b[0m\u001b[1mv\u001b[22m\n",
      "\n"
     ]
    },
    {
     "data": {
      "text/latex": [
       "Solves the discrete lyapunov equation.\n",
       "\n",
       "The problem is given by\n",
       "\n",
       "$$    AXA' - X + B = 0$$\n",
       "$X$ is computed by using a doubling algorithm. In particular, we iterate to convergence on $X_j$ with the following recursions for $j = 1, 2, \\ldots$ starting from $X_0 = B, a_0 = A$:\n",
       "\n",
       "$$    a_j = a_{j-1} a_{j-1} \\\\\n",
       "\n",
       "    X_j = X_{j-1} + a_{j-1} X_{j-1} a_{j-1}'$$\n",
       "\\subparagraph{Arguments}\n",
       "\\begin{itemize}\n",
       "\\item \\texttt{A::Matrix\\{Float64\\}} : An \\texttt{n x n} matrix as described above.  We assume in order for  convergence that the eigenvalues of $A$ have moduli bounded by unity\n",
       "\n",
       "\n",
       "\\item \\texttt{B::Matrix\\{Float64\\}} :  An \\texttt{n x n} matrix as described above.  We assume in order for convergence that the eigenvalues of $B$ have moduli bounded by unity\n",
       "\n",
       "\n",
       "\\item \\texttt{max\\_it::Int(50)} :  Maximum number of iterations\n",
       "\n",
       "\\end{itemize}\n",
       "\\subparagraph{Returns}\n",
       "\\begin{itemize}\n",
       "\\item \\texttt{gamma1::Matrix\\{Float64\\}} Represents the value $X$\n",
       "\n",
       "\\end{itemize}\n"
      ],
      "text/markdown": [
       "Solves the discrete lyapunov equation.\n",
       "\n",
       "The problem is given by\n",
       "\n",
       "$$\n",
       "    AXA' - X + B = 0\n",
       "$$\n",
       "\n",
       "$X$ is computed by using a doubling algorithm. In particular, we iterate to convergence on $X_j$ with the following recursions for $j = 1, 2, \\ldots$ starting from $X_0 = B, a_0 = A$:\n",
       "\n",
       "$$\n",
       "    a_j = a_{j-1} a_{j-1} \\\\\n",
       "\n",
       "    X_j = X_{j-1} + a_{j-1} X_{j-1} a_{j-1}'\n",
       "$$\n",
       "\n",
       "##### Arguments\n",
       "\n",
       "  * `A::Matrix{Float64}` : An `n x n` matrix as described above.  We assume in order for  convergence that the eigenvalues of $A$ have moduli bounded by unity\n",
       "  * `B::Matrix{Float64}` :  An `n x n` matrix as described above.  We assume in order for convergence that the eigenvalues of $B$ have moduli bounded by unity\n",
       "  * `max_it::Int(50)` :  Maximum number of iterations\n",
       "\n",
       "##### Returns\n",
       "\n",
       "  * `gamma1::Matrix{Float64}` Represents the value $X$\n"
      ],
      "text/plain": [
       "  Solves the discrete lyapunov equation.\n",
       "\n",
       "  The problem is given by\n",
       "\n",
       "\u001b[35m    AXA' - X + B = 0\u001b[39m\n",
       "\n",
       "  \u001b[35mX\u001b[39m is computed by using a doubling algorithm. In particular, we iterate to\n",
       "  convergence on \u001b[35mX_j\u001b[39m with the following recursions for \u001b[35mj = 1, 2, \\ldots\u001b[39m\n",
       "  starting from \u001b[35mX_0 = B, a_0 = A\u001b[39m:\n",
       "\n",
       "\u001b[35m    a_j = a_{j-1} a_{j-1} \\\\\u001b[39m\n",
       "\n",
       "\u001b[35m    X_j = X_{j-1} + a_{j-1} X_{j-1} a_{j-1}'\u001b[39m\n",
       "\n",
       "\u001b[1m  Arguments\u001b[22m\n",
       "\u001b[1m  ⋅⋅⋅⋅⋅⋅⋅⋅⋅⋅⋅\u001b[22m\n",
       "\n",
       "    •    \u001b[36mA::Matrix{Float64}\u001b[39m : An \u001b[36mn x n\u001b[39m matrix as described above. We assume\n",
       "        in order for convergence that the eigenvalues of \u001b[35mA\u001b[39m have moduli\n",
       "        bounded by unity\n",
       "\n",
       "    •    \u001b[36mB::Matrix{Float64}\u001b[39m : An \u001b[36mn x n\u001b[39m matrix as described above. We assume\n",
       "        in order for convergence that the eigenvalues of \u001b[35mB\u001b[39m have moduli\n",
       "        bounded by unity\n",
       "\n",
       "    •    \u001b[36mmax_it::Int(50)\u001b[39m : Maximum number of iterations\n",
       "\n",
       "\u001b[1m  Returns\u001b[22m\n",
       "\u001b[1m  ⋅⋅⋅⋅⋅⋅⋅⋅⋅\u001b[22m\n",
       "\n",
       "    •    \u001b[36mgamma1::Matrix{Float64}\u001b[39m Represents the value \u001b[35mX\u001b[39m"
      ]
     },
     "execution_count": 35,
     "metadata": {},
     "output_type": "execute_result"
    }
   ],
   "source": [
    "? solve_discrete_lyapunov"
   ]
  },
  {
   "cell_type": "markdown",
   "metadata": {},
   "source": [
    "## Exercise 2: AR(1) and stationarity"
   ]
  },
  {
   "cell_type": "code",
   "execution_count": 13,
   "metadata": {},
   "outputs": [
    {
     "name": "stderr",
     "output_type": "stream",
     "text": [
      "┌ Info: Precompiling Plots [91a5bcdd-55d7-5caf-9e0b-520d859cae80]\n",
      "└ @ Base loading.jl:1260\n",
      "┌ Warning: Package GR does not have UUIDs in its dependencies:\n",
      "│ - If you have GR checked out for development and have\n",
      "│   added UUIDs as a dependency but haven't updated your primary\n",
      "│   environment's manifest file, try `Pkg.resolve()`.\n",
      "│ - Otherwise you may need to report an issue with GR\n",
      "└ Loading UUIDs into GR from project dependency, future warnings for GR are suppressed.\n",
      "┌ Warning: The call to compilecache failed to create a usable precompiled cache file for Plots [91a5bcdd-55d7-5caf-9e0b-520d859cae80]\n",
      "│   exception = ErrorException(\"Required dependency GR [28b8d3ca-fb5f-59d9-8090-bfdbd6d07a71] failed to load from a cache file.\")\n",
      "└ @ Base loading.jl:1041\n",
      "┌ Info: Precompiling GR [28b8d3ca-fb5f-59d9-8090-bfdbd6d07a71]\n",
      "└ @ Base loading.jl:1260\n",
      "┌ Warning: Package GR does not have UUIDs in its dependencies:\n",
      "│ - If you have GR checked out for development and have\n",
      "│   added UUIDs as a dependency but haven't updated your primary\n",
      "│   environment's manifest file, try `Pkg.resolve()`.\n",
      "│ - Otherwise you may need to report an issue with GR\n",
      "└ Loading UUIDs into GR from project dependency, future warnings for GR are suppressed.\n"
     ]
    }
   ],
   "source": [
    "using Plots"
   ]
  },
  {
   "cell_type": "code",
   "execution_count": 193,
   "metadata": {},
   "outputs": [
    {
     "data": {
      "text/plain": [
       "f_ex2 (generic function with 2 methods)"
      ]
     },
     "execution_count": 193,
     "metadata": {},
     "output_type": "execute_result"
    }
   ],
   "source": [
    "function f_ex2(θ;T=150,y0=0.0,γ=1.0,σ=1.0)\n",
    "    y=zeros(T+1)\n",
    "    y[1]=γ+θ*y0+σ*randn()\n",
    "    i=1\n",
    "    while i<=T\n",
    "        y[i+1]=γ+θ*y[i]+σ*randn()\n",
    "         i+=1\n",
    "    end\n",
    "    rm=zeros(T+1)\n",
    "    for i in 1:T+1\n",
    "        rm[i]=mean(y[1]:y[i]) \n",
    "    end \n",
    "    return y,rm\n",
    "end"
   ]
  },
  {
   "cell_type": "code",
   "execution_count": 197,
   "metadata": {},
   "outputs": [
    {
     "data": {
      "image/svg+xml": [
       "<?xml version=\"1.0\" encoding=\"utf-8\"?>\n",
       "<svg xmlns=\"http://www.w3.org/2000/svg\" xmlns:xlink=\"http://www.w3.org/1999/xlink\" width=\"600\" height=\"400\" viewBox=\"0 0 2400 1600\">\n",
       "<defs>\n",
       "  <clipPath id=\"clip520\">\n",
       "    <rect x=\"0\" y=\"0\" width=\"2400\" height=\"1600\"/>\n",
       "  </clipPath>\n",
       "</defs>\n",
       "<path clip-path=\"url(#clip520)\" d=\"\n",
       "M0 1600 L2400 1600 L2400 0 L0 0  Z\n",
       "  \" fill=\"#ffffff\" fill-rule=\"evenodd\" fill-opacity=\"1\"/>\n",
       "<defs>\n",
       "  <clipPath id=\"clip521\">\n",
       "    <rect x=\"480\" y=\"0\" width=\"1681\" height=\"1600\"/>\n",
       "  </clipPath>\n",
       "</defs>\n",
       "<path clip-path=\"url(#clip520)\" d=\"\n",
       "M140.517 1487.47 L2352.76 1487.47 L2352.76 47.2441 L140.517 47.2441  Z\n",
       "  \" fill=\"#ffffff\" fill-rule=\"evenodd\" fill-opacity=\"1\"/>\n",
       "<defs>\n",
       "  <clipPath id=\"clip522\">\n",
       "    <rect x=\"140\" y=\"47\" width=\"2213\" height=\"1441\"/>\n",
       "  </clipPath>\n",
       "</defs>\n",
       "<polyline clip-path=\"url(#clip522)\" style=\"stroke:#000000; stroke-width:1.6; stroke-opacity:0.1; fill:none\" points=\"\n",
       "  189.214,1487.47 189.214,47.2441 \n",
       "  \"/>\n",
       "<polyline clip-path=\"url(#clip522)\" style=\"stroke:#000000; stroke-width:1.6; stroke-opacity:0.1; fill:none\" points=\"\n",
       "  884.887,1487.47 884.887,47.2441 \n",
       "  \"/>\n",
       "<polyline clip-path=\"url(#clip522)\" style=\"stroke:#000000; stroke-width:1.6; stroke-opacity:0.1; fill:none\" points=\"\n",
       "  1580.56,1487.47 1580.56,47.2441 \n",
       "  \"/>\n",
       "<polyline clip-path=\"url(#clip522)\" style=\"stroke:#000000; stroke-width:1.6; stroke-opacity:0.1; fill:none\" points=\"\n",
       "  2276.23,1487.47 2276.23,47.2441 \n",
       "  \"/>\n",
       "<polyline clip-path=\"url(#clip522)\" style=\"stroke:#000000; stroke-width:1.6; stroke-opacity:0.1; fill:none\" points=\"\n",
       "  140.517,1452.08 2352.76,1452.08 \n",
       "  \"/>\n",
       "<polyline clip-path=\"url(#clip522)\" style=\"stroke:#000000; stroke-width:1.6; stroke-opacity:0.1; fill:none\" points=\"\n",
       "  140.517,1187.36 2352.76,1187.36 \n",
       "  \"/>\n",
       "<polyline clip-path=\"url(#clip522)\" style=\"stroke:#000000; stroke-width:1.6; stroke-opacity:0.1; fill:none\" points=\"\n",
       "  140.517,922.638 2352.76,922.638 \n",
       "  \"/>\n",
       "<polyline clip-path=\"url(#clip522)\" style=\"stroke:#000000; stroke-width:1.6; stroke-opacity:0.1; fill:none\" points=\"\n",
       "  140.517,657.919 2352.76,657.919 \n",
       "  \"/>\n",
       "<polyline clip-path=\"url(#clip522)\" style=\"stroke:#000000; stroke-width:1.6; stroke-opacity:0.1; fill:none\" points=\"\n",
       "  140.517,393.199 2352.76,393.199 \n",
       "  \"/>\n",
       "<polyline clip-path=\"url(#clip522)\" style=\"stroke:#000000; stroke-width:1.6; stroke-opacity:0.1; fill:none\" points=\"\n",
       "  140.517,128.48 2352.76,128.48 \n",
       "  \"/>\n",
       "<polyline clip-path=\"url(#clip520)\" style=\"stroke:#000000; stroke-width:3.2; stroke-opacity:1; fill:none\" points=\"\n",
       "  140.517,1487.47 2352.76,1487.47 \n",
       "  \"/>\n",
       "<polyline clip-path=\"url(#clip520)\" style=\"stroke:#000000; stroke-width:3.2; stroke-opacity:1; fill:none\" points=\"\n",
       "  140.517,1487.47 140.517,47.2441 \n",
       "  \"/>\n",
       "<polyline clip-path=\"url(#clip520)\" style=\"stroke:#000000; stroke-width:3.2; stroke-opacity:1; fill:none\" points=\"\n",
       "  189.214,1487.47 189.214,1465.87 \n",
       "  \"/>\n",
       "<polyline clip-path=\"url(#clip520)\" style=\"stroke:#000000; stroke-width:3.2; stroke-opacity:1; fill:none\" points=\"\n",
       "  884.887,1487.47 884.887,1465.87 \n",
       "  \"/>\n",
       "<polyline clip-path=\"url(#clip520)\" style=\"stroke:#000000; stroke-width:3.2; stroke-opacity:1; fill:none\" points=\"\n",
       "  1580.56,1487.47 1580.56,1465.87 \n",
       "  \"/>\n",
       "<polyline clip-path=\"url(#clip520)\" style=\"stroke:#000000; stroke-width:3.2; stroke-opacity:1; fill:none\" points=\"\n",
       "  2276.23,1487.47 2276.23,1465.87 \n",
       "  \"/>\n",
       "<polyline clip-path=\"url(#clip520)\" style=\"stroke:#000000; stroke-width:3.2; stroke-opacity:1; fill:none\" points=\"\n",
       "  140.517,1452.08 173.7,1452.08 \n",
       "  \"/>\n",
       "<polyline clip-path=\"url(#clip520)\" style=\"stroke:#000000; stroke-width:3.2; stroke-opacity:1; fill:none\" points=\"\n",
       "  140.517,1187.36 173.7,1187.36 \n",
       "  \"/>\n",
       "<polyline clip-path=\"url(#clip520)\" style=\"stroke:#000000; stroke-width:3.2; stroke-opacity:1; fill:none\" points=\"\n",
       "  140.517,922.638 173.7,922.638 \n",
       "  \"/>\n",
       "<polyline clip-path=\"url(#clip520)\" style=\"stroke:#000000; stroke-width:3.2; stroke-opacity:1; fill:none\" points=\"\n",
       "  140.517,657.919 173.7,657.919 \n",
       "  \"/>\n",
       "<polyline clip-path=\"url(#clip520)\" style=\"stroke:#000000; stroke-width:3.2; stroke-opacity:1; fill:none\" points=\"\n",
       "  140.517,393.199 173.7,393.199 \n",
       "  \"/>\n",
       "<polyline clip-path=\"url(#clip520)\" style=\"stroke:#000000; stroke-width:3.2; stroke-opacity:1; fill:none\" points=\"\n",
       "  140.517,128.48 173.7,128.48 \n",
       "  \"/>\n",
       "<g clip-path=\"url(#clip520)\">\n",
       "<text style=\"fill:#000000; fill-opacity:1; font-family:Arial,Helvetica Neue,Helvetica,sans-serif; font-size:48px; text-anchor:middle;\" transform=\"rotate(0, 189.214, 1541.47)\" x=\"189.214\" y=\"1541.47\">0</text>\n",
       "</g>\n",
       "<g clip-path=\"url(#clip520)\">\n",
       "<text style=\"fill:#000000; fill-opacity:1; font-family:Arial,Helvetica Neue,Helvetica,sans-serif; font-size:48px; text-anchor:middle;\" transform=\"rotate(0, 884.887, 1541.47)\" x=\"884.887\" y=\"1541.47\">50</text>\n",
       "</g>\n",
       "<g clip-path=\"url(#clip520)\">\n",
       "<text style=\"fill:#000000; fill-opacity:1; font-family:Arial,Helvetica Neue,Helvetica,sans-serif; font-size:48px; text-anchor:middle;\" transform=\"rotate(0, 1580.56, 1541.47)\" x=\"1580.56\" y=\"1541.47\">100</text>\n",
       "</g>\n",
       "<g clip-path=\"url(#clip520)\">\n",
       "<text style=\"fill:#000000; fill-opacity:1; font-family:Arial,Helvetica Neue,Helvetica,sans-serif; font-size:48px; text-anchor:middle;\" transform=\"rotate(0, 2276.23, 1541.47)\" x=\"2276.23\" y=\"1541.47\">150</text>\n",
       "</g>\n",
       "<g clip-path=\"url(#clip520)\">\n",
       "<text style=\"fill:#000000; fill-opacity:1; font-family:Arial,Helvetica Neue,Helvetica,sans-serif; font-size:48px; text-anchor:end;\" transform=\"rotate(0, 116.517, 1469.58)\" x=\"116.517\" y=\"1469.58\">0</text>\n",
       "</g>\n",
       "<g clip-path=\"url(#clip520)\">\n",
       "<text style=\"fill:#000000; fill-opacity:1; font-family:Arial,Helvetica Neue,Helvetica,sans-serif; font-size:48px; text-anchor:end;\" transform=\"rotate(0, 116.517, 1204.86)\" x=\"116.517\" y=\"1204.86\">10</text>\n",
       "</g>\n",
       "<g clip-path=\"url(#clip520)\">\n",
       "<text style=\"fill:#000000; fill-opacity:1; font-family:Arial,Helvetica Neue,Helvetica,sans-serif; font-size:48px; text-anchor:end;\" transform=\"rotate(0, 116.517, 940.138)\" x=\"116.517\" y=\"940.138\">20</text>\n",
       "</g>\n",
       "<g clip-path=\"url(#clip520)\">\n",
       "<text style=\"fill:#000000; fill-opacity:1; font-family:Arial,Helvetica Neue,Helvetica,sans-serif; font-size:48px; text-anchor:end;\" transform=\"rotate(0, 116.517, 675.419)\" x=\"116.517\" y=\"675.419\">30</text>\n",
       "</g>\n",
       "<g clip-path=\"url(#clip520)\">\n",
       "<text style=\"fill:#000000; fill-opacity:1; font-family:Arial,Helvetica Neue,Helvetica,sans-serif; font-size:48px; text-anchor:end;\" transform=\"rotate(0, 116.517, 410.699)\" x=\"116.517\" y=\"410.699\">40</text>\n",
       "</g>\n",
       "<g clip-path=\"url(#clip520)\">\n",
       "<text style=\"fill:#000000; fill-opacity:1; font-family:Arial,Helvetica Neue,Helvetica,sans-serif; font-size:48px; text-anchor:end;\" transform=\"rotate(0, 116.517, 145.98)\" x=\"116.517\" y=\"145.98\">50</text>\n",
       "</g>\n",
       "<polyline clip-path=\"url(#clip522)\" style=\"stroke:#009af9; stroke-width:3.2; stroke-opacity:1; fill:none\" points=\"\n",
       "  203.127,1430 217.041,1376.5 230.954,1388.65 244.868,1380 258.781,1385.86 272.695,1352.83 286.608,1339.18 300.522,1301.63 314.435,1308.34 328.348,1344.21 \n",
       "  342.262,1336.4 356.175,1287.4 370.089,1287.11 384.002,1272.18 397.916,1286.57 411.829,1288.7 425.743,1283.35 439.656,1253.05 453.57,1285.67 467.483,1280.9 \n",
       "  481.396,1323.13 495.31,1321.28 509.223,1330.7 523.137,1331.84 537.05,1317.61 550.964,1293.38 564.877,1335.48 578.791,1294.73 592.704,1267.01 606.617,1265.67 \n",
       "  620.531,1299.1 634.444,1286.18 648.358,1306.53 662.271,1307.5 676.185,1340.24 690.098,1348.73 704.012,1321.55 717.925,1302.9 731.839,1316.92 745.752,1284.24 \n",
       "  759.665,1269.29 773.579,1259 787.492,1252.69 801.406,1309.41 815.319,1308.96 829.233,1345.98 843.146,1376.01 857.06,1361.87 870.973,1355.45 884.887,1351.2 \n",
       "  898.8,1344.66 912.713,1335.82 926.627,1269.33 940.54,1244.8 954.454,1267.82 968.367,1255.4 982.281,1239.87 996.194,1219.34 1010.11,1240.34 1024.02,1240.5 \n",
       "  1037.93,1256.05 1051.85,1263.16 1065.76,1293.83 1079.67,1285.08 1093.59,1316.3 1107.5,1289.64 1121.42,1294.23 1135.33,1312.81 1149.24,1347.96 1163.16,1353.25 \n",
       "  1177.07,1332.44 1190.98,1323.89 1204.9,1365.24 1218.81,1366.3 1232.72,1376.61 1246.64,1384.95 1260.55,1415.18 1274.46,1406.6 1288.38,1380.46 1302.29,1351.82 \n",
       "  1316.2,1316.8 1330.12,1318.23 1344.03,1327.42 1357.94,1306.9 1371.86,1256.3 1385.77,1261.69 1399.68,1287.58 1413.6,1380.07 1427.51,1364.82 1441.42,1356.52 \n",
       "  1455.34,1373.28 1469.25,1319.65 1483.17,1316.96 1497.08,1322.77 1510.99,1317.16 1524.91,1295.06 1538.82,1312.95 1552.73,1360.75 1566.65,1347.03 1580.56,1340.31 \n",
       "  1594.47,1367.28 1608.39,1343.25 1622.3,1295.54 1636.21,1290.86 1650.13,1307.08 1664.04,1278.85 1677.95,1358.99 1691.87,1395.25 1705.78,1401.09 1719.69,1396.52 \n",
       "  1733.61,1371.65 1747.52,1380.68 1761.43,1335.77 1775.35,1305.48 1789.26,1330.16 1803.17,1333.28 1817.09,1317.46 1831,1302.4 1844.91,1337.73 1858.83,1345.28 \n",
       "  1872.74,1338.54 1886.66,1317.58 1900.57,1304.92 1914.48,1293.76 1928.4,1282 1942.31,1264.28 1956.22,1318.64 1970.14,1340.76 1984.05,1314.67 1997.96,1330.83 \n",
       "  2011.88,1301.9 2025.79,1343.34 2039.7,1305.63 2053.62,1321.66 2067.53,1301.59 2081.44,1306.77 2095.36,1319.64 2109.27,1315.29 2123.18,1343.68 2137.1,1348.74 \n",
       "  2151.01,1371.59 2164.92,1332.53 2178.84,1333.7 2192.75,1287.35 2206.66,1264.98 2220.58,1294.19 2234.49,1311.79 2248.41,1324.32 2262.32,1337.72 2276.23,1311.89 \n",
       "  2290.15,1310.68 \n",
       "  \"/>\n",
       "<polyline clip-path=\"url(#clip522)\" style=\"stroke:#e26f46; stroke-width:3.2; stroke-opacity:1; fill:none\" points=\"\n",
       "  230.954,1413.95 244.868,1413.95 258.781,1387.48 272.695,1361.01 286.608,1387.48 300.522,1400.72 314.435,1374.25 328.348,1361.01 342.262,1387.48 356.175,1374.25 \n",
       "  370.089,1361.01 384.002,1347.77 397.916,1347.77 411.829,1400.72 425.743,1400.72 439.656,1400.72 453.57,1374.25 467.483,1361.01 481.396,1374.25 495.31,1361.01 \n",
       "  509.223,1374.25 523.137,1374.25 537.05,1361.01 550.964,1374.25 564.877,1374.25 578.791,1387.48 592.704,1361.01 606.617,1374.25 620.531,1387.48 634.444,1374.25 \n",
       "  648.358,1387.48 662.271,1374.25 676.185,1387.48 690.098,1387.48 704.012,1387.48 717.925,1374.25 731.839,1374.25 745.752,1361.01 759.665,1347.77 773.579,1361.01 \n",
       "  787.492,1361.01 801.406,1387.48 815.319,1374.25 829.233,1387.48 843.146,1400.72 857.06,1387.48 870.973,1413.95 884.887,1413.95 898.8,1427.19 \n",
       "  \"/>\n",
       "<polyline clip-path=\"url(#clip522)\" style=\"stroke:#e26f46; stroke-width:3.2; stroke-opacity:1; fill:none\" points=\"\n",
       "  926.627,1413.95 940.54,1387.48 954.454,1400.72 968.367,1400.72 982.281,1374.25 996.194,1400.72 1010.11,1387.48 1024.02,1400.72 1037.93,1387.48 1051.85,1374.25 \n",
       "  1065.76,1374.25 1079.67,1400.72 1093.59,1400.72 1107.5,1413.95 1121.42,1400.72 1135.33,1400.72 1149.24,1413.95 1163.16,1413.95 1177.07,1400.72 1190.98,1413.95 \n",
       "  1204.9,1400.72 1218.81,1400.72 1232.72,1387.48 1246.64,1400.72 1260.55,1374.25 1274.46,1387.48 1288.38,1361.01 1302.29,1374.25 1316.2,1347.77 1330.12,1321.3 \n",
       "  1344.03,1334.54 1357.94,1347.77 1371.86,1374.25 1385.77,1413.95 1399.68,1427.19 1413.6,1400.72 1427.51,1387.48 1441.42,1413.95 1455.34,1400.72 1469.25,1400.72 \n",
       "  1483.17,1387.48 1497.08,1374.25 1510.99,1374.25 1524.91,1387.48 1538.82,1387.48 1552.73,1374.25 1566.65,1374.25 1580.56,1374.25 1594.47,1361.01 1608.39,1374.25 \n",
       "  1622.3,1361.01 1636.21,1361.01 1650.13,1347.77 1664.04,1361.01 1677.95,1387.48 1691.87,1374.25 1705.78,1387.48 1719.69,1374.25 1733.61,1361.01 1747.52,1374.25 \n",
       "  1761.43,1374.25 1775.35,1361.01 1789.26,1361.01 1803.17,1361.01 1817.09,1361.01 1831,1374.25 1844.91,1374.25 1858.83,1347.77 1872.74,1361.01 1886.66,1374.25 \n",
       "  1900.57,1374.25 1914.48,1374.25 1928.4,1387.48 1942.31,1400.72 1956.22,1400.72 1970.14,1387.48 1984.05,1387.48 1997.96,1387.48 2011.88,1387.48 2025.79,1400.72 \n",
       "  2039.7,1413.95 2053.62,1427.19 2067.53,1413.95 2081.44,1427.19 2095.36,1400.72 2109.27,1400.72 2123.18,1387.48 2137.1,1387.48 2151.01,1374.25 2164.92,1361.01 \n",
       "  2178.84,1387.48 2192.75,1387.48 2206.66,1413.95 2220.58,1400.72 2234.49,1387.48 2248.41,1361.01 2262.32,1361.01 2276.23,1361.01 2290.15,1361.01 \n",
       "  \"/>\n",
       "<polyline clip-path=\"url(#clip522)\" style=\"stroke:#3da44d; stroke-width:3.2; stroke-opacity:1; fill:none\" points=\"\n",
       "  203.127,1400.49 217.041,1376 230.954,1395.43 244.868,1378.28 258.781,1378.84 272.695,1406.11 286.608,1335.44 300.522,1281.15 314.435,1224.48 328.348,1225.74 \n",
       "  342.262,1169.86 356.175,1151.4 370.089,1119.91 384.002,1126.09 397.916,1146.27 411.829,1177.5 425.743,1148.79 439.656,1193.89 453.57,1148.43 467.483,1152.35 \n",
       "  481.396,1135.84 495.31,1113.61 509.223,1142.82 523.137,1200.43 537.05,1214.48 550.964,1175.84 564.877,1131.45 578.791,1192.12 592.704,1195.13 606.617,1216.86 \n",
       "  620.531,1190.53 634.444,1212.5 648.358,1201.56 662.271,1209.99 676.185,1209.25 690.098,1186.22 704.012,1175.85 717.925,1167.51 731.839,1164.5 745.752,1170.13 \n",
       "  759.665,1199.38 773.579,1160.09 787.492,1211.4 801.406,1204.29 815.319,1183.3 829.233,1134.82 843.146,1106.18 857.06,1108.81 870.973,1122.46 884.887,1107.65 \n",
       "  898.8,1120.28 912.713,1165.54 926.627,1194.6 940.54,1231.65 954.454,1244.14 968.367,1254.89 982.281,1240.72 996.194,1189.57 1010.11,1224.77 1024.02,1250.67 \n",
       "  1037.93,1306.49 1051.85,1321.68 1065.76,1324.8 1079.67,1324.94 1093.59,1307.56 1107.5,1240.65 1121.42,1235.07 1135.33,1259.07 1149.24,1252.91 1163.16,1239.49 \n",
       "  1177.07,1196.47 1190.98,1222.96 1204.9,1212.14 1218.81,1236.77 1232.72,1236.77 1246.64,1255.21 1260.55,1214.24 1274.46,1178.86 1288.38,1188.13 1302.29,1186.21 \n",
       "  1316.2,1168.87 1330.12,1152.62 1344.03,1147.85 1357.94,1169.41 1371.86,1226.95 1385.77,1247.28 1399.68,1232.02 1413.6,1239.08 1427.51,1241.81 1441.42,1228.87 \n",
       "  1455.34,1171.32 1469.25,1094.01 1483.17,1099.23 1497.08,1129.87 1510.99,1086.78 1524.91,1052.55 1538.82,1051.45 1552.73,1065.32 1566.65,1043.79 1580.56,1073.71 \n",
       "  1594.47,1103.69 1608.39,1078.74 1622.3,1097.09 1636.21,1103.65 1650.13,1126.55 1664.04,1175.04 1677.95,1192.81 1691.87,1189.22 1705.78,1210.64 1719.69,1217.87 \n",
       "  1733.61,1252.84 1747.52,1267.48 1761.43,1229.89 1775.35,1221.78 1789.26,1178.35 1803.17,1175.88 1817.09,1207.82 1831,1242.13 1844.91,1237.17 1858.83,1251.29 \n",
       "  1872.74,1282.32 1886.66,1290.93 1900.57,1250.22 1914.48,1265.64 1928.4,1221.25 1942.31,1254.39 1956.22,1253.08 1970.14,1235.29 1984.05,1230.36 1997.96,1218.24 \n",
       "  2011.88,1194.89 2025.79,1199.61 2039.7,1231.14 2053.62,1179.95 2067.53,1203.58 2081.44,1240.71 2095.36,1225.94 2109.27,1293.76 2123.18,1254.21 2137.1,1220.08 \n",
       "  2151.01,1228.23 2164.92,1233.23 2178.84,1243.43 2192.75,1203.69 2206.66,1166.92 2220.58,1162.09 2234.49,1172.61 2248.41,1138.68 2262.32,1138.55 2276.23,1128.55 \n",
       "  2290.15,1152.28 \n",
       "  \"/>\n",
       "<polyline clip-path=\"url(#clip522)\" style=\"stroke:#c271d2; stroke-width:3.2; stroke-opacity:1; fill:none\" points=\"\n",
       "  203.127,1424.81 217.041,1411.57 230.954,1424.81 244.868,1411.57 258.781,1385.1 272.695,1371.86 286.608,1385.1 300.522,1385.1 314.435,1358.63 328.348,1385.1 \n",
       "  342.262,1411.57 356.175,1371.86 370.089,1345.39 384.002,1332.16 397.916,1318.92 411.829,1345.39 425.743,1371.86 439.656,1385.1 453.57,1385.1 467.483,1371.86 \n",
       "  481.396,1358.63 495.31,1358.63 509.223,1371.86 523.137,1371.86 537.05,1385.1 550.964,1358.63 564.877,1371.86 578.791,1358.63 592.704,1385.1 606.617,1358.63 \n",
       "  620.531,1371.86 634.444,1358.63 648.358,1345.39 662.271,1332.16 676.185,1358.63 690.098,1371.86 704.012,1385.1 717.925,1371.86 731.839,1358.63 745.752,1345.39 \n",
       "  759.665,1345.39 773.579,1332.16 787.492,1318.92 801.406,1305.69 815.319,1305.69 829.233,1318.92 843.146,1305.69 857.06,1332.16 870.973,1358.63 884.887,1358.63 \n",
       "  898.8,1345.39 912.713,1371.86 926.627,1371.86 940.54,1385.1 954.454,1385.1 968.367,1358.63 982.281,1345.39 996.194,1358.63 1010.11,1371.86 1024.02,1345.39 \n",
       "  1037.93,1345.39 1051.85,1345.39 1065.76,1332.16 1079.67,1305.69 1093.59,1318.92 1107.5,1318.92 1121.42,1332.16 1135.33,1345.39 1149.24,1332.16 1163.16,1332.16 \n",
       "  1177.07,1371.86 1190.98,1371.86 1204.9,1358.63 1218.81,1358.63 1232.72,1345.39 1246.64,1345.39 1260.55,1345.39 1274.46,1345.39 1288.38,1345.39 1302.29,1358.63 \n",
       "  1316.2,1358.63 1330.12,1332.16 1344.03,1345.39 1357.94,1358.63 1371.86,1358.63 1385.77,1345.39 1399.68,1358.63 1413.6,1358.63 1427.51,1345.39 1441.42,1358.63 \n",
       "  1455.34,1371.86 1469.25,1385.1 1483.17,1371.86 1497.08,1371.86 1510.99,1371.86 1524.91,1358.63 1538.82,1332.16 1552.73,1305.69 1566.65,1318.92 1580.56,1332.16 \n",
       "  1594.47,1332.16 1608.39,1318.92 1622.3,1345.39 1636.21,1318.92 1650.13,1318.92 1664.04,1305.69 1677.95,1279.21 1691.87,1292.45 1705.78,1279.21 1719.69,1292.45 \n",
       "  1733.61,1305.69 1747.52,1305.69 1761.43,1305.69 1775.35,1318.92 1789.26,1318.92 1803.17,1305.69 1817.09,1332.16 1831,1318.92 1844.91,1318.92 1858.83,1318.92 \n",
       "  1872.74,1292.45 1886.66,1305.69 1900.57,1318.92 1914.48,1318.92 1928.4,1318.92 1942.31,1305.69 1956.22,1305.69 1970.14,1305.69 1984.05,1305.69 1997.96,1279.21 \n",
       "  2011.88,1279.21 2025.79,1252.74 2039.7,1239.51 2053.62,1239.51 2067.53,1239.51 2081.44,1265.98 2095.36,1265.98 2109.27,1279.21 2123.18,1292.45 2137.1,1265.98 \n",
       "  2151.01,1265.98 2164.92,1265.98 2178.84,1279.21 2192.75,1279.21 2206.66,1265.98 2220.58,1265.98 2234.49,1292.45 2248.41,1305.69 2262.32,1279.21 2276.23,1292.45 \n",
       "  2290.15,1305.69 \n",
       "  \"/>\n",
       "<polyline clip-path=\"url(#clip522)\" style=\"stroke:#ac8d18; stroke-width:3.2; stroke-opacity:1; fill:none\" points=\"\n",
       "  203.127,1378.11 217.041,1375.61 230.954,1325.77 244.868,1279.58 258.781,1276.61 272.695,1281.92 286.608,1285.87 300.522,1266.33 314.435,1227.99 328.348,1250.49 \n",
       "  342.262,1193.83 356.175,1173.07 370.089,1156.85 384.002,1105.67 397.916,1101.19 411.829,1061.99 425.743,1050.11 439.656,1000.33 453.57,992.775 467.483,998.261 \n",
       "  481.396,975.048 495.31,944.677 509.223,945.714 523.137,909.836 537.05,836.672 550.964,796.947 564.877,778.884 578.791,713.066 592.704,746.72 606.617,710.894 \n",
       "  620.531,653.724 634.444,640.585 648.358,625.746 662.271,604.001 676.185,575.571 690.098,595.104 704.012,589.281 717.925,568.153 731.839,551.574 745.752,538.97 \n",
       "  759.665,583.334 773.579,605.335 787.492,599.343 801.406,629.747 815.319,556.527 829.233,563.451 843.146,544.378 857.06,521.418 870.973,510.468 884.887,557.529 \n",
       "  898.8,522.348 912.713,519.375 926.627,525.85 940.54,511.819 954.454,490.085 968.367,528.021 982.281,426.506 996.194,423.651 1010.11,386.712 1024.02,401.971 \n",
       "  1037.93,389.66 1051.85,331.724 1065.76,372.121 1079.67,400.818 1093.59,406.423 1107.5,428.301 1121.42,374.529 1135.33,336.969 1149.24,337.465 1163.16,363.984 \n",
       "  1177.07,375.332 1190.98,378.856 1204.9,424.008 1218.81,424.019 1232.72,401.018 1246.64,389.591 1260.55,399.612 1274.46,376.105 1288.38,368.744 1302.29,408.41 \n",
       "  1316.2,408.153 1330.12,382.267 1344.03,359.15 1357.94,293.88 1371.86,315.56 1385.77,330.438 1399.68,322.552 1413.6,310.504 1427.51,295.695 1441.42,273.71 \n",
       "  1455.34,348.096 1469.25,346.022 1483.17,338.985 1497.08,350.153 1510.99,378.369 1524.91,393.332 1538.82,398.434 1552.73,402.723 1566.65,381.651 1580.56,375.181 \n",
       "  1594.47,365.407 1608.39,356.06 1622.3,362.431 1636.21,336.022 1650.13,311.357 1664.04,326.54 1677.95,305.758 1691.87,292.5 1705.78,290.399 1719.69,273.667 \n",
       "  1733.61,262.25 1747.52,257.805 1761.43,253.766 1775.35,236.429 1789.26,253.476 1803.17,278.733 1817.09,278.506 1831,247.716 1844.91,229.629 1858.83,259.416 \n",
       "  1872.74,264.604 1886.66,284.265 1900.57,287.156 1914.48,326.651 1928.4,321.913 1942.31,301.592 1956.22,296.062 1970.14,328.508 1984.05,321.548 1997.96,340.893 \n",
       "  2011.88,316.888 2025.79,337.882 2039.7,307.157 2053.62,283.808 2067.53,227.962 2081.44,222.519 2095.36,193.258 2109.27,204.131 2123.18,196.118 2137.1,172.386 \n",
       "  2151.01,164.129 2164.92,136.297 2178.84,137.406 2192.75,89.1875 2206.66,88.0053 2220.58,161.869 2234.49,188.899 2248.41,217.442 2262.32,243.704 2276.23,222.924 \n",
       "  2290.15,184.776 \n",
       "  \"/>\n",
       "<polyline clip-path=\"url(#clip522)\" style=\"stroke:#00a9ad; stroke-width:3.2; stroke-opacity:1; fill:none\" points=\"\n",
       "  203.127,1446.71 217.041,1446.71 230.954,1446.71 244.868,1433.48 258.781,1420.24 272.695,1407.01 286.608,1380.53 300.522,1367.3 314.435,1340.83 328.348,1340.83 \n",
       "  342.262,1340.83 356.175,1327.59 370.089,1327.59 384.002,1327.59 397.916,1314.35 411.829,1301.12 425.743,1301.12 439.656,1287.88 453.57,1287.88 467.483,1261.41 \n",
       "  481.396,1261.41 495.31,1261.41 509.223,1248.17 523.137,1234.94 537.05,1234.94 550.964,1248.17 564.877,1248.17 578.791,1234.94 592.704,1234.94 606.617,1248.17 \n",
       "  620.531,1221.7 634.444,1195.23 648.358,1181.99 662.271,1168.76 676.185,1168.76 690.098,1142.29 704.012,1142.29 717.925,1129.05 731.839,1115.81 745.752,1129.05 \n",
       "  759.665,1115.81 773.579,1102.58 787.492,1102.58 801.406,1089.34 815.319,1102.58 829.233,1089.34 843.146,1089.34 857.06,1062.87 870.973,1076.11 884.887,1062.87 \n",
       "  898.8,1049.63 912.713,1049.63 926.627,1049.63 940.54,1049.63 954.454,1049.63 968.367,1009.93 982.281,1009.93 996.194,1036.4 1010.11,1036.4 1024.02,1049.63 \n",
       "  1037.93,1049.63 1051.85,1062.87 1065.76,1089.34 1079.67,1076.11 1093.59,1089.34 1107.5,1115.81 1121.42,1089.34 1135.33,1076.11 1149.24,1062.87 1163.16,1062.87 \n",
       "  1177.07,1089.34 1190.98,1102.58 1204.9,1089.34 1218.81,1076.11 1232.72,1089.34 1246.64,1076.11 1260.55,1076.11 1274.46,1089.34 1288.38,1089.34 1302.29,1089.34 \n",
       "  1316.2,1076.11 1330.12,1076.11 1344.03,1076.11 1357.94,1036.4 1371.86,1023.16 1385.77,1036.4 1399.68,1023.16 1413.6,1036.4 1427.51,1023.16 1441.42,1009.93 \n",
       "  1455.34,1009.93 1469.25,1023.16 1483.17,1009.93 1497.08,1036.4 1510.99,1009.93 1524.91,1023.16 1538.82,1009.93 1552.73,1023.16 1566.65,1036.4 1580.56,1036.4 \n",
       "  1594.47,1023.16 1608.39,1009.93 1622.3,1036.4 1636.21,1023.16 1650.13,1023.16 1664.04,1036.4 1677.95,1036.4 1691.87,1049.63 1705.78,1036.4 1719.69,1023.16 \n",
       "  1733.61,1023.16 1747.52,996.691 1761.43,1009.93 1775.35,1009.93 1789.26,1009.93 1803.17,1009.93 1817.09,996.691 1831,1009.93 1844.91,983.455 1858.83,996.691 \n",
       "  1872.74,996.691 1886.66,983.455 1900.57,970.219 1914.48,970.219 1928.4,970.219 1942.31,983.455 1956.22,970.219 1970.14,930.511 1984.05,917.275 1997.96,917.275 \n",
       "  2011.88,904.039 2025.79,890.803 2039.7,890.803 2053.62,877.567 2067.53,890.803 2081.44,851.095 2095.36,877.567 2109.27,877.567 2123.18,877.567 2137.1,877.567 \n",
       "  2151.01,904.039 2164.92,890.803 2178.84,904.039 2192.75,890.803 2206.66,904.039 2220.58,877.567 2234.49,864.331 2248.41,864.331 2262.32,890.803 2276.23,864.331 \n",
       "  2290.15,864.331 \n",
       "  \"/>\n",
       "<path clip-path=\"url(#clip520)\" d=\"\n",
       "M1758.45 554.124 L2280.76 554.124 L2280.76 130.764 L1758.45 130.764  Z\n",
       "  \" fill=\"#ffffff\" fill-rule=\"evenodd\" fill-opacity=\"1\"/>\n",
       "<polyline clip-path=\"url(#clip520)\" style=\"stroke:#000000; stroke-width:3.2; stroke-opacity:1; fill:none\" points=\"\n",
       "  1758.45,554.124 2280.76,554.124 2280.76,130.764 1758.45,130.764 1758.45,554.124 \n",
       "  \"/>\n",
       "<polyline clip-path=\"url(#clip520)\" style=\"stroke:#009af9; stroke-width:3.2; stroke-opacity:1; fill:none\" points=\"\n",
       "  1782.45,191.244 1926.45,191.244 \n",
       "  \"/>\n",
       "<g clip-path=\"url(#clip520)\">\n",
       "<text style=\"fill:#000000; fill-opacity:1; font-family:Arial,Helvetica Neue,Helvetica,sans-serif; font-size:48px; text-anchor:start;\" transform=\"rotate(0, 1950.45, 208.744)\" x=\"1950.45\" y=\"208.744\">θ=0.8</text>\n",
       "</g>\n",
       "<polyline clip-path=\"url(#clip520)\" style=\"stroke:#e26f46; stroke-width:3.2; stroke-opacity:1; fill:none\" points=\"\n",
       "  1782.45,251.724 1926.45,251.724 \n",
       "  \"/>\n",
       "<g clip-path=\"url(#clip520)\">\n",
       "<text style=\"fill:#000000; fill-opacity:1; font-family:Arial,Helvetica Neue,Helvetica,sans-serif; font-size:48px; text-anchor:start;\" transform=\"rotate(0, 1950.45, 269.224)\" x=\"1950.45\" y=\"269.224\">mean θ=0.8</text>\n",
       "</g>\n",
       "<polyline clip-path=\"url(#clip520)\" style=\"stroke:#3da44d; stroke-width:3.2; stroke-opacity:1; fill:none\" points=\"\n",
       "  1782.45,312.204 1926.45,312.204 \n",
       "  \"/>\n",
       "<g clip-path=\"url(#clip520)\">\n",
       "<text style=\"fill:#000000; fill-opacity:1; font-family:Arial,Helvetica Neue,Helvetica,sans-serif; font-size:48px; text-anchor:start;\" transform=\"rotate(0, 1950.45, 329.704)\" x=\"1950.45\" y=\"329.704\">θ=0.9</text>\n",
       "</g>\n",
       "<polyline clip-path=\"url(#clip520)\" style=\"stroke:#c271d2; stroke-width:3.2; stroke-opacity:1; fill:none\" points=\"\n",
       "  1782.45,372.684 1926.45,372.684 \n",
       "  \"/>\n",
       "<g clip-path=\"url(#clip520)\">\n",
       "<text style=\"fill:#000000; fill-opacity:1; font-family:Arial,Helvetica Neue,Helvetica,sans-serif; font-size:48px; text-anchor:start;\" transform=\"rotate(0, 1950.45, 390.184)\" x=\"1950.45\" y=\"390.184\">mean θ=0.9</text>\n",
       "</g>\n",
       "<polyline clip-path=\"url(#clip520)\" style=\"stroke:#ac8d18; stroke-width:3.2; stroke-opacity:1; fill:none\" points=\"\n",
       "  1782.45,433.164 1926.45,433.164 \n",
       "  \"/>\n",
       "<g clip-path=\"url(#clip520)\">\n",
       "<text style=\"fill:#000000; fill-opacity:1; font-family:Arial,Helvetica Neue,Helvetica,sans-serif; font-size:48px; text-anchor:start;\" transform=\"rotate(0, 1950.45, 450.664)\" x=\"1950.45\" y=\"450.664\">θ=0.98</text>\n",
       "</g>\n",
       "<polyline clip-path=\"url(#clip520)\" style=\"stroke:#00a9ad; stroke-width:3.2; stroke-opacity:1; fill:none\" points=\"\n",
       "  1782.45,493.644 1926.45,493.644 \n",
       "  \"/>\n",
       "<g clip-path=\"url(#clip520)\">\n",
       "<text style=\"fill:#000000; fill-opacity:1; font-family:Arial,Helvetica Neue,Helvetica,sans-serif; font-size:48px; text-anchor:start;\" transform=\"rotate(0, 1950.45, 511.144)\" x=\"1950.45\" y=\"511.144\">mean θ=0.98</text>\n",
       "</g>\n",
       "</svg>\n"
      ]
     },
     "execution_count": 197,
     "metadata": {},
     "output_type": "execute_result"
    }
   ],
   "source": [
    "p=plot()\n",
    "Θ=(0.8,0.9,0.98)\n",
    "for θ in Θ\n",
    "    plot!(p,f_ex2(θ)[1],label=\"θ=$θ\")\n",
    "    plot!(p,f_ex2(θ)[2],label=\"mean θ=$θ\") \n",
    "end\n",
    "p"
   ]
  },
  {
   "cell_type": "markdown",
   "metadata": {},
   "source": [
    "* Histogram of the stationary distribution of the final $y^n_t$ by simulation N=200."
   ]
  },
  {
   "cell_type": "code",
   "execution_count": 232,
   "metadata": {},
   "outputs": [
    {
     "data": {
      "text/plain": [
       "finalpoint (generic function with 1 method)"
      ]
     },
     "execution_count": 232,
     "metadata": {},
     "output_type": "execute_result"
    }
   ],
   "source": [
    "function finalpoint(θ;T=150,N=200,y0=0.0,γ=1.0,σ=1.0)\n",
    "    final=zeros(N)\n",
    "    for n in 1:N\n",
    "        y=zeros(T+1)\n",
    "        y[1]=γ+θ*y0+σ*randn()\n",
    "        i=1\n",
    "            while i<=T\n",
    "            y[i+1]=γ+θ*y[i]+σ*randn()\n",
    "             i+=1\n",
    "            end\n",
    "        final[n]=y[T]\n",
    "    end\n",
    "    return final\n",
    "end"
   ]
  },
  {
   "cell_type": "code",
   "execution_count": 233,
   "metadata": {},
   "outputs": [
    {
     "data": {
      "image/svg+xml": [
       "<?xml version=\"1.0\" encoding=\"utf-8\"?>\n",
       "<svg xmlns=\"http://www.w3.org/2000/svg\" xmlns:xlink=\"http://www.w3.org/1999/xlink\" width=\"600\" height=\"400\" viewBox=\"0 0 2400 1600\">\n",
       "<defs>\n",
       "  <clipPath id=\"clip320\">\n",
       "    <rect x=\"0\" y=\"0\" width=\"2400\" height=\"1600\"/>\n",
       "  </clipPath>\n",
       "</defs>\n",
       "<path clip-path=\"url(#clip320)\" d=\"\n",
       "M0 1600 L2400 1600 L2400 0 L0 0  Z\n",
       "  \" fill=\"#ffffff\" fill-rule=\"evenodd\" fill-opacity=\"1\"/>\n",
       "<defs>\n",
       "  <clipPath id=\"clip321\">\n",
       "    <rect x=\"480\" y=\"0\" width=\"1681\" height=\"1600\"/>\n",
       "  </clipPath>\n",
       "</defs>\n",
       "<path clip-path=\"url(#clip320)\" d=\"\n",
       "M140.517 1487.47 L2352.76 1487.47 L2352.76 47.2441 L140.517 47.2441  Z\n",
       "  \" fill=\"#ffffff\" fill-rule=\"evenodd\" fill-opacity=\"1\"/>\n",
       "<defs>\n",
       "  <clipPath id=\"clip322\">\n",
       "    <rect x=\"140\" y=\"47\" width=\"2213\" height=\"1441\"/>\n",
       "  </clipPath>\n",
       "</defs>\n",
       "<polyline clip-path=\"url(#clip322)\" style=\"stroke:#000000; stroke-width:1.6; stroke-opacity:0.1; fill:none\" points=\"\n",
       "  203.127,1487.47 203.127,47.2441 \n",
       "  \"/>\n",
       "<polyline clip-path=\"url(#clip322)\" style=\"stroke:#000000; stroke-width:1.6; stroke-opacity:0.1; fill:none\" points=\"\n",
       "  524.207,1487.47 524.207,47.2441 \n",
       "  \"/>\n",
       "<polyline clip-path=\"url(#clip322)\" style=\"stroke:#000000; stroke-width:1.6; stroke-opacity:0.1; fill:none\" points=\"\n",
       "  845.287,1487.47 845.287,47.2441 \n",
       "  \"/>\n",
       "<polyline clip-path=\"url(#clip322)\" style=\"stroke:#000000; stroke-width:1.6; stroke-opacity:0.1; fill:none\" points=\"\n",
       "  1166.37,1487.47 1166.37,47.2441 \n",
       "  \"/>\n",
       "<polyline clip-path=\"url(#clip322)\" style=\"stroke:#000000; stroke-width:1.6; stroke-opacity:0.1; fill:none\" points=\"\n",
       "  1487.45,1487.47 1487.45,47.2441 \n",
       "  \"/>\n",
       "<polyline clip-path=\"url(#clip322)\" style=\"stroke:#000000; stroke-width:1.6; stroke-opacity:0.1; fill:none\" points=\"\n",
       "  1808.53,1487.47 1808.53,47.2441 \n",
       "  \"/>\n",
       "<polyline clip-path=\"url(#clip322)\" style=\"stroke:#000000; stroke-width:1.6; stroke-opacity:0.1; fill:none\" points=\"\n",
       "  2129.61,1487.47 2129.61,47.2441 \n",
       "  \"/>\n",
       "<polyline clip-path=\"url(#clip322)\" style=\"stroke:#000000; stroke-width:1.6; stroke-opacity:0.1; fill:none\" points=\"\n",
       "  140.517,1446.71 2352.76,1446.71 \n",
       "  \"/>\n",
       "<polyline clip-path=\"url(#clip322)\" style=\"stroke:#000000; stroke-width:1.6; stroke-opacity:0.1; fill:none\" points=\"\n",
       "  140.517,1047.09 2352.76,1047.09 \n",
       "  \"/>\n",
       "<polyline clip-path=\"url(#clip322)\" style=\"stroke:#000000; stroke-width:1.6; stroke-opacity:0.1; fill:none\" points=\"\n",
       "  140.517,647.473 2352.76,647.473 \n",
       "  \"/>\n",
       "<polyline clip-path=\"url(#clip322)\" style=\"stroke:#000000; stroke-width:1.6; stroke-opacity:0.1; fill:none\" points=\"\n",
       "  140.517,247.853 2352.76,247.853 \n",
       "  \"/>\n",
       "<polyline clip-path=\"url(#clip320)\" style=\"stroke:#000000; stroke-width:3.2; stroke-opacity:1; fill:none\" points=\"\n",
       "  140.517,1487.47 2352.76,1487.47 \n",
       "  \"/>\n",
       "<polyline clip-path=\"url(#clip320)\" style=\"stroke:#000000; stroke-width:3.2; stroke-opacity:1; fill:none\" points=\"\n",
       "  140.517,1487.47 140.517,47.2441 \n",
       "  \"/>\n",
       "<polyline clip-path=\"url(#clip320)\" style=\"stroke:#000000; stroke-width:3.2; stroke-opacity:1; fill:none\" points=\"\n",
       "  203.127,1487.47 203.127,1465.87 \n",
       "  \"/>\n",
       "<polyline clip-path=\"url(#clip320)\" style=\"stroke:#000000; stroke-width:3.2; stroke-opacity:1; fill:none\" points=\"\n",
       "  524.207,1487.47 524.207,1465.87 \n",
       "  \"/>\n",
       "<polyline clip-path=\"url(#clip320)\" style=\"stroke:#000000; stroke-width:3.2; stroke-opacity:1; fill:none\" points=\"\n",
       "  845.287,1487.47 845.287,1465.87 \n",
       "  \"/>\n",
       "<polyline clip-path=\"url(#clip320)\" style=\"stroke:#000000; stroke-width:3.2; stroke-opacity:1; fill:none\" points=\"\n",
       "  1166.37,1487.47 1166.37,1465.87 \n",
       "  \"/>\n",
       "<polyline clip-path=\"url(#clip320)\" style=\"stroke:#000000; stroke-width:3.2; stroke-opacity:1; fill:none\" points=\"\n",
       "  1487.45,1487.47 1487.45,1465.87 \n",
       "  \"/>\n",
       "<polyline clip-path=\"url(#clip320)\" style=\"stroke:#000000; stroke-width:3.2; stroke-opacity:1; fill:none\" points=\"\n",
       "  1808.53,1487.47 1808.53,1465.87 \n",
       "  \"/>\n",
       "<polyline clip-path=\"url(#clip320)\" style=\"stroke:#000000; stroke-width:3.2; stroke-opacity:1; fill:none\" points=\"\n",
       "  2129.61,1487.47 2129.61,1465.87 \n",
       "  \"/>\n",
       "<polyline clip-path=\"url(#clip320)\" style=\"stroke:#000000; stroke-width:3.2; stroke-opacity:1; fill:none\" points=\"\n",
       "  140.517,1446.71 173.7,1446.71 \n",
       "  \"/>\n",
       "<polyline clip-path=\"url(#clip320)\" style=\"stroke:#000000; stroke-width:3.2; stroke-opacity:1; fill:none\" points=\"\n",
       "  140.517,1047.09 173.7,1047.09 \n",
       "  \"/>\n",
       "<polyline clip-path=\"url(#clip320)\" style=\"stroke:#000000; stroke-width:3.2; stroke-opacity:1; fill:none\" points=\"\n",
       "  140.517,647.473 173.7,647.473 \n",
       "  \"/>\n",
       "<polyline clip-path=\"url(#clip320)\" style=\"stroke:#000000; stroke-width:3.2; stroke-opacity:1; fill:none\" points=\"\n",
       "  140.517,247.853 173.7,247.853 \n",
       "  \"/>\n",
       "<g clip-path=\"url(#clip320)\">\n",
       "<text style=\"fill:#000000; fill-opacity:1; font-family:Arial,Helvetica Neue,Helvetica,sans-serif; font-size:48px; text-anchor:middle;\" transform=\"rotate(0, 203.127, 1541.47)\" x=\"203.127\" y=\"1541.47\">0</text>\n",
       "</g>\n",
       "<g clip-path=\"url(#clip320)\">\n",
       "<text style=\"fill:#000000; fill-opacity:1; font-family:Arial,Helvetica Neue,Helvetica,sans-serif; font-size:48px; text-anchor:middle;\" transform=\"rotate(0, 524.207, 1541.47)\" x=\"524.207\" y=\"1541.47\">10</text>\n",
       "</g>\n",
       "<g clip-path=\"url(#clip320)\">\n",
       "<text style=\"fill:#000000; fill-opacity:1; font-family:Arial,Helvetica Neue,Helvetica,sans-serif; font-size:48px; text-anchor:middle;\" transform=\"rotate(0, 845.287, 1541.47)\" x=\"845.287\" y=\"1541.47\">20</text>\n",
       "</g>\n",
       "<g clip-path=\"url(#clip320)\">\n",
       "<text style=\"fill:#000000; fill-opacity:1; font-family:Arial,Helvetica Neue,Helvetica,sans-serif; font-size:48px; text-anchor:middle;\" transform=\"rotate(0, 1166.37, 1541.47)\" x=\"1166.37\" y=\"1541.47\">30</text>\n",
       "</g>\n",
       "<g clip-path=\"url(#clip320)\">\n",
       "<text style=\"fill:#000000; fill-opacity:1; font-family:Arial,Helvetica Neue,Helvetica,sans-serif; font-size:48px; text-anchor:middle;\" transform=\"rotate(0, 1487.45, 1541.47)\" x=\"1487.45\" y=\"1541.47\">40</text>\n",
       "</g>\n",
       "<g clip-path=\"url(#clip320)\">\n",
       "<text style=\"fill:#000000; fill-opacity:1; font-family:Arial,Helvetica Neue,Helvetica,sans-serif; font-size:48px; text-anchor:middle;\" transform=\"rotate(0, 1808.53, 1541.47)\" x=\"1808.53\" y=\"1541.47\">50</text>\n",
       "</g>\n",
       "<g clip-path=\"url(#clip320)\">\n",
       "<text style=\"fill:#000000; fill-opacity:1; font-family:Arial,Helvetica Neue,Helvetica,sans-serif; font-size:48px; text-anchor:middle;\" transform=\"rotate(0, 2129.61, 1541.47)\" x=\"2129.61\" y=\"1541.47\">60</text>\n",
       "</g>\n",
       "<g clip-path=\"url(#clip320)\">\n",
       "<text style=\"fill:#000000; fill-opacity:1; font-family:Arial,Helvetica Neue,Helvetica,sans-serif; font-size:48px; text-anchor:end;\" transform=\"rotate(0, 116.517, 1464.21)\" x=\"116.517\" y=\"1464.21\">0</text>\n",
       "</g>\n",
       "<g clip-path=\"url(#clip320)\">\n",
       "<text style=\"fill:#000000; fill-opacity:1; font-family:Arial,Helvetica Neue,Helvetica,sans-serif; font-size:48px; text-anchor:end;\" transform=\"rotate(0, 116.517, 1064.59)\" x=\"116.517\" y=\"1064.59\">20</text>\n",
       "</g>\n",
       "<g clip-path=\"url(#clip320)\">\n",
       "<text style=\"fill:#000000; fill-opacity:1; font-family:Arial,Helvetica Neue,Helvetica,sans-serif; font-size:48px; text-anchor:end;\" transform=\"rotate(0, 116.517, 664.973)\" x=\"116.517\" y=\"664.973\">40</text>\n",
       "</g>\n",
       "<g clip-path=\"url(#clip320)\">\n",
       "<text style=\"fill:#000000; fill-opacity:1; font-family:Arial,Helvetica Neue,Helvetica,sans-serif; font-size:48px; text-anchor:end;\" transform=\"rotate(0, 116.517, 265.353)\" x=\"116.517\" y=\"265.353\">60</text>\n",
       "</g>\n",
       "<polyline clip-path=\"url(#clip322)\" style=\"stroke:#009af9; stroke-width:3.2; stroke-opacity:1; fill:none\" points=\"\n",
       "  203.127,1446.71 203.127,1386.77 235.235,1386.77 235.235,1346.81 267.343,1346.81 267.343,1127.02 299.451,1127.02 299.451,947.188 331.559,947.188 331.559,467.644 \n",
       "  363.667,467.644 363.667,627.492 395.775,627.492 395.775,667.454 427.883,667.454 427.883,1147 459.991,1147 459.991,1346.81 492.099,1346.81 492.099,1426.73 \n",
       "  524.207,1426.73 556.315,1426.73 556.315,1446.71 \n",
       "  \"/>\n",
       "<polyline clip-path=\"url(#clip322)\" style=\"stroke:#e26f46; stroke-width:3.2; stroke-opacity:1; fill:none\" points=\"\n",
       "  299.451,1446.71 299.451,1426.73 331.559,1426.73 331.559,1386.77 363.667,1386.77 363.667,1326.83 395.775,1326.83 395.775,1306.85 427.883,1306.85 427.883,927.207 \n",
       "  459.991,927.207 459.991,867.264 492.099,867.264 492.099,847.283 524.207,847.283 524.207,827.302 556.315,827.302 556.315,807.321 588.423,807.321 588.423,1067.07 \n",
       "  620.531,1067.07 620.531,1306.85 652.639,1306.85 652.639,1366.79 684.747,1366.79 684.747,1386.77 716.855,1386.77 716.855,1406.75 748.963,1406.75 748.963,1446.71 \n",
       "  \n",
       "  \"/>\n",
       "<polyline clip-path=\"url(#clip322)\" style=\"stroke:#3da44d; stroke-width:3.2; stroke-opacity:1; fill:none\" points=\"\n",
       "  1166.37,1446.71 1166.37,1406.75 1326.91,1406.75 1326.91,1166.98 1487.45,1166.98 1487.45,687.435 1647.99,687.435 1647.99,88.0053 1808.53,88.0053 1808.53,307.796 \n",
       "  1969.07,307.796 1969.07,1067.07 2129.61,1067.07 2129.61,1406.75 2290.15,1406.75 2290.15,1446.71 \n",
       "  \"/>\n",
       "<path clip-path=\"url(#clip320)\" d=\"\n",
       "M1892.22 372.684 L2280.76 372.684 L2280.76 130.764 L1892.22 130.764  Z\n",
       "  \" fill=\"#ffffff\" fill-rule=\"evenodd\" fill-opacity=\"1\"/>\n",
       "<polyline clip-path=\"url(#clip320)\" style=\"stroke:#000000; stroke-width:3.2; stroke-opacity:1; fill:none\" points=\"\n",
       "  1892.22,372.684 2280.76,372.684 2280.76,130.764 1892.22,130.764 1892.22,372.684 \n",
       "  \"/>\n",
       "<polyline clip-path=\"url(#clip320)\" style=\"stroke:#009af9; stroke-width:3.2; stroke-opacity:1; fill:none\" points=\"\n",
       "  1916.22,191.244 2060.22,191.244 \n",
       "  \"/>\n",
       "<g clip-path=\"url(#clip320)\">\n",
       "<text style=\"fill:#000000; fill-opacity:1; font-family:Arial,Helvetica Neue,Helvetica,sans-serif; font-size:48px; text-anchor:start;\" transform=\"rotate(0, 2084.22, 208.744)\" x=\"2084.22\" y=\"208.744\">θ=0.8</text>\n",
       "</g>\n",
       "<polyline clip-path=\"url(#clip320)\" style=\"stroke:#e26f46; stroke-width:3.2; stroke-opacity:1; fill:none\" points=\"\n",
       "  1916.22,251.724 2060.22,251.724 \n",
       "  \"/>\n",
       "<g clip-path=\"url(#clip320)\">\n",
       "<text style=\"fill:#000000; fill-opacity:1; font-family:Arial,Helvetica Neue,Helvetica,sans-serif; font-size:48px; text-anchor:start;\" transform=\"rotate(0, 2084.22, 269.224)\" x=\"2084.22\" y=\"269.224\">θ=0.9</text>\n",
       "</g>\n",
       "<polyline clip-path=\"url(#clip320)\" style=\"stroke:#3da44d; stroke-width:3.2; stroke-opacity:1; fill:none\" points=\"\n",
       "  1916.22,312.204 2060.22,312.204 \n",
       "  \"/>\n",
       "<g clip-path=\"url(#clip320)\">\n",
       "<text style=\"fill:#000000; fill-opacity:1; font-family:Arial,Helvetica Neue,Helvetica,sans-serif; font-size:48px; text-anchor:start;\" transform=\"rotate(0, 2084.22, 329.704)\" x=\"2084.22\" y=\"329.704\">θ=0.98</text>\n",
       "</g>\n",
       "</svg>\n"
      ]
     },
     "execution_count": 233,
     "metadata": {},
     "output_type": "execute_result"
    }
   ],
   "source": [
    "h=stephist()\n",
    "Θ=(0.8,0.9,0.98)\n",
    "for θ in Θ\n",
    "    stephist!(h,finalpoint(θ),label=\"θ=$θ\")\n",
    "end\n",
    "h"
   ]
  },
  {
   "cell_type": "code",
   "execution_count": null,
   "metadata": {},
   "outputs": [],
   "source": [
    "for θ in Θ\n",
    "    m=mean(finalpoint(θ))\n",
    "    println(\"the mean is $m for θ=$θ\")\n",
    "end"
   ]
  },
  {
   "cell_type": "code",
   "execution_count": 277,
   "metadata": {},
   "outputs": [
    {
     "name": "stdout",
     "output_type": "stream",
     "text": [
      "the variance is 4.37391003998631 for θ=0.8\n",
      "the variance is 11.761475274853751 for θ=0.9\n",
      "the variance is 28.67287862850708 for θ=0.98\n"
     ]
    }
   ],
   "source": [
    "for θ in Θ\n",
    "    m=mean(finalpoint(θ))\n",
    "    v=mean(finalpoint(θ).^2)-m^2\n",
    "    println(\"the variance is $v for θ=$θ\")\n",
    "end\n"
   ]
  },
  {
   "cell_type": "markdown",
   "metadata": {},
   "source": [
    "**Note** Could be negative??"
   ]
  },
  {
   "cell_type": "markdown",
   "metadata": {},
   "source": [
    "## Exercise 3: OLS"
   ]
  },
  {
   "cell_type": "code",
   "execution_count": 2,
   "metadata": {},
   "outputs": [
    {
     "data": {
      "text/plain": [
       "dgp (generic function with 1 method)"
      ]
     },
     "execution_count": 2,
     "metadata": {},
     "output_type": "execute_result"
    }
   ],
   "source": [
    "function dgp(x1,x2;a=0.1,b=0.2,c=0.5,d=1.0,σ=0.1,N=50)\n",
    "    y=a*x1.+b*(x1.^2).+c*x2.+d*ones(N)+σ*randn(N)\n",
    "    return y\n",
    "end"
   ]
  },
  {
   "cell_type": "code",
   "execution_count": 17,
   "metadata": {},
   "outputs": [
    {
     "data": {
      "image/svg+xml": [
       "<?xml version=\"1.0\" encoding=\"utf-8\"?>\n",
       "<svg xmlns=\"http://www.w3.org/2000/svg\" xmlns:xlink=\"http://www.w3.org/1999/xlink\" width=\"600\" height=\"400\" viewBox=\"0 0 2400 1600\">\n",
       "<defs>\n",
       "  <clipPath id=\"clip720\">\n",
       "    <rect x=\"0\" y=\"0\" width=\"2400\" height=\"1600\"/>\n",
       "  </clipPath>\n",
       "</defs>\n",
       "<path clip-path=\"url(#clip720)\" d=\"\n",
       "M0 1600 L2400 1600 L2400 0 L0 0  Z\n",
       "  \" fill=\"#ffffff\" fill-rule=\"evenodd\" fill-opacity=\"1\"/>\n",
       "<defs>\n",
       "  <clipPath id=\"clip721\">\n",
       "    <rect x=\"480\" y=\"0\" width=\"1681\" height=\"1600\"/>\n",
       "  </clipPath>\n",
       "</defs>\n",
       "<path clip-path=\"url(#clip720)\" d=\"\n",
       "M167.279 287.475 L2352.76 287.475 L2352.76 47.2441 L167.279 47.2441  Z\n",
       "  \" fill=\"#ffffff\" fill-rule=\"evenodd\" fill-opacity=\"1\"/>\n",
       "<defs>\n",
       "  <clipPath id=\"clip722\">\n",
       "    <rect x=\"167\" y=\"47\" width=\"2186\" height=\"241\"/>\n",
       "  </clipPath>\n",
       "</defs>\n",
       "<polyline clip-path=\"url(#clip722)\" style=\"stroke:#000000; stroke-width:1.6; stroke-opacity:0.1; fill:none\" points=\"\n",
       "  395.544,287.475 395.544,47.2441 \n",
       "  \"/>\n",
       "<polyline clip-path=\"url(#clip722)\" style=\"stroke:#000000; stroke-width:1.6; stroke-opacity:0.1; fill:none\" points=\"\n",
       "  827.781,287.475 827.781,47.2441 \n",
       "  \"/>\n",
       "<polyline clip-path=\"url(#clip722)\" style=\"stroke:#000000; stroke-width:1.6; stroke-opacity:0.1; fill:none\" points=\"\n",
       "  1260.02,287.475 1260.02,47.2441 \n",
       "  \"/>\n",
       "<polyline clip-path=\"url(#clip722)\" style=\"stroke:#000000; stroke-width:1.6; stroke-opacity:0.1; fill:none\" points=\"\n",
       "  1692.25,287.475 1692.25,47.2441 \n",
       "  \"/>\n",
       "<polyline clip-path=\"url(#clip722)\" style=\"stroke:#000000; stroke-width:1.6; stroke-opacity:0.1; fill:none\" points=\"\n",
       "  2124.49,287.475 2124.49,47.2441 \n",
       "  \"/>\n",
       "<polyline clip-path=\"url(#clip722)\" style=\"stroke:#000000; stroke-width:1.6; stroke-opacity:0.1; fill:none\" points=\"\n",
       "  167.279,280.676 2352.76,280.676 \n",
       "  \"/>\n",
       "<polyline clip-path=\"url(#clip722)\" style=\"stroke:#000000; stroke-width:1.6; stroke-opacity:0.1; fill:none\" points=\"\n",
       "  167.279,212.413 2352.76,212.413 \n",
       "  \"/>\n",
       "<polyline clip-path=\"url(#clip722)\" style=\"stroke:#000000; stroke-width:1.6; stroke-opacity:0.1; fill:none\" points=\"\n",
       "  167.279,144.15 2352.76,144.15 \n",
       "  \"/>\n",
       "<polyline clip-path=\"url(#clip722)\" style=\"stroke:#000000; stroke-width:1.6; stroke-opacity:0.1; fill:none\" points=\"\n",
       "  167.279,75.8872 2352.76,75.8872 \n",
       "  \"/>\n",
       "<polyline clip-path=\"url(#clip720)\" style=\"stroke:#000000; stroke-width:3.2; stroke-opacity:1; fill:none\" points=\"\n",
       "  167.279,287.475 2352.76,287.475 \n",
       "  \"/>\n",
       "<polyline clip-path=\"url(#clip720)\" style=\"stroke:#000000; stroke-width:3.2; stroke-opacity:1; fill:none\" points=\"\n",
       "  167.279,287.475 167.279,47.2441 \n",
       "  \"/>\n",
       "<polyline clip-path=\"url(#clip720)\" style=\"stroke:#000000; stroke-width:3.2; stroke-opacity:1; fill:none\" points=\"\n",
       "  395.544,287.475 395.544,283.871 \n",
       "  \"/>\n",
       "<polyline clip-path=\"url(#clip720)\" style=\"stroke:#000000; stroke-width:3.2; stroke-opacity:1; fill:none\" points=\"\n",
       "  827.781,287.475 827.781,283.871 \n",
       "  \"/>\n",
       "<polyline clip-path=\"url(#clip720)\" style=\"stroke:#000000; stroke-width:3.2; stroke-opacity:1; fill:none\" points=\"\n",
       "  1260.02,287.475 1260.02,283.871 \n",
       "  \"/>\n",
       "<polyline clip-path=\"url(#clip720)\" style=\"stroke:#000000; stroke-width:3.2; stroke-opacity:1; fill:none\" points=\"\n",
       "  1692.25,287.475 1692.25,283.871 \n",
       "  \"/>\n",
       "<polyline clip-path=\"url(#clip720)\" style=\"stroke:#000000; stroke-width:3.2; stroke-opacity:1; fill:none\" points=\"\n",
       "  2124.49,287.475 2124.49,283.871 \n",
       "  \"/>\n",
       "<polyline clip-path=\"url(#clip720)\" style=\"stroke:#000000; stroke-width:3.2; stroke-opacity:1; fill:none\" points=\"\n",
       "  167.279,280.676 200.061,280.676 \n",
       "  \"/>\n",
       "<polyline clip-path=\"url(#clip720)\" style=\"stroke:#000000; stroke-width:3.2; stroke-opacity:1; fill:none\" points=\"\n",
       "  167.279,212.413 200.061,212.413 \n",
       "  \"/>\n",
       "<polyline clip-path=\"url(#clip720)\" style=\"stroke:#000000; stroke-width:3.2; stroke-opacity:1; fill:none\" points=\"\n",
       "  167.279,144.15 200.061,144.15 \n",
       "  \"/>\n",
       "<polyline clip-path=\"url(#clip720)\" style=\"stroke:#000000; stroke-width:3.2; stroke-opacity:1; fill:none\" points=\"\n",
       "  167.279,75.8872 200.061,75.8872 \n",
       "  \"/>\n",
       "<g clip-path=\"url(#clip720)\">\n",
       "<text style=\"fill:#000000; fill-opacity:1; font-family:Arial,Helvetica Neue,Helvetica,sans-serif; font-size:48px; text-anchor:middle;\" transform=\"rotate(0, 395.544, 341.475)\" x=\"395.544\" y=\"341.475\">0.06</text>\n",
       "</g>\n",
       "<g clip-path=\"url(#clip720)\">\n",
       "<text style=\"fill:#000000; fill-opacity:1; font-family:Arial,Helvetica Neue,Helvetica,sans-serif; font-size:48px; text-anchor:middle;\" transform=\"rotate(0, 827.781, 341.475)\" x=\"827.781\" y=\"341.475\">0.08</text>\n",
       "</g>\n",
       "<g clip-path=\"url(#clip720)\">\n",
       "<text style=\"fill:#000000; fill-opacity:1; font-family:Arial,Helvetica Neue,Helvetica,sans-serif; font-size:48px; text-anchor:middle;\" transform=\"rotate(0, 1260.02, 341.475)\" x=\"1260.02\" y=\"341.475\">0.10</text>\n",
       "</g>\n",
       "<g clip-path=\"url(#clip720)\">\n",
       "<text style=\"fill:#000000; fill-opacity:1; font-family:Arial,Helvetica Neue,Helvetica,sans-serif; font-size:48px; text-anchor:middle;\" transform=\"rotate(0, 1692.25, 341.475)\" x=\"1692.25\" y=\"341.475\">0.12</text>\n",
       "</g>\n",
       "<g clip-path=\"url(#clip720)\">\n",
       "<text style=\"fill:#000000; fill-opacity:1; font-family:Arial,Helvetica Neue,Helvetica,sans-serif; font-size:48px; text-anchor:middle;\" transform=\"rotate(0, 2124.49, 341.475)\" x=\"2124.49\" y=\"341.475\">0.14</text>\n",
       "</g>\n",
       "<g clip-path=\"url(#clip720)\">\n",
       "<text style=\"fill:#000000; fill-opacity:1; font-family:Arial,Helvetica Neue,Helvetica,sans-serif; font-size:48px; text-anchor:end;\" transform=\"rotate(0, 143.279, 298.176)\" x=\"143.279\" y=\"298.176\">0</text>\n",
       "</g>\n",
       "<g clip-path=\"url(#clip720)\">\n",
       "<text style=\"fill:#000000; fill-opacity:1; font-family:Arial,Helvetica Neue,Helvetica,sans-serif; font-size:48px; text-anchor:end;\" transform=\"rotate(0, 143.279, 229.913)\" x=\"143.279\" y=\"229.913\">50</text>\n",
       "</g>\n",
       "<g clip-path=\"url(#clip720)\">\n",
       "<text style=\"fill:#000000; fill-opacity:1; font-family:Arial,Helvetica Neue,Helvetica,sans-serif; font-size:48px; text-anchor:end;\" transform=\"rotate(0, 143.279, 161.65)\" x=\"143.279\" y=\"161.65\">100</text>\n",
       "</g>\n",
       "<g clip-path=\"url(#clip720)\">\n",
       "<text style=\"fill:#000000; fill-opacity:1; font-family:Arial,Helvetica Neue,Helvetica,sans-serif; font-size:48px; text-anchor:end;\" transform=\"rotate(0, 143.279, 93.3872)\" x=\"143.279\" y=\"93.3872\">150</text>\n",
       "</g>\n",
       "<path clip-path=\"url(#clip722)\" d=\"\n",
       "M287.484 276.58 L287.484 280.676 L395.544 280.676 L395.544 276.58 L287.484 276.58 L287.484 276.58  Z\n",
       "  \" fill=\"#009af9\" fill-rule=\"evenodd\" fill-opacity=\"1\"/>\n",
       "<polyline clip-path=\"url(#clip722)\" style=\"stroke:#000000; stroke-width:3.2; stroke-opacity:1; fill:none\" points=\"\n",
       "  287.484,276.58 287.484,280.676 395.544,280.676 395.544,276.58 287.484,276.58 \n",
       "  \"/>\n",
       "<path clip-path=\"url(#clip722)\" d=\"\n",
       "M395.544 273.849 L395.544 280.676 L503.603 280.676 L503.603 273.849 L395.544 273.849 L395.544 273.849  Z\n",
       "  \" fill=\"#009af9\" fill-rule=\"evenodd\" fill-opacity=\"1\"/>\n",
       "<polyline clip-path=\"url(#clip722)\" style=\"stroke:#000000; stroke-width:3.2; stroke-opacity:1; fill:none\" points=\"\n",
       "  395.544,273.849 395.544,280.676 503.603,280.676 503.603,273.849 395.544,273.849 \n",
       "  \"/>\n",
       "<path clip-path=\"url(#clip722)\" d=\"\n",
       "M503.603 275.215 L503.603 280.676 L611.662 280.676 L611.662 275.215 L503.603 275.215 L503.603 275.215  Z\n",
       "  \" fill=\"#009af9\" fill-rule=\"evenodd\" fill-opacity=\"1\"/>\n",
       "<polyline clip-path=\"url(#clip722)\" style=\"stroke:#000000; stroke-width:3.2; stroke-opacity:1; fill:none\" points=\"\n",
       "  503.603,275.215 503.603,280.676 611.662,280.676 611.662,275.215 503.603,275.215 \n",
       "  \"/>\n",
       "<path clip-path=\"url(#clip722)\" d=\"\n",
       "M611.662 253.371 L611.662 280.676 L719.721 280.676 L719.721 253.371 L611.662 253.371 L611.662 253.371  Z\n",
       "  \" fill=\"#009af9\" fill-rule=\"evenodd\" fill-opacity=\"1\"/>\n",
       "<polyline clip-path=\"url(#clip722)\" style=\"stroke:#000000; stroke-width:3.2; stroke-opacity:1; fill:none\" points=\"\n",
       "  611.662,253.371 611.662,280.676 719.721,280.676 719.721,253.371 611.662,253.371 \n",
       "  \"/>\n",
       "<path clip-path=\"url(#clip722)\" d=\"\n",
       "M719.721 231.526 L719.721 280.676 L827.781 280.676 L827.781 231.526 L719.721 231.526 L719.721 231.526  Z\n",
       "  \" fill=\"#009af9\" fill-rule=\"evenodd\" fill-opacity=\"1\"/>\n",
       "<polyline clip-path=\"url(#clip722)\" style=\"stroke:#000000; stroke-width:3.2; stroke-opacity:1; fill:none\" points=\"\n",
       "  719.721,231.526 719.721,280.676 827.781,280.676 827.781,231.526 719.721,231.526 \n",
       "  \"/>\n",
       "<path clip-path=\"url(#clip722)\" d=\"\n",
       "M827.781 202.856 L827.781 280.676 L935.84 280.676 L935.84 202.856 L827.781 202.856 L827.781 202.856  Z\n",
       "  \" fill=\"#009af9\" fill-rule=\"evenodd\" fill-opacity=\"1\"/>\n",
       "<polyline clip-path=\"url(#clip722)\" style=\"stroke:#000000; stroke-width:3.2; stroke-opacity:1; fill:none\" points=\"\n",
       "  827.781,202.856 827.781,280.676 935.84,280.676 935.84,202.856 827.781,202.856 \n",
       "  \"/>\n",
       "<path clip-path=\"url(#clip722)\" d=\"\n",
       "M935.84 155.072 L935.84 280.676 L1043.9 280.676 L1043.9 155.072 L935.84 155.072 L935.84 155.072  Z\n",
       "  \" fill=\"#009af9\" fill-rule=\"evenodd\" fill-opacity=\"1\"/>\n",
       "<polyline clip-path=\"url(#clip722)\" style=\"stroke:#000000; stroke-width:3.2; stroke-opacity:1; fill:none\" points=\"\n",
       "  935.84,155.072 935.84,280.676 1043.9,280.676 1043.9,155.072 935.84,155.072 \n",
       "  \"/>\n",
       "<path clip-path=\"url(#clip722)\" d=\"\n",
       "M1043.9 105.923 L1043.9 280.676 L1151.96 280.676 L1151.96 105.923 L1043.9 105.923 L1043.9 105.923  Z\n",
       "  \" fill=\"#009af9\" fill-rule=\"evenodd\" fill-opacity=\"1\"/>\n",
       "<polyline clip-path=\"url(#clip722)\" style=\"stroke:#000000; stroke-width:3.2; stroke-opacity:1; fill:none\" points=\"\n",
       "  1043.9,105.923 1043.9,280.676 1151.96,280.676 1151.96,105.923 1043.9,105.923 \n",
       "  \"/>\n",
       "<path clip-path=\"url(#clip722)\" d=\"\n",
       "M1151.96 54.0431 L1151.96 280.676 L1260.02 280.676 L1260.02 54.0431 L1151.96 54.0431 L1151.96 54.0431  Z\n",
       "  \" fill=\"#009af9\" fill-rule=\"evenodd\" fill-opacity=\"1\"/>\n",
       "<polyline clip-path=\"url(#clip722)\" style=\"stroke:#000000; stroke-width:3.2; stroke-opacity:1; fill:none\" points=\"\n",
       "  1151.96,54.0431 1151.96,280.676 1260.02,280.676 1260.02,54.0431 1151.96,54.0431 \n",
       "  \"/>\n",
       "<path clip-path=\"url(#clip722)\" d=\"\n",
       "M1260.02 92.2703 L1260.02 280.676 L1368.08 280.676 L1368.08 92.2703 L1260.02 92.2703 L1260.02 92.2703  Z\n",
       "  \" fill=\"#009af9\" fill-rule=\"evenodd\" fill-opacity=\"1\"/>\n",
       "<polyline clip-path=\"url(#clip722)\" style=\"stroke:#000000; stroke-width:3.2; stroke-opacity:1; fill:none\" points=\"\n",
       "  1260.02,92.2703 1260.02,280.676 1368.08,280.676 1368.08,92.2703 1260.02,92.2703 \n",
       "  \"/>\n",
       "<path clip-path=\"url(#clip722)\" d=\"\n",
       "M1368.08 101.827 L1368.08 280.676 L1476.14 280.676 L1476.14 101.827 L1368.08 101.827 L1368.08 101.827  Z\n",
       "  \" fill=\"#009af9\" fill-rule=\"evenodd\" fill-opacity=\"1\"/>\n",
       "<polyline clip-path=\"url(#clip722)\" style=\"stroke:#000000; stroke-width:3.2; stroke-opacity:1; fill:none\" points=\"\n",
       "  1368.08,101.827 1368.08,280.676 1476.14,280.676 1476.14,101.827 1368.08,101.827 \n",
       "  \"/>\n",
       "<path clip-path=\"url(#clip722)\" d=\"\n",
       "M1476.14 157.803 L1476.14 280.676 L1584.2 280.676 L1584.2 157.803 L1476.14 157.803 L1476.14 157.803  Z\n",
       "  \" fill=\"#009af9\" fill-rule=\"evenodd\" fill-opacity=\"1\"/>\n",
       "<polyline clip-path=\"url(#clip722)\" style=\"stroke:#000000; stroke-width:3.2; stroke-opacity:1; fill:none\" points=\"\n",
       "  1476.14,157.803 1476.14,280.676 1584.2,280.676 1584.2,157.803 1476.14,157.803 \n",
       "  \"/>\n",
       "<path clip-path=\"url(#clip722)\" d=\"\n",
       "M1584.2 208.317 L1584.2 280.676 L1692.25 280.676 L1692.25 208.317 L1584.2 208.317 L1584.2 208.317  Z\n",
       "  \" fill=\"#009af9\" fill-rule=\"evenodd\" fill-opacity=\"1\"/>\n",
       "<polyline clip-path=\"url(#clip722)\" style=\"stroke:#000000; stroke-width:3.2; stroke-opacity:1; fill:none\" points=\"\n",
       "  1584.2,208.317 1584.2,280.676 1692.25,280.676 1692.25,208.317 1584.2,208.317 \n",
       "  \"/>\n",
       "<path clip-path=\"url(#clip722)\" d=\"\n",
       "M1692.25 223.335 L1692.25 280.676 L1800.31 280.676 L1800.31 223.335 L1692.25 223.335 L1692.25 223.335  Z\n",
       "  \" fill=\"#009af9\" fill-rule=\"evenodd\" fill-opacity=\"1\"/>\n",
       "<polyline clip-path=\"url(#clip722)\" style=\"stroke:#000000; stroke-width:3.2; stroke-opacity:1; fill:none\" points=\"\n",
       "  1692.25,223.335 1692.25,280.676 1800.31,280.676 1800.31,223.335 1692.25,223.335 \n",
       "  \"/>\n",
       "<path clip-path=\"url(#clip722)\" d=\"\n",
       "M1800.31 247.91 L1800.31 280.676 L1908.37 280.676 L1908.37 247.91 L1800.31 247.91 L1800.31 247.91  Z\n",
       "  \" fill=\"#009af9\" fill-rule=\"evenodd\" fill-opacity=\"1\"/>\n",
       "<polyline clip-path=\"url(#clip722)\" style=\"stroke:#000000; stroke-width:3.2; stroke-opacity:1; fill:none\" points=\"\n",
       "  1800.31,247.91 1800.31,280.676 1908.37,280.676 1908.37,247.91 1800.31,247.91 \n",
       "  \"/>\n",
       "<path clip-path=\"url(#clip722)\" d=\"\n",
       "M1908.37 273.849 L1908.37 280.676 L2016.43 280.676 L2016.43 273.849 L1908.37 273.849 L1908.37 273.849  Z\n",
       "  \" fill=\"#009af9\" fill-rule=\"evenodd\" fill-opacity=\"1\"/>\n",
       "<polyline clip-path=\"url(#clip722)\" style=\"stroke:#000000; stroke-width:3.2; stroke-opacity:1; fill:none\" points=\"\n",
       "  1908.37,273.849 1908.37,280.676 2016.43,280.676 2016.43,273.849 1908.37,273.849 \n",
       "  \"/>\n",
       "<path clip-path=\"url(#clip722)\" d=\"\n",
       "M2016.43 275.215 L2016.43 280.676 L2124.49 280.676 L2124.49 275.215 L2016.43 275.215 L2016.43 275.215  Z\n",
       "  \" fill=\"#009af9\" fill-rule=\"evenodd\" fill-opacity=\"1\"/>\n",
       "<polyline clip-path=\"url(#clip722)\" style=\"stroke:#000000; stroke-width:3.2; stroke-opacity:1; fill:none\" points=\"\n",
       "  2016.43,275.215 2016.43,280.676 2124.49,280.676 2124.49,275.215 2016.43,275.215 \n",
       "  \"/>\n",
       "<path clip-path=\"url(#clip722)\" d=\"\n",
       "M2124.49 277.945 L2124.49 280.676 L2232.55 280.676 L2232.55 277.945 L2124.49 277.945 L2124.49 277.945  Z\n",
       "  \" fill=\"#009af9\" fill-rule=\"evenodd\" fill-opacity=\"1\"/>\n",
       "<polyline clip-path=\"url(#clip722)\" style=\"stroke:#000000; stroke-width:3.2; stroke-opacity:1; fill:none\" points=\"\n",
       "  2124.49,277.945 2124.49,280.676 2232.55,280.676 2232.55,277.945 2124.49,277.945 \n",
       "  \"/>\n",
       "<path clip-path=\"url(#clip720)\" d=\"\n",
       "M2013.99 251.724 L2280.76 251.724 L2280.76 130.764 L2013.99 130.764  Z\n",
       "  \" fill=\"#ffffff\" fill-rule=\"evenodd\" fill-opacity=\"1\"/>\n",
       "<polyline clip-path=\"url(#clip720)\" style=\"stroke:#000000; stroke-width:3.2; stroke-opacity:1; fill:none\" points=\"\n",
       "  2013.99,251.724 2280.76,251.724 2280.76,130.764 2013.99,130.764 2013.99,251.724 \n",
       "  \"/>\n",
       "<path clip-path=\"url(#clip720)\" d=\"\n",
       "M2037.99 215.436 L2181.99 215.436 L2181.99 167.052 L2037.99 167.052 L2037.99 215.436  Z\n",
       "  \" fill=\"#009af9\" fill-rule=\"evenodd\" fill-opacity=\"1\"/>\n",
       "<polyline clip-path=\"url(#clip720)\" style=\"stroke:#000000; stroke-width:3.2; stroke-opacity:1; fill:none\" points=\"\n",
       "  2037.99,215.436 2181.99,215.436 2181.99,167.052 2037.99,167.052 2037.99,215.436 \n",
       "  \"/>\n",
       "<g clip-path=\"url(#clip720)\">\n",
       "<text style=\"fill:#000000; fill-opacity:1; font-family:Arial,Helvetica Neue,Helvetica,sans-serif; font-size:48px; text-anchor:start;\" transform=\"rotate(0, 2205.99, 208.744)\" x=\"2205.99\" y=\"208.744\">a</text>\n",
       "</g>\n",
       "<path clip-path=\"url(#clip720)\" d=\"\n",
       "M167.279 687.475 L2352.76 687.475 L2352.76 447.244 L167.279 447.244  Z\n",
       "  \" fill=\"#ffffff\" fill-rule=\"evenodd\" fill-opacity=\"1\"/>\n",
       "<defs>\n",
       "  <clipPath id=\"clip723\">\n",
       "    <rect x=\"167\" y=\"447\" width=\"2186\" height=\"241\"/>\n",
       "  </clipPath>\n",
       "</defs>\n",
       "<polyline clip-path=\"url(#clip723)\" style=\"stroke:#000000; stroke-width:1.6; stroke-opacity:0.1; fill:none\" points=\"\n",
       "  287.484,687.475 287.484,447.244 \n",
       "  \"/>\n",
       "<polyline clip-path=\"url(#clip723)\" style=\"stroke:#000000; stroke-width:1.6; stroke-opacity:0.1; fill:none\" points=\"\n",
       "  634.818,687.475 634.818,447.244 \n",
       "  \"/>\n",
       "<polyline clip-path=\"url(#clip723)\" style=\"stroke:#000000; stroke-width:1.6; stroke-opacity:0.1; fill:none\" points=\"\n",
       "  982.151,687.475 982.151,447.244 \n",
       "  \"/>\n",
       "<polyline clip-path=\"url(#clip723)\" style=\"stroke:#000000; stroke-width:1.6; stroke-opacity:0.1; fill:none\" points=\"\n",
       "  1329.48,687.475 1329.48,447.244 \n",
       "  \"/>\n",
       "<polyline clip-path=\"url(#clip723)\" style=\"stroke:#000000; stroke-width:1.6; stroke-opacity:0.1; fill:none\" points=\"\n",
       "  1676.82,687.475 1676.82,447.244 \n",
       "  \"/>\n",
       "<polyline clip-path=\"url(#clip723)\" style=\"stroke:#000000; stroke-width:1.6; stroke-opacity:0.1; fill:none\" points=\"\n",
       "  2024.15,687.475 2024.15,447.244 \n",
       "  \"/>\n",
       "<polyline clip-path=\"url(#clip723)\" style=\"stroke:#000000; stroke-width:1.6; stroke-opacity:0.1; fill:none\" points=\"\n",
       "  167.279,680.676 2352.76,680.676 \n",
       "  \"/>\n",
       "<polyline clip-path=\"url(#clip723)\" style=\"stroke:#000000; stroke-width:1.6; stroke-opacity:0.1; fill:none\" points=\"\n",
       "  167.279,623.445 2352.76,623.445 \n",
       "  \"/>\n",
       "<polyline clip-path=\"url(#clip723)\" style=\"stroke:#000000; stroke-width:1.6; stroke-opacity:0.1; fill:none\" points=\"\n",
       "  167.279,566.215 2352.76,566.215 \n",
       "  \"/>\n",
       "<polyline clip-path=\"url(#clip723)\" style=\"stroke:#000000; stroke-width:1.6; stroke-opacity:0.1; fill:none\" points=\"\n",
       "  167.279,508.984 2352.76,508.984 \n",
       "  \"/>\n",
       "<polyline clip-path=\"url(#clip723)\" style=\"stroke:#000000; stroke-width:1.6; stroke-opacity:0.1; fill:none\" points=\"\n",
       "  167.279,451.754 2352.76,451.754 \n",
       "  \"/>\n",
       "<polyline clip-path=\"url(#clip720)\" style=\"stroke:#000000; stroke-width:3.2; stroke-opacity:1; fill:none\" points=\"\n",
       "  167.279,687.475 2352.76,687.475 \n",
       "  \"/>\n",
       "<polyline clip-path=\"url(#clip720)\" style=\"stroke:#000000; stroke-width:3.2; stroke-opacity:1; fill:none\" points=\"\n",
       "  167.279,687.475 167.279,447.244 \n",
       "  \"/>\n",
       "<polyline clip-path=\"url(#clip720)\" style=\"stroke:#000000; stroke-width:3.2; stroke-opacity:1; fill:none\" points=\"\n",
       "  287.484,687.475 287.484,683.871 \n",
       "  \"/>\n",
       "<polyline clip-path=\"url(#clip720)\" style=\"stroke:#000000; stroke-width:3.2; stroke-opacity:1; fill:none\" points=\"\n",
       "  634.818,687.475 634.818,683.871 \n",
       "  \"/>\n",
       "<polyline clip-path=\"url(#clip720)\" style=\"stroke:#000000; stroke-width:3.2; stroke-opacity:1; fill:none\" points=\"\n",
       "  982.151,687.475 982.151,683.871 \n",
       "  \"/>\n",
       "<polyline clip-path=\"url(#clip720)\" style=\"stroke:#000000; stroke-width:3.2; stroke-opacity:1; fill:none\" points=\"\n",
       "  1329.48,687.475 1329.48,683.871 \n",
       "  \"/>\n",
       "<polyline clip-path=\"url(#clip720)\" style=\"stroke:#000000; stroke-width:3.2; stroke-opacity:1; fill:none\" points=\"\n",
       "  1676.82,687.475 1676.82,683.871 \n",
       "  \"/>\n",
       "<polyline clip-path=\"url(#clip720)\" style=\"stroke:#000000; stroke-width:3.2; stroke-opacity:1; fill:none\" points=\"\n",
       "  2024.15,687.475 2024.15,683.871 \n",
       "  \"/>\n",
       "<polyline clip-path=\"url(#clip720)\" style=\"stroke:#000000; stroke-width:3.2; stroke-opacity:1; fill:none\" points=\"\n",
       "  167.279,680.676 200.061,680.676 \n",
       "  \"/>\n",
       "<polyline clip-path=\"url(#clip720)\" style=\"stroke:#000000; stroke-width:3.2; stroke-opacity:1; fill:none\" points=\"\n",
       "  167.279,623.445 200.061,623.445 \n",
       "  \"/>\n",
       "<polyline clip-path=\"url(#clip720)\" style=\"stroke:#000000; stroke-width:3.2; stroke-opacity:1; fill:none\" points=\"\n",
       "  167.279,566.215 200.061,566.215 \n",
       "  \"/>\n",
       "<polyline clip-path=\"url(#clip720)\" style=\"stroke:#000000; stroke-width:3.2; stroke-opacity:1; fill:none\" points=\"\n",
       "  167.279,508.984 200.061,508.984 \n",
       "  \"/>\n",
       "<polyline clip-path=\"url(#clip720)\" style=\"stroke:#000000; stroke-width:3.2; stroke-opacity:1; fill:none\" points=\"\n",
       "  167.279,451.754 200.061,451.754 \n",
       "  \"/>\n",
       "<g clip-path=\"url(#clip720)\">\n",
       "<text style=\"fill:#000000; fill-opacity:1; font-family:Arial,Helvetica Neue,Helvetica,sans-serif; font-size:48px; text-anchor:middle;\" transform=\"rotate(0, 287.484, 741.475)\" x=\"287.484\" y=\"741.475\">0.17</text>\n",
       "</g>\n",
       "<g clip-path=\"url(#clip720)\">\n",
       "<text style=\"fill:#000000; fill-opacity:1; font-family:Arial,Helvetica Neue,Helvetica,sans-serif; font-size:48px; text-anchor:middle;\" transform=\"rotate(0, 634.818, 741.475)\" x=\"634.818\" y=\"741.475\">0.18</text>\n",
       "</g>\n",
       "<g clip-path=\"url(#clip720)\">\n",
       "<text style=\"fill:#000000; fill-opacity:1; font-family:Arial,Helvetica Neue,Helvetica,sans-serif; font-size:48px; text-anchor:middle;\" transform=\"rotate(0, 982.151, 741.475)\" x=\"982.151\" y=\"741.475\">0.19</text>\n",
       "</g>\n",
       "<g clip-path=\"url(#clip720)\">\n",
       "<text style=\"fill:#000000; fill-opacity:1; font-family:Arial,Helvetica Neue,Helvetica,sans-serif; font-size:48px; text-anchor:middle;\" transform=\"rotate(0, 1329.48, 741.475)\" x=\"1329.48\" y=\"741.475\">0.20</text>\n",
       "</g>\n",
       "<g clip-path=\"url(#clip720)\">\n",
       "<text style=\"fill:#000000; fill-opacity:1; font-family:Arial,Helvetica Neue,Helvetica,sans-serif; font-size:48px; text-anchor:middle;\" transform=\"rotate(0, 1676.82, 741.475)\" x=\"1676.82\" y=\"741.475\">0.21</text>\n",
       "</g>\n",
       "<g clip-path=\"url(#clip720)\">\n",
       "<text style=\"fill:#000000; fill-opacity:1; font-family:Arial,Helvetica Neue,Helvetica,sans-serif; font-size:48px; text-anchor:middle;\" transform=\"rotate(0, 2024.15, 741.475)\" x=\"2024.15\" y=\"741.475\">0.22</text>\n",
       "</g>\n",
       "<g clip-path=\"url(#clip720)\">\n",
       "<text style=\"fill:#000000; fill-opacity:1; font-family:Arial,Helvetica Neue,Helvetica,sans-serif; font-size:48px; text-anchor:end;\" transform=\"rotate(0, 143.279, 698.176)\" x=\"143.279\" y=\"698.176\">0</text>\n",
       "</g>\n",
       "<g clip-path=\"url(#clip720)\">\n",
       "<text style=\"fill:#000000; fill-opacity:1; font-family:Arial,Helvetica Neue,Helvetica,sans-serif; font-size:48px; text-anchor:end;\" transform=\"rotate(0, 143.279, 640.945)\" x=\"143.279\" y=\"640.945\">25</text>\n",
       "</g>\n",
       "<g clip-path=\"url(#clip720)\">\n",
       "<text style=\"fill:#000000; fill-opacity:1; font-family:Arial,Helvetica Neue,Helvetica,sans-serif; font-size:48px; text-anchor:end;\" transform=\"rotate(0, 143.279, 583.715)\" x=\"143.279\" y=\"583.715\">50</text>\n",
       "</g>\n",
       "<g clip-path=\"url(#clip720)\">\n",
       "<text style=\"fill:#000000; fill-opacity:1; font-family:Arial,Helvetica Neue,Helvetica,sans-serif; font-size:48px; text-anchor:end;\" transform=\"rotate(0, 143.279, 526.484)\" x=\"143.279\" y=\"526.484\">75</text>\n",
       "</g>\n",
       "<g clip-path=\"url(#clip720)\">\n",
       "<text style=\"fill:#000000; fill-opacity:1; font-family:Arial,Helvetica Neue,Helvetica,sans-serif; font-size:48px; text-anchor:end;\" transform=\"rotate(0, 143.279, 469.254)\" x=\"143.279\" y=\"469.254\">100</text>\n",
       "</g>\n",
       "<path clip-path=\"url(#clip723)\" d=\"\n",
       "M287.484 678.387 L287.484 680.676 L356.951 680.676 L356.951 678.387 L287.484 678.387 L287.484 678.387  Z\n",
       "  \" fill=\"#009af9\" fill-rule=\"evenodd\" fill-opacity=\"1\"/>\n",
       "<polyline clip-path=\"url(#clip723)\" style=\"stroke:#000000; stroke-width:3.2; stroke-opacity:1; fill:none\" points=\"\n",
       "  287.484,678.387 287.484,680.676 356.951,680.676 356.951,678.387 287.484,678.387 \n",
       "  \"/>\n",
       "<path clip-path=\"url(#clip723)\" d=\"\n",
       "M356.951 680.676 L356.951 680.676 L426.418 680.676 L426.418 680.676 L356.951 680.676 L356.951 680.676  Z\n",
       "  \" fill=\"#009af9\" fill-rule=\"evenodd\" fill-opacity=\"1\"/>\n",
       "<polyline clip-path=\"url(#clip723)\" style=\"stroke:#000000; stroke-width:3.2; stroke-opacity:1; fill:none\" points=\"\n",
       "  356.951,680.676 356.951,680.676 426.418,680.676 356.951,680.676 \n",
       "  \"/>\n",
       "<path clip-path=\"url(#clip723)\" d=\"\n",
       "M426.418 680.676 L426.418 680.676 L495.884 680.676 L495.884 680.676 L426.418 680.676 L426.418 680.676  Z\n",
       "  \" fill=\"#009af9\" fill-rule=\"evenodd\" fill-opacity=\"1\"/>\n",
       "<polyline clip-path=\"url(#clip723)\" style=\"stroke:#000000; stroke-width:3.2; stroke-opacity:1; fill:none\" points=\"\n",
       "  426.418,680.676 426.418,680.676 495.884,680.676 426.418,680.676 \n",
       "  \"/>\n",
       "<path clip-path=\"url(#clip723)\" d=\"\n",
       "M495.884 678.387 L495.884 680.676 L565.351 680.676 L565.351 678.387 L495.884 678.387 L495.884 678.387  Z\n",
       "  \" fill=\"#009af9\" fill-rule=\"evenodd\" fill-opacity=\"1\"/>\n",
       "<polyline clip-path=\"url(#clip723)\" style=\"stroke:#000000; stroke-width:3.2; stroke-opacity:1; fill:none\" points=\"\n",
       "  495.884,678.387 495.884,680.676 565.351,680.676 565.351,678.387 495.884,678.387 \n",
       "  \"/>\n",
       "<path clip-path=\"url(#clip723)\" d=\"\n",
       "M565.351 678.387 L565.351 680.676 L634.818 680.676 L634.818 678.387 L565.351 678.387 L565.351 678.387  Z\n",
       "  \" fill=\"#009af9\" fill-rule=\"evenodd\" fill-opacity=\"1\"/>\n",
       "<polyline clip-path=\"url(#clip723)\" style=\"stroke:#000000; stroke-width:3.2; stroke-opacity:1; fill:none\" points=\"\n",
       "  565.351,678.387 565.351,680.676 634.818,680.676 634.818,678.387 565.351,678.387 \n",
       "  \"/>\n",
       "<path clip-path=\"url(#clip723)\" d=\"\n",
       "M634.818 644.048 L634.818 680.676 L704.284 680.676 L704.284 644.048 L634.818 644.048 L634.818 644.048  Z\n",
       "  \" fill=\"#009af9\" fill-rule=\"evenodd\" fill-opacity=\"1\"/>\n",
       "<polyline clip-path=\"url(#clip723)\" style=\"stroke:#000000; stroke-width:3.2; stroke-opacity:1; fill:none\" points=\"\n",
       "  634.818,644.048 634.818,680.676 704.284,680.676 704.284,644.048 634.818,644.048 \n",
       "  \"/>\n",
       "<path clip-path=\"url(#clip723)\" d=\"\n",
       "M704.284 660.073 L704.284 680.676 L773.751 680.676 L773.751 660.073 L704.284 660.073 L704.284 660.073  Z\n",
       "  \" fill=\"#009af9\" fill-rule=\"evenodd\" fill-opacity=\"1\"/>\n",
       "<polyline clip-path=\"url(#clip723)\" style=\"stroke:#000000; stroke-width:3.2; stroke-opacity:1; fill:none\" points=\"\n",
       "  704.284,660.073 704.284,680.676 773.751,680.676 773.751,660.073 704.284,660.073 \n",
       "  \"/>\n",
       "<path clip-path=\"url(#clip723)\" d=\"\n",
       "M773.751 660.073 L773.751 680.676 L843.218 680.676 L843.218 660.073 L773.751 660.073 L773.751 660.073  Z\n",
       "  \" fill=\"#009af9\" fill-rule=\"evenodd\" fill-opacity=\"1\"/>\n",
       "<polyline clip-path=\"url(#clip723)\" style=\"stroke:#000000; stroke-width:3.2; stroke-opacity:1; fill:none\" points=\"\n",
       "  773.751,660.073 773.751,680.676 843.218,680.676 843.218,660.073 773.751,660.073 \n",
       "  \"/>\n",
       "<path clip-path=\"url(#clip723)\" d=\"\n",
       "M843.218 600.553 L843.218 680.676 L912.684 680.676 L912.684 600.553 L843.218 600.553 L843.218 600.553  Z\n",
       "  \" fill=\"#009af9\" fill-rule=\"evenodd\" fill-opacity=\"1\"/>\n",
       "<polyline clip-path=\"url(#clip723)\" style=\"stroke:#000000; stroke-width:3.2; stroke-opacity:1; fill:none\" points=\"\n",
       "  843.218,600.553 843.218,680.676 912.684,680.676 912.684,600.553 843.218,600.553 \n",
       "  \"/>\n",
       "<path clip-path=\"url(#clip723)\" d=\"\n",
       "M912.684 616.578 L912.684 680.676 L982.151 680.676 L982.151 616.578 L912.684 616.578 L912.684 616.578  Z\n",
       "  \" fill=\"#009af9\" fill-rule=\"evenodd\" fill-opacity=\"1\"/>\n",
       "<polyline clip-path=\"url(#clip723)\" style=\"stroke:#000000; stroke-width:3.2; stroke-opacity:1; fill:none\" points=\"\n",
       "  912.684,616.578 912.684,680.676 982.151,680.676 982.151,616.578 912.684,616.578 \n",
       "  \"/>\n",
       "<path clip-path=\"url(#clip723)\" d=\"\n",
       "M982.151 536.455 L982.151 680.676 L1051.62 680.676 L1051.62 536.455 L982.151 536.455 L982.151 536.455  Z\n",
       "  \" fill=\"#009af9\" fill-rule=\"evenodd\" fill-opacity=\"1\"/>\n",
       "<polyline clip-path=\"url(#clip723)\" style=\"stroke:#000000; stroke-width:3.2; stroke-opacity:1; fill:none\" points=\"\n",
       "  982.151,536.455 982.151,680.676 1051.62,680.676 1051.62,536.455 982.151,536.455 \n",
       "  \"/>\n",
       "<path clip-path=\"url(#clip723)\" d=\"\n",
       "M1051.62 529.587 L1051.62 680.676 L1121.08 680.676 L1121.08 529.587 L1051.62 529.587 L1051.62 529.587  Z\n",
       "  \" fill=\"#009af9\" fill-rule=\"evenodd\" fill-opacity=\"1\"/>\n",
       "<polyline clip-path=\"url(#clip723)\" style=\"stroke:#000000; stroke-width:3.2; stroke-opacity:1; fill:none\" points=\"\n",
       "  1051.62,529.587 1051.62,680.676 1121.08,680.676 1121.08,529.587 1051.62,529.587 \n",
       "  \"/>\n",
       "<path clip-path=\"url(#clip723)\" d=\"\n",
       "M1121.08 492.96 L1121.08 680.676 L1190.55 680.676 L1190.55 492.96 L1121.08 492.96 L1121.08 492.96  Z\n",
       "  \" fill=\"#009af9\" fill-rule=\"evenodd\" fill-opacity=\"1\"/>\n",
       "<polyline clip-path=\"url(#clip723)\" style=\"stroke:#000000; stroke-width:3.2; stroke-opacity:1; fill:none\" points=\"\n",
       "  1121.08,492.96 1121.08,680.676 1190.55,680.676 1190.55,492.96 1121.08,492.96 \n",
       "  \"/>\n",
       "<path clip-path=\"url(#clip723)\" d=\"\n",
       "M1190.55 454.043 L1190.55 680.676 L1260.02 680.676 L1260.02 454.043 L1190.55 454.043 L1190.55 454.043  Z\n",
       "  \" fill=\"#009af9\" fill-rule=\"evenodd\" fill-opacity=\"1\"/>\n",
       "<polyline clip-path=\"url(#clip723)\" style=\"stroke:#000000; stroke-width:3.2; stroke-opacity:1; fill:none\" points=\"\n",
       "  1190.55,454.043 1190.55,680.676 1260.02,680.676 1260.02,454.043 1190.55,454.043 \n",
       "  \"/>\n",
       "<path clip-path=\"url(#clip723)\" d=\"\n",
       "M1260.02 481.514 L1260.02 680.676 L1329.48 680.676 L1329.48 481.514 L1260.02 481.514 L1260.02 481.514  Z\n",
       "  \" fill=\"#009af9\" fill-rule=\"evenodd\" fill-opacity=\"1\"/>\n",
       "<polyline clip-path=\"url(#clip723)\" style=\"stroke:#000000; stroke-width:3.2; stroke-opacity:1; fill:none\" points=\"\n",
       "  1260.02,481.514 1260.02,680.676 1329.48,680.676 1329.48,481.514 1260.02,481.514 \n",
       "  \"/>\n",
       "<path clip-path=\"url(#clip723)\" d=\"\n",
       "M1329.48 456.332 L1329.48 680.676 L1398.95 680.676 L1398.95 456.332 L1329.48 456.332 L1329.48 456.332  Z\n",
       "  \" fill=\"#009af9\" fill-rule=\"evenodd\" fill-opacity=\"1\"/>\n",
       "<polyline clip-path=\"url(#clip723)\" style=\"stroke:#000000; stroke-width:3.2; stroke-opacity:1; fill:none\" points=\"\n",
       "  1329.48,456.332 1329.48,680.676 1398.95,680.676 1398.95,456.332 1329.48,456.332 \n",
       "  \"/>\n",
       "<path clip-path=\"url(#clip723)\" d=\"\n",
       "M1398.95 465.489 L1398.95 680.676 L1468.42 680.676 L1468.42 465.489 L1398.95 465.489 L1398.95 465.489  Z\n",
       "  \" fill=\"#009af9\" fill-rule=\"evenodd\" fill-opacity=\"1\"/>\n",
       "<polyline clip-path=\"url(#clip723)\" style=\"stroke:#000000; stroke-width:3.2; stroke-opacity:1; fill:none\" points=\"\n",
       "  1398.95,465.489 1398.95,680.676 1468.42,680.676 1468.42,465.489 1398.95,465.489 \n",
       "  \"/>\n",
       "<path clip-path=\"url(#clip723)\" d=\"\n",
       "M1468.42 513.563 L1468.42 680.676 L1537.88 680.676 L1537.88 513.563 L1468.42 513.563 L1468.42 513.563  Z\n",
       "  \" fill=\"#009af9\" fill-rule=\"evenodd\" fill-opacity=\"1\"/>\n",
       "<polyline clip-path=\"url(#clip723)\" style=\"stroke:#000000; stroke-width:3.2; stroke-opacity:1; fill:none\" points=\"\n",
       "  1468.42,513.563 1468.42,680.676 1537.88,680.676 1537.88,513.563 1468.42,513.563 \n",
       "  \"/>\n",
       "<path clip-path=\"url(#clip723)\" d=\"\n",
       "M1537.88 506.695 L1537.88 680.676 L1607.35 680.676 L1607.35 506.695 L1537.88 506.695 L1537.88 506.695  Z\n",
       "  \" fill=\"#009af9\" fill-rule=\"evenodd\" fill-opacity=\"1\"/>\n",
       "<polyline clip-path=\"url(#clip723)\" style=\"stroke:#000000; stroke-width:3.2; stroke-opacity:1; fill:none\" points=\"\n",
       "  1537.88,506.695 1537.88,680.676 1607.35,680.676 1607.35,506.695 1537.88,506.695 \n",
       "  \"/>\n",
       "<path clip-path=\"url(#clip723)\" d=\"\n",
       "M1607.35 550.19 L1607.35 680.676 L1676.82 680.676 L1676.82 550.19 L1607.35 550.19 L1607.35 550.19  Z\n",
       "  \" fill=\"#009af9\" fill-rule=\"evenodd\" fill-opacity=\"1\"/>\n",
       "<polyline clip-path=\"url(#clip723)\" style=\"stroke:#000000; stroke-width:3.2; stroke-opacity:1; fill:none\" points=\"\n",
       "  1607.35,550.19 1607.35,680.676 1676.82,680.676 1676.82,550.19 1607.35,550.19 \n",
       "  \"/>\n",
       "<path clip-path=\"url(#clip723)\" d=\"\n",
       "M1676.82 586.818 L1676.82 680.676 L1746.28 680.676 L1746.28 586.818 L1676.82 586.818 L1676.82 586.818  Z\n",
       "  \" fill=\"#009af9\" fill-rule=\"evenodd\" fill-opacity=\"1\"/>\n",
       "<polyline clip-path=\"url(#clip723)\" style=\"stroke:#000000; stroke-width:3.2; stroke-opacity:1; fill:none\" points=\"\n",
       "  1676.82,586.818 1676.82,680.676 1746.28,680.676 1746.28,586.818 1676.82,586.818 \n",
       "  \"/>\n",
       "<path clip-path=\"url(#clip723)\" d=\"\n",
       "M1746.28 632.602 L1746.28 680.676 L1815.75 680.676 L1815.75 632.602 L1746.28 632.602 L1746.28 632.602  Z\n",
       "  \" fill=\"#009af9\" fill-rule=\"evenodd\" fill-opacity=\"1\"/>\n",
       "<polyline clip-path=\"url(#clip723)\" style=\"stroke:#000000; stroke-width:3.2; stroke-opacity:1; fill:none\" points=\"\n",
       "  1746.28,632.602 1746.28,680.676 1815.75,680.676 1815.75,632.602 1746.28,632.602 \n",
       "  \"/>\n",
       "<path clip-path=\"url(#clip723)\" d=\"\n",
       "M1815.75 653.205 L1815.75 680.676 L1885.22 680.676 L1885.22 653.205 L1815.75 653.205 L1815.75 653.205  Z\n",
       "  \" fill=\"#009af9\" fill-rule=\"evenodd\" fill-opacity=\"1\"/>\n",
       "<polyline clip-path=\"url(#clip723)\" style=\"stroke:#000000; stroke-width:3.2; stroke-opacity:1; fill:none\" points=\"\n",
       "  1815.75,653.205 1815.75,680.676 1885.22,680.676 1885.22,653.205 1815.75,653.205 \n",
       "  \"/>\n",
       "<path clip-path=\"url(#clip723)\" d=\"\n",
       "M1885.22 641.759 L1885.22 680.676 L1954.68 680.676 L1954.68 641.759 L1885.22 641.759 L1885.22 641.759  Z\n",
       "  \" fill=\"#009af9\" fill-rule=\"evenodd\" fill-opacity=\"1\"/>\n",
       "<polyline clip-path=\"url(#clip723)\" style=\"stroke:#000000; stroke-width:3.2; stroke-opacity:1; fill:none\" points=\"\n",
       "  1885.22,641.759 1885.22,680.676 1954.68,680.676 1954.68,641.759 1885.22,641.759 \n",
       "  \"/>\n",
       "<path clip-path=\"url(#clip723)\" d=\"\n",
       "M1954.68 669.23 L1954.68 680.676 L2024.15 680.676 L2024.15 669.23 L1954.68 669.23 L1954.68 669.23  Z\n",
       "  \" fill=\"#009af9\" fill-rule=\"evenodd\" fill-opacity=\"1\"/>\n",
       "<polyline clip-path=\"url(#clip723)\" style=\"stroke:#000000; stroke-width:3.2; stroke-opacity:1; fill:none\" points=\"\n",
       "  1954.68,669.23 1954.68,680.676 2024.15,680.676 2024.15,669.23 1954.68,669.23 \n",
       "  \"/>\n",
       "<path clip-path=\"url(#clip723)\" d=\"\n",
       "M2024.15 666.94 L2024.15 680.676 L2093.62 680.676 L2093.62 666.94 L2024.15 666.94 L2024.15 666.94  Z\n",
       "  \" fill=\"#009af9\" fill-rule=\"evenodd\" fill-opacity=\"1\"/>\n",
       "<polyline clip-path=\"url(#clip723)\" style=\"stroke:#000000; stroke-width:3.2; stroke-opacity:1; fill:none\" points=\"\n",
       "  2024.15,666.94 2024.15,680.676 2093.62,680.676 2093.62,666.94 2024.15,666.94 \n",
       "  \"/>\n",
       "<path clip-path=\"url(#clip723)\" d=\"\n",
       "M2093.62 676.097 L2093.62 680.676 L2163.08 680.676 L2163.08 676.097 L2093.62 676.097 L2093.62 676.097  Z\n",
       "  \" fill=\"#009af9\" fill-rule=\"evenodd\" fill-opacity=\"1\"/>\n",
       "<polyline clip-path=\"url(#clip723)\" style=\"stroke:#000000; stroke-width:3.2; stroke-opacity:1; fill:none\" points=\"\n",
       "  2093.62,676.097 2093.62,680.676 2163.08,680.676 2163.08,676.097 2093.62,676.097 \n",
       "  \"/>\n",
       "<path clip-path=\"url(#clip723)\" d=\"\n",
       "M2163.08 678.387 L2163.08 680.676 L2232.55 680.676 L2232.55 678.387 L2163.08 678.387 L2163.08 678.387  Z\n",
       "  \" fill=\"#009af9\" fill-rule=\"evenodd\" fill-opacity=\"1\"/>\n",
       "<polyline clip-path=\"url(#clip723)\" style=\"stroke:#000000; stroke-width:3.2; stroke-opacity:1; fill:none\" points=\"\n",
       "  2163.08,678.387 2163.08,680.676 2232.55,680.676 2232.55,678.387 2163.08,678.387 \n",
       "  \"/>\n",
       "<path clip-path=\"url(#clip720)\" d=\"\n",
       "M2013.99 651.724 L2280.76 651.724 L2280.76 530.764 L2013.99 530.764  Z\n",
       "  \" fill=\"#ffffff\" fill-rule=\"evenodd\" fill-opacity=\"1\"/>\n",
       "<polyline clip-path=\"url(#clip720)\" style=\"stroke:#000000; stroke-width:3.2; stroke-opacity:1; fill:none\" points=\"\n",
       "  2013.99,651.724 2280.76,651.724 2280.76,530.764 2013.99,530.764 2013.99,651.724 \n",
       "  \"/>\n",
       "<path clip-path=\"url(#clip720)\" d=\"\n",
       "M2037.99 615.436 L2181.99 615.436 L2181.99 567.052 L2037.99 567.052 L2037.99 615.436  Z\n",
       "  \" fill=\"#009af9\" fill-rule=\"evenodd\" fill-opacity=\"1\"/>\n",
       "<polyline clip-path=\"url(#clip720)\" style=\"stroke:#000000; stroke-width:3.2; stroke-opacity:1; fill:none\" points=\"\n",
       "  2037.99,615.436 2181.99,615.436 2181.99,567.052 2037.99,567.052 2037.99,615.436 \n",
       "  \"/>\n",
       "<g clip-path=\"url(#clip720)\">\n",
       "<text style=\"fill:#000000; fill-opacity:1; font-family:Arial,Helvetica Neue,Helvetica,sans-serif; font-size:48px; text-anchor:start;\" transform=\"rotate(0, 2205.99, 608.744)\" x=\"2205.99\" y=\"608.744\">b</text>\n",
       "</g>\n",
       "<path clip-path=\"url(#clip720)\" d=\"\n",
       "M167.279 1087.47 L2352.76 1087.47 L2352.76 847.244 L167.279 847.244  Z\n",
       "  \" fill=\"#ffffff\" fill-rule=\"evenodd\" fill-opacity=\"1\"/>\n",
       "<defs>\n",
       "  <clipPath id=\"clip724\">\n",
       "    <rect x=\"167\" y=\"847\" width=\"2186\" height=\"241\"/>\n",
       "  </clipPath>\n",
       "</defs>\n",
       "<polyline clip-path=\"url(#clip724)\" style=\"stroke:#000000; stroke-width:1.6; stroke-opacity:0.1; fill:none\" points=\"\n",
       "  287.484,1087.47 287.484,847.244 \n",
       "  \"/>\n",
       "<polyline clip-path=\"url(#clip724)\" style=\"stroke:#000000; stroke-width:1.6; stroke-opacity:0.1; fill:none\" points=\"\n",
       "  773.751,1087.47 773.751,847.244 \n",
       "  \"/>\n",
       "<polyline clip-path=\"url(#clip724)\" style=\"stroke:#000000; stroke-width:1.6; stroke-opacity:0.1; fill:none\" points=\"\n",
       "  1260.02,1087.47 1260.02,847.244 \n",
       "  \"/>\n",
       "<polyline clip-path=\"url(#clip724)\" style=\"stroke:#000000; stroke-width:1.6; stroke-opacity:0.1; fill:none\" points=\"\n",
       "  1746.28,1087.47 1746.28,847.244 \n",
       "  \"/>\n",
       "<polyline clip-path=\"url(#clip724)\" style=\"stroke:#000000; stroke-width:1.6; stroke-opacity:0.1; fill:none\" points=\"\n",
       "  2232.55,1087.47 2232.55,847.244 \n",
       "  \"/>\n",
       "<polyline clip-path=\"url(#clip724)\" style=\"stroke:#000000; stroke-width:1.6; stroke-opacity:0.1; fill:none\" points=\"\n",
       "  167.279,1080.68 2352.76,1080.68 \n",
       "  \"/>\n",
       "<polyline clip-path=\"url(#clip724)\" style=\"stroke:#000000; stroke-width:1.6; stroke-opacity:0.1; fill:none\" points=\"\n",
       "  167.279,1008.5 2352.76,1008.5 \n",
       "  \"/>\n",
       "<polyline clip-path=\"url(#clip724)\" style=\"stroke:#000000; stroke-width:1.6; stroke-opacity:0.1; fill:none\" points=\"\n",
       "  167.279,936.324 2352.76,936.324 \n",
       "  \"/>\n",
       "<polyline clip-path=\"url(#clip724)\" style=\"stroke:#000000; stroke-width:1.6; stroke-opacity:0.1; fill:none\" points=\"\n",
       "  167.279,864.148 2352.76,864.148 \n",
       "  \"/>\n",
       "<polyline clip-path=\"url(#clip720)\" style=\"stroke:#000000; stroke-width:3.2; stroke-opacity:1; fill:none\" points=\"\n",
       "  167.279,1087.47 2352.76,1087.47 \n",
       "  \"/>\n",
       "<polyline clip-path=\"url(#clip720)\" style=\"stroke:#000000; stroke-width:3.2; stroke-opacity:1; fill:none\" points=\"\n",
       "  167.279,1087.47 167.279,847.244 \n",
       "  \"/>\n",
       "<polyline clip-path=\"url(#clip720)\" style=\"stroke:#000000; stroke-width:3.2; stroke-opacity:1; fill:none\" points=\"\n",
       "  287.484,1087.47 287.484,1083.87 \n",
       "  \"/>\n",
       "<polyline clip-path=\"url(#clip720)\" style=\"stroke:#000000; stroke-width:3.2; stroke-opacity:1; fill:none\" points=\"\n",
       "  773.751,1087.47 773.751,1083.87 \n",
       "  \"/>\n",
       "<polyline clip-path=\"url(#clip720)\" style=\"stroke:#000000; stroke-width:3.2; stroke-opacity:1; fill:none\" points=\"\n",
       "  1260.02,1087.47 1260.02,1083.87 \n",
       "  \"/>\n",
       "<polyline clip-path=\"url(#clip720)\" style=\"stroke:#000000; stroke-width:3.2; stroke-opacity:1; fill:none\" points=\"\n",
       "  1746.28,1087.47 1746.28,1083.87 \n",
       "  \"/>\n",
       "<polyline clip-path=\"url(#clip720)\" style=\"stroke:#000000; stroke-width:3.2; stroke-opacity:1; fill:none\" points=\"\n",
       "  2232.55,1087.47 2232.55,1083.87 \n",
       "  \"/>\n",
       "<polyline clip-path=\"url(#clip720)\" style=\"stroke:#000000; stroke-width:3.2; stroke-opacity:1; fill:none\" points=\"\n",
       "  167.279,1080.68 200.061,1080.68 \n",
       "  \"/>\n",
       "<polyline clip-path=\"url(#clip720)\" style=\"stroke:#000000; stroke-width:3.2; stroke-opacity:1; fill:none\" points=\"\n",
       "  167.279,1008.5 200.061,1008.5 \n",
       "  \"/>\n",
       "<polyline clip-path=\"url(#clip720)\" style=\"stroke:#000000; stroke-width:3.2; stroke-opacity:1; fill:none\" points=\"\n",
       "  167.279,936.324 200.061,936.324 \n",
       "  \"/>\n",
       "<polyline clip-path=\"url(#clip720)\" style=\"stroke:#000000; stroke-width:3.2; stroke-opacity:1; fill:none\" points=\"\n",
       "  167.279,864.148 200.061,864.148 \n",
       "  \"/>\n",
       "<g clip-path=\"url(#clip720)\">\n",
       "<text style=\"fill:#000000; fill-opacity:1; font-family:Arial,Helvetica Neue,Helvetica,sans-serif; font-size:48px; text-anchor:middle;\" transform=\"rotate(0, 287.484, 1141.47)\" x=\"287.484\" y=\"1141.47\">0.46</text>\n",
       "</g>\n",
       "<g clip-path=\"url(#clip720)\">\n",
       "<text style=\"fill:#000000; fill-opacity:1; font-family:Arial,Helvetica Neue,Helvetica,sans-serif; font-size:48px; text-anchor:middle;\" transform=\"rotate(0, 773.751, 1141.47)\" x=\"773.751\" y=\"1141.47\">0.48</text>\n",
       "</g>\n",
       "<g clip-path=\"url(#clip720)\">\n",
       "<text style=\"fill:#000000; fill-opacity:1; font-family:Arial,Helvetica Neue,Helvetica,sans-serif; font-size:48px; text-anchor:middle;\" transform=\"rotate(0, 1260.02, 1141.47)\" x=\"1260.02\" y=\"1141.47\">0.50</text>\n",
       "</g>\n",
       "<g clip-path=\"url(#clip720)\">\n",
       "<text style=\"fill:#000000; fill-opacity:1; font-family:Arial,Helvetica Neue,Helvetica,sans-serif; font-size:48px; text-anchor:middle;\" transform=\"rotate(0, 1746.28, 1141.47)\" x=\"1746.28\" y=\"1141.47\">0.52</text>\n",
       "</g>\n",
       "<g clip-path=\"url(#clip720)\">\n",
       "<text style=\"fill:#000000; fill-opacity:1; font-family:Arial,Helvetica Neue,Helvetica,sans-serif; font-size:48px; text-anchor:middle;\" transform=\"rotate(0, 2232.55, 1141.47)\" x=\"2232.55\" y=\"1141.47\">0.54</text>\n",
       "</g>\n",
       "<g clip-path=\"url(#clip720)\">\n",
       "<text style=\"fill:#000000; fill-opacity:1; font-family:Arial,Helvetica Neue,Helvetica,sans-serif; font-size:48px; text-anchor:end;\" transform=\"rotate(0, 143.279, 1098.18)\" x=\"143.279\" y=\"1098.18\">0</text>\n",
       "</g>\n",
       "<g clip-path=\"url(#clip720)\">\n",
       "<text style=\"fill:#000000; fill-opacity:1; font-family:Arial,Helvetica Neue,Helvetica,sans-serif; font-size:48px; text-anchor:end;\" transform=\"rotate(0, 143.279, 1026)\" x=\"143.279\" y=\"1026\">50</text>\n",
       "</g>\n",
       "<g clip-path=\"url(#clip720)\">\n",
       "<text style=\"fill:#000000; fill-opacity:1; font-family:Arial,Helvetica Neue,Helvetica,sans-serif; font-size:48px; text-anchor:end;\" transform=\"rotate(0, 143.279, 953.824)\" x=\"143.279\" y=\"953.824\">100</text>\n",
       "</g>\n",
       "<g clip-path=\"url(#clip720)\">\n",
       "<text style=\"fill:#000000; fill-opacity:1; font-family:Arial,Helvetica Neue,Helvetica,sans-serif; font-size:48px; text-anchor:end;\" transform=\"rotate(0, 143.279, 881.648)\" x=\"143.279\" y=\"881.648\">150</text>\n",
       "</g>\n",
       "<path clip-path=\"url(#clip724)\" d=\"\n",
       "M287.484 1077.79 L287.484 1080.68 L409.051 1080.68 L409.051 1077.79 L287.484 1077.79 L287.484 1077.79  Z\n",
       "  \" fill=\"#009af9\" fill-rule=\"evenodd\" fill-opacity=\"1\"/>\n",
       "<polyline clip-path=\"url(#clip724)\" style=\"stroke:#000000; stroke-width:3.2; stroke-opacity:1; fill:none\" points=\"\n",
       "  287.484,1077.79 287.484,1080.68 409.051,1080.68 409.051,1077.79 287.484,1077.79 \n",
       "  \"/>\n",
       "<path clip-path=\"url(#clip724)\" d=\"\n",
       "M409.051 1067.68 L409.051 1080.68 L530.618 1080.68 L530.618 1067.68 L409.051 1067.68 L409.051 1067.68  Z\n",
       "  \" fill=\"#009af9\" fill-rule=\"evenodd\" fill-opacity=\"1\"/>\n",
       "<polyline clip-path=\"url(#clip724)\" style=\"stroke:#000000; stroke-width:3.2; stroke-opacity:1; fill:none\" points=\"\n",
       "  409.051,1067.68 409.051,1080.68 530.618,1080.68 530.618,1067.68 409.051,1067.68 \n",
       "  \"/>\n",
       "<path clip-path=\"url(#clip724)\" d=\"\n",
       "M530.618 1053.25 L530.618 1080.68 L652.184 1080.68 L652.184 1053.25 L530.618 1053.25 L530.618 1053.25  Z\n",
       "  \" fill=\"#009af9\" fill-rule=\"evenodd\" fill-opacity=\"1\"/>\n",
       "<polyline clip-path=\"url(#clip724)\" style=\"stroke:#000000; stroke-width:3.2; stroke-opacity:1; fill:none\" points=\"\n",
       "  530.618,1053.25 530.618,1080.68 652.184,1080.68 652.184,1053.25 530.618,1053.25 \n",
       "  \"/>\n",
       "<path clip-path=\"url(#clip724)\" d=\"\n",
       "M652.184 1024.38 L652.184 1080.68 L773.751 1080.68 L773.751 1024.38 L652.184 1024.38 L652.184 1024.38  Z\n",
       "  \" fill=\"#009af9\" fill-rule=\"evenodd\" fill-opacity=\"1\"/>\n",
       "<polyline clip-path=\"url(#clip724)\" style=\"stroke:#000000; stroke-width:3.2; stroke-opacity:1; fill:none\" points=\"\n",
       "  652.184,1024.38 652.184,1080.68 773.751,1080.68 773.751,1024.38 652.184,1024.38 \n",
       "  \"/>\n",
       "<path clip-path=\"url(#clip724)\" d=\"\n",
       "M773.751 995.508 L773.751 1080.68 L895.318 1080.68 L895.318 995.508 L773.751 995.508 L773.751 995.508  Z\n",
       "  \" fill=\"#009af9\" fill-rule=\"evenodd\" fill-opacity=\"1\"/>\n",
       "<polyline clip-path=\"url(#clip724)\" style=\"stroke:#000000; stroke-width:3.2; stroke-opacity:1; fill:none\" points=\"\n",
       "  773.751,995.508 773.751,1080.68 895.318,1080.68 895.318,995.508 773.751,995.508 \n",
       "  \"/>\n",
       "<path clip-path=\"url(#clip724)\" d=\"\n",
       "M895.318 955.089 L895.318 1080.68 L1016.88 1080.68 L1016.88 955.089 L895.318 955.089 L895.318 955.089  Z\n",
       "  \" fill=\"#009af9\" fill-rule=\"evenodd\" fill-opacity=\"1\"/>\n",
       "<polyline clip-path=\"url(#clip724)\" style=\"stroke:#000000; stroke-width:3.2; stroke-opacity:1; fill:none\" points=\"\n",
       "  895.318,955.089 895.318,1080.68 1016.88,1080.68 1016.88,955.089 895.318,955.089 \n",
       "  \"/>\n",
       "<path clip-path=\"url(#clip724)\" d=\"\n",
       "M1016.88 897.349 L1016.88 1080.68 L1138.45 1080.68 L1138.45 897.349 L1016.88 897.349 L1016.88 897.349  Z\n",
       "  \" fill=\"#009af9\" fill-rule=\"evenodd\" fill-opacity=\"1\"/>\n",
       "<polyline clip-path=\"url(#clip724)\" style=\"stroke:#000000; stroke-width:3.2; stroke-opacity:1; fill:none\" points=\"\n",
       "  1016.88,897.349 1016.88,1080.68 1138.45,1080.68 1138.45,897.349 1016.88,897.349 \n",
       "  \"/>\n",
       "<path clip-path=\"url(#clip724)\" d=\"\n",
       "M1138.45 865.591 L1138.45 1080.68 L1260.02 1080.68 L1260.02 865.591 L1138.45 865.591 L1138.45 865.591  Z\n",
       "  \" fill=\"#009af9\" fill-rule=\"evenodd\" fill-opacity=\"1\"/>\n",
       "<polyline clip-path=\"url(#clip724)\" style=\"stroke:#000000; stroke-width:3.2; stroke-opacity:1; fill:none\" points=\"\n",
       "  1138.45,865.591 1138.45,1080.68 1260.02,1080.68 1260.02,865.591 1138.45,865.591 \n",
       "  \"/>\n",
       "<path clip-path=\"url(#clip724)\" d=\"\n",
       "M1260.02 854.043 L1260.02 1080.68 L1381.58 1080.68 L1381.58 854.043 L1260.02 854.043 L1260.02 854.043  Z\n",
       "  \" fill=\"#009af9\" fill-rule=\"evenodd\" fill-opacity=\"1\"/>\n",
       "<polyline clip-path=\"url(#clip724)\" style=\"stroke:#000000; stroke-width:3.2; stroke-opacity:1; fill:none\" points=\"\n",
       "  1260.02,854.043 1260.02,1080.68 1381.58,1080.68 1381.58,854.043 1260.02,854.043 \n",
       "  \"/>\n",
       "<path clip-path=\"url(#clip724)\" d=\"\n",
       "M1381.58 898.792 L1381.58 1080.68 L1503.15 1080.68 L1503.15 898.792 L1381.58 898.792 L1381.58 898.792  Z\n",
       "  \" fill=\"#009af9\" fill-rule=\"evenodd\" fill-opacity=\"1\"/>\n",
       "<polyline clip-path=\"url(#clip724)\" style=\"stroke:#000000; stroke-width:3.2; stroke-opacity:1; fill:none\" points=\"\n",
       "  1381.58,898.792 1381.58,1080.68 1503.15,1080.68 1503.15,898.792 1381.58,898.792 \n",
       "  \"/>\n",
       "<path clip-path=\"url(#clip724)\" d=\"\n",
       "M1503.15 947.872 L1503.15 1080.68 L1624.72 1080.68 L1624.72 947.872 L1503.15 947.872 L1503.15 947.872  Z\n",
       "  \" fill=\"#009af9\" fill-rule=\"evenodd\" fill-opacity=\"1\"/>\n",
       "<polyline clip-path=\"url(#clip724)\" style=\"stroke:#000000; stroke-width:3.2; stroke-opacity:1; fill:none\" points=\"\n",
       "  1503.15,947.872 1503.15,1080.68 1624.72,1080.68 1624.72,947.872 1503.15,947.872 \n",
       "  \"/>\n",
       "<path clip-path=\"url(#clip724)\" d=\"\n",
       "M1624.72 982.516 L1624.72 1080.68 L1746.28 1080.68 L1746.28 982.516 L1624.72 982.516 L1624.72 982.516  Z\n",
       "  \" fill=\"#009af9\" fill-rule=\"evenodd\" fill-opacity=\"1\"/>\n",
       "<polyline clip-path=\"url(#clip724)\" style=\"stroke:#000000; stroke-width:3.2; stroke-opacity:1; fill:none\" points=\"\n",
       "  1624.72,982.516 1624.72,1080.68 1746.28,1080.68 1746.28,982.516 1624.72,982.516 \n",
       "  \"/>\n",
       "<path clip-path=\"url(#clip724)\" d=\"\n",
       "M1746.28 1033.04 L1746.28 1080.68 L1867.85 1080.68 L1867.85 1033.04 L1746.28 1033.04 L1746.28 1033.04  Z\n",
       "  \" fill=\"#009af9\" fill-rule=\"evenodd\" fill-opacity=\"1\"/>\n",
       "<polyline clip-path=\"url(#clip724)\" style=\"stroke:#000000; stroke-width:3.2; stroke-opacity:1; fill:none\" points=\"\n",
       "  1746.28,1033.04 1746.28,1080.68 1867.85,1080.68 1867.85,1033.04 1746.28,1033.04 \n",
       "  \"/>\n",
       "<path clip-path=\"url(#clip724)\" d=\"\n",
       "M1867.85 1048.92 L1867.85 1080.68 L1989.42 1080.68 L1989.42 1048.92 L1867.85 1048.92 L1867.85 1048.92  Z\n",
       "  \" fill=\"#009af9\" fill-rule=\"evenodd\" fill-opacity=\"1\"/>\n",
       "<polyline clip-path=\"url(#clip724)\" style=\"stroke:#000000; stroke-width:3.2; stroke-opacity:1; fill:none\" points=\"\n",
       "  1867.85,1048.92 1867.85,1080.68 1989.42,1080.68 1989.42,1048.92 1867.85,1048.92 \n",
       "  \"/>\n",
       "<path clip-path=\"url(#clip724)\" d=\"\n",
       "M1989.42 1070.57 L1989.42 1080.68 L2110.98 1080.68 L2110.98 1070.57 L1989.42 1070.57 L1989.42 1070.57  Z\n",
       "  \" fill=\"#009af9\" fill-rule=\"evenodd\" fill-opacity=\"1\"/>\n",
       "<polyline clip-path=\"url(#clip724)\" style=\"stroke:#000000; stroke-width:3.2; stroke-opacity:1; fill:none\" points=\"\n",
       "  1989.42,1070.57 1989.42,1080.68 2110.98,1080.68 2110.98,1070.57 1989.42,1070.57 \n",
       "  \"/>\n",
       "<path clip-path=\"url(#clip724)\" d=\"\n",
       "M2110.98 1074.9 L2110.98 1080.68 L2232.55 1080.68 L2232.55 1074.9 L2110.98 1074.9 L2110.98 1074.9  Z\n",
       "  \" fill=\"#009af9\" fill-rule=\"evenodd\" fill-opacity=\"1\"/>\n",
       "<polyline clip-path=\"url(#clip724)\" style=\"stroke:#000000; stroke-width:3.2; stroke-opacity:1; fill:none\" points=\"\n",
       "  2110.98,1074.9 2110.98,1080.68 2232.55,1080.68 2232.55,1074.9 2110.98,1074.9 \n",
       "  \"/>\n",
       "<path clip-path=\"url(#clip720)\" d=\"\n",
       "M2016.69 1051.72 L2280.76 1051.72 L2280.76 930.764 L2016.69 930.764  Z\n",
       "  \" fill=\"#ffffff\" fill-rule=\"evenodd\" fill-opacity=\"1\"/>\n",
       "<polyline clip-path=\"url(#clip720)\" style=\"stroke:#000000; stroke-width:3.2; stroke-opacity:1; fill:none\" points=\"\n",
       "  2016.69,1051.72 2280.76,1051.72 2280.76,930.764 2016.69,930.764 2016.69,1051.72 \n",
       "  \"/>\n",
       "<path clip-path=\"url(#clip720)\" d=\"\n",
       "M2040.69 1015.44 L2184.69 1015.44 L2184.69 967.052 L2040.69 967.052 L2040.69 1015.44  Z\n",
       "  \" fill=\"#009af9\" fill-rule=\"evenodd\" fill-opacity=\"1\"/>\n",
       "<polyline clip-path=\"url(#clip720)\" style=\"stroke:#000000; stroke-width:3.2; stroke-opacity:1; fill:none\" points=\"\n",
       "  2040.69,1015.44 2184.69,1015.44 2184.69,967.052 2040.69,967.052 2040.69,1015.44 \n",
       "  \"/>\n",
       "<g clip-path=\"url(#clip720)\">\n",
       "<text style=\"fill:#000000; fill-opacity:1; font-family:Arial,Helvetica Neue,Helvetica,sans-serif; font-size:48px; text-anchor:start;\" transform=\"rotate(0, 2208.69, 1008.74)\" x=\"2208.69\" y=\"1008.74\">c</text>\n",
       "</g>\n",
       "<path clip-path=\"url(#clip720)\" d=\"\n",
       "M167.279 1487.47 L2352.76 1487.47 L2352.76 1247.24 L167.279 1247.24  Z\n",
       "  \" fill=\"#ffffff\" fill-rule=\"evenodd\" fill-opacity=\"1\"/>\n",
       "<defs>\n",
       "  <clipPath id=\"clip725\">\n",
       "    <rect x=\"167\" y=\"1247\" width=\"2186\" height=\"241\"/>\n",
       "  </clipPath>\n",
       "</defs>\n",
       "<polyline clip-path=\"url(#clip725)\" style=\"stroke:#000000; stroke-width:1.6; stroke-opacity:0.1; fill:none\" points=\"\n",
       "  443.09,1487.47 443.09,1247.24 \n",
       "  \"/>\n",
       "<polyline clip-path=\"url(#clip725)\" style=\"stroke:#000000; stroke-width:1.6; stroke-opacity:0.1; fill:none\" points=\"\n",
       "  832.103,1487.47 832.103,1247.24 \n",
       "  \"/>\n",
       "<polyline clip-path=\"url(#clip725)\" style=\"stroke:#000000; stroke-width:1.6; stroke-opacity:0.1; fill:none\" points=\"\n",
       "  1221.12,1487.47 1221.12,1247.24 \n",
       "  \"/>\n",
       "<polyline clip-path=\"url(#clip725)\" style=\"stroke:#000000; stroke-width:1.6; stroke-opacity:0.1; fill:none\" points=\"\n",
       "  1610.13,1487.47 1610.13,1247.24 \n",
       "  \"/>\n",
       "<polyline clip-path=\"url(#clip725)\" style=\"stroke:#000000; stroke-width:1.6; stroke-opacity:0.1; fill:none\" points=\"\n",
       "  1999.14,1487.47 1999.14,1247.24 \n",
       "  \"/>\n",
       "<polyline clip-path=\"url(#clip725)\" style=\"stroke:#000000; stroke-width:1.6; stroke-opacity:0.1; fill:none\" points=\"\n",
       "  167.279,1480.68 2352.76,1480.68 \n",
       "  \"/>\n",
       "<polyline clip-path=\"url(#clip725)\" style=\"stroke:#000000; stroke-width:1.6; stroke-opacity:0.1; fill:none\" points=\"\n",
       "  167.279,1444.41 2352.76,1444.41 \n",
       "  \"/>\n",
       "<polyline clip-path=\"url(#clip725)\" style=\"stroke:#000000; stroke-width:1.6; stroke-opacity:0.1; fill:none\" points=\"\n",
       "  167.279,1408.15 2352.76,1408.15 \n",
       "  \"/>\n",
       "<polyline clip-path=\"url(#clip725)\" style=\"stroke:#000000; stroke-width:1.6; stroke-opacity:0.1; fill:none\" points=\"\n",
       "  167.279,1371.89 2352.76,1371.89 \n",
       "  \"/>\n",
       "<polyline clip-path=\"url(#clip725)\" style=\"stroke:#000000; stroke-width:1.6; stroke-opacity:0.1; fill:none\" points=\"\n",
       "  167.279,1335.63 2352.76,1335.63 \n",
       "  \"/>\n",
       "<polyline clip-path=\"url(#clip725)\" style=\"stroke:#000000; stroke-width:1.6; stroke-opacity:0.1; fill:none\" points=\"\n",
       "  167.279,1299.37 2352.76,1299.37 \n",
       "  \"/>\n",
       "<polyline clip-path=\"url(#clip725)\" style=\"stroke:#000000; stroke-width:1.6; stroke-opacity:0.1; fill:none\" points=\"\n",
       "  167.279,1263.11 2352.76,1263.11 \n",
       "  \"/>\n",
       "<polyline clip-path=\"url(#clip720)\" style=\"stroke:#000000; stroke-width:3.2; stroke-opacity:1; fill:none\" points=\"\n",
       "  167.279,1487.47 2352.76,1487.47 \n",
       "  \"/>\n",
       "<polyline clip-path=\"url(#clip720)\" style=\"stroke:#000000; stroke-width:3.2; stroke-opacity:1; fill:none\" points=\"\n",
       "  167.279,1487.47 167.279,1247.24 \n",
       "  \"/>\n",
       "<polyline clip-path=\"url(#clip720)\" style=\"stroke:#000000; stroke-width:3.2; stroke-opacity:1; fill:none\" points=\"\n",
       "  443.09,1487.47 443.09,1483.87 \n",
       "  \"/>\n",
       "<polyline clip-path=\"url(#clip720)\" style=\"stroke:#000000; stroke-width:3.2; stroke-opacity:1; fill:none\" points=\"\n",
       "  832.103,1487.47 832.103,1483.87 \n",
       "  \"/>\n",
       "<polyline clip-path=\"url(#clip720)\" style=\"stroke:#000000; stroke-width:3.2; stroke-opacity:1; fill:none\" points=\"\n",
       "  1221.12,1487.47 1221.12,1483.87 \n",
       "  \"/>\n",
       "<polyline clip-path=\"url(#clip720)\" style=\"stroke:#000000; stroke-width:3.2; stroke-opacity:1; fill:none\" points=\"\n",
       "  1610.13,1487.47 1610.13,1483.87 \n",
       "  \"/>\n",
       "<polyline clip-path=\"url(#clip720)\" style=\"stroke:#000000; stroke-width:3.2; stroke-opacity:1; fill:none\" points=\"\n",
       "  1999.14,1487.47 1999.14,1483.87 \n",
       "  \"/>\n",
       "<polyline clip-path=\"url(#clip720)\" style=\"stroke:#000000; stroke-width:3.2; stroke-opacity:1; fill:none\" points=\"\n",
       "  167.279,1480.68 200.061,1480.68 \n",
       "  \"/>\n",
       "<polyline clip-path=\"url(#clip720)\" style=\"stroke:#000000; stroke-width:3.2; stroke-opacity:1; fill:none\" points=\"\n",
       "  167.279,1444.41 200.061,1444.41 \n",
       "  \"/>\n",
       "<polyline clip-path=\"url(#clip720)\" style=\"stroke:#000000; stroke-width:3.2; stroke-opacity:1; fill:none\" points=\"\n",
       "  167.279,1408.15 200.061,1408.15 \n",
       "  \"/>\n",
       "<polyline clip-path=\"url(#clip720)\" style=\"stroke:#000000; stroke-width:3.2; stroke-opacity:1; fill:none\" points=\"\n",
       "  167.279,1371.89 200.061,1371.89 \n",
       "  \"/>\n",
       "<polyline clip-path=\"url(#clip720)\" style=\"stroke:#000000; stroke-width:3.2; stroke-opacity:1; fill:none\" points=\"\n",
       "  167.279,1335.63 200.061,1335.63 \n",
       "  \"/>\n",
       "<polyline clip-path=\"url(#clip720)\" style=\"stroke:#000000; stroke-width:3.2; stroke-opacity:1; fill:none\" points=\"\n",
       "  167.279,1299.37 200.061,1299.37 \n",
       "  \"/>\n",
       "<polyline clip-path=\"url(#clip720)\" style=\"stroke:#000000; stroke-width:3.2; stroke-opacity:1; fill:none\" points=\"\n",
       "  167.279,1263.11 200.061,1263.11 \n",
       "  \"/>\n",
       "<g clip-path=\"url(#clip720)\">\n",
       "<text style=\"fill:#000000; fill-opacity:1; font-family:Arial,Helvetica Neue,Helvetica,sans-serif; font-size:48px; text-anchor:middle;\" transform=\"rotate(0, 443.09, 1541.47)\" x=\"443.09\" y=\"1541.47\">0.950</text>\n",
       "</g>\n",
       "<g clip-path=\"url(#clip720)\">\n",
       "<text style=\"fill:#000000; fill-opacity:1; font-family:Arial,Helvetica Neue,Helvetica,sans-serif; font-size:48px; text-anchor:middle;\" transform=\"rotate(0, 832.103, 1541.47)\" x=\"832.103\" y=\"1541.47\">0.975</text>\n",
       "</g>\n",
       "<g clip-path=\"url(#clip720)\">\n",
       "<text style=\"fill:#000000; fill-opacity:1; font-family:Arial,Helvetica Neue,Helvetica,sans-serif; font-size:48px; text-anchor:middle;\" transform=\"rotate(0, 1221.12, 1541.47)\" x=\"1221.12\" y=\"1541.47\">1.000</text>\n",
       "</g>\n",
       "<g clip-path=\"url(#clip720)\">\n",
       "<text style=\"fill:#000000; fill-opacity:1; font-family:Arial,Helvetica Neue,Helvetica,sans-serif; font-size:48px; text-anchor:middle;\" transform=\"rotate(0, 1610.13, 1541.47)\" x=\"1610.13\" y=\"1541.47\">1.025</text>\n",
       "</g>\n",
       "<g clip-path=\"url(#clip720)\">\n",
       "<text style=\"fill:#000000; fill-opacity:1; font-family:Arial,Helvetica Neue,Helvetica,sans-serif; font-size:48px; text-anchor:middle;\" transform=\"rotate(0, 1999.14, 1541.47)\" x=\"1999.14\" y=\"1541.47\">1.050</text>\n",
       "</g>\n",
       "<g clip-path=\"url(#clip720)\">\n",
       "<text style=\"fill:#000000; fill-opacity:1; font-family:Arial,Helvetica Neue,Helvetica,sans-serif; font-size:48px; text-anchor:end;\" transform=\"rotate(0, 143.279, 1498.18)\" x=\"143.279\" y=\"1498.18\">0</text>\n",
       "</g>\n",
       "<g clip-path=\"url(#clip720)\">\n",
       "<text style=\"fill:#000000; fill-opacity:1; font-family:Arial,Helvetica Neue,Helvetica,sans-serif; font-size:48px; text-anchor:end;\" transform=\"rotate(0, 143.279, 1461.91)\" x=\"143.279\" y=\"1461.91\">20</text>\n",
       "</g>\n",
       "<g clip-path=\"url(#clip720)\">\n",
       "<text style=\"fill:#000000; fill-opacity:1; font-family:Arial,Helvetica Neue,Helvetica,sans-serif; font-size:48px; text-anchor:end;\" transform=\"rotate(0, 143.279, 1425.65)\" x=\"143.279\" y=\"1425.65\">40</text>\n",
       "</g>\n",
       "<g clip-path=\"url(#clip720)\">\n",
       "<text style=\"fill:#000000; fill-opacity:1; font-family:Arial,Helvetica Neue,Helvetica,sans-serif; font-size:48px; text-anchor:end;\" transform=\"rotate(0, 143.279, 1389.39)\" x=\"143.279\" y=\"1389.39\">60</text>\n",
       "</g>\n",
       "<g clip-path=\"url(#clip720)\">\n",
       "<text style=\"fill:#000000; fill-opacity:1; font-family:Arial,Helvetica Neue,Helvetica,sans-serif; font-size:48px; text-anchor:end;\" transform=\"rotate(0, 143.279, 1353.13)\" x=\"143.279\" y=\"1353.13\">80</text>\n",
       "</g>\n",
       "<g clip-path=\"url(#clip720)\">\n",
       "<text style=\"fill:#000000; fill-opacity:1; font-family:Arial,Helvetica Neue,Helvetica,sans-serif; font-size:48px; text-anchor:end;\" transform=\"rotate(0, 143.279, 1316.87)\" x=\"143.279\" y=\"1316.87\">100</text>\n",
       "</g>\n",
       "<g clip-path=\"url(#clip720)\">\n",
       "<text style=\"fill:#000000; fill-opacity:1; font-family:Arial,Helvetica Neue,Helvetica,sans-serif; font-size:48px; text-anchor:end;\" transform=\"rotate(0, 143.279, 1280.61)\" x=\"143.279\" y=\"1280.61\">120</text>\n",
       "</g>\n",
       "<path clip-path=\"url(#clip725)\" d=\"\n",
       "M287.484 1478.86 L287.484 1480.68 L365.287 1480.68 L365.287 1478.86 L287.484 1478.86 L287.484 1478.86  Z\n",
       "  \" fill=\"#009af9\" fill-rule=\"evenodd\" fill-opacity=\"1\"/>\n",
       "<polyline clip-path=\"url(#clip725)\" style=\"stroke:#000000; stroke-width:3.2; stroke-opacity:1; fill:none\" points=\"\n",
       "  287.484,1478.86 287.484,1480.68 365.287,1480.68 365.287,1478.86 287.484,1478.86 \n",
       "  \"/>\n",
       "<path clip-path=\"url(#clip725)\" d=\"\n",
       "M365.287 1480.68 L365.287 1480.68 L443.09 1480.68 L443.09 1480.68 L365.287 1480.68 L365.287 1480.68  Z\n",
       "  \" fill=\"#009af9\" fill-rule=\"evenodd\" fill-opacity=\"1\"/>\n",
       "<polyline clip-path=\"url(#clip725)\" style=\"stroke:#000000; stroke-width:3.2; stroke-opacity:1; fill:none\" points=\"\n",
       "  365.287,1480.68 365.287,1480.68 443.09,1480.68 365.287,1480.68 \n",
       "  \"/>\n",
       "<path clip-path=\"url(#clip725)\" d=\"\n",
       "M443.09 1480.68 L443.09 1480.68 L520.892 1480.68 L520.892 1480.68 L443.09 1480.68 L443.09 1480.68  Z\n",
       "  \" fill=\"#009af9\" fill-rule=\"evenodd\" fill-opacity=\"1\"/>\n",
       "<polyline clip-path=\"url(#clip725)\" style=\"stroke:#000000; stroke-width:3.2; stroke-opacity:1; fill:none\" points=\"\n",
       "  443.09,1480.68 443.09,1480.68 520.892,1480.68 443.09,1480.68 \n",
       "  \"/>\n",
       "<path clip-path=\"url(#clip725)\" d=\"\n",
       "M520.892 1477.05 L520.892 1480.68 L598.695 1480.68 L598.695 1477.05 L520.892 1477.05 L520.892 1477.05  Z\n",
       "  \" fill=\"#009af9\" fill-rule=\"evenodd\" fill-opacity=\"1\"/>\n",
       "<polyline clip-path=\"url(#clip725)\" style=\"stroke:#000000; stroke-width:3.2; stroke-opacity:1; fill:none\" points=\"\n",
       "  520.892,1477.05 520.892,1480.68 598.695,1480.68 598.695,1477.05 520.892,1477.05 \n",
       "  \"/>\n",
       "<path clip-path=\"url(#clip725)\" d=\"\n",
       "M598.695 1458.92 L598.695 1480.68 L676.498 1480.68 L676.498 1458.92 L598.695 1458.92 L598.695 1458.92  Z\n",
       "  \" fill=\"#009af9\" fill-rule=\"evenodd\" fill-opacity=\"1\"/>\n",
       "<polyline clip-path=\"url(#clip725)\" style=\"stroke:#000000; stroke-width:3.2; stroke-opacity:1; fill:none\" points=\"\n",
       "  598.695,1458.92 598.695,1480.68 676.498,1480.68 676.498,1458.92 598.695,1458.92 \n",
       "  \"/>\n",
       "<path clip-path=\"url(#clip725)\" d=\"\n",
       "M676.498 1438.98 L676.498 1480.68 L754.3 1480.68 L754.3 1438.98 L676.498 1438.98 L676.498 1438.98  Z\n",
       "  \" fill=\"#009af9\" fill-rule=\"evenodd\" fill-opacity=\"1\"/>\n",
       "<polyline clip-path=\"url(#clip725)\" style=\"stroke:#000000; stroke-width:3.2; stroke-opacity:1; fill:none\" points=\"\n",
       "  676.498,1438.98 676.498,1480.68 754.3,1480.68 754.3,1438.98 676.498,1438.98 \n",
       "  \"/>\n",
       "<path clip-path=\"url(#clip725)\" d=\"\n",
       "M754.3 1415.41 L754.3 1480.68 L832.103 1480.68 L832.103 1415.41 L754.3 1415.41 L754.3 1415.41  Z\n",
       "  \" fill=\"#009af9\" fill-rule=\"evenodd\" fill-opacity=\"1\"/>\n",
       "<polyline clip-path=\"url(#clip725)\" style=\"stroke:#000000; stroke-width:3.2; stroke-opacity:1; fill:none\" points=\"\n",
       "  754.3,1415.41 754.3,1480.68 832.103,1480.68 832.103,1415.41 754.3,1415.41 \n",
       "  \"/>\n",
       "<path clip-path=\"url(#clip725)\" d=\"\n",
       "M832.103 1400.9 L832.103 1480.68 L909.906 1480.68 L909.906 1400.9 L832.103 1400.9 L832.103 1400.9  Z\n",
       "  \" fill=\"#009af9\" fill-rule=\"evenodd\" fill-opacity=\"1\"/>\n",
       "<polyline clip-path=\"url(#clip725)\" style=\"stroke:#000000; stroke-width:3.2; stroke-opacity:1; fill:none\" points=\"\n",
       "  832.103,1400.9 832.103,1480.68 909.906,1480.68 909.906,1400.9 832.103,1400.9 \n",
       "  \"/>\n",
       "<path clip-path=\"url(#clip725)\" d=\"\n",
       "M909.906 1357.39 L909.906 1480.68 L987.708 1480.68 L987.708 1357.39 L909.906 1357.39 L909.906 1357.39  Z\n",
       "  \" fill=\"#009af9\" fill-rule=\"evenodd\" fill-opacity=\"1\"/>\n",
       "<polyline clip-path=\"url(#clip725)\" style=\"stroke:#000000; stroke-width:3.2; stroke-opacity:1; fill:none\" points=\"\n",
       "  909.906,1357.39 909.906,1480.68 987.708,1480.68 987.708,1357.39 909.906,1357.39 \n",
       "  \"/>\n",
       "<path clip-path=\"url(#clip725)\" d=\"\n",
       "M987.708 1315.69 L987.708 1480.68 L1065.51 1480.68 L1065.51 1315.69 L987.708 1315.69 L987.708 1315.69  Z\n",
       "  \" fill=\"#009af9\" fill-rule=\"evenodd\" fill-opacity=\"1\"/>\n",
       "<polyline clip-path=\"url(#clip725)\" style=\"stroke:#000000; stroke-width:3.2; stroke-opacity:1; fill:none\" points=\"\n",
       "  987.708,1315.69 987.708,1480.68 1065.51,1480.68 1065.51,1315.69 987.708,1315.69 \n",
       "  \"/>\n",
       "<path clip-path=\"url(#clip725)\" d=\"\n",
       "M1065.51 1310.25 L1065.51 1480.68 L1143.31 1480.68 L1143.31 1310.25 L1065.51 1310.25 L1065.51 1310.25  Z\n",
       "  \" fill=\"#009af9\" fill-rule=\"evenodd\" fill-opacity=\"1\"/>\n",
       "<polyline clip-path=\"url(#clip725)\" style=\"stroke:#000000; stroke-width:3.2; stroke-opacity:1; fill:none\" points=\"\n",
       "  1065.51,1310.25 1065.51,1480.68 1143.31,1480.68 1143.31,1310.25 1065.51,1310.25 \n",
       "  \"/>\n",
       "<path clip-path=\"url(#clip725)\" d=\"\n",
       "M1143.31 1264.92 L1143.31 1480.68 L1221.12 1480.68 L1221.12 1264.92 L1143.31 1264.92 L1143.31 1264.92  Z\n",
       "  \" fill=\"#009af9\" fill-rule=\"evenodd\" fill-opacity=\"1\"/>\n",
       "<polyline clip-path=\"url(#clip725)\" style=\"stroke:#000000; stroke-width:3.2; stroke-opacity:1; fill:none\" points=\"\n",
       "  1143.31,1264.92 1143.31,1480.68 1221.12,1480.68 1221.12,1264.92 1143.31,1264.92 \n",
       "  \"/>\n",
       "<path clip-path=\"url(#clip725)\" d=\"\n",
       "M1221.12 1303 L1221.12 1480.68 L1298.92 1480.68 L1298.92 1303 L1221.12 1303 L1221.12 1303  Z\n",
       "  \" fill=\"#009af9\" fill-rule=\"evenodd\" fill-opacity=\"1\"/>\n",
       "<polyline clip-path=\"url(#clip725)\" style=\"stroke:#000000; stroke-width:3.2; stroke-opacity:1; fill:none\" points=\"\n",
       "  1221.12,1303 1221.12,1480.68 1298.92,1480.68 1298.92,1303 1221.12,1303 \n",
       "  \"/>\n",
       "<path clip-path=\"url(#clip725)\" d=\"\n",
       "M1298.92 1254.04 L1298.92 1480.68 L1376.72 1480.68 L1376.72 1254.04 L1298.92 1254.04 L1298.92 1254.04  Z\n",
       "  \" fill=\"#009af9\" fill-rule=\"evenodd\" fill-opacity=\"1\"/>\n",
       "<polyline clip-path=\"url(#clip725)\" style=\"stroke:#000000; stroke-width:3.2; stroke-opacity:1; fill:none\" points=\"\n",
       "  1298.92,1254.04 1298.92,1480.68 1376.72,1480.68 1376.72,1254.04 1298.92,1254.04 \n",
       "  \"/>\n",
       "<path clip-path=\"url(#clip725)\" d=\"\n",
       "M1376.72 1308.43 L1376.72 1480.68 L1454.52 1480.68 L1454.52 1308.43 L1376.72 1308.43 L1376.72 1308.43  Z\n",
       "  \" fill=\"#009af9\" fill-rule=\"evenodd\" fill-opacity=\"1\"/>\n",
       "<polyline clip-path=\"url(#clip725)\" style=\"stroke:#000000; stroke-width:3.2; stroke-opacity:1; fill:none\" points=\"\n",
       "  1376.72,1308.43 1376.72,1480.68 1454.52,1480.68 1454.52,1308.43 1376.72,1308.43 \n",
       "  \"/>\n",
       "<path clip-path=\"url(#clip725)\" d=\"\n",
       "M1454.52 1344.7 L1454.52 1480.68 L1532.33 1480.68 L1532.33 1344.7 L1454.52 1344.7 L1454.52 1344.7  Z\n",
       "  \" fill=\"#009af9\" fill-rule=\"evenodd\" fill-opacity=\"1\"/>\n",
       "<polyline clip-path=\"url(#clip725)\" style=\"stroke:#000000; stroke-width:3.2; stroke-opacity:1; fill:none\" points=\"\n",
       "  1454.52,1344.7 1454.52,1480.68 1532.33,1480.68 1532.33,1344.7 1454.52,1344.7 \n",
       "  \"/>\n",
       "<path clip-path=\"url(#clip725)\" d=\"\n",
       "M1532.33 1391.84 L1532.33 1480.68 L1610.13 1480.68 L1610.13 1391.84 L1532.33 1391.84 L1532.33 1391.84  Z\n",
       "  \" fill=\"#009af9\" fill-rule=\"evenodd\" fill-opacity=\"1\"/>\n",
       "<polyline clip-path=\"url(#clip725)\" style=\"stroke:#000000; stroke-width:3.2; stroke-opacity:1; fill:none\" points=\"\n",
       "  1532.33,1391.84 1532.33,1480.68 1610.13,1480.68 1610.13,1391.84 1532.33,1391.84 \n",
       "  \"/>\n",
       "<path clip-path=\"url(#clip725)\" d=\"\n",
       "M1610.13 1426.28 L1610.13 1480.68 L1687.93 1480.68 L1687.93 1426.28 L1610.13 1426.28 L1610.13 1426.28  Z\n",
       "  \" fill=\"#009af9\" fill-rule=\"evenodd\" fill-opacity=\"1\"/>\n",
       "<polyline clip-path=\"url(#clip725)\" style=\"stroke:#000000; stroke-width:3.2; stroke-opacity:1; fill:none\" points=\"\n",
       "  1610.13,1426.28 1610.13,1480.68 1687.93,1480.68 1687.93,1426.28 1610.13,1426.28 \n",
       "  \"/>\n",
       "<path clip-path=\"url(#clip725)\" d=\"\n",
       "M1687.93 1451.67 L1687.93 1480.68 L1765.73 1480.68 L1765.73 1451.67 L1687.93 1451.67 L1687.93 1451.67  Z\n",
       "  \" fill=\"#009af9\" fill-rule=\"evenodd\" fill-opacity=\"1\"/>\n",
       "<polyline clip-path=\"url(#clip725)\" style=\"stroke:#000000; stroke-width:3.2; stroke-opacity:1; fill:none\" points=\"\n",
       "  1687.93,1451.67 1687.93,1480.68 1765.73,1480.68 1765.73,1451.67 1687.93,1451.67 \n",
       "  \"/>\n",
       "<path clip-path=\"url(#clip725)\" d=\"\n",
       "M1765.73 1464.36 L1765.73 1480.68 L1843.54 1480.68 L1843.54 1464.36 L1765.73 1464.36 L1765.73 1464.36  Z\n",
       "  \" fill=\"#009af9\" fill-rule=\"evenodd\" fill-opacity=\"1\"/>\n",
       "<polyline clip-path=\"url(#clip725)\" style=\"stroke:#000000; stroke-width:3.2; stroke-opacity:1; fill:none\" points=\"\n",
       "  1765.73,1464.36 1765.73,1480.68 1843.54,1480.68 1843.54,1464.36 1765.73,1464.36 \n",
       "  \"/>\n",
       "<path clip-path=\"url(#clip725)\" d=\"\n",
       "M1843.54 1469.8 L1843.54 1480.68 L1921.34 1480.68 L1921.34 1469.8 L1843.54 1469.8 L1843.54 1469.8  Z\n",
       "  \" fill=\"#009af9\" fill-rule=\"evenodd\" fill-opacity=\"1\"/>\n",
       "<polyline clip-path=\"url(#clip725)\" style=\"stroke:#000000; stroke-width:3.2; stroke-opacity:1; fill:none\" points=\"\n",
       "  1843.54,1469.8 1843.54,1480.68 1921.34,1480.68 1921.34,1469.8 1843.54,1469.8 \n",
       "  \"/>\n",
       "<path clip-path=\"url(#clip725)\" d=\"\n",
       "M1921.34 1473.42 L1921.34 1480.68 L1999.14 1480.68 L1999.14 1473.42 L1921.34 1473.42 L1921.34 1473.42  Z\n",
       "  \" fill=\"#009af9\" fill-rule=\"evenodd\" fill-opacity=\"1\"/>\n",
       "<polyline clip-path=\"url(#clip725)\" style=\"stroke:#000000; stroke-width:3.2; stroke-opacity:1; fill:none\" points=\"\n",
       "  1921.34,1473.42 1921.34,1480.68 1999.14,1480.68 1999.14,1473.42 1921.34,1473.42 \n",
       "  \"/>\n",
       "<path clip-path=\"url(#clip725)\" d=\"\n",
       "M1999.14 1478.86 L1999.14 1480.68 L2076.95 1480.68 L2076.95 1478.86 L1999.14 1478.86 L1999.14 1478.86  Z\n",
       "  \" fill=\"#009af9\" fill-rule=\"evenodd\" fill-opacity=\"1\"/>\n",
       "<polyline clip-path=\"url(#clip725)\" style=\"stroke:#000000; stroke-width:3.2; stroke-opacity:1; fill:none\" points=\"\n",
       "  1999.14,1478.86 1999.14,1480.68 2076.95,1480.68 2076.95,1478.86 1999.14,1478.86 \n",
       "  \"/>\n",
       "<path clip-path=\"url(#clip725)\" d=\"\n",
       "M2076.95 1478.86 L2076.95 1480.68 L2154.75 1480.68 L2154.75 1478.86 L2076.95 1478.86 L2076.95 1478.86  Z\n",
       "  \" fill=\"#009af9\" fill-rule=\"evenodd\" fill-opacity=\"1\"/>\n",
       "<polyline clip-path=\"url(#clip725)\" style=\"stroke:#000000; stroke-width:3.2; stroke-opacity:1; fill:none\" points=\"\n",
       "  2076.95,1478.86 2076.95,1480.68 2154.75,1480.68 2154.75,1478.86 2076.95,1478.86 \n",
       "  \"/>\n",
       "<path clip-path=\"url(#clip725)\" d=\"\n",
       "M2154.75 1478.86 L2154.75 1480.68 L2232.55 1480.68 L2232.55 1478.86 L2154.75 1478.86 L2154.75 1478.86  Z\n",
       "  \" fill=\"#009af9\" fill-rule=\"evenodd\" fill-opacity=\"1\"/>\n",
       "<polyline clip-path=\"url(#clip725)\" style=\"stroke:#000000; stroke-width:3.2; stroke-opacity:1; fill:none\" points=\"\n",
       "  2154.75,1478.86 2154.75,1480.68 2232.55,1480.68 2232.55,1478.86 2154.75,1478.86 \n",
       "  \"/>\n",
       "<path clip-path=\"url(#clip720)\" d=\"\n",
       "M2013.99 1451.72 L2280.76 1451.72 L2280.76 1330.76 L2013.99 1330.76  Z\n",
       "  \" fill=\"#ffffff\" fill-rule=\"evenodd\" fill-opacity=\"1\"/>\n",
       "<polyline clip-path=\"url(#clip720)\" style=\"stroke:#000000; stroke-width:3.2; stroke-opacity:1; fill:none\" points=\"\n",
       "  2013.99,1451.72 2280.76,1451.72 2280.76,1330.76 2013.99,1330.76 2013.99,1451.72 \n",
       "  \"/>\n",
       "<path clip-path=\"url(#clip720)\" d=\"\n",
       "M2037.99 1415.44 L2181.99 1415.44 L2181.99 1367.05 L2037.99 1367.05 L2037.99 1415.44  Z\n",
       "  \" fill=\"#009af9\" fill-rule=\"evenodd\" fill-opacity=\"1\"/>\n",
       "<polyline clip-path=\"url(#clip720)\" style=\"stroke:#000000; stroke-width:3.2; stroke-opacity:1; fill:none\" points=\"\n",
       "  2037.99,1415.44 2181.99,1415.44 2181.99,1367.05 2037.99,1367.05 2037.99,1415.44 \n",
       "  \"/>\n",
       "<g clip-path=\"url(#clip720)\">\n",
       "<text style=\"fill:#000000; fill-opacity:1; font-family:Arial,Helvetica Neue,Helvetica,sans-serif; font-size:48px; text-anchor:start;\" transform=\"rotate(0, 2205.99, 1408.74)\" x=\"2205.99\" y=\"1408.74\">d</text>\n",
       "</g>\n",
       "</svg>\n"
      ]
     },
     "execution_count": 17,
     "metadata": {},
     "output_type": "execute_result"
    }
   ],
   "source": [
    "M,N=1000,50\n",
    "x1,x2=randn(N),randn(N)\n",
    "X=hcat(x1,x1.^2,x2,ones(N))\n",
    "y=zeros(M,N)\n",
    "βs=zeros(size(X)[2],M)\n",
    "for m in 1:M\n",
    "    y=dgp(x1,x2)\n",
    "    βs[:,m]=(X'*X)\\(X'*y)\n",
    "end\n",
    "\n",
    "a,b,c,d=βs[1,:],βs[2,:],βs[3,:],βs[4,:];\n",
    "\n",
    "h_a=histogram(a,label=\"a\")\n",
    "h_b=histogram(b,label=\"b\")\n",
    "h_c=histogram(c,label=\"c\")\n",
    "h_d=histogram(d,label=\"d\")\n",
    "\n",
    "plot(h_a,h_b,h_c,h_d,layout=(4,1))"
   ]
  },
  {
   "cell_type": "code",
   "execution_count": 18,
   "metadata": {},
   "outputs": [
    {
     "name": "stdout",
     "output_type": "stream",
     "text": [
      "search: \u001b[0m\u001b[1mh\u001b[22m\u001b[0m\u001b[1mi\u001b[22m\u001b[0m\u001b[1ms\u001b[22m\u001b[0m\u001b[1mt\u001b[22m\u001b[0m\u001b[1mo\u001b[22m\u001b[0m\u001b[1mg\u001b[22m\u001b[0m\u001b[1mr\u001b[22m\u001b[0m\u001b[1ma\u001b[22m\u001b[0m\u001b[1mm\u001b[22m \u001b[0m\u001b[1mh\u001b[22m\u001b[0m\u001b[1mi\u001b[22m\u001b[0m\u001b[1ms\u001b[22m\u001b[0m\u001b[1mt\u001b[22m\u001b[0m\u001b[1mo\u001b[22m\u001b[0m\u001b[1mg\u001b[22m\u001b[0m\u001b[1mr\u001b[22m\u001b[0m\u001b[1ma\u001b[22m\u001b[0m\u001b[1mm\u001b[22m! \u001b[0m\u001b[1mh\u001b[22m\u001b[0m\u001b[1mi\u001b[22m\u001b[0m\u001b[1ms\u001b[22m\u001b[0m\u001b[1mt\u001b[22m\u001b[0m\u001b[1mo\u001b[22m\u001b[0m\u001b[1mg\u001b[22m\u001b[0m\u001b[1mr\u001b[22m\u001b[0m\u001b[1ma\u001b[22m\u001b[0m\u001b[1mm\u001b[22m2d \u001b[0m\u001b[1mh\u001b[22m\u001b[0m\u001b[1mi\u001b[22m\u001b[0m\u001b[1ms\u001b[22m\u001b[0m\u001b[1mt\u001b[22m\u001b[0m\u001b[1mo\u001b[22m\u001b[0m\u001b[1mg\u001b[22m\u001b[0m\u001b[1mr\u001b[22m\u001b[0m\u001b[1ma\u001b[22m\u001b[0m\u001b[1mm\u001b[22m2d!\n",
      "\n"
     ]
    },
    {
     "data": {
      "text/latex": [
       "\\begin{verbatim}\n",
       "histogram(x)\n",
       "histogram!(x)\n",
       "\\end{verbatim}\n",
       "Plot a histogram.\n",
       "\n",
       "\\section{Arguments}\n",
       "\\begin{itemize}\n",
       "\\item \\texttt{x}: AbstractVector of values to be binned\n",
       "\n",
       "\n",
       "\\item \\texttt{bins}: Integer, NTuple\\{2,Integer\\}, AbstractVector or          Symbol. Default is :auto (the Freedman-Diaconis rule). For          histogram-types, defines the approximate number of bins to aim for,          or the auto-binning algorithm to use (:sturges,          :sqrt, :rice, :scott or :fd). For fine-grained control          pass a Vector of break values, e.g. \\texttt{range(minimum(x),          stop = maximum(x), length = 25)}\n",
       "\n",
       "\n",
       "\\item \\texttt{weights}: Vector of weights for the values in \\texttt{x}, for weighted bin counts\n",
       "\n",
       "\n",
       "\\item \\texttt{normalize}: Bool or Symbol. Histogram normalization mode.               Possible values are: false/:none (no normalization,               default), true/:pdf (normalize to a discrete               Probability Density Function, where the total area of the               bins is 1), :probability (bin heights sum to 1)               and :density (the area of each bin, rather than               the height, is equal to the counts - useful for               uneven bin sizes).\n",
       "\n",
       "\n",
       "\\item \\texttt{bar\\_position}: Symbol.  Choose from \\texttt{:overlay} (default),                  \\texttt{:stack}.  (warning: May not be implemented fully)\n",
       "\n",
       "\n",
       "\\item \\texttt{bar\\_width}: nothing or Number. Width of bars in data               coordinates. When nothing, chooses based on x (or y when               \\texttt{orientation = :h}).\n",
       "\n",
       "\n",
       "\\item \\texttt{bar\\_edges}: Bool.  Align bars to edges (true), or centers               (the default)?\n",
       "\n",
       "\n",
       "\\item \\texttt{orientation}: Symbol.  Horizontal or vertical orientation                 for bar types.  Values \\texttt{:h}, \\texttt{:hor},                 \\texttt{:horizontal} correspond to horizontal (sideways,                 anchored to y-axis), and \\texttt{:v}, \\texttt{:vert}, and                 \\texttt{:vertical} correspond to vertical (the default).\n",
       "\n",
       "\\end{itemize}\n",
       "\\section{Example}\n",
       "\\begin{verbatim}\n",
       "julia> histogram([1,2,1,1,4,3,8],bins=0:8)\n",
       "\\end{verbatim}\n"
      ],
      "text/markdown": [
       "```\n",
       "histogram(x)\n",
       "histogram!(x)\n",
       "```\n",
       "\n",
       "Plot a histogram.\n",
       "\n",
       "# Arguments\n",
       "\n",
       "  * `x`: AbstractVector of values to be binned\n",
       "  * `bins`: Integer, NTuple{2,Integer}, AbstractVector or          Symbol. Default is :auto (the Freedman-Diaconis rule). For          histogram-types, defines the approximate number of bins to aim for,          or the auto-binning algorithm to use (:sturges,          :sqrt, :rice, :scott or :fd). For fine-grained control          pass a Vector of break values, e.g. `range(minimum(x),          stop = maximum(x), length = 25)`\n",
       "  * `weights`: Vector of weights for the values in `x`, for weighted bin counts\n",
       "  * `normalize`: Bool or Symbol. Histogram normalization mode.               Possible values are: false/:none (no normalization,               default), true/:pdf (normalize to a discrete               Probability Density Function, where the total area of the               bins is 1), :probability (bin heights sum to 1)               and :density (the area of each bin, rather than               the height, is equal to the counts - useful for               uneven bin sizes).\n",
       "  * `bar_position`: Symbol.  Choose from `:overlay` (default),                  `:stack`.  (warning: May not be implemented fully)\n",
       "  * `bar_width`: nothing or Number. Width of bars in data               coordinates. When nothing, chooses based on x (or y when               `orientation = :h`).\n",
       "  * `bar_edges`: Bool.  Align bars to edges (true), or centers               (the default)?\n",
       "  * `orientation`: Symbol.  Horizontal or vertical orientation                 for bar types.  Values `:h`, `:hor`,                 `:horizontal` correspond to horizontal (sideways,                 anchored to y-axis), and `:v`, `:vert`, and                 `:vertical` correspond to vertical (the default).\n",
       "\n",
       "# Example\n",
       "\n",
       "```julia-repl\n",
       "julia> histogram([1,2,1,1,4,3,8],bins=0:8)\n",
       "```\n"
      ],
      "text/plain": [
       "\u001b[36m  histogram(x)\u001b[39m\n",
       "\u001b[36m  histogram!(x)\u001b[39m\n",
       "\n",
       "  Plot a histogram.\n",
       "\n",
       "\u001b[1m  Arguments\u001b[22m\n",
       "\u001b[1m  ≡≡≡≡≡≡≡≡≡≡≡\u001b[22m\n",
       "\n",
       "    •    \u001b[36mx\u001b[39m: AbstractVector of values to be binned\n",
       "\n",
       "    •    \u001b[36mbins\u001b[39m: Integer, NTuple{2,Integer}, AbstractVector or Symbol.\n",
       "        Default is :auto (the Freedman-Diaconis rule). For\n",
       "        histogram-types, defines the approximate number of bins to aim\n",
       "        for, or the auto-binning algorithm to use (:sturges, :sqrt, :rice,\n",
       "        :scott or :fd). For fine-grained control pass a Vector of break\n",
       "        values, e.g. \u001b[36mrange(minimum(x),          stop = maximum(x), length\n",
       "        = 25)\u001b[39m\n",
       "\n",
       "    •    \u001b[36mweights\u001b[39m: Vector of weights for the values in \u001b[36mx\u001b[39m, for weighted bin\n",
       "        counts\n",
       "\n",
       "    •    \u001b[36mnormalize\u001b[39m: Bool or Symbol. Histogram normalization mode. Possible\n",
       "        values are: false/:none (no normalization, default), true/:pdf\n",
       "        (normalize to a discrete Probability Density Function, where the\n",
       "        total area of the bins is 1), :probability (bin heights sum to 1)\n",
       "        and :density (the area of each bin, rather than the height, is\n",
       "        equal to the counts - useful for uneven bin sizes).\n",
       "\n",
       "    •    \u001b[36mbar_position\u001b[39m: Symbol. Choose from \u001b[36m:overlay\u001b[39m (default), \u001b[36m:stack\u001b[39m.\n",
       "        (warning: May not be implemented fully)\n",
       "\n",
       "    •    \u001b[36mbar_width\u001b[39m: nothing or Number. Width of bars in data coordinates.\n",
       "        When nothing, chooses based on x (or y when \u001b[36morientation = :h\u001b[39m).\n",
       "\n",
       "    •    \u001b[36mbar_edges\u001b[39m: Bool. Align bars to edges (true), or centers (the\n",
       "        default)?\n",
       "\n",
       "    •    \u001b[36morientation\u001b[39m: Symbol. Horizontal or vertical orientation for bar\n",
       "        types. Values \u001b[36m:h\u001b[39m, \u001b[36m:hor\u001b[39m, \u001b[36m:horizontal\u001b[39m correspond to horizontal\n",
       "        (sideways, anchored to y-axis), and \u001b[36m:v\u001b[39m, \u001b[36m:vert\u001b[39m, and \u001b[36m:vertical\u001b[39m\n",
       "        correspond to vertical (the default).\n",
       "\n",
       "\u001b[1m  Example\u001b[22m\n",
       "\u001b[1m  ≡≡≡≡≡≡≡≡≡\u001b[22m\n",
       "\n",
       "\u001b[36m  julia> histogram([1,2,1,1,4,3,8],bins=0:8)\u001b[39m"
      ]
     },
     "execution_count": 18,
     "metadata": {},
     "output_type": "execute_result"
    }
   ],
   "source": [
    "? histogram"
   ]
  },
  {
   "cell_type": "markdown",
   "metadata": {},
   "source": [
    "## Exercise 4"
   ]
  },
  {
   "cell_type": "code",
   "execution_count": 342,
   "metadata": {},
   "outputs": [],
   "source": [
    "using NLsolve"
   ]
  },
  {
   "cell_type": "code",
   "execution_count": 343,
   "metadata": {},
   "outputs": [
    {
     "name": "stdout",
     "output_type": "stream",
     "text": [
      "search: \u001b[0m\u001b[1mf\u001b[22m\u001b[0m\u001b[1mi\u001b[22m\u001b[0m\u001b[1mx\u001b[22m\u001b[0m\u001b[1me\u001b[22m\u001b[0m\u001b[1md\u001b[22m\u001b[0m\u001b[1mp\u001b[22m\u001b[0m\u001b[1mo\u001b[22m\u001b[0m\u001b[1mi\u001b[22m\u001b[0m\u001b[1mn\u001b[22m\u001b[0m\u001b[1mt\u001b[22m compute_\u001b[0m\u001b[1mf\u001b[22m\u001b[0m\u001b[1mi\u001b[22m\u001b[0m\u001b[1mx\u001b[22m\u001b[0m\u001b[1me\u001b[22m\u001b[0m\u001b[1md\u001b[22m_\u001b[0m\u001b[1mp\u001b[22m\u001b[0m\u001b[1mo\u001b[22m\u001b[0m\u001b[1mi\u001b[22m\u001b[0m\u001b[1mn\u001b[22m\u001b[0m\u001b[1mt\u001b[22m\n",
      "\n"
     ]
    },
    {
     "data": {
      "text/latex": [
       "No documentation found.\n",
       "\n",
       "\\texttt{NLsolve.fixedpoint} is a \\texttt{Function}.\n",
       "\n",
       "\\begin{verbatim}\n",
       "# 1 method for generic function \"fixedpoint\":\n",
       "[1] fixedpoint(f, initial_x::AbstractArray{T,N} where N; method, xtol, ftol, iterations, store_trace, show_trace, extended_trace, linesearch, factor, autoscale, m, beta, autodiff, inplace) where T in NLsolve at /Users/taisei/.julia/packages/NLsolve/ltuKE/src/nlsolve/fixedpoint.jl:22\n",
       "\\end{verbatim}\n"
      ],
      "text/markdown": [
       "No documentation found.\n",
       "\n",
       "`NLsolve.fixedpoint` is a `Function`.\n",
       "\n",
       "```\n",
       "# 1 method for generic function \"fixedpoint\":\n",
       "[1] fixedpoint(f, initial_x::AbstractArray{T,N} where N; method, xtol, ftol, iterations, store_trace, show_trace, extended_trace, linesearch, factor, autoscale, m, beta, autodiff, inplace) where T in NLsolve at /Users/taisei/.julia/packages/NLsolve/ltuKE/src/nlsolve/fixedpoint.jl:22\n",
       "```\n"
      ],
      "text/plain": [
       "  No documentation found.\n",
       "\n",
       "  \u001b[36mNLsolve.fixedpoint\u001b[39m is a \u001b[36mFunction\u001b[39m.\n",
       "\n",
       "\u001b[36m  # 1 method for generic function \"fixedpoint\":\u001b[39m\n",
       "\u001b[36m  [1] fixedpoint(f, initial_x::AbstractArray{T,N} where N; method, xtol, ftol, iterations, store_trace, show_trace, extended_trace, linesearch, factor, autoscale, m, beta, autodiff, inplace) where T in NLsolve at /Users/taisei/.julia/packages/NLsolve/ltuKE/src/nlsolve/fixedpoint.jl:22\u001b[39m"
      ]
     },
     "execution_count": 343,
     "metadata": {},
     "output_type": "execute_result"
    }
   ],
   "source": [
    "? fixedpoint"
   ]
  },
  {
   "cell_type": "code",
   "execution_count": 345,
   "metadata": {},
   "outputs": [
    {
     "name": "stdout",
     "output_type": "stream",
     "text": [
      "2 iterations\n"
     ]
    }
   ],
   "source": [
    "# best style\n",
    "using NLsolve\n",
    "\n",
    "\n",
    "A = [0.8 -0.2; -0.1 0.7]\n",
    "Σ = [0.5 0.4; 0.4 0.6]\n",
    "s0=reshape(Σ*Σ',4)\n",
    "f(S) = reshape(A * reshape(s0,2,2)* A' + Σ * Σ',4)\n",
    "sol = fixedpoint(f,s0)\n",
    "println(\"$(sol.iterations) iterations\")"
   ]
  },
  {
   "cell_type": "code",
   "execution_count": null,
   "metadata": {},
   "outputs": [],
   "source": []
  }
 ],
 "metadata": {
  "kernelspec": {
   "display_name": "Julia 1.4.1",
   "language": "julia",
   "name": "julia-1.4"
  },
  "language_info": {
   "file_extension": ".jl",
   "mimetype": "application/julia",
   "name": "julia",
   "version": "1.4.1"
  },
  "toc-autonumbering": true
 },
 "nbformat": 4,
 "nbformat_minor": 4
}
