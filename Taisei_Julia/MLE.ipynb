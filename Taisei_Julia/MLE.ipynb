{
 "cells": [
  {
   "cell_type": "markdown",
   "metadata": {},
   "source": [
    "# MLE"
   ]
  },
  {
   "cell_type": "code",
   "execution_count": 3,
   "metadata": {},
   "outputs": [],
   "source": [
    "using Optim,NLSolversBase,Random\n",
    "using LinearAlgebra: diag\n",
    "Random.seed!(0); # Fix random seed generator for reproducibility"
   ]
  },
  {
   "cell_type": "code",
   "execution_count": 4,
   "metadata": {},
   "outputs": [],
   "source": [
    "n = 500                             # Number of observations\n",
    "nvar = 2\n",
    "\n",
    "\n",
    "# Number of variables\n",
    "β = ones(nvar) * 3.0                # True coefficients\n",
    "x = [ones(n) randn(n, nvar - 1)]    # X matrix of explanatory variables plus constant\n",
    "ε = randn(n) * 0.5                  # Error variance\n",
    "y = x * β + ε;                      # Generate Data"
   ]
  },
  {
   "cell_type": "code",
   "execution_count": 5,
   "metadata": {},
   "outputs": [
    {
     "data": {
      "text/plain": [
       "Log_Likelihood (generic function with 1 method)"
      ]
     },
     "execution_count": 5,
     "metadata": {},
     "output_type": "execute_result"
    }
   ],
   "source": [
    "function Log_Likelihood(X, Y, β, log_σ)\n",
    "    σ = exp(log_σ)\n",
    "    llike = -n/2*log(2π) - n/2* log(σ^2) - (sum((Y - X * β).^2) / (2σ^2))\n",
    "    llike = -llike\n",
    "end"
   ]
  },
  {
   "cell_type": "markdown",
   "metadata": {},
   "source": [
    "`TwiceDifferentiable`"
   ]
  },
  {
   "cell_type": "code",
   "execution_count": 6,
   "metadata": {},
   "outputs": [],
   "source": [
    "func = TwiceDifferentiable(vars -> Log_Likelihood(x, y, vars[1:nvar], vars[nvar + 1]),\n",
    "                           ones(nvar+1); autodiff=:forward);"
   ]
  },
  {
   "cell_type": "markdown",
   "metadata": {},
   "source": [
    "The second input specifies the starting values."
   ]
  },
  {
   "cell_type": "code",
   "execution_count": 8,
   "metadata": {},
   "outputs": [
    {
     "data": {
      "text/plain": [
       " * Status: success\n",
       "\n",
       " * Candidate solution\n",
       "    Minimizer: [3.00e+00, 2.96e+00, -6.49e-01]\n",
       "    Minimum:   3.851229e+02\n",
       "\n",
       " * Found with\n",
       "    Algorithm:     Newton's Method\n",
       "    Initial Point: [1.00e+00, 1.00e+00, 1.00e+00]\n",
       "\n",
       " * Convergence measures\n",
       "    |x - x'|               = 2.62e-08 ≰ 0.0e+00\n",
       "    |x - x'|/|x'|          = 8.72e-09 ≰ 0.0e+00\n",
       "    |f(x) - f(x')|         = 5.12e-13 ≰ 0.0e+00\n",
       "    |f(x) - f(x')|/|f(x')| = 1.33e-15 ≰ 0.0e+00\n",
       "    |g(x)|                 = 3.41e-13 ≤ 1.0e-08\n",
       "\n",
       " * Work counters\n",
       "    Seconds run:   1  (vs limit Inf)\n",
       "    Iterations:    7\n",
       "    f(x) calls:    31\n",
       "    ∇f(x) calls:   31\n",
       "    ∇²f(x) calls:  7\n"
      ]
     },
     "execution_count": 8,
     "metadata": {},
     "output_type": "execute_result"
    }
   ],
   "source": [
    "opt = optimize(func, ones(nvar+1))"
   ]
  },
  {
   "cell_type": "code",
   "execution_count": 9,
   "metadata": {},
   "outputs": [
    {
     "data": {
      "text/plain": [
       "3-element Array{Float64,1}:\n",
       "  3.002788633849947\n",
       "  2.964549617572727\n",
       " -0.648692780562844"
      ]
     },
     "execution_count": 9,
     "metadata": {},
     "output_type": "execute_result"
    }
   ],
   "source": [
    "parameters=Optim.minimizer(opt)"
   ]
  },
  {
   "cell_type": "code",
   "execution_count": 10,
   "metadata": {},
   "outputs": [
    {
     "data": {
      "text/plain": [
       "0.5227286513837306"
      ]
     },
     "execution_count": 10,
     "metadata": {},
     "output_type": "execute_result"
    }
   ],
   "source": [
    "parameters[nvar+1] = exp(parameters[nvar+1])"
   ]
  },
  {
   "cell_type": "code",
   "execution_count": 11,
   "metadata": {},
   "outputs": [
    {
     "data": {
      "text/plain": [
       "3×3 Array{Float64,2}:\n",
       " 175.766        -12.0877        5.67464e-14\n",
       " -12.0877       182.437         5.88344e-15\n",
       "   5.67464e-14    5.88344e-15  96.0542"
      ]
     },
     "execution_count": 11,
     "metadata": {},
     "output_type": "execute_result"
    }
   ],
   "source": [
    "numerical_hessian=hessian!(func,parameters)"
   ]
  },
  {
   "cell_type": "code",
   "execution_count": 12,
   "metadata": {},
   "outputs": [
    {
     "data": {
      "text/plain": [
       "3×3 Array{Float64,2}:\n",
       "  0.00571544    0.000378687  -3.39973e-18\n",
       "  0.000378687   0.00550643   -5.60994e-19\n",
       " -3.39973e-18  -5.60994e-19   0.0104108"
      ]
     },
     "execution_count": 12,
     "metadata": {},
     "output_type": "execute_result"
    }
   ],
   "source": [
    "var_cov_matrix=inv(numerical_hessian)"
   ]
  },
  {
   "cell_type": "code",
   "execution_count": 13,
   "metadata": {},
   "outputs": [
    {
     "data": {
      "text/plain": [
       "2-element Array{Float64,1}:\n",
       " 3.002788633849947\n",
       " 2.964549617572727"
      ]
     },
     "execution_count": 13,
     "metadata": {},
     "output_type": "execute_result"
    }
   ],
   "source": [
    "β=parameters[1:nvar]"
   ]
  },
  {
   "cell_type": "code",
   "execution_count": 15,
   "metadata": {},
   "outputs": [
    {
     "data": {
      "text/plain": [
       "2-element Array{Float64,1}:\n",
       " 0.005715441191953887\n",
       " 0.005506430533329349"
      ]
     },
     "execution_count": 15,
     "metadata": {},
     "output_type": "execute_result"
    }
   ],
   "source": [
    "temp=diag(var_cov_matrix)\n",
    "temp1=temp[1:nvar]"
   ]
  },
  {
   "cell_type": "code",
   "execution_count": 16,
   "metadata": {},
   "outputs": [
    {
     "data": {
      "text/plain": [
       "2-element Array{Float64,1}:\n",
       " 39.719144251161474\n",
       " 39.95063081460274"
      ]
     },
     "execution_count": 16,
     "metadata": {},
     "output_type": "execute_result"
    }
   ],
   "source": [
    "t_stats=β./sqrt.(temp1)"
   ]
  },
  {
   "cell_type": "code",
   "execution_count": null,
   "metadata": {},
   "outputs": [],
   "source": []
  }
 ],
 "metadata": {
  "kernelspec": {
   "display_name": "Julia 1.4.2",
   "language": "julia",
   "name": "julia-1.4"
  },
  "language_info": {
   "file_extension": ".jl",
   "mimetype": "application/julia",
   "name": "julia",
   "version": "1.4.2"
  }
 },
 "nbformat": 4,
 "nbformat_minor": 4
}
