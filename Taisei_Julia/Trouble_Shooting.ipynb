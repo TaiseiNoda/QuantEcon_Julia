{
 "cells": [
  {
   "cell_type": "markdown",
   "metadata": {},
   "source": [
    "**Trouble Shooting**"
   ]
  },
  {
   "cell_type": "markdown",
   "metadata": {},
   "source": [
    "* Seems some packages are added but cannot read"
   ]
  },
  {
   "cell_type": "code",
   "execution_count": 1,
   "metadata": {},
   "outputs": [
    {
     "ename": "UndefVarError",
     "evalue": "UndefVarError: Pkg not defined",
     "output_type": "error",
     "traceback": [
      "UndefVarError: Pkg not defined",
      "",
      "Stacktrace:",
      " [1] top-level scope at In[1]:1"
     ]
    }
   ],
   "source": [
    "using Pkg\n",
    "Pkg.update()\n",
    "Pkg.status()\n",
    "Pkg.rm(\"PackageName\")"
   ]
  },
  {
   "cell_type": "code",
   "execution_count": 3,
   "metadata": {},
   "outputs": [
    {
     "name": "stderr",
     "output_type": "stream",
     "text": [
      "\u001b[32m\u001b[1m   Updating\u001b[22m\u001b[39m registry at `~/.julia/registries/General`\n"
     ]
    },
    {
     "name": "stdout",
     "output_type": "stream",
     "text": [
      "\u001b[?25l\u001b[2K"
     ]
    },
    {
     "name": "stderr",
     "output_type": "stream",
     "text": [
      "\u001b[32m\u001b[1m   Updating\u001b[22m\u001b[39m git-repo `https://github.com/JuliaRegistries/General.git`\n"
     ]
    },
    {
     "name": "stdout",
     "output_type": "stream",
     "text": [
      "\u001b[?25h"
     ]
    },
    {
     "name": "stderr",
     "output_type": "stream",
     "text": [
      "\u001b[32m\u001b[1m  Installed\u001b[22m\u001b[39m CEnum ─────── v0.3.0\n",
      "\u001b[32m\u001b[1m  Installed\u001b[22m\u001b[39m CUDAapi ───── v4.0.0\n",
      "\u001b[32m\u001b[1m  Installed\u001b[22m\u001b[39m GPUCompiler ─ v0.2.0\n",
      "\u001b[32m\u001b[1m  Installed\u001b[22m\u001b[39m GPUArrays ─── v3.4.0\n",
      "\u001b[32m\u001b[1m  Installed\u001b[22m\u001b[39m CUDAdrv ───── v6.3.0\n",
      "\u001b[32m\u001b[1m  Installed\u001b[22m\u001b[39m Flux ──────── v0.8.3\n",
      "\u001b[32m\u001b[1m  Installed\u001b[22m\u001b[39m CUDAnative ── v3.1.0\n",
      "\u001b[32m\u001b[1m  Installed\u001b[22m\u001b[39m CuArrays ──── v2.2.0\n",
      "\u001b[32m\u001b[1m  Installed\u001b[22m\u001b[39m Cthulhu ───── v1.1.1\n",
      "\u001b[32m\u001b[1m   Updating\u001b[22m\u001b[39m `~/Project.toml`\n",
      " \u001b[90m [3a865a2d]\u001b[39m\u001b[93m ↑ CuArrays v1.2.1 ⇒ v2.2.0\u001b[39m\n",
      " \u001b[90m [587475ba]\u001b[39m\u001b[95m ↓ Flux v0.9.0 ⇒ v0.8.3\u001b[39m\n",
      "\u001b[32m\u001b[1m   Updating\u001b[22m\u001b[39m `~/Manifest.toml`\n",
      " \u001b[90m [fa961155]\u001b[39m\u001b[95m ↓ CEnum v0.4.1 ⇒ v0.3.0\u001b[39m\n",
      " \u001b[90m [3895d2a7]\u001b[39m\u001b[93m ↑ CUDAapi v1.2.0 ⇒ v4.0.0\u001b[39m\n",
      " \u001b[90m [c5f51814]\u001b[39m\u001b[93m ↑ CUDAdrv v3.1.0 ⇒ v6.3.0\u001b[39m\n",
      " \u001b[90m [be33ccc6]\u001b[39m\u001b[93m ↑ CUDAnative v2.4.0 ⇒ v3.1.0\u001b[39m\n",
      " \u001b[90m [f68482b8]\u001b[39m\u001b[92m + Cthulhu v1.1.1\u001b[39m\n",
      " \u001b[90m [3a865a2d]\u001b[39m\u001b[93m ↑ CuArrays v1.2.1 ⇒ v2.2.0\u001b[39m\n",
      " \u001b[90m [587475ba]\u001b[39m\u001b[95m ↓ Flux v0.9.0 ⇒ v0.8.3\u001b[39m\n",
      " \u001b[90m [0c68f7d7]\u001b[39m\u001b[93m ↑ GPUArrays v1.0.4 ⇒ v3.4.0\u001b[39m\n",
      " \u001b[90m [61eb1bfa]\u001b[39m\u001b[92m + GPUCompiler v0.2.0\u001b[39m\n"
     ]
    }
   ],
   "source": [
    "using Pkg\n",
    "Pkg.update()"
   ]
  },
  {
   "cell_type": "code",
   "execution_count": 1,
   "metadata": {},
   "outputs": [],
   "source": [
    "# type on julia\n",
    "#]add FixedEffects#master\n",
    "#]add FixedEffectModels#master"
   ]
  },
  {
   "cell_type": "markdown",
   "metadata": {},
   "source": [
    "* common my mistakes\n",
    "    * `i+=1` does not need for `for` loop.\n",
    "    * `someobject+=output` is not applicable for `for` loop."
   ]
  },
  {
   "cell_type": "markdown",
   "metadata": {},
   "source": [
    "* Reopen julia and jupyter lab after adding packages."
   ]
  },
  {
   "cell_type": "markdown",
   "metadata": {},
   "source": [
    "* Rebuild"
   ]
  },
  {
   "cell_type": "code",
   "execution_count": 1,
   "metadata": {},
   "outputs": [],
   "source": [
    "#using Pkg\n",
    "#ENV[\"GRDIR\"]=\"\"\n",
    "#Pkg.build(\"GR\")"
   ]
  },
  {
   "cell_type": "code",
   "execution_count": null,
   "metadata": {},
   "outputs": [],
   "source": []
  }
 ],
 "metadata": {
  "kernelspec": {
   "display_name": "Julia 1.4.1",
   "language": "julia",
   "name": "julia-1.4"
  },
  "language_info": {
   "file_extension": ".jl",
   "mimetype": "application/julia",
   "name": "julia",
   "version": "1.4.2"
  }
 },
 "nbformat": 4,
 "nbformat_minor": 4
}
