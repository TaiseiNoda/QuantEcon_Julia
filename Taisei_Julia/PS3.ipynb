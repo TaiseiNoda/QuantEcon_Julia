{
 "cells": [
  {
   "cell_type": "markdown",
   "metadata": {},
   "source": [
    "# Problem Set 3"
   ]
  },
  {
   "cell_type": "markdown",
   "metadata": {},
   "source": [
    "* Intro to Generic Programming (2nd half)"
   ]
  },
  {
   "cell_type": "code",
   "execution_count": 1,
   "metadata": {},
   "outputs": [
    {
     "name": "stdout",
     "output_type": "stream",
     "text": [
      "\u001b[32m\u001b[1mActivated\u001b[0m /Users/taisei/Project.toml\u001b[39m\n",
      "\u001b[36m\u001b[1mInfo\u001b[0m Project name is quantecon-notebooks-julia, version is 0.8.0\u001b[39m\n"
     ]
    }
   ],
   "source": [
    "using InstantiateFromURL\n",
    "# optionally add arguments to force installation: instantiate = true, precompile = true\n",
    "github_project(\"QuantEcon/quantecon-notebooks-julia\", version = \"0.8.0\")"
   ]
  },
  {
   "cell_type": "code",
   "execution_count": 2,
   "metadata": {},
   "outputs": [
    {
     "name": "stderr",
     "output_type": "stream",
     "text": [
      "┌ Info: Precompiling Plots [91a5bcdd-55d7-5caf-9e0b-520d859cae80]\n",
      "└ @ Base loading.jl:1260\n",
      "┌ Warning: Module JSON with build ID 33541892065587 is missing from the cache.\n",
      "│ This may mean JSON [682c06a0-de6a-54ab-a142-c8b1cf79cde6] does not support precompilation but is imported by a module that does.\n",
      "└ @ Base loading.jl:1016\n",
      "┌ Info: Skipping precompilation since __precompile__(false). Importing Plots [91a5bcdd-55d7-5caf-9e0b-520d859cae80].\n",
      "└ @ Base loading.jl:1033\n",
      "┌ Info: Precompiling GR [28b8d3ca-fb5f-59d9-8090-bfdbd6d07a71]\n",
      "└ @ Base loading.jl:1260\n",
      "┌ Warning: Module JSON with build ID 33541892065587 is missing from the cache.\n",
      "│ This may mean JSON [682c06a0-de6a-54ab-a142-c8b1cf79cde6] does not support precompilation but is imported by a module that does.\n",
      "└ @ Base loading.jl:1016\n",
      "┌ Info: Skipping precompilation since __precompile__(false). Importing GR [28b8d3ca-fb5f-59d9-8090-bfdbd6d07a71].\n",
      "└ @ Base loading.jl:1033\n",
      "┌ Info: Precompiling BenchmarkTools [6e4b80f9-dd63-53aa-95a3-0cdb28fa8baf]\n",
      "└ @ Base loading.jl:1260\n",
      "┌ Warning: Module JSON with build ID 33541892065587 is missing from the cache.\n",
      "│ This may mean JSON [682c06a0-de6a-54ab-a142-c8b1cf79cde6] does not support precompilation but is imported by a module that does.\n",
      "└ @ Base loading.jl:1016\n",
      "┌ Info: Skipping precompilation since __precompile__(false). Importing BenchmarkTools [6e4b80f9-dd63-53aa-95a3-0cdb28fa8baf].\n",
      "└ @ Base loading.jl:1033\n"
     ]
    }
   ],
   "source": [
    "using LinearAlgebra, Statistics,Plots,StaticArrays,BenchmarkTools,Polynomials,ForwardDiff,QuadGK"
   ]
  },
  {
   "cell_type": "markdown",
   "metadata": {},
   "source": [
    "## Intro to Generic Programming"
   ]
  },
  {
   "cell_type": "markdown",
   "metadata": {},
   "source": [
    "### Exercise 4"
   ]
  },
  {
   "cell_type": "code",
   "execution_count": 3,
   "metadata": {},
   "outputs": [
    {
     "data": {
      "text/plain": [
       "newtonsmethod (generic function with 1 method)"
      ]
     },
     "execution_count": 3,
     "metadata": {},
     "output_type": "execute_result"
    }
   ],
   "source": [
    "function newtonsmethod(p::Poly; x_0=0, tolerance=1E-7, maxiter=1000)\n",
    "    # setup the algorithm\n",
    "    x_old = x_0\n",
    "    normdiff = Inf\n",
    "    iter = 1\n",
    "    p_prime=x->ForwardDiff.derivative(p,x)\n",
    "    while normdiff > tolerance && iter <= maxiter\n",
    "        x_new = x_old-p(x_old)/p_prime(x_old) # use the passed in map\n",
    "        normdiff = norm(x_new - x_old)\n",
    "        x_old = x_new\n",
    "        iter+= 1\n",
    "    end\n",
    "    return (value = x_old, normdiff=normdiff, iter=iter) # A named tuple\n",
    "end"
   ]
  },
  {
   "cell_type": "code",
   "execution_count": 4,
   "metadata": {},
   "outputs": [
    {
     "name": "stdout",
     "output_type": "stream",
     "text": [
      "  0.192215 seconds (483.68 k allocations: 25.340 MiB)\n",
      "Fixed point = 0.5, and |f(x) - x| = 3.4924596548080444e-10 in 6 iterations\n"
     ]
    }
   ],
   "source": [
    "p = Poly([2, -5, 2], :x)  # :x just gives a symbol for display\n",
    "@time sol=newtonsmethod(p)\n",
    "println(\"Fixed point = $(sol.value), and |f(x) - x| = $(sol.normdiff) in $(sol.iter)\"*\n",
    "        \" iterations\")"
   ]
  },
  {
   "cell_type": "code",
   "execution_count": 5,
   "metadata": {},
   "outputs": [
    {
     "name": "stdout",
     "output_type": "stream",
     "text": [
      "roots(p) = [0.5, 2.0]\n"
     ]
    }
   ],
   "source": [
    "# built-in roots(p)\n",
    "@show roots(p);"
   ]
  },
  {
   "cell_type": "markdown",
   "metadata": {},
   "source": [
    "### Exercise 5"
   ]
  },
  {
   "cell_type": "code",
   "execution_count": 6,
   "metadata": {},
   "outputs": [
    {
     "data": {
      "text/plain": [
       "trapezoidal_1 (generic function with 1 method)"
      ]
     },
     "execution_count": 6,
     "metadata": {},
     "output_type": "execute_result"
    }
   ],
   "source": [
    "function trapezoidal_1(x::AbstractArray,f::AbstractArray)\n",
    "    @assert length(f)==length(x)\n",
    "    N=length(x)\n",
    "    s=0.0\n",
    "    \n",
    "    for n in 1:N-1\n",
    "        s=s+(((f[n]+f[n+1])/2)*(x[n+1]-x[n]))\n",
    "    end\n",
    "return s\n",
    "end\n",
    "    "
   ]
  },
  {
   "cell_type": "code",
   "execution_count": 7,
   "metadata": {},
   "outputs": [],
   "source": [
    "x=zeros(101)\n",
    "for i in eachindex(x)\n",
    "    x[i]=0+0.01*(i-1)\n",
    "end\n",
    "f=x.^2;"
   ]
  },
  {
   "cell_type": "code",
   "execution_count": 8,
   "metadata": {},
   "outputs": [
    {
     "name": "stdout",
     "output_type": "stream",
     "text": [
      "  0.012018 seconds (29.62 k allocations: 1.587 MiB)\n"
     ]
    },
    {
     "data": {
      "text/plain": [
       "0.33335000000000004"
      ]
     },
     "execution_count": 8,
     "metadata": {},
     "output_type": "execute_result"
    }
   ],
   "source": [
    "@time trapezoidal_1(x,f)"
   ]
  },
  {
   "cell_type": "code",
   "execution_count": 9,
   "metadata": {},
   "outputs": [
    {
     "data": {
      "text/plain": [
       "trapezoidal_2 (generic function with 1 method)"
      ]
     },
     "execution_count": 9,
     "metadata": {},
     "output_type": "execute_result"
    }
   ],
   "source": [
    "function trapezoidal_2(x::AbstractRange,f::AbstractArray)\n",
    "    @assert length(f)==length(x)\n",
    "    N=length(x)\n",
    "    s=0.0\n",
    "    for n in 1:N-1\n",
    "        s=s+(((f[n]+f[n+1])/2)*step(x))\n",
    "    end\n",
    "return s\n",
    "end"
   ]
  },
  {
   "cell_type": "code",
   "execution_count": 10,
   "metadata": {},
   "outputs": [],
   "source": [
    "x_range=0.0:0.01:1.0\n",
    "f=x.^2;"
   ]
  },
  {
   "cell_type": "code",
   "execution_count": 11,
   "metadata": {},
   "outputs": [
    {
     "name": "stdout",
     "output_type": "stream",
     "text": [
      "  0.012952 seconds (33.19 k allocations: 1.791 MiB)\n"
     ]
    },
    {
     "data": {
      "text/plain": [
       "0.33335"
      ]
     },
     "execution_count": 11,
     "metadata": {},
     "output_type": "execute_result"
    }
   ],
   "source": [
    "@time trapezoidal_2(x_range,f)"
   ]
  },
  {
   "cell_type": "code",
   "execution_count": 12,
   "metadata": {},
   "outputs": [
    {
     "data": {
      "text/plain": [
       "trapezoidal_3 (generic function with 1 method)"
      ]
     },
     "execution_count": 12,
     "metadata": {},
     "output_type": "execute_result"
    }
   ],
   "source": [
    "function trapezoidal_3(f::Function,x_lb::Real,x_ub::Real,N::Real)\n",
    "    x_step=(x_ub-x_lb)/(N-1)\n",
    "    x_range=x_lb:x_step:x_ub\n",
    "    map_vec=f.(x_range)\n",
    "    s=0.0\n",
    "    for n in 1:N-1\n",
    "        s=s+(((map_vec[n]+map_vec[n+1])/2)*x_step)\n",
    "    end\n",
    "return s\n",
    "end"
   ]
  },
  {
   "cell_type": "code",
   "execution_count": 54,
   "metadata": {},
   "outputs": [
    {
     "name": "stdout",
     "output_type": "stream",
     "text": [
      "  0.009654 seconds (1.48 k allocations: 52.625 KiB)\n"
     ]
    },
    {
     "data": {
      "text/plain": [
       "0.3333499999999999"
      ]
     },
     "execution_count": 54,
     "metadata": {},
     "output_type": "execute_result"
    }
   ],
   "source": [
    "sq(x)=x^2\n",
    "@time trapezoidal_3(sq,0.0,1.0,101)"
   ]
  },
  {
   "cell_type": "code",
   "execution_count": 14,
   "metadata": {},
   "outputs": [
    {
     "data": {
      "text/plain": [
       "(0.3333333333333333, 5.551115123125783e-17)"
      ]
     },
     "execution_count": 14,
     "metadata": {},
     "output_type": "execute_result"
    }
   ],
   "source": [
    "value, accuracy = quadgk(sq, 0.0, 1.0)"
   ]
  },
  {
   "cell_type": "code",
   "execution_count": 62,
   "metadata": {},
   "outputs": [
    {
     "data": {
      "text/plain": [
       "ploterror (generic function with 1 method)"
      ]
     },
     "execution_count": 62,
     "metadata": {},
     "output_type": "execute_result"
    }
   ],
   "source": [
    "function ploterror(f::Function,x_lb::Real,x_ub::Real,N::Real;int=trapezoidal_3)\n",
    "    error=zeros(N-1)\n",
    "    sol, accuracy = quadgk(f, x_lb, x_ub)\n",
    "    for m in 2:N\n",
    "        error[m-1]=norm(value-trapezoidal_3(sq,x_lb,x_ub,m))\n",
    "    end\n",
    "    return plot(error,label=\"Approximation error\")\n",
    "end"
   ]
  },
  {
   "cell_type": "markdown",
   "metadata": {},
   "source": [
    "* Unsolved puzzle : Set x in 0.0 and 0.1 and when N=12, the function gets error."
   ]
  },
  {
   "cell_type": "code",
   "execution_count": 30,
   "metadata": {},
   "outputs": [
    {
     "ename": "BoundsError",
     "evalue": "BoundsError: attempt to access 11-element Array{Float64,1} at index [12]",
     "output_type": "error",
     "traceback": [
      "BoundsError: attempt to access 11-element Array{Float64,1} at index [12]",
      "",
      "Stacktrace:",
      " [1] getindex(::Array{Float64,1}, ::Int64) at ./array.jl:788",
      " [2] trapezoidal_3(::Function, ::Float64, ::Float64, ::Int64) at ./In[12]:7",
      " [3] top-level scope at ./In[30]:3"
     ]
    }
   ],
   "source": [
    "#==error=zeros(101-1);\n",
    "for m in 1:101-1\n",
    "error[m]=norm(value-trapezoidal_3(sq,0.0,0.1,m+1))\n",
    "    end\n",
    "    error\n",
    "==#"
   ]
  },
  {
   "cell_type": "code",
   "execution_count": 63,
   "metadata": {},
   "outputs": [
    {
     "data": {
      "image/svg+xml": [
       "<?xml version=\"1.0\" encoding=\"utf-8\"?>\n",
       "<svg xmlns=\"http://www.w3.org/2000/svg\" xmlns:xlink=\"http://www.w3.org/1999/xlink\" width=\"600\" height=\"400\" viewBox=\"0 0 2400 1600\">\n",
       "<defs>\n",
       "  <clipPath id=\"clip430\">\n",
       "    <rect x=\"0\" y=\"0\" width=\"2400\" height=\"1600\"/>\n",
       "  </clipPath>\n",
       "</defs>\n",
       "<path clip-path=\"url(#clip430)\" d=\"\n",
       "M0 1600 L2400 1600 L2400 0 L0 0  Z\n",
       "  \" fill=\"#ffffff\" fill-rule=\"evenodd\" fill-opacity=\"1\"/>\n",
       "<defs>\n",
       "  <clipPath id=\"clip431\">\n",
       "    <rect x=\"480\" y=\"0\" width=\"1681\" height=\"1600\"/>\n",
       "  </clipPath>\n",
       "</defs>\n",
       "<path clip-path=\"url(#clip430)\" d=\"\n",
       "M180.66 1487.47 L2352.76 1487.47 L2352.76 47.2441 L180.66 47.2441  Z\n",
       "  \" fill=\"#ffffff\" fill-rule=\"evenodd\" fill-opacity=\"1\"/>\n",
       "<defs>\n",
       "  <clipPath id=\"clip432\">\n",
       "    <rect x=\"180\" y=\"47\" width=\"2173\" height=\"1441\"/>\n",
       "  </clipPath>\n",
       "</defs>\n",
       "<polyline clip-path=\"url(#clip432)\" style=\"stroke:#000000; stroke-width:1.6; stroke-opacity:0.1; fill:none\" points=\"\n",
       "  221.436,1487.47 221.436,47.2441 \n",
       "  \"/>\n",
       "<polyline clip-path=\"url(#clip432)\" style=\"stroke:#000000; stroke-width:1.6; stroke-opacity:0.1; fill:none\" points=\"\n",
       "  738.898,1487.47 738.898,47.2441 \n",
       "  \"/>\n",
       "<polyline clip-path=\"url(#clip432)\" style=\"stroke:#000000; stroke-width:1.6; stroke-opacity:0.1; fill:none\" points=\"\n",
       "  1256.36,1487.47 1256.36,47.2441 \n",
       "  \"/>\n",
       "<polyline clip-path=\"url(#clip432)\" style=\"stroke:#000000; stroke-width:1.6; stroke-opacity:0.1; fill:none\" points=\"\n",
       "  1773.82,1487.47 1773.82,47.2441 \n",
       "  \"/>\n",
       "<polyline clip-path=\"url(#clip432)\" style=\"stroke:#000000; stroke-width:1.6; stroke-opacity:0.1; fill:none\" points=\"\n",
       "  2291.28,1487.47 2291.28,47.2441 \n",
       "  \"/>\n",
       "<polyline clip-path=\"url(#clip432)\" style=\"stroke:#000000; stroke-width:1.6; stroke-opacity:0.1; fill:none\" points=\"\n",
       "  180.66,1446.85 2352.76,1446.85 \n",
       "  \"/>\n",
       "<polyline clip-path=\"url(#clip432)\" style=\"stroke:#000000; stroke-width:1.6; stroke-opacity:0.1; fill:none\" points=\"\n",
       "  180.66,1039.2 2352.76,1039.2 \n",
       "  \"/>\n",
       "<polyline clip-path=\"url(#clip432)\" style=\"stroke:#000000; stroke-width:1.6; stroke-opacity:0.1; fill:none\" points=\"\n",
       "  180.66,631.543 2352.76,631.543 \n",
       "  \"/>\n",
       "<polyline clip-path=\"url(#clip432)\" style=\"stroke:#000000; stroke-width:1.6; stroke-opacity:0.1; fill:none\" points=\"\n",
       "  180.66,223.89 2352.76,223.89 \n",
       "  \"/>\n",
       "<polyline clip-path=\"url(#clip430)\" style=\"stroke:#000000; stroke-width:3.2; stroke-opacity:1; fill:none\" points=\"\n",
       "  180.66,1487.47 2352.76,1487.47 \n",
       "  \"/>\n",
       "<polyline clip-path=\"url(#clip430)\" style=\"stroke:#000000; stroke-width:3.2; stroke-opacity:1; fill:none\" points=\"\n",
       "  180.66,1487.47 180.66,47.2441 \n",
       "  \"/>\n",
       "<polyline clip-path=\"url(#clip430)\" style=\"stroke:#000000; stroke-width:3.2; stroke-opacity:1; fill:none\" points=\"\n",
       "  221.436,1487.47 221.436,1465.87 \n",
       "  \"/>\n",
       "<polyline clip-path=\"url(#clip430)\" style=\"stroke:#000000; stroke-width:3.2; stroke-opacity:1; fill:none\" points=\"\n",
       "  738.898,1487.47 738.898,1465.87 \n",
       "  \"/>\n",
       "<polyline clip-path=\"url(#clip430)\" style=\"stroke:#000000; stroke-width:3.2; stroke-opacity:1; fill:none\" points=\"\n",
       "  1256.36,1487.47 1256.36,1465.87 \n",
       "  \"/>\n",
       "<polyline clip-path=\"url(#clip430)\" style=\"stroke:#000000; stroke-width:3.2; stroke-opacity:1; fill:none\" points=\"\n",
       "  1773.82,1487.47 1773.82,1465.87 \n",
       "  \"/>\n",
       "<polyline clip-path=\"url(#clip430)\" style=\"stroke:#000000; stroke-width:3.2; stroke-opacity:1; fill:none\" points=\"\n",
       "  2291.28,1487.47 2291.28,1465.87 \n",
       "  \"/>\n",
       "<polyline clip-path=\"url(#clip430)\" style=\"stroke:#000000; stroke-width:3.2; stroke-opacity:1; fill:none\" points=\"\n",
       "  180.66,1446.85 213.242,1446.85 \n",
       "  \"/>\n",
       "<polyline clip-path=\"url(#clip430)\" style=\"stroke:#000000; stroke-width:3.2; stroke-opacity:1; fill:none\" points=\"\n",
       "  180.66,1039.2 213.242,1039.2 \n",
       "  \"/>\n",
       "<polyline clip-path=\"url(#clip430)\" style=\"stroke:#000000; stroke-width:3.2; stroke-opacity:1; fill:none\" points=\"\n",
       "  180.66,631.543 213.242,631.543 \n",
       "  \"/>\n",
       "<polyline clip-path=\"url(#clip430)\" style=\"stroke:#000000; stroke-width:3.2; stroke-opacity:1; fill:none\" points=\"\n",
       "  180.66,223.89 213.242,223.89 \n",
       "  \"/>\n",
       "<g clip-path=\"url(#clip430)\">\n",
       "<text style=\"fill:#000000; fill-opacity:1; font-family:Arial,Helvetica Neue,Helvetica,sans-serif; font-size:48px; text-anchor:middle;\" transform=\"rotate(0, 221.436, 1541.47)\" x=\"221.436\" y=\"1541.47\">0</text>\n",
       "</g>\n",
       "<g clip-path=\"url(#clip430)\">\n",
       "<text style=\"fill:#000000; fill-opacity:1; font-family:Arial,Helvetica Neue,Helvetica,sans-serif; font-size:48px; text-anchor:middle;\" transform=\"rotate(0, 738.898, 1541.47)\" x=\"738.898\" y=\"1541.47\">25</text>\n",
       "</g>\n",
       "<g clip-path=\"url(#clip430)\">\n",
       "<text style=\"fill:#000000; fill-opacity:1; font-family:Arial,Helvetica Neue,Helvetica,sans-serif; font-size:48px; text-anchor:middle;\" transform=\"rotate(0, 1256.36, 1541.47)\" x=\"1256.36\" y=\"1541.47\">50</text>\n",
       "</g>\n",
       "<g clip-path=\"url(#clip430)\">\n",
       "<text style=\"fill:#000000; fill-opacity:1; font-family:Arial,Helvetica Neue,Helvetica,sans-serif; font-size:48px; text-anchor:middle;\" transform=\"rotate(0, 1773.82, 1541.47)\" x=\"1773.82\" y=\"1541.47\">75</text>\n",
       "</g>\n",
       "<g clip-path=\"url(#clip430)\">\n",
       "<text style=\"fill:#000000; fill-opacity:1; font-family:Arial,Helvetica Neue,Helvetica,sans-serif; font-size:48px; text-anchor:middle;\" transform=\"rotate(0, 2291.28, 1541.47)\" x=\"2291.28\" y=\"1541.47\">100</text>\n",
       "</g>\n",
       "<g clip-path=\"url(#clip430)\">\n",
       "<text style=\"fill:#000000; fill-opacity:1; font-family:Arial,Helvetica Neue,Helvetica,sans-serif; font-size:48px; text-anchor:end;\" transform=\"rotate(0, 156.66, 1464.35)\" x=\"156.66\" y=\"1464.35\">0.00</text>\n",
       "</g>\n",
       "<g clip-path=\"url(#clip430)\">\n",
       "<text style=\"fill:#000000; fill-opacity:1; font-family:Arial,Helvetica Neue,Helvetica,sans-serif; font-size:48px; text-anchor:end;\" transform=\"rotate(0, 156.66, 1056.7)\" x=\"156.66\" y=\"1056.7\">0.05</text>\n",
       "</g>\n",
       "<g clip-path=\"url(#clip430)\">\n",
       "<text style=\"fill:#000000; fill-opacity:1; font-family:Arial,Helvetica Neue,Helvetica,sans-serif; font-size:48px; text-anchor:end;\" transform=\"rotate(0, 156.66, 649.043)\" x=\"156.66\" y=\"649.043\">0.10</text>\n",
       "</g>\n",
       "<g clip-path=\"url(#clip430)\">\n",
       "<text style=\"fill:#000000; fill-opacity:1; font-family:Arial,Helvetica Neue,Helvetica,sans-serif; font-size:48px; text-anchor:end;\" transform=\"rotate(0, 156.66, 241.39)\" x=\"156.66\" y=\"241.39\">0.15</text>\n",
       "</g>\n",
       "<polyline clip-path=\"url(#clip432)\" style=\"stroke:#009af9; stroke-width:3.2; stroke-opacity:1; fill:none\" points=\"\n",
       "  242.135,88.0053 262.833,1107.14 283.532,1295.87 304.23,1361.92 324.929,1392.5 345.627,1409.1 366.325,1419.12 387.024,1425.62 407.722,1430.07 428.421,1433.26 \n",
       "  449.119,1435.62 469.818,1437.41 490.516,1438.81 511.215,1439.92 531.913,1440.81 552.612,1441.54 573.31,1442.15 594.008,1442.66 614.707,1443.09 635.405,1443.45 \n",
       "  656.104,1443.77 676.802,1444.04 697.501,1444.28 718.199,1444.49 738.898,1444.68 759.596,1444.84 780.294,1444.99 800.993,1445.12 821.691,1445.23 842.39,1445.34 \n",
       "  863.088,1445.44 883.787,1445.52 904.485,1445.6 925.184,1445.67 945.882,1445.74 966.581,1445.8 987.279,1445.86 1007.98,1445.91 1028.68,1445.96 1049.37,1446 \n",
       "  1070.07,1446.04 1090.77,1446.08 1111.47,1446.11 1132.17,1446.15 1152.87,1446.18 1173.57,1446.21 1194.26,1446.23 1214.96,1446.26 1235.66,1446.28 1256.36,1446.31 \n",
       "  1277.06,1446.33 1297.76,1446.35 1318.45,1446.37 1339.15,1446.38 1359.85,1446.4 1380.55,1446.42 1401.25,1446.43 1421.95,1446.45 1442.64,1446.46 1463.34,1446.47 \n",
       "  1484.04,1446.48 1504.74,1446.5 1525.44,1446.51 1546.14,1446.52 1566.84,1446.53 1587.53,1446.54 1608.23,1446.55 1628.93,1446.56 1649.63,1446.56 1670.33,1446.57 \n",
       "  1691.03,1446.58 1711.72,1446.59 1732.42,1446.59 1753.12,1446.6 1773.82,1446.61 1794.52,1446.61 1815.22,1446.62 1835.92,1446.63 1856.61,1446.63 1877.31,1446.64 \n",
       "  1898.01,1446.64 1918.71,1446.65 1939.41,1446.65 1960.11,1446.66 1980.8,1446.66 2001.5,1446.67 2022.2,1446.67 2042.9,1446.67 2063.6,1446.68 2084.3,1446.68 \n",
       "  2105,1446.69 2125.69,1446.69 2146.39,1446.69 2167.09,1446.7 2187.79,1446.7 2208.49,1446.7 2229.19,1446.7 2249.88,1446.71 2270.58,1446.71 2291.28,1446.71 \n",
       "  \n",
       "  \"/>\n",
       "<path clip-path=\"url(#clip430)\" d=\"\n",
       "M1618.14 251.724 L2280.76 251.724 L2280.76 130.764 L1618.14 130.764  Z\n",
       "  \" fill=\"#ffffff\" fill-rule=\"evenodd\" fill-opacity=\"1\"/>\n",
       "<polyline clip-path=\"url(#clip430)\" style=\"stroke:#000000; stroke-width:3.2; stroke-opacity:1; fill:none\" points=\"\n",
       "  1618.14,251.724 2280.76,251.724 2280.76,130.764 1618.14,130.764 1618.14,251.724 \n",
       "  \"/>\n",
       "<polyline clip-path=\"url(#clip430)\" style=\"stroke:#009af9; stroke-width:3.2; stroke-opacity:1; fill:none\" points=\"\n",
       "  1642.14,191.244 1786.14,191.244 \n",
       "  \"/>\n",
       "<g clip-path=\"url(#clip430)\">\n",
       "<text style=\"fill:#000000; fill-opacity:1; font-family:Arial,Helvetica Neue,Helvetica,sans-serif; font-size:48px; text-anchor:start;\" transform=\"rotate(0, 1810.14, 208.744)\" x=\"1810.14\" y=\"208.744\">Approximation error</text>\n",
       "</g>\n",
       "</svg>\n"
      ]
     },
     "execution_count": 63,
     "metadata": {},
     "output_type": "execute_result"
    }
   ],
   "source": [
    "ploterror(sq,0.0,1.0,101)"
   ]
  },
  {
   "cell_type": "markdown",
   "metadata": {},
   "source": [
    "### Exercise 6 INCOMETE"
   ]
  },
  {
   "cell_type": "code",
   "execution_count": 86,
   "metadata": {},
   "outputs": [
    {
     "data": {
      "text/plain": [
       "#55 (generic function with 1 method)"
      ]
     },
     "execution_count": 86,
     "metadata": {},
     "output_type": "execute_result"
    }
   ],
   "source": [
    "ex_6_obj(x)=trapezoidal_3(sq,0.0,x,50)    \n",
    "\n",
    "G(x) = x->ForwardDiff.derivative(y->ex_6_obj(y),x)\n",
    "\n",
    "G(1.0)"
   ]
  },
  {
   "cell_type": "code",
   "execution_count": 69,
   "metadata": {},
   "outputs": [
    {
     "data": {
      "text/plain": [
       "trapezoidal_3 (generic function with 1 method)"
      ]
     },
     "execution_count": 69,
     "metadata": {},
     "output_type": "execute_result"
    }
   ],
   "source": [
    "function trapezoidal_3(f::Function,x_lb::Real,x_ub::Real,N::Real)\n",
    "    x_step=(x_ub-x_lb)/(N-1)\n",
    "    x_range=x_lb:x_step:x_ub\n",
    "    map_vec=f.(x_range)\n",
    "    s=0.0\n",
    "    for n in 1:N-1\n",
    "        s=s+(((map_vec[n]+map_vec[n+1])/2)*x_step)\n",
    "    end\n",
    "return s\n",
    "end"
   ]
  },
  {
   "cell_type": "code",
   "execution_count": null,
   "metadata": {},
   "outputs": [],
   "source": [
    "sq(x)=x^2"
   ]
  },
  {
   "cell_type": "code",
   "execution_count": 70,
   "metadata": {},
   "outputs": [
    {
     "data": {
      "text/latex": [
       "\\begin{verbatim}\n",
       "ForwardDiff.derivative(f, x::Real)\n",
       "\\end{verbatim}\n",
       "Return \\texttt{df/dx} evaluated at \\texttt{x}, assuming \\texttt{f} is called as \\texttt{f(x)}.\n",
       "\n",
       "This method assumes that \\texttt{isa(f(x), Union\\{Real,AbstractArray\\})}.\n",
       "\n",
       "\\rule{\\textwidth}{1pt}\n",
       "\\begin{verbatim}\n",
       "ForwardDiff.derivative(f!, y::AbstractArray, x::Real, cfg::DerivativeConfig = DerivativeConfig(f!, y, x), check=Val{true}())\n",
       "\\end{verbatim}\n",
       "Return \\texttt{df!/dx} evaluated at \\texttt{x}, assuming \\texttt{f!} is called as \\texttt{f!(y, x)} where the result is stored in \\texttt{y}.\n",
       "\n",
       "Set \\texttt{check} to \\texttt{Val\\{false\\}()} to disable tag checking. This can lead to perturbation confusion, so should be used with care.\n",
       "\n"
      ],
      "text/markdown": [
       "```\n",
       "ForwardDiff.derivative(f, x::Real)\n",
       "```\n",
       "\n",
       "Return `df/dx` evaluated at `x`, assuming `f` is called as `f(x)`.\n",
       "\n",
       "This method assumes that `isa(f(x), Union{Real,AbstractArray})`.\n",
       "\n",
       "---\n",
       "\n",
       "```\n",
       "ForwardDiff.derivative(f!, y::AbstractArray, x::Real, cfg::DerivativeConfig = DerivativeConfig(f!, y, x), check=Val{true}())\n",
       "```\n",
       "\n",
       "Return `df!/dx` evaluated at `x`, assuming `f!` is called as `f!(y, x)` where the result is stored in `y`.\n",
       "\n",
       "Set `check` to `Val{false}()` to disable tag checking. This can lead to perturbation confusion, so should be used with care.\n"
      ],
      "text/plain": [
       "\u001b[36m  ForwardDiff.derivative(f, x::Real)\u001b[39m\n",
       "\n",
       "  Return \u001b[36mdf/dx\u001b[39m evaluated at \u001b[36mx\u001b[39m, assuming \u001b[36mf\u001b[39m is called as \u001b[36mf(x)\u001b[39m.\n",
       "\n",
       "  This method assumes that \u001b[36misa(f(x), Union{Real,AbstractArray})\u001b[39m.\n",
       "\n",
       "  ────────────────────────────────────────────────────────────────────────────\n",
       "\n",
       "\u001b[36m  ForwardDiff.derivative(f!, y::AbstractArray, x::Real, cfg::DerivativeConfig = DerivativeConfig(f!, y, x), check=Val{true}())\u001b[39m\n",
       "\n",
       "  Return \u001b[36mdf!/dx\u001b[39m evaluated at \u001b[36mx\u001b[39m, assuming \u001b[36mf!\u001b[39m is called as \u001b[36mf!(y, x)\u001b[39m where the\n",
       "  result is stored in \u001b[36my\u001b[39m.\n",
       "\n",
       "  Set \u001b[36mcheck\u001b[39m to \u001b[36mVal{false}()\u001b[39m to disable tag checking. This can lead to\n",
       "  perturbation confusion, so should be used with care."
      ]
     },
     "execution_count": 70,
     "metadata": {},
     "output_type": "execute_result"
    }
   ],
   "source": [
    "? ForwardDiff.derivative"
   ]
  },
  {
   "cell_type": "code",
   "execution_count": null,
   "metadata": {},
   "outputs": [],
   "source": []
  }
 ],
 "metadata": {
  "kernelspec": {
   "display_name": "Julia 1.4.2",
   "language": "julia",
   "name": "julia-1.4"
  },
  "language_info": {
   "file_extension": ".jl",
   "mimetype": "application/julia",
   "name": "julia",
   "version": "1.4.2"
  }
 },
 "nbformat": 4,
 "nbformat_minor": 4
}
