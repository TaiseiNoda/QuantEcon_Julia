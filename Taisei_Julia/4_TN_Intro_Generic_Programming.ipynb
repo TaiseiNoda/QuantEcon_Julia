{
 "cells": [
  {
   "cell_type": "markdown",
   "metadata": {},
   "source": [
    "**Introduction to Types and Generic Programming**\n",
    "\n",
    "[Quant Econ](https://julia.quantecon.org/getting_started_julia/introduction_to_types.html)\n",
    "\n",
    "May 22 2020\n",
    "\n",
    "Taisei Noda"
   ]
  },
  {
   "cell_type": "markdown",
   "metadata": {},
   "source": [
    "**NOTE**\n",
    "\n",
    "* Exercise 6 has not been completed (May/27/2020)."
   ]
  },
  {
   "cell_type": "code",
   "execution_count": 1,
   "metadata": {},
   "outputs": [
    {
     "name": "stdout",
     "output_type": "stream",
     "text": [
      "\u001b[32m\u001b[1mActivated\u001b[0m /Users/taisei/Project.toml\u001b[39m\n",
      "\u001b[36m\u001b[1mInfo\u001b[0m quantecon-notebooks-julia 0.5.0 activated, 0.7.0 requested\u001b[39m\n"
     ]
    }
   ],
   "source": [
    "using InstantiateFromURL\n",
    "# optionally add arguments to force installation: instantiate = true, precompile = true\n",
    "github_project(\"QuantEcon/quantecon-notebooks-julia\", version = \"0.7.0\")"
   ]
  },
  {
   "cell_type": "code",
   "execution_count": 2,
   "metadata": {},
   "outputs": [],
   "source": [
    "using LinearAlgebra, Statistics"
   ]
  },
  {
   "cell_type": "markdown",
   "metadata": {},
   "source": [
    "# Finding and Interpreting Types"
   ]
  },
  {
   "cell_type": "markdown",
   "metadata": {},
   "source": [
    "## Finding the Type"
   ]
  },
  {
   "cell_type": "code",
   "execution_count": 3,
   "metadata": {},
   "outputs": [
    {
     "name": "stdout",
     "output_type": "stream",
     "text": [
      "typeof(1) = Int64\n",
      "typeof(1.0) = Float64\n"
     ]
    }
   ],
   "source": [
    "@show typeof(1)\n",
    "@show typeof(1.0);"
   ]
  },
  {
   "cell_type": "code",
   "execution_count": 4,
   "metadata": {},
   "outputs": [
    {
     "data": {
      "text/plain": [
       "Int64"
      ]
     },
     "execution_count": 4,
     "metadata": {},
     "output_type": "execute_result"
    }
   ],
   "source": [
    "x=1\n",
    "typeof(x)"
   ]
  },
  {
   "cell_type": "markdown",
   "metadata": {},
   "source": [
    "## Parametric Types vs Concrete Types"
   ]
  },
  {
   "cell_type": "markdown",
   "metadata": {},
   "source": [
    "Array, Tuple, Complex..etc."
   ]
  },
  {
   "cell_type": "code",
   "execution_count": 5,
   "metadata": {},
   "outputs": [
    {
     "name": "stdout",
     "output_type": "stream",
     "text": [
      "typeof(1.0 + 1im) = Complex{Float64}\n",
      "typeof(ones(2, 2)) = Array{Float64,2}\n"
     ]
    }
   ],
   "source": [
    "@show typeof(1.0+1im)\n",
    "@show typeof(ones(2,2));"
   ]
  },
  {
   "cell_type": "markdown",
   "metadata": {},
   "source": [
    "* parametruc type\n",
    "\n",
    "Array{Type,Dimension}"
   ]
  },
  {
   "cell_type": "code",
   "execution_count": 6,
   "metadata": {},
   "outputs": [
    {
     "name": "stdout",
     "output_type": "stream",
     "text": [
      "typeof(x) = Tuple{Int64,Float64,String}\n"
     ]
    }
   ],
   "source": [
    "x =(1,2.0,\"test\")\n",
    "@show typeof(x);"
   ]
  },
  {
   "cell_type": "code",
   "execution_count": 7,
   "metadata": {},
   "outputs": [
    {
     "name": "stdout",
     "output_type": "stream",
     "text": [
      "typeof(x) = NamedTuple{(:a, :b, :c),Tuple{Int64,Float64,String}}\n"
     ]
    }
   ],
   "source": [
    "x=(a=1,b=2.0,c=\"test\")\n",
    "@show typeof(x);"
   ]
  },
  {
   "cell_type": "markdown",
   "metadata": {},
   "source": [
    "* simple(?)"
   ]
  },
  {
   "cell_type": "code",
   "execution_count": 8,
   "metadata": {},
   "outputs": [
    {
     "data": {
      "text/plain": [
       "Symbol"
      ]
     },
     "execution_count": 8,
     "metadata": {},
     "output_type": "execute_result"
    }
   ],
   "source": [
    "typeof(:a)"
   ]
  },
  {
   "cell_type": "markdown",
   "metadata": {},
   "source": [
    "## Variables, Types, and Values"
   ]
  },
  {
   "cell_type": "code",
   "execution_count": 9,
   "metadata": {},
   "outputs": [
    {
     "name": "stdout",
     "output_type": "stream",
     "text": [
      "typeof(x) = Int64\n"
     ]
    }
   ],
   "source": [
    "x=42\n",
    "@show typeof(x);"
   ]
  },
  {
   "cell_type": "code",
   "execution_count": 10,
   "metadata": {},
   "outputs": [
    {
     "data": {
      "text/plain": [
       "Float64"
      ]
     },
     "execution_count": 10,
     "metadata": {},
     "output_type": "execute_result"
    }
   ],
   "source": [
    "x=42.0\n",
    "typeof(x)"
   ]
  },
  {
   "cell_type": "markdown",
   "metadata": {},
   "source": [
    "# The Type Hierarchy"
   ]
  },
  {
   "cell_type": "markdown",
   "metadata": {},
   "source": [
    "## Abstract vs Concrete Types"
   ]
  },
  {
   "cell_type": "markdown",
   "metadata": {},
   "source": [
    "* Concrete type\n",
    "\n",
    "Concrete types are types that we can instantiate – i.e., pair with data in memory.\n",
    "\n",
    "* Abstract type\n",
    "\n",
    "We will now examine abstract types that cannot be instantiated (e.g., Real, AbstractFloat).\n",
    "\n",
    "While you will never have a Real number directly in memory, the abstract types help us organize and work with related concrete types."
   ]
  },
  {
   "cell_type": "markdown",
   "metadata": {},
   "source": [
    "## Subtypes and Supertypes"
   ]
  },
  {
   "cell_type": "markdown",
   "metadata": {},
   "source": [
    "* <:"
   ]
  },
  {
   "cell_type": "code",
   "execution_count": 11,
   "metadata": {},
   "outputs": [
    {
     "name": "stdout",
     "output_type": "stream",
     "text": [
      "Float64 <: Real = true\n",
      "Int64 <: Real = true\n",
      "Complex{Float64} <: Real = false\n",
      "Array <: Real = false\n"
     ]
    }
   ],
   "source": [
    "@show Float64 <: Real\n",
    "@show Int64 <: Real\n",
    "@show Complex{Float64} <: Real\n",
    "@show Array <: Real;"
   ]
  },
  {
   "cell_type": "code",
   "execution_count": 12,
   "metadata": {},
   "outputs": [
    {
     "name": "stdout",
     "output_type": "stream",
     "text": [
      "Real <: Number = true\n",
      "Float64 <: Number = true\n",
      "Int64 <: Number = true\n",
      "Complex{Float64} <: Number = true\n"
     ]
    }
   ],
   "source": [
    "@show Real <: Number\n",
    "@show Float64 <: Number\n",
    "@show Int64 <: Number\n",
    "@show Complex{Float64} <: Number;"
   ]
  },
  {
   "cell_type": "code",
   "execution_count": 13,
   "metadata": {},
   "outputs": [
    {
     "data": {
      "text/plain": [
       "true"
      ]
     },
     "execution_count": 13,
     "metadata": {},
     "output_type": "execute_result"
    }
   ],
   "source": [
    "Number <: Any"
   ]
  },
  {
   "cell_type": "markdown",
   "metadata": {},
   "source": [
    "Float64<:Real<:Number"
   ]
  },
  {
   "cell_type": "code",
   "execution_count": 14,
   "metadata": {},
   "outputs": [
    {
     "name": "stdout",
     "output_type": "stream",
     "text": [
      "Int64 <: Signed <: Integer <: Real <: Number <: Any"
     ]
    }
   ],
   "source": [
    "using Base: show_supertypes  # import the function from the `Base` package\n",
    "\n",
    "show_supertypes(Int64)"
   ]
  },
  {
   "cell_type": "code",
   "execution_count": 15,
   "metadata": {},
   "outputs": [
    {
     "name": "stdout",
     "output_type": "stream",
     "text": [
      "subtypes(Real) = Any[AbstractFloat, AbstractIrrational, Integer, Rational]\n",
      "subtypes(AbstractFloat) = Any[BigFloat, Float16, Float32, Float64]\n"
     ]
    }
   ],
   "source": [
    "@show subtypes(Real)\n",
    "@show subtypes(AbstractFloat);"
   ]
  },
  {
   "cell_type": "markdown",
   "metadata": {},
   "source": [
    "# Deducing and Declaring Types"
   ]
  },
  {
   "cell_type": "code",
   "execution_count": 16,
   "metadata": {},
   "outputs": [
    {
     "name": "stdout",
     "output_type": "stream",
     "text": [
      "typeof(x1) = Array{Int64,1}\n",
      "typeof(x2) = Array{Float64,1}\n"
     ]
    },
    {
     "data": {
      "text/plain": [
       "Array{Float64,1}"
      ]
     },
     "execution_count": 16,
     "metadata": {},
     "output_type": "execute_result"
    }
   ],
   "source": [
    "x1=[1,2,3]\n",
    "x2=[1.0,2.0,3.0]\n",
    "@show typeof(x1)\n",
    "@show typeof(x2)"
   ]
  },
  {
   "cell_type": "code",
   "execution_count": 17,
   "metadata": {},
   "outputs": [
    {
     "data": {
      "text/plain": [
       "3-element Array{Int64,1}:\n",
       " 2\n",
       " 4\n",
       " 6"
      ]
     },
     "execution_count": 17,
     "metadata": {},
     "output_type": "execute_result"
    }
   ],
   "source": [
    "f(y)=2y #define some function\n",
    "x=[1,2,3]\n",
    "z=f(x)"
   ]
  },
  {
   "cell_type": "markdown",
   "metadata": {},
   "source": [
    "## Good Practices for Functions and Variable Types"
   ]
  },
  {
   "cell_type": "markdown",
   "metadata": {},
   "source": [
    "* poor style: lack of **type stability** (consistentcy in types)"
   ]
  },
  {
   "cell_type": "code",
   "execution_count": 18,
   "metadata": {},
   "outputs": [
    {
     "data": {
      "text/plain": [
       "3-element Array{Any,1}:\n",
       " 1.0\n",
       "  \"test\"\n",
       " 1"
      ]
     },
     "execution_count": 18,
     "metadata": {},
     "output_type": "execute_result"
    }
   ],
   "source": [
    "x=[1.0,\"test\",1]"
   ]
  },
  {
   "cell_type": "code",
   "execution_count": 19,
   "metadata": {},
   "outputs": [
    {
     "name": "stdout",
     "output_type": "stream",
     "text": [
      "f(1) = 1.0\n",
      "f(-1) = 0\n"
     ]
    },
    {
     "data": {
      "text/plain": [
       "0"
      ]
     },
     "execution_count": 19,
     "metadata": {},
     "output_type": "execute_result"
    }
   ],
   "source": [
    "function f(x)\n",
    "    if x > 0\n",
    "        return 1.0\n",
    "    else\n",
    "        return 0  # probably meant `0.0`\n",
    "    end\n",
    "end\n",
    "\n",
    "@show f(1)\n",
    "@show f(-1)"
   ]
  },
  {
   "cell_type": "markdown",
   "metadata": {},
   "source": [
    "* the type of the output is inconsistent."
   ]
  },
  {
   "cell_type": "markdown",
   "metadata": {},
   "source": [
    "## Manually Declaring Function and Variable Types"
   ]
  },
  {
   "cell_type": "code",
   "execution_count": 20,
   "metadata": {},
   "outputs": [
    {
     "data": {
      "text/plain": [
       "2-element Array{Float64,1}:\n",
       "  9.1\n",
       " 14.3"
      ]
     },
     "execution_count": 20,
     "metadata": {},
     "output_type": "execute_result"
    }
   ],
   "source": [
    "function f(x, A)\n",
    "    b = [5.0, 6.0]\n",
    "    return A * x .+ b\n",
    "end\n",
    "\n",
    "val = f([0.1, 2.0], [1.0 2.0; 3.0 4.0])"
   ]
  },
  {
   "cell_type": "code",
   "execution_count": 21,
   "metadata": {},
   "outputs": [
    {
     "data": {
      "text/plain": [
       "2-element Array{Float64,1}:\n",
       "  9.1\n",
       " 14.3"
      ]
     },
     "execution_count": 21,
     "metadata": {},
     "output_type": "execute_result"
    }
   ],
   "source": [
    "function f2(x::Vector{Float64}, A::Matrix{Float64})::Vector{Float64}\n",
    "    # argument and return types\n",
    "    b::Vector{Float64} = [5.0, 6.0]\n",
    "    return A * x .+ b\n",
    "end\n",
    "\n",
    "val = f2([0.1; 2.0], [1.0 2.0; 3.0 4.0])"
   ]
  },
  {
   "cell_type": "markdown",
   "metadata": {},
   "source": [
    "* **\"::TYPE{TYPE}\"\"**"
   ]
  },
  {
   "cell_type": "code",
   "execution_count": 22,
   "metadata": {},
   "outputs": [
    {
     "name": "stdout",
     "output_type": "stream",
     "text": [
      "f([0.1; 2.0], [1 2; 3 4]) = [9.1, 14.3]\n",
      "f([0.1; 2.0], Diagonal([1.0, 2.0])) = [5.1, 10.0]\n"
     ]
    },
    {
     "data": {
      "text/plain": [
       "2-element Array{Float64,1}:\n",
       "  5.1\n",
       " 10.0"
      ]
     },
     "execution_count": 22,
     "metadata": {},
     "output_type": "execute_result"
    }
   ],
   "source": [
    "@show f([0.1; 2.0], [1 2; 3 4])\n",
    "@show f([0.1; 2.0], Diagonal([1.0, 2.0]))\n",
    "\n",
    "# f2([0.1; 2.0], [1 2; 3 4]) # not a `Float64` \"no method mathing\"\n",
    "# f2([0.1; 2.0], Diagonal([1.0, 2.0])) # not a `Matrix{Float64}`"
   ]
  },
  {
   "cell_type": "markdown",
   "metadata": {},
   "source": [
    "# Creating New Types"
   ]
  },
  {
   "cell_type": "markdown",
   "metadata": {},
   "source": [
    "## Syntax for Creating Concrete Types"
   ]
  },
  {
   "cell_type": "markdown",
   "metadata": {},
   "source": [
    "* \"struct\""
   ]
  },
  {
   "cell_type": "markdown",
   "metadata": {},
   "source": [
    "Bad Example"
   ]
  },
  {
   "cell_type": "code",
   "execution_count": 23,
   "metadata": {},
   "outputs": [],
   "source": [
    "struct FooNotTyped   # immutable by default, use `mutable struct` otherwise\n",
    "    a\n",
    "    b\n",
    "    c\n",
    "end"
   ]
  },
  {
   "cell_type": "code",
   "execution_count": 24,
   "metadata": {},
   "outputs": [
    {
     "data": {
      "text/plain": [
       "FooNotTyped"
      ]
     },
     "execution_count": 24,
     "metadata": {},
     "output_type": "execute_result"
    }
   ],
   "source": [
    "FooNotTyped"
   ]
  },
  {
   "cell_type": "markdown",
   "metadata": {},
   "source": [
    "Good Example"
   ]
  },
  {
   "cell_type": "markdown",
   "metadata": {},
   "source": [
    "**NOTE**:cannot redefinition."
   ]
  },
  {
   "cell_type": "code",
   "execution_count": 25,
   "metadata": {},
   "outputs": [],
   "source": [
    "struct Zoo\n",
    "    a::Float64\n",
    "    b::Int64\n",
    "    c::Vector{Float64}\n",
    "end"
   ]
  },
  {
   "cell_type": "code",
   "execution_count": 26,
   "metadata": {},
   "outputs": [
    {
     "ename": "UndefVarError",
     "evalue": "UndefVarError: Foo not defined",
     "output_type": "error",
     "traceback": [
      "UndefVarError: Foo not defined",
      "",
      "Stacktrace:",
      " [1] top-level scope at In[26]:2"
     ]
    }
   ],
   "source": [
    "foo_nt = FooNotTyped(2.0, 3, [1.0, 2.0, 3.0])  # new `FooNotTyped`\n",
    "foo = Foo(2.0, 3, [1.0, 2.0, 3.0]) # creates a new `Foo`\n",
    "\n",
    "@show typeof(foo)\n",
    "@show foo.a       # get the value for a field\n",
    "@show foo.b\n",
    "@show foo.c;\n",
    "\n",
    "# foo.a = 2.0     # fails since it is immutable"
   ]
  },
  {
   "cell_type": "code",
   "execution_count": 27,
   "metadata": {},
   "outputs": [
    {
     "name": "stdout",
     "output_type": "stream",
     "text": [
      "typeof(foo_nt) = FooNotTyped\n",
      "foo_nt.a = 2.0\n",
      "foo_nt.b = 3\n",
      "foo_nt.c = [1.0, 2.0, 3.0]\n"
     ]
    }
   ],
   "source": [
    "@show typeof(foo_nt)\n",
    "@show foo_nt.a\n",
    "@show foo_nt.b\n",
    "@show foo_nt.c;"
   ]
  },
  {
   "cell_type": "markdown",
   "metadata": {},
   "source": [
    "**NOTE**:Difference? What is the problem?\n",
    "\n",
    "=>see the next section. One of the promlems is low performance."
   ]
  },
  {
   "cell_type": "code",
   "execution_count": 28,
   "metadata": {},
   "outputs": [
    {
     "ename": "UndefVarError",
     "evalue": "UndefVarError: foo not defined",
     "output_type": "error",
     "traceback": [
      "UndefVarError: foo not defined",
      "",
      "Stacktrace:",
      " [1] top-level scope at In[28]:1"
     ]
    }
   ],
   "source": [
    "foo.a=2.0 #immutable"
   ]
  },
  {
   "cell_type": "markdown",
   "metadata": {},
   "source": [
    "## Issues with Type Declarations"
   ]
  },
  {
   "cell_type": "markdown",
   "metadata": {},
   "source": [
    "Was it necessary to manually declare the types a::Float64 in the above struct?\n",
    "\n",
    "The answer, in practice, is usually yes."
   ]
  },
  {
   "cell_type": "code",
   "execution_count": 29,
   "metadata": {},
   "outputs": [],
   "source": [
    "struct Foo2\n",
    "    a::Float64\n",
    "    b::Integer  # BAD! Not a concrete type\n",
    "    c::Vector{Real}  # BAD! Not a concrete type\n",
    "end"
   ]
  },
  {
   "cell_type": "code",
   "execution_count": 30,
   "metadata": {},
   "outputs": [
    {
     "ename": "UndefVarError",
     "evalue": "UndefVarError: Foo not defined",
     "output_type": "error",
     "traceback": [
      "UndefVarError: Foo not defined",
      "",
      "Stacktrace:",
      " [1] top-level scope at In[30]:5"
     ]
    }
   ],
   "source": [
    "f(x) = x.a + x.b + sum(x.c) # use the type\n",
    "a = 2.0\n",
    "b = 3\n",
    "c = [1.0, 2.0, 3.0]\n",
    "foo = Foo(a, b, c)\n",
    "@show f(foo)   # call with the foo, no problem\n",
    "\n",
    "# some other typed for the values\n",
    "a = 2   # not a floating point but `f()` would work\n",
    "b = 3\n",
    "c = [1.0, 2.0, 3.0]'   # transpose is not a `Vector` but `f()` would work\n",
    "# foo = Foo(a, b, c)   # fails to compile\n",
    "\n",
    "# works with `NotTyped` version, but low performance\n",
    "foo_nt = FooNotTyped(a, b, c)\n",
    "@show f(foo_nt);"
   ]
  },
  {
   "cell_type": "markdown",
   "metadata": {},
   "source": [
    "## Declaring Parametric Types (Advanced)"
   ]
  },
  {
   "cell_type": "markdown",
   "metadata": {},
   "source": [
    "This approach is flexible and highly performed."
   ]
  },
  {
   "cell_type": "code",
   "execution_count": 31,
   "metadata": {},
   "outputs": [
    {
     "name": "stdout",
     "output_type": "stream",
     "text": [
      "typeof(foo) = Foo3{Int64,Int64,Adjoint{Float64,Array{Float64,1}}}\n"
     ]
    },
    {
     "data": {
      "text/plain": [
       "11.0"
      ]
     },
     "execution_count": 31,
     "metadata": {},
     "output_type": "execute_result"
    }
   ],
   "source": [
    "struct Foo3{T1, T2, T3}\n",
    "    a::T1   # could be any type\n",
    "    b::T2\n",
    "    c::T3\n",
    "end\n",
    "\n",
    "# works fine\n",
    "a = 2\n",
    "b = 3\n",
    "c = [1.0, 2.0, 3.0]'    # transpose is not a `Vector` but `f()` would work\n",
    "foo = Foo3(a, b, c)\n",
    "@show typeof(foo)\n",
    "f(foo)"
   ]
  },
  {
   "cell_type": "markdown",
   "metadata": {},
   "source": [
    "However, this is too flexible. The below is fairly constrained, using \"**<:**\""
   ]
  },
  {
   "cell_type": "code",
   "execution_count": 32,
   "metadata": {},
   "outputs": [
    {
     "name": "stdout",
     "output_type": "stream",
     "text": [
      "typeof(foo) = Foo4{Int64,Int64,Adjoint{Float64,Array{Float64,1}}}\n"
     ]
    },
    {
     "data": {
      "text/plain": [
       "11.0"
      ]
     },
     "execution_count": 32,
     "metadata": {},
     "output_type": "execute_result"
    }
   ],
   "source": [
    "struct Foo4{T1 <: Real, T2 <: Real, T3 <: AbstractVecOrMat{<:Real}}\n",
    "    a::T1\n",
    "    b::T2\n",
    "    c::T3  # should check dimensions as well\n",
    "end\n",
    "foo = Foo4(a, b, c)  # no problem, and high performance\n",
    "@show typeof(foo)\n",
    "f(foo)"
   ]
  },
  {
   "cell_type": "markdown",
   "metadata": {},
   "source": [
    "## Keyword Argument Constructors (Advanced)"
   ]
  },
  {
   "cell_type": "markdown",
   "metadata": {},
   "source": [
    "* using **Parameters.jl**"
   ]
  },
  {
   "cell_type": "code",
   "execution_count": 33,
   "metadata": {},
   "outputs": [
    {
     "name": "stderr",
     "output_type": "stream",
     "text": [
      "┌ Info: Precompiling Parameters [d96e819e-fc66-5662-9728-84c9c7592b0a]\n",
      "└ @ Base loading.jl:1260\n"
     ]
    },
    {
     "name": "stdout",
     "output_type": "stream",
     "text": [
      "foo = Foo5\n",
      "  a: Float64 0.1\n",
      "  b: Int64 2\n",
      "  c: Array{Float64}((3,)) [1.0, 2.0, 3.0]\n",
      "\n",
      "foo2 = Foo5\n",
      "  a: Float64 2.0\n",
      "  b: Int64 2\n",
      "  c: Array{Float64}((3,)) [1.0, 2.0, 3.0]\n",
      "\n"
     ]
    },
    {
     "data": {
      "text/plain": [
       "8.1"
      ]
     },
     "execution_count": 33,
     "metadata": {},
     "output_type": "execute_result"
    }
   ],
   "source": [
    "using Parameters\n",
    "\n",
    "@with_kw  struct Foo5\n",
    "    a::Float64 = 2.0     # adds default value\n",
    "    b::Int64\n",
    "    c::Vector{Float64}\n",
    "end\n",
    "\n",
    "foo = Foo5(a = 0.1, b = 2, c = [1.0, 2.0, 3.0])\n",
    "foo2 = Foo5(c = [1.0, 2.0, 3.0], b = 2)  # rearrange order, uses default values\n",
    "\n",
    "@show foo\n",
    "@show foo2\n",
    "\n",
    "function f(x)\n",
    "    @unpack a, b, c = x     # can use `@unpack` on any struct\n",
    "    return a + b + sum(c)\n",
    "end\n",
    "\n",
    "f(foo)"
   ]
  },
  {
   "cell_type": "markdown",
   "metadata": {},
   "source": [
    "## Tips and Tricks for Writing Generic Functions"
   ]
  },
  {
   "cell_type": "markdown",
   "metadata": {},
   "source": [
    "* There is major advantage to never declaring a type unless it is absolutely necessary.\n",
    "* The main place where it is necessary is designing code around **multiple dispatch**."
   ]
  },
  {
   "cell_type": "code",
   "execution_count": 34,
   "metadata": {},
   "outputs": [
    {
     "data": {
      "text/plain": [
       "3-element Array{Float64,1}:\n",
       " 6.0\n",
       " 7.0\n",
       " 3.1"
      ]
     },
     "execution_count": 34,
     "metadata": {},
     "output_type": "execute_result"
    }
   ],
   "source": [
    "# BAD\n",
    "x = [5.0, 6.0, 2.1]\n",
    "\n",
    "function g(x::Array{Float64, 1})   # not generic!\n",
    "    y = zeros(length(x))   # not generic, hidden float!\n",
    "    z = Diagonal(ones(length(x)))  # not generic, hidden float!\n",
    "    q = ones(length(x))\n",
    "    y .= z * x + q\n",
    "    return y\n",
    "end\n",
    "\n",
    "g(x)"
   ]
  },
  {
   "cell_type": "code",
   "execution_count": 35,
   "metadata": {},
   "outputs": [
    {
     "data": {
      "text/plain": [
       "3-element Array{Float64,1}:\n",
       " 6.0\n",
       " 7.0\n",
       " 3.1"
      ]
     },
     "execution_count": 35,
     "metadata": {},
     "output_type": "execute_result"
    }
   ],
   "source": [
    "# GOOD\n",
    "function g2(x)  # or `x::AbstractVector`\n",
    "    y = similar(x)\n",
    "    z = I\n",
    "    q = ones(eltype(x), length(x))  # or `fill(one(x), length(x))`\n",
    "    y .= z * x + q\n",
    "    return y\n",
    "end\n",
    "\n",
    "g2(x)"
   ]
  },
  {
   "cell_type": "markdown",
   "metadata": {},
   "source": [
    "Notice that the good example does not specify the type of the argument for function g."
   ]
  },
  {
   "cell_type": "code",
   "execution_count": 36,
   "metadata": {},
   "outputs": [
    {
     "data": {
      "text/plain": [
       "3-element Array{Float64,1}:\n",
       " 5.0\n",
       " 6.0\n",
       " 2.1"
      ]
     },
     "execution_count": 36,
     "metadata": {},
     "output_type": "execute_result"
    }
   ],
   "source": [
    "x::AbstractVector"
   ]
  },
  {
   "cell_type": "code",
   "execution_count": 37,
   "metadata": {},
   "outputs": [
    {
     "data": {
      "text/plain": [
       "Float64"
      ]
     },
     "execution_count": 37,
     "metadata": {},
     "output_type": "execute_result"
    }
   ],
   "source": [
    "eltype(x)"
   ]
  },
  {
   "cell_type": "code",
   "execution_count": 38,
   "metadata": {},
   "outputs": [
    {
     "data": {
      "text/plain": [
       "Array{Float64,1}"
      ]
     },
     "execution_count": 38,
     "metadata": {},
     "output_type": "execute_result"
    }
   ],
   "source": [
    "typeof(x)"
   ]
  },
  {
   "cell_type": "markdown",
   "metadata": {},
   "source": [
    "* Key: \"similar\", \"eltype\", and \"typeof\""
   ]
  },
  {
   "cell_type": "code",
   "execution_count": 39,
   "metadata": {},
   "outputs": [
    {
     "name": "stdout",
     "output_type": "stream",
     "text": [
      "search: \u001b[0m\u001b[1me\u001b[22m\u001b[0m\u001b[1ml\u001b[22m\u001b[0m\u001b[1mt\u001b[22m\u001b[0m\u001b[1my\u001b[22m\u001b[0m\u001b[1mp\u001b[22m\u001b[0m\u001b[1me\u001b[22m fi\u001b[0m\u001b[1me\u001b[22m\u001b[0m\u001b[1ml\u001b[22md\u001b[0m\u001b[1mt\u001b[22m\u001b[0m\u001b[1my\u001b[22m\u001b[0m\u001b[1mp\u001b[22m\u001b[0m\u001b[1me\u001b[22m fi\u001b[0m\u001b[1me\u001b[22m\u001b[0m\u001b[1ml\u001b[22md\u001b[0m\u001b[1mt\u001b[22m\u001b[0m\u001b[1my\u001b[22m\u001b[0m\u001b[1mp\u001b[22m\u001b[0m\u001b[1me\u001b[22ms\n",
      "\n"
     ]
    },
    {
     "data": {
      "text/latex": [
       "\\begin{verbatim}\n",
       "eltype(type)\n",
       "\\end{verbatim}\n",
       "Determine the type of the elements generated by iterating a collection of the given \\texttt{type}. For dictionary types, this will be a \\texttt{Pair\\{KeyType,ValType\\}}. The definition \\texttt{eltype(x) = eltype(typeof(x))} is provided for convenience so that instances can be passed instead of types. However the form that accepts a type argument should be defined for new types.\n",
       "\n",
       "\\section{Examples}\n",
       "\\begin{verbatim}\n",
       "julia> eltype(fill(1f0, (2,2)))\n",
       "Float32\n",
       "\n",
       "julia> eltype(fill(0x1, (2,2)))\n",
       "UInt8\n",
       "\\end{verbatim}\n"
      ],
      "text/markdown": [
       "```\n",
       "eltype(type)\n",
       "```\n",
       "\n",
       "Determine the type of the elements generated by iterating a collection of the given `type`. For dictionary types, this will be a `Pair{KeyType,ValType}`. The definition `eltype(x) = eltype(typeof(x))` is provided for convenience so that instances can be passed instead of types. However the form that accepts a type argument should be defined for new types.\n",
       "\n",
       "# Examples\n",
       "\n",
       "```jldoctest\n",
       "julia> eltype(fill(1f0, (2,2)))\n",
       "Float32\n",
       "\n",
       "julia> eltype(fill(0x1, (2,2)))\n",
       "UInt8\n",
       "```\n"
      ],
      "text/plain": [
       "\u001b[36m  eltype(type)\u001b[39m\n",
       "\n",
       "  Determine the type of the elements generated by iterating a collection of\n",
       "  the given \u001b[36mtype\u001b[39m. For dictionary types, this will be a \u001b[36mPair{KeyType,ValType}\u001b[39m.\n",
       "  The definition \u001b[36meltype(x) = eltype(typeof(x))\u001b[39m is provided for convenience so\n",
       "  that instances can be passed instead of types. However the form that accepts\n",
       "  a type argument should be defined for new types.\n",
       "\n",
       "\u001b[1m  Examples\u001b[22m\n",
       "\u001b[1m  ≡≡≡≡≡≡≡≡≡≡\u001b[22m\n",
       "\n",
       "\u001b[36m  julia> eltype(fill(1f0, (2,2)))\u001b[39m\n",
       "\u001b[36m  Float32\u001b[39m\n",
       "\u001b[36m  \u001b[39m\n",
       "\u001b[36m  julia> eltype(fill(0x1, (2,2)))\u001b[39m\n",
       "\u001b[36m  UInt8\u001b[39m"
      ]
     },
     "execution_count": 39,
     "metadata": {},
     "output_type": "execute_result"
    }
   ],
   "source": [
    "? eltype"
   ]
  },
  {
   "cell_type": "code",
   "execution_count": 40,
   "metadata": {},
   "outputs": [
    {
     "data": {
      "text/plain": [
       "2-element Array{BigInt,1}:\n",
       " 1\n",
       " 4"
      ]
     },
     "execution_count": 40,
     "metadata": {},
     "output_type": "execute_result"
    }
   ],
   "source": [
    "function g(x)\n",
    "    y = similar(x)\n",
    "    for i in eachindex(x)\n",
    "        y[i] = x[i]^2      # could broadcast\n",
    "    end\n",
    "    return y\n",
    "end\n",
    "\n",
    "g([BigInt(1), BigInt(2)])"
   ]
  },
  {
   "cell_type": "code",
   "execution_count": 41,
   "metadata": {},
   "outputs": [
    {
     "name": "stdout",
     "output_type": "stream",
     "text": [
      "typeof([1.0, 2.0, 3.0]) = Array{Float64,1}\n",
      "eltype([1.0, 2.0, 3.0]) = Float64\n"
     ]
    }
   ],
   "source": [
    "@show typeof([1.0, 2.0, 3.0])\n",
    "@show eltype([1.0, 2.0, 3.0]);"
   ]
  },
  {
   "cell_type": "markdown",
   "metadata": {},
   "source": [
    "* **Beware of hidden floating points!!**"
   ]
  },
  {
   "cell_type": "code",
   "execution_count": 42,
   "metadata": {},
   "outputs": [
    {
     "name": "stdout",
     "output_type": "stream",
     "text": [
      "typeof(ones(3)) = Array{Float64,1}\n",
      "typeof(ones(Int64, 3)) = Array{Int64,1}\n",
      "typeof(zeros(3)) = Array{Float64,1}\n",
      "typeof(zeros(Int64, 3)) = Array{Int64,1}\n"
     ]
    }
   ],
   "source": [
    "@show typeof(ones(3))\n",
    "@show typeof(ones(Int64, 3))\n",
    "@show typeof(zeros(3))\n",
    "@show typeof(zeros(Int64, 3));"
   ]
  },
  {
   "cell_type": "code",
   "execution_count": 43,
   "metadata": {},
   "outputs": [
    {
     "name": "stdout",
     "output_type": "stream",
     "text": [
      "typeof(1) = Int64\n",
      "typeof(1.0) = Float64\n",
      "typeof(BigFloat(1.0)) = BigFloat\n",
      "typeof(one(BigFloat)) = BigFloat\n",
      "typeof(zero(BigFloat)) = BigFloat\n",
      "typeof(one(x)) = BigFloat\n",
      "typeof(zero(x)) = BigFloat\n"
     ]
    }
   ],
   "source": [
    "@show typeof(1)\n",
    "@show typeof(1.0)\n",
    "@show typeof(BigFloat(1.0))\n",
    "@show typeof(one(BigFloat))  # gets multiplicative identity, passing in type\n",
    "@show typeof(zero(BigFloat))\n",
    "\n",
    "x = BigFloat(2)\n",
    "\n",
    "@show typeof(one(x))  # can call with a variable for convenience\n",
    "@show typeof(zero(x));"
   ]
  },
  {
   "cell_type": "code",
   "execution_count": 44,
   "metadata": {},
   "outputs": [
    {
     "name": "stdout",
     "output_type": "stream",
     "text": [
      "typeof(g(x)) = BigFloat\n"
     ]
    }
   ],
   "source": [
    "# ACCEPTABLE\n",
    "function g(x::AbstractFloat)\n",
    "    return x + 1.0   # assumes `1.0` can be converted to something compatible with `typeof(x)`\n",
    "end\n",
    "\n",
    "x = BigFloat(1.0)\n",
    "\n",
    "@show typeof(g(x));  # this has \"promoted\" the `1.0` to a `BigFloat`"
   ]
  },
  {
   "cell_type": "markdown",
   "metadata": {},
   "source": [
    "\"**BigFloat**\": The BigInt and BigFloat types are available in Julia for arbitrary precision integer and floating point numbers respectively. NOTE:Int64 and Float64 have upper and lower bounds."
   ]
  },
  {
   "cell_type": "code",
   "execution_count": 45,
   "metadata": {},
   "outputs": [
    {
     "data": {
      "text/plain": [
       "9223372036854775807"
      ]
     },
     "execution_count": 45,
     "metadata": {},
     "output_type": "execute_result"
    }
   ],
   "source": [
    "x=typemax(Int64)"
   ]
  },
  {
   "cell_type": "code",
   "execution_count": 46,
   "metadata": {},
   "outputs": [
    {
     "data": {
      "text/plain": [
       "-9223372036854775808"
      ]
     },
     "execution_count": 46,
     "metadata": {},
     "output_type": "execute_result"
    }
   ],
   "source": [
    "x=x+1"
   ]
  },
  {
   "cell_type": "code",
   "execution_count": 47,
   "metadata": {},
   "outputs": [
    {
     "data": {
      "text/plain": [
       "Int64"
      ]
     },
     "execution_count": 47,
     "metadata": {},
     "output_type": "execute_result"
    }
   ],
   "source": [
    "typeof(x)"
   ]
  },
  {
   "cell_type": "code",
   "execution_count": 48,
   "metadata": {},
   "outputs": [
    {
     "data": {
      "text/plain": [
       "-9223372036854775808"
      ]
     },
     "execution_count": 48,
     "metadata": {},
     "output_type": "execute_result"
    }
   ],
   "source": [
    "x"
   ]
  },
  {
   "cell_type": "code",
   "execution_count": 49,
   "metadata": {},
   "outputs": [
    {
     "data": {
      "text/plain": [
       "-9223372036854775808"
      ]
     },
     "execution_count": 49,
     "metadata": {},
     "output_type": "execute_result"
    }
   ],
   "source": [
    "x=typemin(Int64)"
   ]
  },
  {
   "cell_type": "code",
   "execution_count": 50,
   "metadata": {},
   "outputs": [
    {
     "data": {
      "text/plain": [
       "9223372036854775807"
      ]
     },
     "execution_count": 50,
     "metadata": {},
     "output_type": "execute_result"
    }
   ],
   "source": [
    "x=x-1"
   ]
  },
  {
   "cell_type": "code",
   "execution_count": 51,
   "metadata": {},
   "outputs": [
    {
     "data": {
      "text/plain": [
       "Inf"
      ]
     },
     "execution_count": 51,
     "metadata": {},
     "output_type": "execute_result"
    }
   ],
   "source": [
    "x=typemax(BigFloat)"
   ]
  },
  {
   "cell_type": "code",
   "execution_count": 52,
   "metadata": {},
   "outputs": [
    {
     "data": {
      "text/plain": [
       "BigFloat"
      ]
     },
     "execution_count": 52,
     "metadata": {},
     "output_type": "execute_result"
    }
   ],
   "source": [
    "typeof(x)"
   ]
  },
  {
   "cell_type": "code",
   "execution_count": 53,
   "metadata": {},
   "outputs": [
    {
     "data": {
      "text/plain": [
       "1"
      ]
     },
     "execution_count": 53,
     "metadata": {},
     "output_type": "execute_result"
    }
   ],
   "source": [
    "x=1"
   ]
  },
  {
   "cell_type": "code",
   "execution_count": 54,
   "metadata": {},
   "outputs": [
    {
     "data": {
      "text/plain": [
       "Int64"
      ]
     },
     "execution_count": 54,
     "metadata": {},
     "output_type": "execute_result"
    }
   ],
   "source": [
    "typeof(x)"
   ]
  },
  {
   "cell_type": "code",
   "execution_count": 55,
   "metadata": {},
   "outputs": [
    {
     "data": {
      "text/plain": [
       "Int64"
      ]
     },
     "execution_count": 55,
     "metadata": {},
     "output_type": "execute_result"
    }
   ],
   "source": [
    "typeof(one(x))"
   ]
  },
  {
   "cell_type": "markdown",
   "metadata": {},
   "source": [
    "* But sometimes assuming promotion is not enough."
   ]
  },
  {
   "cell_type": "code",
   "execution_count": 56,
   "metadata": {},
   "outputs": [
    {
     "name": "stdout",
     "output_type": "stream",
     "text": [
      "typeof(g2(x)) = BigFloat\n",
      "typeof(g2(x2)) = Nothing\n"
     ]
    },
    {
     "data": {
      "text/plain": [
       "Nothing"
      ]
     },
     "execution_count": 56,
     "metadata": {},
     "output_type": "execute_result"
    }
   ],
   "source": [
    "# BAD\n",
    "function g2(x::AbstractFloat)\n",
    "    if x > 0.0   # can't efficiently call with `x::Integer`\n",
    "        return x + 1.0   # OK - assumes you can promote `Float64` to `AbstractFloat`\n",
    "    otherwise\n",
    "        return 0   # BAD! Returns a `Int64`\n",
    "    end\n",
    "end\n",
    "\n",
    "x = BigFloat(1.0)\n",
    "x2 = BigFloat(-1.0)\n",
    "\n",
    "@show typeof(g2(x))\n",
    "@show typeof(g2(x2))  # type unstable"
   ]
  },
  {
   "cell_type": "code",
   "execution_count": 57,
   "metadata": {},
   "outputs": [
    {
     "name": "stdout",
     "output_type": "stream",
     "text": [
      "typeof(g3(x)) = BigFloat\n",
      "typeof(g3(x2)) = Nothing\n"
     ]
    }
   ],
   "source": [
    "# GOOD\n",
    "function g3(x) #don't declear\n",
    "    if x > zero(x)   # any type with an additive identity\n",
    "        return x + one(x)  # more general but less important of a change\n",
    "    otherwise\n",
    "        return zero(x)\n",
    "    end\n",
    "end\n",
    "\n",
    "@show typeof(g3(x))\n",
    "@show typeof(g3(x2));  # type stable"
   ]
  },
  {
   "cell_type": "code",
   "execution_count": 58,
   "metadata": {},
   "outputs": [
    {
     "name": "stdout",
     "output_type": "stream",
     "text": [
      "typeof(y) = Nothing\n"
     ]
    },
    {
     "data": {
      "text/plain": [
       "Nothing"
      ]
     },
     "execution_count": 58,
     "metadata": {},
     "output_type": "execute_result"
    }
   ],
   "source": [
    "y=g3(-1)\n",
    "@show typeof(y)"
   ]
  },
  {
   "cell_type": "code",
   "execution_count": 59,
   "metadata": {},
   "outputs": [
    {
     "data": {
      "text/plain": [
       "Int64"
      ]
     },
     "execution_count": 59,
     "metadata": {},
     "output_type": "execute_result"
    }
   ],
   "source": [
    "typeof(zero(-1))"
   ]
  },
  {
   "cell_type": "markdown",
   "metadata": {},
   "source": [
    "If any of the functions you write or call are not precise enough, then it may break the chain.\n",
    "\n",
    "This is all the more reason to exploit carefully designed packages rather than “do-it-yourself”."
   ]
  },
  {
   "cell_type": "markdown",
   "metadata": {},
   "source": [
    "## A Digression on Style and Naming"
   ]
  },
  {
   "cell_type": "markdown",
   "metadata": {},
   "source": [
    "* Lesson: “be aware of types, but avoid declaring them”."
   ]
  },
  {
   "cell_type": "markdown",
   "metadata": {},
   "source": [
    "* Provide easy to read code with minimal “syntactic noise” and a clear correspondence to the math.\n",
    "* Ensure that code is sufficiently generic to exploit other packages and types.\n",
    "* Avoid common mistakes and unnecessary performance degradations.\n"
   ]
  },
  {
   "cell_type": "markdown",
   "metadata": {},
   "source": [
    "# Introduction to Multiple Dispatch"
   ]
  },
  {
   "cell_type": "markdown",
   "metadata": {},
   "source": [
    "**Multiple dispatch**: The same function name can do different things depending on the underlying types."
   ]
  },
  {
   "cell_type": "code",
   "execution_count": 60,
   "metadata": {},
   "outputs": [
    {
     "name": "stdout",
     "output_type": "stream",
     "text": [
      "abs(-1) = 1\n",
      "abs(-1.0) = 1.0\n",
      "abs(0.0 - 1.0im) = 1.0\n"
     ]
    }
   ],
   "source": [
    "@show abs(-1)   # `Int64`\n",
    "@show abs(-1.0)  # `Float64`\n",
    "@show abs(0.0 - 1.0im);  # `Complex{Float64}`"
   ]
  },
  {
   "cell_type": "code",
   "execution_count": 61,
   "metadata": {},
   "outputs": [
    {
     "name": "stdout",
     "output_type": "stream",
     "text": [
      "ourabs(-1) = 1\n",
      "ourabs(-1.0) = 1.0\n",
      "ourabs(1.0 - 2.0im) = 2.23606797749979\n"
     ]
    }
   ],
   "source": [
    "function ourabs(x::Real)\n",
    "    if x > zero(x)   # note, not 0!\n",
    "        return x\n",
    "    else\n",
    "        return -x\n",
    "    end\n",
    "end\n",
    "\n",
    "function ourabs(x::Complex)\n",
    "    sqrt(real(x)^2 + imag(x)^2)\n",
    "end\n",
    "\n",
    "@show ourabs(-1)   # `Int64`\n",
    "@show ourabs(-1.0) # `Float64`\n",
    "@show ourabs(1.0 - 2.0im);  # `Complex{Float64}`"
   ]
  },
  {
   "cell_type": "code",
   "execution_count": 62,
   "metadata": {},
   "outputs": [
    {
     "name": "stdout",
     "output_type": "stream",
     "text": [
      "typeof(x) = Rational{Int64}\n",
      "ourabs(x) = 2//3\n"
     ]
    }
   ],
   "source": [
    "x = -2//3  # `Rational` number, -2/3\n",
    "@show typeof(x)\n",
    "@show ourabs(x);"
   ]
  },
  {
   "cell_type": "code",
   "execution_count": 63,
   "metadata": {},
   "outputs": [
    {
     "data": {
      "text/latex": [
       "\\begin{verbatim}\n",
       "//(num, den)\n",
       "\\end{verbatim}\n",
       "Divide two integers or rational numbers, giving a \\href{@ref}{\\texttt{Rational}} result.\n",
       "\n",
       "\\section{Examples}\n",
       "\\begin{verbatim}\n",
       "julia> 3 // 5\n",
       "3//5\n",
       "\n",
       "julia> (3 // 5) // (2 // 1)\n",
       "3//10\n",
       "\\end{verbatim}\n"
      ],
      "text/markdown": [
       "```\n",
       "//(num, den)\n",
       "```\n",
       "\n",
       "Divide two integers or rational numbers, giving a [`Rational`](@ref) result.\n",
       "\n",
       "# Examples\n",
       "\n",
       "```jldoctest\n",
       "julia> 3 // 5\n",
       "3//5\n",
       "\n",
       "julia> (3 // 5) // (2 // 1)\n",
       "3//10\n",
       "```\n"
      ],
      "text/plain": [
       "\u001b[36m  //(num, den)\u001b[39m\n",
       "\n",
       "  Divide two integers or rational numbers, giving a \u001b[36mRational\u001b[39m result.\n",
       "\n",
       "\u001b[1m  Examples\u001b[22m\n",
       "\u001b[1m  ≡≡≡≡≡≡≡≡≡≡\u001b[22m\n",
       "\n",
       "\u001b[36m  julia> 3 // 5\u001b[39m\n",
       "\u001b[36m  3//5\u001b[39m\n",
       "\u001b[36m  \u001b[39m\n",
       "\u001b[36m  julia> (3 // 5) // (2 // 1)\u001b[39m\n",
       "\u001b[36m  3//10\u001b[39m"
      ]
     },
     "execution_count": 63,
     "metadata": {},
     "output_type": "execute_result"
    }
   ],
   "source": [
    "? 2//3"
   ]
  },
  {
   "cell_type": "markdown",
   "metadata": {},
   "source": [
    "## Multiple Dispatch in Algorithms (Advanced)"
   ]
  },
  {
   "cell_type": "code",
   "execution_count": 64,
   "metadata": {},
   "outputs": [
    {
     "name": "stdout",
     "output_type": "stream",
     "text": [
      "typeof(x) = StepRangeLen{Float64,Base.TwicePrecision{Float64},Base.TwicePrecision{Float64}}\n",
      "typeof(x_2) = StepRange{Int64,Int64}\n",
      "supertype(typeof(x)) = AbstractRange{Float64}\n"
     ]
    },
    {
     "data": {
      "text/plain": [
       "AbstractRange{Float64}"
      ]
     },
     "execution_count": 64,
     "metadata": {},
     "output_type": "execute_result"
    }
   ],
   "source": [
    "x = range(0.0, 1.0, length = 20)\n",
    "x_2 = 1:1:20   # if integers\n",
    "\n",
    "@show typeof(x)\n",
    "@show typeof(x_2)\n",
    "@show supertype(typeof(x))"
   ]
  },
  {
   "cell_type": "code",
   "execution_count": 65,
   "metadata": {},
   "outputs": [
    {
     "name": "stdout",
     "output_type": "stream",
     "text": [
      "StepRangeLen{Float64,Base.TwicePrecision{Float64},Base.TwicePrecision{Float64}} <: AbstractRange{Float64} <: AbstractArray{Float64,1} <: Any"
     ]
    }
   ],
   "source": [
    "show_supertypes(typeof(x))"
   ]
  },
  {
   "cell_type": "code",
   "execution_count": 66,
   "metadata": {},
   "outputs": [
    {
     "name": "stdout",
     "output_type": "stream",
     "text": [
      "StepRangeLen{Float64,Base.TwicePrecision{Float64},Base.TwicePrecision{Float64}} <: AbstractRange{Float64} <: AbstractArray{Float64,1} <: Any"
     ]
    }
   ],
   "source": [
    "typeof(x) |> show_supertypes"
   ]
  },
  {
   "cell_type": "code",
   "execution_count": 67,
   "metadata": {},
   "outputs": [
    {
     "name": "stdout",
     "output_type": "stream",
     "text": [
      "StepRange{Int64,Int64} <: OrdinalRange{Int64,Int64} <: AbstractRange{Int64} <: AbstractArray{Int64,1} <: Any"
     ]
    }
   ],
   "source": [
    "show_supertypes(typeof(x_2))"
   ]
  },
  {
   "cell_type": "code",
   "execution_count": 68,
   "metadata": {},
   "outputs": [
    {
     "name": "stdout",
     "output_type": "stream",
     "text": [
      "typeof(x) <: AbstractRange = true\n",
      "typeof(x_2) <: AbstractRange = true\n"
     ]
    }
   ],
   "source": [
    "@show typeof(x) <: AbstractRange\n",
    "@show typeof(x_2) <: AbstractRange;"
   ]
  },
  {
   "cell_type": "code",
   "execution_count": 69,
   "metadata": {},
   "outputs": [
    {
     "name": "stdout",
     "output_type": "stream",
     "text": [
      "minimum(x) = 0.0\n",
      "maximum(x) = 1.0\n",
      "length(x) = 20\n",
      "step(x) = 0.05263157894736842\n"
     ]
    }
   ],
   "source": [
    "@show minimum(x)\n",
    "@show maximum(x)\n",
    "@show length(x)\n",
    "@show step(x);"
   ]
  },
  {
   "cell_type": "code",
   "execution_count": 70,
   "metadata": {},
   "outputs": [
    {
     "name": "stdout",
     "output_type": "stream",
     "text": [
      "typeof(f_x) = Array{Float64,1}\n",
      "supertype(typeof(f_x)) = DenseArray{Float64,1}\n",
      "supertype(supertype(typeof(f_x))) = AbstractArray{Float64,1}\n",
      "length(f_x) = 20\n"
     ]
    }
   ],
   "source": [
    "f(x) = x^2\n",
    "f_x = f.(x)  # calculating at the range values\n",
    "\n",
    "@show typeof(f_x)\n",
    "@show supertype(typeof(f_x))\n",
    "@show supertype(supertype(typeof(f_x)))  # walk up tree again!\n",
    "@show length(f_x);   # and many more"
   ]
  },
  {
   "cell_type": "code",
   "execution_count": 71,
   "metadata": {},
   "outputs": [
    {
     "name": "stdout",
     "output_type": "stream",
     "text": [
      "Array{Float64,1} <: DenseArray{Float64,1} <: AbstractArray{Float64,1} <: Any"
     ]
    }
   ],
   "source": [
    "show_supertypes(typeof(f_x))"
   ]
  },
  {
   "cell_type": "code",
   "execution_count": 72,
   "metadata": {},
   "outputs": [
    {
     "name": "stdout",
     "output_type": "stream",
     "text": [
      "search: \u001b[0m\u001b[1md\u001b[22m\u001b[0m\u001b[1mi\u001b[22m\u001b[0m\u001b[1mf\u001b[22m\u001b[0m\u001b[1mf\u001b[22m sym\u001b[0m\u001b[1md\u001b[22m\u001b[0m\u001b[1mi\u001b[22m\u001b[0m\u001b[1mf\u001b[22m\u001b[0m\u001b[1mf\u001b[22m set\u001b[0m\u001b[1md\u001b[22m\u001b[0m\u001b[1mi\u001b[22m\u001b[0m\u001b[1mf\u001b[22m\u001b[0m\u001b[1mf\u001b[22m sym\u001b[0m\u001b[1md\u001b[22m\u001b[0m\u001b[1mi\u001b[22m\u001b[0m\u001b[1mf\u001b[22m\u001b[0m\u001b[1mf\u001b[22m! set\u001b[0m\u001b[1md\u001b[22m\u001b[0m\u001b[1mi\u001b[22m\u001b[0m\u001b[1mf\u001b[22m\u001b[0m\u001b[1mf\u001b[22m! Cptr\u001b[0m\u001b[1md\u001b[22m\u001b[0m\u001b[1mi\u001b[22m\u001b[0m\u001b[1mf\u001b[22m\u001b[0m\u001b[1mf\u001b[22m_t\n",
      "\n"
     ]
    },
    {
     "data": {
      "text/latex": [
       "\\begin{verbatim}\n",
       "diff(A::AbstractVector)\n",
       "diff(A::AbstractArray; dims::Integer)\n",
       "\\end{verbatim}\n",
       "Finite difference operator on a vector or a multidimensional array \\texttt{A}. In the latter case the dimension to operate on needs to be specified with the \\texttt{dims} keyword argument.\n",
       "\n",
       "\\begin{quote}\n",
       "\\textbf{compat}\n",
       "\n",
       "Julia 1.1\n",
       "\n",
       "\\texttt{diff} for arrays with dimension higher than 2 requires at least Julia 1.1.\n",
       "\n",
       "\\end{quote}\n",
       "\\section{Examples}\n",
       "\\begin{verbatim}\n",
       "julia> a = [2 4; 6 16]\n",
       "2×2 Array{Int64,2}:\n",
       " 2   4\n",
       " 6  16\n",
       "\n",
       "julia> diff(a, dims=2)\n",
       "2×1 Array{Int64,2}:\n",
       "  2\n",
       " 10\n",
       "\n",
       "julia> diff(vec(a))\n",
       "3-element Array{Int64,1}:\n",
       "  4\n",
       " -2\n",
       " 12\n",
       "\\end{verbatim}\n"
      ],
      "text/markdown": [
       "```\n",
       "diff(A::AbstractVector)\n",
       "diff(A::AbstractArray; dims::Integer)\n",
       "```\n",
       "\n",
       "Finite difference operator on a vector or a multidimensional array `A`. In the latter case the dimension to operate on needs to be specified with the `dims` keyword argument.\n",
       "\n",
       "!!! compat \"Julia 1.1\"\n",
       "    `diff` for arrays with dimension higher than 2 requires at least Julia 1.1.\n",
       "\n",
       "\n",
       "# Examples\n",
       "\n",
       "```jldoctest\n",
       "julia> a = [2 4; 6 16]\n",
       "2×2 Array{Int64,2}:\n",
       " 2   4\n",
       " 6  16\n",
       "\n",
       "julia> diff(a, dims=2)\n",
       "2×1 Array{Int64,2}:\n",
       "  2\n",
       " 10\n",
       "\n",
       "julia> diff(vec(a))\n",
       "3-element Array{Int64,1}:\n",
       "  4\n",
       " -2\n",
       " 12\n",
       "```\n"
      ],
      "text/plain": [
       "\u001b[36m  diff(A::AbstractVector)\u001b[39m\n",
       "\u001b[36m  diff(A::AbstractArray; dims::Integer)\u001b[39m\n",
       "\n",
       "  Finite difference operator on a vector or a multidimensional array \u001b[36mA\u001b[39m. In the\n",
       "  latter case the dimension to operate on needs to be specified with the \u001b[36mdims\u001b[39m\n",
       "  keyword argument.\n",
       "\n",
       "\u001b[39m\u001b[1m  │ \u001b[22m\u001b[39m\u001b[1mJulia 1.1\u001b[22m\n",
       "\u001b[39m\u001b[1m  │\u001b[22m\n",
       "\u001b[39m\u001b[1m  │\u001b[22m  \u001b[36mdiff\u001b[39m for arrays with dimension higher than 2 requires at least\n",
       "\u001b[39m\u001b[1m  │\u001b[22m  Julia 1.1.\n",
       "\n",
       "\u001b[1m  Examples\u001b[22m\n",
       "\u001b[1m  ≡≡≡≡≡≡≡≡≡≡\u001b[22m\n",
       "\n",
       "\u001b[36m  julia> a = [2 4; 6 16]\u001b[39m\n",
       "\u001b[36m  2×2 Array{Int64,2}:\u001b[39m\n",
       "\u001b[36m   2   4\u001b[39m\n",
       "\u001b[36m   6  16\u001b[39m\n",
       "\u001b[36m  \u001b[39m\n",
       "\u001b[36m  julia> diff(a, dims=2)\u001b[39m\n",
       "\u001b[36m  2×1 Array{Int64,2}:\u001b[39m\n",
       "\u001b[36m    2\u001b[39m\n",
       "\u001b[36m   10\u001b[39m\n",
       "\u001b[36m  \u001b[39m\n",
       "\u001b[36m  julia> diff(vec(a))\u001b[39m\n",
       "\u001b[36m  3-element Array{Int64,1}:\u001b[39m\n",
       "\u001b[36m    4\u001b[39m\n",
       "\u001b[36m   -2\u001b[39m\n",
       "\u001b[36m   12\u001b[39m"
      ]
     },
     "execution_count": 72,
     "metadata": {},
     "output_type": "execute_result"
    }
   ],
   "source": [
    "? diff"
   ]
  },
  {
   "cell_type": "code",
   "execution_count": 73,
   "metadata": {},
   "outputs": [
    {
     "data": {
      "text/plain": [
       "slopes (generic function with 1 method)"
      ]
     },
     "execution_count": 73,
     "metadata": {},
     "output_type": "execute_result"
    }
   ],
   "source": [
    "slopes(f_x::AbstractVector, x::AbstractRange) = diff(f_x) / step(x)"
   ]
  },
  {
   "cell_type": "code",
   "execution_count": 74,
   "metadata": {},
   "outputs": [
    {
     "name": "stderr",
     "output_type": "stream",
     "text": [
      "┌ Info: Precompiling Plots [91a5bcdd-55d7-5caf-9e0b-520d859cae80]\n",
      "└ @ Base loading.jl:1260\n"
     ]
    },
    {
     "ename": "MethodError",
     "evalue": "MethodError: no method matching get_color_palette(::Symbol, ::RGBA{Float64}, ::Int64)\nClosest candidates are:\n  get_color_palette(::Any, ::Any) at /Users/taisei/.julia/packages/PlotUtils/T5XYM/src/colorschemes.jl:328\n  get_color_palette(!Matched::ColorGradient, ::Any) at /Users/taisei/.julia/packages/PlotUtils/T5XYM/src/colorschemes.jl:329",
     "output_type": "error",
     "traceback": [
      "MethodError: no method matching get_color_palette(::Symbol, ::RGBA{Float64}, ::Int64)\nClosest candidates are:\n  get_color_palette(::Any, ::Any) at /Users/taisei/.julia/packages/PlotUtils/T5XYM/src/colorschemes.jl:328\n  get_color_palette(!Matched::ColorGradient, ::Any) at /Users/taisei/.julia/packages/PlotUtils/T5XYM/src/colorschemes.jl:329",
      "",
      "Stacktrace:",
      " [1] _update_subplot_colors(::Plots.Subplot{Plots.GRBackend}) at /Users/taisei/.julia/packages/Plots/WwFyB/src/args.jl:1436",
      " [2] _update_subplot_args(::Plots.Plot{Plots.GRBackend}, ::Plots.Subplot{Plots.GRBackend}, ::Dict{Symbol,Any}, ::Int64, ::Bool) at /Users/taisei/.julia/packages/Plots/WwFyB/src/args.jl:1523",
      " [3] _subplot_setup(::Plots.Plot{Plots.GRBackend}, ::Dict{Symbol,Any}, ::Array{Dict{Symbol,Any},1}) at /Users/taisei/.julia/packages/Plots/WwFyB/src/pipeline.jl:297",
      " [4] _plot!(::Plots.Plot{Plots.GRBackend}, ::Dict{Symbol,Any}, ::Tuple{StepRangeLen{Float64,Base.TwicePrecision{Float64},Base.TwicePrecision{Float64}},Array{Float64,1}}) at /Users/taisei/.julia/packages/Plots/WwFyB/src/plot.jl:206",
      " [5] plot(::StepRangeLen{Float64,Base.TwicePrecision{Float64},Base.TwicePrecision{Float64}}, ::Vararg{Any,N} where N; kw::Base.Iterators.Pairs{Symbol,String,Tuple{Symbol},NamedTuple{(:label,),Tuple{String}}}) at /Users/taisei/.julia/packages/Plots/WwFyB/src/plot.jl:57",
      " [6] top-level scope at In[74]:13"
     ]
    }
   ],
   "source": [
    "using Plots, ForwardDiff\n",
    "\n",
    "# operator to get the derivative of this function using AD\n",
    "D(f) = x -> ForwardDiff.derivative(f, x)\n",
    "\n",
    "# compare slopes with AD for sin(x)\n",
    "q(x) = sin(x)\n",
    "x = 0.0:0.1:4.0\n",
    "q_x = q.(x)\n",
    "q_slopes_x = slopes(q_x, x)\n",
    "\n",
    "D_q_x = D(q).(x)  # broadcasts AD across vector\n",
    "\n",
    "plot(x[1:end-1], D_q_x[1:end-1], label = \"q' with AD\")\n",
    "plot!(x[1:end-1], q_slopes_x, label = \"q slopes\")"
   ]
  },
  {
   "cell_type": "code",
   "execution_count": 75,
   "metadata": {},
   "outputs": [
    {
     "name": "stdout",
     "output_type": "stream",
     "text": [
      "typeof(q) <: Function = true\n",
      "typeof(x) <: AbstractRange = true\n",
      "q_slopes_x[1] = 0.9983341664682815\n"
     ]
    }
   ],
   "source": [
    "slopes(f::Function, x::AbstractRange) = diff(f.(x)) / step(x)  # broadcast function\n",
    "\n",
    "@show typeof(q) <: Function\n",
    "@show typeof(x) <: AbstractRange\n",
    "q_slopes_x = slopes(q, x)  # use slopes(f::Function, x)\n",
    "@show q_slopes_x[1];"
   ]
  },
  {
   "cell_type": "code",
   "execution_count": 76,
   "metadata": {},
   "outputs": [
    {
     "name": "stdout",
     "output_type": "stream",
     "text": [
      "typeof(x_array) <: AbstractArray = true\n",
      "q_slopes_x[1] = 0.9983341664682815\n"
     ]
    }
   ],
   "source": [
    "# broadcasts over the diff\n",
    "slopes(f::Function, x::AbstractArray) = diff(f.(x)) ./ diff(x)\n",
    "\n",
    "x_array = Array(x)  # convert range to array\n",
    "@show typeof(x_array) <: AbstractArray\n",
    "q_slopes_x = slopes(q, x_array)\n",
    "@show q_slopes_x[1];"
   ]
  },
  {
   "cell_type": "markdown",
   "metadata": {},
   "source": [
    "# Exercises"
   ]
  },
  {
   "cell_type": "markdown",
   "metadata": {},
   "source": [
    "## Exercise 1: StaticArrays"
   ]
  },
  {
   "cell_type": "markdown",
   "metadata": {},
   "source": [
    "[StaticArrays.jl](https://github.com/JuliaArrays/StaticArrays.jl)"
   ]
  },
  {
   "cell_type": "markdown",
   "metadata": {},
   "source": [
    "**StaticArrays** provides a framework for implementing statically sized arrays in Julia, using the abstract type StaticArray{Size,T,N} <: AbstractArray{T,N}. Subtypes of StaticArray will provide fast implementations of common array and linear algebra operations. Note that here \"statically sized\" means that the size can be determined from the type, and \"static\" does not necessarily imply immutable."
   ]
  },
  {
   "cell_type": "code",
   "execution_count": 77,
   "metadata": {},
   "outputs": [],
   "source": [
    "using StaticArrays "
   ]
  },
  {
   "cell_type": "code",
   "execution_count": 78,
   "metadata": {},
   "outputs": [],
   "source": [
    "using BenchmarkTools"
   ]
  },
  {
   "cell_type": "markdown",
   "metadata": {},
   "source": [
    "* Example"
   ]
  },
  {
   "cell_type": "code",
   "execution_count": 79,
   "metadata": {},
   "outputs": [
    {
     "data": {
      "text/plain": [
       "3-element SArray{Tuple{3},Int64,1,3} with indices SOneTo(3):\n",
       " 1\n",
       " 2\n",
       " 3"
      ]
     },
     "execution_count": 79,
     "metadata": {},
     "output_type": "execute_result"
    }
   ],
   "source": [
    "v1 = SVector(1, 2, 3)"
   ]
  },
  {
   "cell_type": "code",
   "execution_count": 80,
   "metadata": {},
   "outputs": [
    {
     "data": {
      "text/plain": [
       "36-element Array{Any,1}:\n",
       " AbstractRange\n",
       " Adjoint\n",
       " Base.LogicalIndex\n",
       " Base.ReinterpretArray\n",
       " Base.ReshapedArray\n",
       " Bidiagonal\n",
       " BitArray\n",
       " CartesianIndices\n",
       " Core.Compiler.AbstractRange\n",
       " Core.Compiler.BitArray\n",
       " Core.Compiler.LinearIndices\n",
       " DataStructures.CircularBuffer\n",
       " DataStructures.DiBitVector\n",
       " ⋮\n",
       " StaticArray\n",
       " StaticArrays.TrivialView\n",
       " StatsBase.AbstractWeights\n",
       " SubArray\n",
       " SuiteSparse.CHOLMOD.FactorComponent\n",
       " SymTridiagonal\n",
       " Symmetric\n",
       " Test.GenericArray\n",
       " Transpose\n",
       " Tridiagonal\n",
       " UpperHessenberg\n",
       " ZMQ.Message"
      ]
     },
     "execution_count": 80,
     "metadata": {},
     "output_type": "execute_result"
    }
   ],
   "source": [
    "subtypes(AbstractArray)"
   ]
  },
  {
   "cell_type": "code",
   "execution_count": 81,
   "metadata": {},
   "outputs": [
    {
     "data": {
      "text/plain": [
       "14-element Array{Any,1}:\n",
       " FieldVector\n",
       " GeometryTypes.AbstractPoint\n",
       " GeometryTypes.AbstractSimplex\n",
       " GeometryTypes.Face\n",
       " GeometryTypes.FixedSizeArrays.Point\n",
       " GeometryTypes.FixedSizeArrays.Vec\n",
       " GeometryTypes.Normal\n",
       " GeometryTypes.TextureCoordinate\n",
       " GeometryTypes.Vec\n",
       " MArray\n",
       " SArray\n",
       " SHermitianCompact\n",
       " SUnitRange\n",
       " SizedArray"
      ]
     },
     "execution_count": 81,
     "metadata": {},
     "output_type": "execute_result"
    }
   ],
   "source": [
    "subtypes(StaticArray)"
   ]
  },
  {
   "cell_type": "code",
   "execution_count": 82,
   "metadata": {},
   "outputs": [
    {
     "data": {
      "text/plain": [
       "Any"
      ]
     },
     "execution_count": 82,
     "metadata": {},
     "output_type": "execute_result"
    }
   ],
   "source": [
    "supertype(AbstractArray)"
   ]
  },
  {
   "cell_type": "code",
   "execution_count": 83,
   "metadata": {},
   "outputs": [
    {
     "name": "stdout",
     "output_type": "stream",
     "text": [
      "StaticArray <: AbstractArray = true\n"
     ]
    },
    {
     "data": {
      "text/plain": [
       "true"
      ]
     },
     "execution_count": 83,
     "metadata": {},
     "output_type": "execute_result"
    }
   ],
   "source": [
    "@show StaticArray <: AbstractArray"
   ]
  },
  {
   "cell_type": "code",
   "execution_count": 84,
   "metadata": {},
   "outputs": [
    {
     "name": "stdout",
     "output_type": "stream",
     "text": [
      "SArray <: StaticArray = true\n"
     ]
    },
    {
     "data": {
      "text/plain": [
       "true"
      ]
     },
     "execution_count": 84,
     "metadata": {},
     "output_type": "execute_result"
    }
   ],
   "source": [
    "@show SArray <: StaticArray"
   ]
  },
  {
   "cell_type": "code",
   "execution_count": 85,
   "metadata": {},
   "outputs": [
    {
     "name": "stdout",
     "output_type": "stream",
     "text": [
      "SArray === StaticArray = false\n"
     ]
    },
    {
     "data": {
      "text/plain": [
       "false"
      ]
     },
     "execution_count": 85,
     "metadata": {},
     "output_type": "execute_result"
    }
   ],
   "source": [
    "@show  SArray === StaticArray"
   ]
  },
  {
   "cell_type": "markdown",
   "metadata": {},
   "source": [
    "**NOTE** : \"show_supertypes() does not seem work for obejects in the class of StaticArrays."
   ]
  },
  {
   "cell_type": "markdown",
   "metadata": {},
   "source": [
    "* Benchmark VS Small Vectors/Matrices"
   ]
  },
  {
   "cell_type": "code",
   "execution_count": 86,
   "metadata": {},
   "outputs": [
    {
     "name": "stdout",
     "output_type": "stream",
     "text": [
      "  67.491 ns (1 allocation: 112 bytes)\n",
      "  466.429 ns (5 allocations: 1.98 KiB)\n",
      "  0.024 ns (0 allocations: 0 bytes)\n",
      "  6.726 ns (0 allocations: 0 bytes)\n"
     ]
    },
    {
     "data": {
      "text/plain": [
       "3×3 SArray{Tuple{3,3},Float64,2,9} with indices SOneTo(3)×SOneTo(3):\n",
       " -1.08923   23.2235   -8.50186\n",
       "  2.27843   -6.82664   0.702451\n",
       " -0.780917  -6.9335    4.7282"
      ]
     },
     "execution_count": 86,
     "metadata": {},
     "output_type": "execute_result"
    }
   ],
   "source": [
    "N = 3\n",
    "A = rand(N, N)\n",
    "x = rand(N)\n",
    "\n",
    "@btime $A * $x  # the $ in front of variable names is sometimes important\n",
    "@btime inv($A)\n",
    "\n",
    "As = @SMatrix rand(N, N)\n",
    "xs = @SVector rand(N)\n",
    "\n",
    "\n",
    "@btime $As * $xs  # the $ in front of variable names is sometimes important\n",
    "@btime inv($As)"
   ]
  },
  {
   "cell_type": "code",
   "execution_count": 87,
   "metadata": {},
   "outputs": [
    {
     "name": "stdout",
     "output_type": "stream",
     "text": [
      "  106.733 ns (1 allocation: 208 bytes)\n",
      "  3.440 μs (5 allocations: 9.88 KiB)\n",
      "  0.023 ns (0 allocations: 0 bytes)\n",
      "  3.576 μs (6 allocations: 11.86 KiB)\n"
     ]
    },
    {
     "data": {
      "text/plain": [
       "15×15 SArray{Tuple{15,15},Float64,2,225} with indices SOneTo(15)×SOneTo(15):\n",
       "  0.0189847   0.428883   -0.808005   …   0.287311    -0.0471513   0.253871\n",
       " -1.51817     0.591734    0.427018       0.292501    -0.300663    0.801942\n",
       " -5.69268     1.3889     -0.243965      -1.94704      1.44634     3.47087\n",
       " -5.45545     0.201946   -0.100735      -2.89524      2.4042      4.57219\n",
       "  1.57268     0.550063    0.139981       0.547999    -1.28167    -1.87514\n",
       "  4.36123    -1.2114     -0.0615084  …   1.64618     -1.57242    -3.02571\n",
       "  0.096034    0.122558    0.0574135      0.0384763   -0.0090053  -0.145154\n",
       "  1.12936    -1.12783     0.370552       0.423491     0.547546   -0.451601\n",
       " -2.2637      0.0609243   0.175581      -1.37249      1.0732      2.33273\n",
       "  4.79014    -0.593125    0.583775       2.9593      -2.25307    -3.61479\n",
       "  0.225767   -0.863012   -0.552367   …  -0.00529559   0.339903    0.441463\n",
       "  0.60206    -0.252941    0.309559      -0.524006     0.884211    0.448236\n",
       "  0.59462    -0.744267    0.177493      -0.832797     0.592373    0.0530604\n",
       "  6.8208      0.73359     0.760235       4.14835     -3.59118    -6.43975\n",
       " -4.3696      0.154428   -0.907832      -2.33429      1.89246     3.15493"
      ]
     },
     "execution_count": 87,
     "metadata": {},
     "output_type": "execute_result"
    }
   ],
   "source": [
    "N = 15\n",
    "A = rand(N, N)\n",
    "x = rand(N)\n",
    "\n",
    "@btime $A * $x  # the $ in front of variable names is sometimes important\n",
    "@btime inv($A)\n",
    "\n",
    "As = @SMatrix rand(N, N)\n",
    "xs = @SVector rand(N)\n",
    "\n",
    "\n",
    "@btime $As * $xs  # the $ in front of variable names is sometimes important\n",
    "@btime inv($As)"
   ]
  },
  {
   "cell_type": "code",
   "execution_count": 88,
   "metadata": {},
   "outputs": [
    {
     "name": "stdout",
     "output_type": "stream",
     "text": [
      "Float64 <: FieldVector = false\n"
     ]
    },
    {
     "data": {
      "text/plain": [
       "false"
      ]
     },
     "execution_count": 88,
     "metadata": {},
     "output_type": "execute_result"
    }
   ],
   "source": [
    "@show Float64 <: FieldVector"
   ]
  },
  {
   "cell_type": "code",
   "execution_count": 89,
   "metadata": {},
   "outputs": [
    {
     "name": "stdout",
     "output_type": "stream",
     "text": [
      "Float64 <: StaticVector = false\n"
     ]
    },
    {
     "data": {
      "text/plain": [
       "false"
      ]
     },
     "execution_count": 89,
     "metadata": {},
     "output_type": "execute_result"
    }
   ],
   "source": [
    "@show Float64 <: StaticVector"
   ]
  },
  {
   "cell_type": "markdown",
   "metadata": {},
   "source": [
    "## Exercise 2"
   ]
  },
  {
   "cell_type": "code",
   "execution_count": 90,
   "metadata": {},
   "outputs": [
    {
     "name": "stdout",
     "output_type": "stream",
     "text": [
      "  618.448 ns (10 allocations: 1.94 KiB)\n"
     ]
    },
    {
     "data": {
      "text/plain": [
       "2×2 Array{Float64,2}:\n",
       " 0.666667     1.11022e-16\n",
       " 1.11022e-16  0.666667"
      ]
     },
     "execution_count": 90,
     "metadata": {},
     "output_type": "execute_result"
    }
   ],
   "source": [
    "Σ = [0.4  0.3;\n",
    "     0.3  0.45]\n",
    "G = I\n",
    "R = 0.5 * Σ\n",
    "\n",
    "gain(Σ, G, R) = Σ * G' * inv(G * Σ * G' + R)\n",
    "@btime gain($Σ, $G, $R)"
   ]
  },
  {
   "cell_type": "code",
   "execution_count": 91,
   "metadata": {},
   "outputs": [
    {
     "name": "stdout",
     "output_type": "stream",
     "text": [
      "  0.023 ns (0 allocations: 0 bytes)\n"
     ]
    },
    {
     "data": {
      "text/plain": [
       "2×2 SArray{Tuple{2,2},Float64,2,4} with indices SOneTo(2)×SOneTo(2):\n",
       " 0.666667     1.11022e-16\n",
       " 2.22045e-16  0.666667"
      ]
     },
     "execution_count": 91,
     "metadata": {},
     "output_type": "execute_result"
    }
   ],
   "source": [
    "Σ = SMatrix{2,2}(0.4,0.3,0.3,0.45)\n",
    "G = I\n",
    "R = 0.5 * Σ\n",
    "\n",
    "gain(Σ, G, R) = Σ * G' * inv(G * Σ * G' + R)\n",
    "@btime gain($Σ, $G, $R)"
   ]
  },
  {
   "cell_type": "code",
   "execution_count": 92,
   "metadata": {},
   "outputs": [
    {
     "data": {
      "text/plain": [
       "UniformScaling{Bool}"
      ]
     },
     "execution_count": 92,
     "metadata": {},
     "output_type": "execute_result"
    }
   ],
   "source": [
    "typeof(G)"
   ]
  },
  {
   "cell_type": "code",
   "execution_count": 93,
   "metadata": {},
   "outputs": [
    {
     "data": {
      "text/plain": [
       "SArray{Tuple{2,2},Float64,2,4}"
      ]
     },
     "execution_count": 93,
     "metadata": {},
     "output_type": "execute_result"
    }
   ],
   "source": [
    "typeof(Σ)"
   ]
  },
  {
   "cell_type": "code",
   "execution_count": 94,
   "metadata": {},
   "outputs": [
    {
     "data": {
      "text/plain": [
       "SArray{Tuple{2,2},Float64,2,4}"
      ]
     },
     "execution_count": 94,
     "metadata": {},
     "output_type": "execute_result"
    }
   ],
   "source": [
    "typeof(R)"
   ]
  },
  {
   "cell_type": "markdown",
   "metadata": {},
   "source": [
    "## Exercise 3"
   ]
  },
  {
   "cell_type": "markdown",
   "metadata": {},
   "source": [
    "[Polynomials.jl](https://github.com/JuliaMath/Polynomials.jl)"
   ]
  },
  {
   "cell_type": "code",
   "execution_count": 95,
   "metadata": {},
   "outputs": [
    {
     "name": "stdout",
     "output_type": "stream",
     "text": [
      "p = Poly(2 - 5*x + 2*x^2)\n",
      "(p(0.1), p′(0.1)) = (1.52, -4.6)\n",
      "roots(p) = [0.5, 2.0]\n"
     ]
    },
    {
     "ename": "MethodError",
     "evalue": "MethodError: no method matching get_color_palette(::Symbol, ::RGBA{Float64}, ::Int64)\nClosest candidates are:\n  get_color_palette(::Any, ::Any) at /Users/taisei/.julia/packages/PlotUtils/T5XYM/src/colorschemes.jl:328\n  get_color_palette(!Matched::ColorGradient, ::Any) at /Users/taisei/.julia/packages/PlotUtils/T5XYM/src/colorschemes.jl:329",
     "output_type": "error",
     "traceback": [
      "MethodError: no method matching get_color_palette(::Symbol, ::RGBA{Float64}, ::Int64)\nClosest candidates are:\n  get_color_palette(::Any, ::Any) at /Users/taisei/.julia/packages/PlotUtils/T5XYM/src/colorschemes.jl:328\n  get_color_palette(!Matched::ColorGradient, ::Any) at /Users/taisei/.julia/packages/PlotUtils/T5XYM/src/colorschemes.jl:329",
      "",
      "Stacktrace:",
      " [1] _update_subplot_colors(::Plots.Subplot{Plots.GRBackend}) at /Users/taisei/.julia/packages/Plots/WwFyB/src/args.jl:1436",
      " [2] _update_subplot_args(::Plots.Plot{Plots.GRBackend}, ::Plots.Subplot{Plots.GRBackend}, ::Dict{Symbol,Any}, ::Int64, ::Bool) at /Users/taisei/.julia/packages/Plots/WwFyB/src/args.jl:1523",
      " [3] _subplot_setup(::Plots.Plot{Plots.GRBackend}, ::Dict{Symbol,Any}, ::Array{Dict{Symbol,Any},1}) at /Users/taisei/.julia/packages/Plots/WwFyB/src/pipeline.jl:297",
      " [4] _plot!(::Plots.Plot{Plots.GRBackend}, ::Dict{Symbol,Any}, ::Tuple{StepRangeLen{Float64,Base.TwicePrecision{Float64},Base.TwicePrecision{Float64}},Array{Float64,1}}) at /Users/taisei/.julia/packages/Plots/WwFyB/src/plot.jl:206",
      " [5] plot(::StepRangeLen{Float64,Base.TwicePrecision{Float64},Base.TwicePrecision{Float64}}, ::Vararg{Any,N} where N; kw::Base.Iterators.Pairs{Symbol,String,Tuple{Symbol},NamedTuple{(:label,),Tuple{String}}}) at /Users/taisei/.julia/packages/Plots/WwFyB/src/plot.jl:57",
      " [6] top-level scope at In[95]:13"
     ]
    }
   ],
   "source": [
    "using Polynomials\n",
    "using Plots\n",
    "\n",
    "p = Poly([2, -5, 2], :x)  # :x just gives a symbol for display\n",
    "@show p\n",
    "p′ = polyder(p)   # gives the derivative of p, another polynomial\n",
    "@show p(0.1), p′(0.1)  # call like a function\n",
    "@show roots(p);   # find roots such that p(x) = 0\n",
    "\n",
    "x = -2:0.01:2\n",
    "p_x = p.(x)\n",
    "p′_x = p′.(x)\n",
    "\n",
    "plot(x[1:end], p_x[1:end],label = \"p\") \n",
    "plot!(x[1:end-1], p′_x[1:end-1],label = \"p′\")"
   ]
  },
  {
   "cell_type": "markdown",
   "metadata": {},
   "source": [
    "## Exercise 4: Revisiting Newton's Method"
   ]
  },
  {
   "cell_type": "code",
   "execution_count": 96,
   "metadata": {},
   "outputs": [],
   "source": [
    "using LinearAlgebra, BenchmarkTools,Polynomials"
   ]
  },
  {
   "cell_type": "code",
   "execution_count": 97,
   "metadata": {},
   "outputs": [
    {
     "data": {
      "text/plain": [
       "newtonsmethod (generic function with 1 method)"
      ]
     },
     "execution_count": 97,
     "metadata": {},
     "output_type": "execute_result"
    }
   ],
   "source": [
    "using Polynomials\n",
    "function newtonsmethod(p::Poly,x_0;tolerance=1E-7,maxiter=100)\n",
    "    x=x_0\n",
    "    normdiff=Inf\n",
    "    i = 1\n",
    "    p_prime=polyder(p)\n",
    "    while normdiff > tolerance && i ≤ maxiter\n",
    "        x_new=x-p(x)/p_prime(x)\n",
    "        normdiff=norm(x_new-x)\n",
    "        x=x_new\n",
    "        i += 1\n",
    "    end\n",
    "    return (sol=x,normdiff=normdiff,i=i)\n",
    "end"
   ]
  },
  {
   "cell_type": "code",
   "execution_count": 98,
   "metadata": {},
   "outputs": [
    {
     "name": "stdout",
     "output_type": "stream",
     "text": [
      "  255.805 ns (6 allocations: 384 bytes)\n",
      "  1.181 μs (23 allocations: 2.33 KiB)\n"
     ]
    },
    {
     "data": {
      "text/plain": [
       "2-element Array{Float64,1}:\n",
       " 0.5\n",
       " 2.0"
      ]
     },
     "execution_count": 98,
     "metadata": {},
     "output_type": "execute_result"
    }
   ],
   "source": [
    "using BenchmarkTools\n",
    "x = Poly([2, -5, 2], :x)\n",
    "@btime newtonsmethod(x,0.15)\n",
    "@btime roots(x)"
   ]
  },
  {
   "cell_type": "markdown",
   "metadata": {},
   "source": [
    "## Exercise 5: trapezoidal rule"
   ]
  },
  {
   "cell_type": "code",
   "execution_count": 99,
   "metadata": {},
   "outputs": [],
   "source": [
    "using BenchmarkTools"
   ]
  },
  {
   "cell_type": "code",
   "execution_count": 122,
   "metadata": {},
   "outputs": [
    {
     "data": {
      "text/plain": [
       "trapezoidal1 (generic function with 1 method)"
      ]
     },
     "execution_count": 122,
     "metadata": {},
     "output_type": "execute_result"
    }
   ],
   "source": [
    "function trapezoidal1(f::AbstractArray,x::AbstractArray)\n",
    "    @assert length(x)==length(f)\n",
    "    s=zeros(length(x)-1)\n",
    "    for i in 1:length(x)-1\n",
    "        s[i]=(f[i]+f[i+1])*(norm(x[i+1]-x[i]))/2\n",
    "    end\n",
    "    return sum(s)\n",
    "end"
   ]
  },
  {
   "cell_type": "code",
   "execution_count": 123,
   "metadata": {},
   "outputs": [
    {
     "data": {
      "text/plain": [
       "0.335"
      ]
     },
     "execution_count": 123,
     "metadata": {},
     "output_type": "execute_result"
    }
   ],
   "source": [
    "x=[0.0,0.1,0.2,0.3,0.4,0.5,0.6,0.7,0.8,0.9,1.0]\n",
    "F=x.^2\n",
    "trapezoidal1(F,x)"
   ]
  },
  {
   "cell_type": "markdown",
   "metadata": {},
   "source": [
    "**NOTE** Can we do without vectorizing s? "
   ]
  },
  {
   "cell_type": "code",
   "execution_count": 102,
   "metadata": {},
   "outputs": [
    {
     "data": {
      "text/plain": [
       "tapezoidal2 (generic function with 1 method)"
      ]
     },
     "execution_count": 102,
     "metadata": {},
     "output_type": "execute_result"
    }
   ],
   "source": [
    "function tapezoidal2(f::AbstractArray,x::AbstractRange)\n",
    "    @assert length(x)==length(f)\n",
    "    s=zeros(length(x)-1)\n",
    "    for i in 1:length(x)-1\n",
    "        s[i]=(f[i]+f[i+1])*step(x)/2\n",
    "    end\n",
    "    return sum(s)\n",
    "end"
   ]
  },
  {
   "cell_type": "code",
   "execution_count": 125,
   "metadata": {},
   "outputs": [
    {
     "name": "stdout",
     "output_type": "stream",
     "text": [
      "  67.411 ns (2 allocations: 176 bytes)\n"
     ]
    },
    {
     "data": {
      "text/plain": [
       "0.335"
      ]
     },
     "execution_count": 125,
     "metadata": {},
     "output_type": "execute_result"
    }
   ],
   "source": [
    "x=0:0.1:1.0\n",
    "F=x.^2\n",
    "@btime tapezoidal2(F,x)"
   ]
  },
  {
   "cell_type": "code",
   "execution_count": 126,
   "metadata": {},
   "outputs": [
    {
     "data": {
      "text/plain": [
       "11"
      ]
     },
     "execution_count": 126,
     "metadata": {},
     "output_type": "execute_result"
    }
   ],
   "source": [
    "length(x)"
   ]
  },
  {
   "cell_type": "code",
   "execution_count": 128,
   "metadata": {},
   "outputs": [
    {
     "data": {
      "text/plain": [
       "trapezoidal3 (generic function with 1 method)"
      ]
     },
     "execution_count": 128,
     "metadata": {},
     "output_type": "execute_result"
    }
   ],
   "source": [
    "function trapezoidal3(f::Function,a::Real,b::Real,N::Real)\n",
    "    r=range(a,b,length=N)\n",
    "    s=zeros(length(r)-1)\n",
    "    for i in 1:length(r)-1\n",
    "        s[i]=(f(r[i])+f(r[i+1]))*step(r)/2\n",
    "    end\n",
    "    return sum(s)\n",
    "end"
   ]
  },
  {
   "cell_type": "code",
   "execution_count": 166,
   "metadata": {},
   "outputs": [
    {
     "name": "stdout",
     "output_type": "stream",
     "text": [
      "  186.215 ns (1 allocation: 160 bytes)\n"
     ]
    },
    {
     "data": {
      "text/plain": [
       "0.335"
      ]
     },
     "execution_count": 166,
     "metadata": {},
     "output_type": "execute_result"
    }
   ],
   "source": [
    "sq(x::Real)=x^2\n",
    "@btime trapezoidal3(sq,0.0,1.0,11)"
   ]
  },
  {
   "cell_type": "markdown",
   "metadata": {},
   "source": [
    "**NOTE:Often functions are not defined as I intent when I use f,g. Why?**"
   ]
  },
  {
   "cell_type": "code",
   "execution_count": 106,
   "metadata": {},
   "outputs": [
    {
     "name": "stdout",
     "output_type": "stream",
     "text": [
      "  92.996 ns (5 allocations: 144 bytes)\n"
     ]
    },
    {
     "data": {
      "text/plain": [
       "(1.5, 0.0)"
      ]
     },
     "execution_count": 106,
     "metadata": {},
     "output_type": "execute_result"
    }
   ],
   "source": [
    "using QuadGK\n",
    "\n",
    "@btime value,accuracy=quadgk(g,0.0,1.0)"
   ]
  },
  {
   "cell_type": "markdown",
   "metadata": {},
   "source": [
    "## Exercise 6(INCOMPLETED)"
   ]
  },
  {
   "cell_type": "code",
   "execution_count": 173,
   "metadata": {},
   "outputs": [
    {
     "data": {
      "text/plain": [
       "Df (generic function with 1 method)"
      ]
     },
     "execution_count": 173,
     "metadata": {},
     "output_type": "execute_result"
    }
   ],
   "source": [
    "using ForwardDiff\n",
    "\n",
    "Df(x) = ForwardDiff.derivative(y -> , y)"
   ]
  },
  {
   "cell_type": "code",
   "execution_count": 171,
   "metadata": {},
   "outputs": [
    {
     "ename": "MethodError",
     "evalue": "MethodError: objects of type Float64 are not callable",
     "output_type": "error",
     "traceback": [
      "MethodError: objects of type Float64 are not callable",
      "",
      "Stacktrace:",
      " [1] derivative(::Float64, ::Int64) at /Users/taisei/.julia/packages/ForwardDiff/cXTw0/src/derivative.jl:14",
      " [2] top-level scope at In[171]:1"
     ]
    }
   ],
   "source": [
    "y=ForwardDiff.derivative(trapezoidal3(,2)"
   ]
  },
  {
   "cell_type": "code",
   "execution_count": 108,
   "metadata": {},
   "outputs": [
    {
     "ename": "LoadError",
     "evalue": "syntax: unexpected \"=\"",
     "output_type": "error",
     "traceback": [
      "syntax: unexpected \"=\"",
      ""
     ]
    }
   ],
   "source": [
    "using ForwardDiff\n",
    "\n",
    "function \n",
    "# operator to get the derivative of this function using AD\n",
    "D(f) = x -> ForwardDiff.derivative(f, x)\n",
    "\n",
    "# example usage: create a function and get the derivative\n",
    "f(x) = x^2\n",
    "f_prime = D(f)\n",
    "\n",
    "f(0.1), f_prime(0.1)"
   ]
  },
  {
   "cell_type": "code",
   "execution_count": 109,
   "metadata": {},
   "outputs": [
    {
     "data": {
      "text/plain": [
       "fixedpointmapfd (generic function with 1 method)"
      ]
     },
     "execution_count": 109,
     "metadata": {},
     "output_type": "execute_result"
    }
   ],
   "source": [
    "using BenchmarkTools,LinearAlgebra,ForwardDiff\n",
    "function fixedpointmapfd(f,x_0;\n",
    "        tolerance = 1e-6,maxiter = 500)\n",
    "    x=x_0\n",
    "    normdiff=Inf\n",
    "    i = 1\n",
    "    f_prime = x -> ForwardDiff.derivative(f,x)\n",
    "    while normdiff > tolerance && i ≤ maxiter\n",
    "        x_new=x-f(x)/f_prime(x)\n",
    "        normdiff=norm(x_new-x)\n",
    "        x=x_new\n",
    "        i += 1\n",
    "    end\n",
    "    return (sol=x,normdiff=normdiff,i=i)\n",
    "end"
   ]
  }
 ],
 "metadata": {
  "kernelspec": {
   "display_name": "Julia 1.4.1",
   "language": "julia",
   "name": "julia-1.4"
  },
  "language_info": {
   "file_extension": ".jl",
   "mimetype": "application/julia",
   "name": "julia",
   "version": "1.4.2"
  },
  "toc-autonumbering": true
 },
 "nbformat": 4,
 "nbformat_minor": 4
}
