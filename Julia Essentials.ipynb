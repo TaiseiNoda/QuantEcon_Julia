{
 "cells": [
  {
   "cell_type": "code",
   "execution_count": 4,
   "metadata": {},
   "outputs": [
    {
     "name": "stdout",
     "output_type": "stream",
     "text": [
      "\u001b[32m\u001b[1mActivated\u001b[0m /Users/yurimatsumura/Project.toml\u001b[39m\n",
      "\u001b[36m\u001b[1mInfo\u001b[0m Project name is quantecon-notebooks-julia, version is 0.5.0\u001b[39m\n"
     ]
    },
    {
     "data": {
      "text/plain": [
       "\"foobar\""
      ]
     },
     "execution_count": 4,
     "metadata": {},
     "output_type": "execute_result"
    }
   ],
   "source": [
    "using InstantiateFromURL\n",
    "github_project(\"QuantEcon/quantecon-notebooks-julia\", version = \"0.5.0\")\n",
    "# uncomment to force package installation\n",
    "# github_project(\"QuantEcon/quantecon-notebooks-julia\", version=\"0.5.0\", instantiate=true)\n",
    "\n",
    "\n",
    "using LinearAlgebra, Statistics\n",
    "\n",
    "\"foo\" * \"bar\""
   ]
  },
  {
   "cell_type": "code",
   "execution_count": 6,
   "metadata": {},
   "outputs": [
    {
     "data": {
      "text/plain": [
       "3-element Array{SubString{String},1}:\n",
       " \"Hello\"\n",
       " \"the\"\n",
       " \"World\""
      ]
     },
     "execution_count": 6,
     "metadata": {},
     "output_type": "execute_result"
    }
   ],
   "source": [
    "s = \"Hello the World\"\n",
    "split(s)"
   ]
  },
  {
   "cell_type": "code",
   "execution_count": 8,
   "metadata": {},
   "outputs": [
    {
     "data": {
      "text/plain": [
       "\"Goodbay the World\""
      ]
     },
     "execution_count": 8,
     "metadata": {},
     "output_type": "execute_result"
    }
   ],
   "source": [
    "replace(s, \"Hello\" => \"Goodbay\")"
   ]
  },
  {
   "cell_type": "code",
   "execution_count": 10,
   "metadata": {},
   "outputs": [
    {
     "name": "stdout",
     "output_type": "stream",
     "text": [
      "Taisei doesn't surf.\n",
      "Taisei doesn't ski.\n"
     ]
    }
   ],
   "source": [
    "actions = [\"surf\" , \"ski\"]\n",
    "for action in actions\n",
    "    println(\"Taisei doesn't $action.\")\n",
    "end"
   ]
  },
  {
   "cell_type": "code",
   "execution_count": 18,
   "metadata": {},
   "outputs": [
    {
     "data": {
      "text/plain": [
       "Base.ValueIterator for a Dict{String,Any} with 2 entries. Values:\n",
       "  \"Frodo\"\n",
       "  33"
      ]
     },
     "execution_count": 18,
     "metadata": {},
     "output_type": "execute_result"
    }
   ],
   "source": [
    "d = Dict(\"nam\" => \"Frodo\", \"age\" => 33)\n",
    "values(d)"
   ]
  },
  {
   "cell_type": "code",
   "execution_count": 22,
   "metadata": {},
   "outputs": [
    {
     "name": "stdout",
     "output_type": "stream",
     "text": [
      "[0.9092974268256817, -0.7568024953079282, -0.27941549819892586, 0.9893582466233818]"
     ]
    }
   ],
   "source": [
    "x_vec = [2.0, 4.0, 6.0, 8.0]\n",
    "y_vec = similar(x_vec)\n",
    "for (i,x) in enumerate(x_vec)\n",
    "    y_vec[i] = sin(x)\n",
    "end\n",
    "\n",
    "print(y_vec)"
   ]
  },
  {
   "cell_type": "code",
   "execution_count": 28,
   "metadata": {},
   "outputs": [
    {
     "data": {
      "text/plain": [
       "6"
      ]
     },
     "execution_count": 28,
     "metadata": {},
     "output_type": "execute_result"
    }
   ],
   "source": [
    "# Exercise 1 part 1\n",
    "\n",
    "n = 100\n",
    "\n",
    "x_vals = [1,2,3]\n",
    "y_vals = [1,1,1]\n",
    "\n",
    "\n",
    "inner_prod = sum(x * y for (x, y) in zip(x_vals, y_vals))\n",
    "\n"
   ]
  },
  {
   "cell_type": "code",
   "execution_count": 40,
   "metadata": {},
   "outputs": [
    {
     "data": {
      "text/plain": [
       "50"
      ]
     },
     "execution_count": 40,
     "metadata": {},
     "output_type": "execute_result"
    }
   ],
   "source": [
    "# Exercise 1 part 2\n",
    "\n",
    "numbers = [i for i in 0:99]\n",
    "\n",
    "\n",
    "count = sum(iseven, 0:99)"
   ]
  },
  {
   "cell_type": "code",
   "execution_count": 89,
   "metadata": {},
   "outputs": [
    {
     "data": {
      "text/plain": [
       "2"
      ]
     },
     "execution_count": 89,
     "metadata": {},
     "output_type": "execute_result"
    }
   ],
   "source": [
    "# Exercise 1 part 3\n",
    "\n",
    "pairs = ((2, 5), (4, 2), (9, 8), (12, 10))\n",
    "count = sum(iseven, [iseven.(pairs[i][1]) .* iseven.(pairs[i][2]) for i  in 1:4 ]  ) \n",
    "\n"
   ]
  },
  {
   "cell_type": "code",
   "execution_count": 141,
   "metadata": {},
   "outputs": [
    {
     "data": {
      "text/plain": [
       "5"
      ]
     },
     "execution_count": 141,
     "metadata": {},
     "output_type": "execute_result"
    }
   ],
   "source": [
    "# Exercise 2\n",
    "\n",
    "p(x,coeff) = sum( a * x^(i-1) for (i, a) in enumerate(coeff))\n",
    "\n",
    "p(2,[1,2])"
   ]
  },
  {
   "cell_type": "code",
   "execution_count": 152,
   "metadata": {},
   "outputs": [
    {
     "data": {
      "text/plain": [
       "4"
      ]
     },
     "execution_count": 152,
     "metadata": {},
     "output_type": "execute_result"
    }
   ],
   "source": [
    "# Exercise 3\n",
    "\n",
    "\n",
    "counter(x) = sum(uppercase(x)[i] == x[i] for i in 1:length(x)) # uppercase makes all letters be capital letters\n",
    "\n",
    "x = \"ClosurWithTheEmbedded\"\n",
    "counter(x)"
   ]
  },
  {
   "cell_type": "code",
   "execution_count": 155,
   "metadata": {},
   "outputs": [
    {
     "data": {
      "text/plain": [
       "true"
      ]
     },
     "execution_count": 155,
     "metadata": {},
     "output_type": "execute_result"
    }
   ],
   "source": [
    "# Exercise 4 \n",
    "\n",
    "counter(x, y) = all(x[i] == y[i] for i in 1:length(x))  # all is a function which returns true if for every elements an argument is true\n",
    "\n",
    "x = [1,2,5,6,7,83,100]\n",
    "y = [1,2,5,6,7,83,100]\n",
    "    \n",
    "counter(x,y)\n"
   ]
  }
 ],
 "metadata": {
  "kernelspec": {
   "display_name": "Julia 1.4.1",
   "language": "julia",
   "name": "julia-1.4"
  },
  "language_info": {
   "file_extension": ".jl",
   "mimetype": "application/julia",
   "name": "julia",
   "version": "1.4.1"
  }
 },
 "nbformat": 4,
 "nbformat_minor": 4
}
