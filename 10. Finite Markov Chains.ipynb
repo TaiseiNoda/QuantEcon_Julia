{
 "cells": [
  {
   "cell_type": "markdown",
   "metadata": {},
   "source": [
    "### Finite Markov Chains"
   ]
  },
  {
   "cell_type": "code",
   "execution_count": 1,
   "metadata": {},
   "outputs": [],
   "source": [
    "using LinearAlgebra, Statistics\n",
    "using Distributions, Plots, Printf, QuantEcon, Random\n",
    "gr(fmt = :png);"
   ]
  },
  {
   "cell_type": "code",
   "execution_count": 6,
   "metadata": {},
   "outputs": [
    {
     "name": "stdout",
     "output_type": "stream",
     "text": [
      "rand(d, 5) = [1, 2, 1, 3, 2]\n",
      "supertype(typeof(d)) = Distribution{Univariate,Discrete}\n",
      "pdf(d, 1) = 0.5\n",
      "support(d) = Base.OneTo(3)\n",
      "pdf.(d, support(d)) = [0.5, 0.3, 0.2]\n"
     ]
    }
   ],
   "source": [
    "d = Categorical([0.5, 0.3, 0.2]) # 3 discrete states\n",
    "@show rand(d, 5)\n",
    "@show supertype(typeof(d))\n",
    "@show pdf(d, 1) # the probability to be in state 1\n",
    "@show support(d)\n",
    "@show pdf.(d, support(d)); # broadcast the pdf over the whole support"
   ]
  },
  {
   "cell_type": "code",
   "execution_count": 3,
   "metadata": {},
   "outputs": [
    {
     "name": "stdout",
     "output_type": "stream",
     "text": [
      "search: \u001b[0m\u001b[1mC\u001b[22m\u001b[0m\u001b[1ma\u001b[22m\u001b[0m\u001b[1mt\u001b[22m\u001b[0m\u001b[1me\u001b[22m\u001b[0m\u001b[1mg\u001b[22m\u001b[0m\u001b[1mo\u001b[22m\u001b[0m\u001b[1mr\u001b[22m\u001b[0m\u001b[1mi\u001b[22m\u001b[0m\u001b[1mc\u001b[22m\u001b[0m\u001b[1ma\u001b[22m\u001b[0m\u001b[1ml\u001b[22m n\u001b[0m\u001b[1mc\u001b[22m\u001b[0m\u001b[1ma\u001b[22m\u001b[0m\u001b[1mt\u001b[22m\u001b[0m\u001b[1me\u001b[22m\u001b[0m\u001b[1mg\u001b[22m\u001b[0m\u001b[1mo\u001b[22m\u001b[0m\u001b[1mr\u001b[22m\u001b[0m\u001b[1mi\u001b[22mes\n",
      "\n"
     ]
    },
    {
     "data": {
      "text/latex": [
       "\\begin{verbatim}\n",
       "Categorical(p)\n",
       "\\end{verbatim}\n",
       "A \\emph{Categorical distribution} is parameterized by a probability vector \\texttt{p} (of length \\texttt{K}).\n",
       "\n",
       "$$P(X = k) = p[k]  \\quad \\text{for } k = 1, 2, \\ldots, K.$$\n",
       "\\begin{verbatim}\n",
       "Categorical(p)   # Categorical distribution with probability vector p\n",
       "params(d)        # Get the parameters, i.e. (p,)\n",
       "probs(d)         # Get the probability vector, i.e. p\n",
       "ncategories(d)   # Get the number of categories, i.e. K\n",
       "\\end{verbatim}\n",
       "Here, \\texttt{p} must be a real vector, of which all components are nonnegative and sum to one.\n",
       "\n",
       "\\textbf{Note:} The input vector \\texttt{p} is directly used as a field of the constructed distribution, without being copied.\n",
       "\n",
       "\\texttt{Categorical} is simply a type alias describing a special case of a \\texttt{DiscreteNonParametric} distribution, so non-specialized methods defined for \\texttt{DiscreteNonParametric} apply to \\texttt{Categorical} as well.\n",
       "\n",
       "External links:\n",
       "\n",
       "\\begin{itemize}\n",
       "\\item \\href{http://en.wikipedia.org/wiki/Categorical_distribution}{Categorical distribution on Wikipedia}\n",
       "\n",
       "\\end{itemize}\n"
      ],
      "text/markdown": [
       "```\n",
       "Categorical(p)\n",
       "```\n",
       "\n",
       "A *Categorical distribution* is parameterized by a probability vector `p` (of length `K`).\n",
       "\n",
       "$$\n",
       "P(X = k) = p[k]  \\quad \\text{for } k = 1, 2, \\ldots, K.\n",
       "$$\n",
       "\n",
       "```julia\n",
       "Categorical(p)   # Categorical distribution with probability vector p\n",
       "params(d)        # Get the parameters, i.e. (p,)\n",
       "probs(d)         # Get the probability vector, i.e. p\n",
       "ncategories(d)   # Get the number of categories, i.e. K\n",
       "```\n",
       "\n",
       "Here, `p` must be a real vector, of which all components are nonnegative and sum to one.\n",
       "\n",
       "**Note:** The input vector `p` is directly used as a field of the constructed distribution, without being copied.\n",
       "\n",
       "`Categorical` is simply a type alias describing a special case of a `DiscreteNonParametric` distribution, so non-specialized methods defined for `DiscreteNonParametric` apply to `Categorical` as well.\n",
       "\n",
       "External links:\n",
       "\n",
       "  * [Categorical distribution on Wikipedia](http://en.wikipedia.org/wiki/Categorical_distribution)\n"
      ],
      "text/plain": [
       "\u001b[36m  Categorical(p)\u001b[39m\n",
       "\n",
       "  A \u001b[4mCategorical distribution\u001b[24m is parameterized by a probability vector \u001b[36mp\u001b[39m (of\n",
       "  length \u001b[36mK\u001b[39m).\n",
       "\n",
       "\u001b[35mP(X = k) = p[k]  \\quad \\text{for } k = 1, 2, \\ldots, K.\u001b[39m\n",
       "\n",
       "\u001b[36m  Categorical(p)   # Categorical distribution with probability vector p\u001b[39m\n",
       "\u001b[36m  params(d)        # Get the parameters, i.e. (p,)\u001b[39m\n",
       "\u001b[36m  probs(d)         # Get the probability vector, i.e. p\u001b[39m\n",
       "\u001b[36m  ncategories(d)   # Get the number of categories, i.e. K\u001b[39m\n",
       "\n",
       "  Here, \u001b[36mp\u001b[39m must be a real vector, of which all components are nonnegative and\n",
       "  sum to one.\n",
       "\n",
       "  \u001b[1mNote:\u001b[22m The input vector \u001b[36mp\u001b[39m is directly used as a field of the constructed\n",
       "  distribution, without being copied.\n",
       "\n",
       "  \u001b[36mCategorical\u001b[39m is simply a type alias describing a special case of a\n",
       "  \u001b[36mDiscreteNonParametric\u001b[39m distribution, so non-specialized methods defined for\n",
       "  \u001b[36mDiscreteNonParametric\u001b[39m apply to \u001b[36mCategorical\u001b[39m as well.\n",
       "\n",
       "  External links:\n",
       "\n",
       "    •    Categorical distribution on Wikipedia\n",
       "        (http://en.wikipedia.org/wiki/Categorical_distribution)"
      ]
     },
     "execution_count": 3,
     "metadata": {},
     "output_type": "execute_result"
    }
   ],
   "source": [
    "?Categorical"
   ]
  },
  {
   "cell_type": "code",
   "execution_count": 14,
   "metadata": {},
   "outputs": [
    {
     "data": {
      "text/plain": [
       "mc_sample_path (generic function with 1 method)"
      ]
     },
     "execution_count": 14,
     "metadata": {},
     "output_type": "execute_result"
    }
   ],
   "source": [
    "function mc_sample_path(P; init = 1, sample_size = 1000)\n",
    "    @assert size(P)[1] == size(P)[2]\n",
    "    N = size(P)[1]\n",
    "    \n",
    "    dists = [Categorical(P[i,:]) for i in 1:N]\n",
    "    \n",
    "    X = fill(0,sample_size)\n",
    "    X[1] = init\n",
    "    \n",
    "    for t in 2:sample_size\n",
    "        dist = dists[X[t-1]]\n",
    "        X[t] = rand(dist)\n",
    "    end\n",
    "    return X\n",
    "end"
   ]
  },
  {
   "cell_type": "code",
   "execution_count": 21,
   "metadata": {},
   "outputs": [
    {
     "data": {
      "text/plain": [
       "0.24742"
      ]
     },
     "execution_count": 21,
     "metadata": {},
     "output_type": "execute_result"
    }
   ],
   "source": [
    "P = [0.4 0.6; 0.2 0.8]\n",
    "X = mc_sample_path(P, sample_size = 100_000)\n",
    "μ_1 = count(X .== 1)/length(X) "
   ]
  },
  {
   "cell_type": "code",
   "execution_count": 22,
   "metadata": {},
   "outputs": [
    {
     "data": {
      "text/plain": [
       "0.25112"
      ]
     },
     "execution_count": 22,
     "metadata": {},
     "output_type": "execute_result"
    }
   ],
   "source": [
    "P = [0.4 0.6; 0.2 0.8];\n",
    "mc = MarkovChain(P)\n",
    "X = simulate(mc, 100_000);\n",
    "μ_2 = count(X .== 1)/length(X) # or mean(x -> x == 1, X)"
   ]
  },
  {
   "cell_type": "code",
   "execution_count": 23,
   "metadata": {},
   "outputs": [
    {
     "data": {
      "text/plain": [
       "4-element Array{String,1}:\n",
       " \"unemployed\"\n",
       " \"unemployed\"\n",
       " \"unemployed\"\n",
       " \"unemployed\""
      ]
     },
     "execution_count": 23,
     "metadata": {},
     "output_type": "execute_result"
    }
   ],
   "source": [
    "mc = MarkovChain(P, [\"unemployed\", \"employed\"])\n",
    "simulate(mc, 4, init = 1) # start at state 1"
   ]
  },
  {
   "cell_type": "code",
   "execution_count": 24,
   "metadata": {},
   "outputs": [
    {
     "data": {
      "text/plain": [
       "4-element Array{String,1}:\n",
       " \"employed\"\n",
       " \"unemployed\"\n",
       " \"employed\"\n",
       " \"employed\""
      ]
     },
     "execution_count": 24,
     "metadata": {},
     "output_type": "execute_result"
    }
   ],
   "source": [
    "simulate(mc, 4, init = 2) # start at state 2"
   ]
  },
  {
   "cell_type": "code",
   "execution_count": 25,
   "metadata": {},
   "outputs": [
    {
     "data": {
      "text/plain": [
       "4-element Array{String,1}:\n",
       " \"employed\"\n",
       " \"unemployed\"\n",
       " \"employed\"\n",
       " \"employed\""
      ]
     },
     "execution_count": 25,
     "metadata": {},
     "output_type": "execute_result"
    }
   ],
   "source": [
    "simulate(mc, 4) # start with randomly chosen initial condition"
   ]
  },
  {
   "cell_type": "code",
   "execution_count": 26,
   "metadata": {},
   "outputs": [
    {
     "data": {
      "text/plain": [
       "true"
      ]
     },
     "execution_count": 26,
     "metadata": {},
     "output_type": "execute_result"
    }
   ],
   "source": [
    "P = [0.9 0.1.0.0 0.0; 0.4 0.4 0.2; 0.1.0.0 0.1.0.0 0.8];\n",
    "mc = MarkovChain(P)\n",
    "is_irreducible(mc)"
   ]
  },
  {
   "cell_type": "code",
   "execution_count": 41,
   "metadata": {},
   "outputs": [
    {
     "data": {
      "text/plain": [
       "1"
      ]
     },
     "execution_count": 41,
     "metadata": {},
     "output_type": "execute_result"
    }
   ],
   "source": [
    "P = [0.00.5 0.5; 1.0.0 0.00; 0.00.01];\n",
    "mc = MarkovChain(P);\n",
    "period(mc)"
   ]
  },
  {
   "cell_type": "code",
   "execution_count": 42,
   "metadata": {},
   "outputs": [
    {
     "name": "stdout",
     "output_type": "stream",
     "text": [
      "search: \u001b[0m\u001b[1mp\u001b[22m\u001b[0m\u001b[1me\u001b[22m\u001b[0m\u001b[1mr\u001b[22m\u001b[0m\u001b[1mi\u001b[22m\u001b[0m\u001b[1mo\u001b[22m\u001b[0m\u001b[1md\u001b[22m \u001b[0m\u001b[1mp\u001b[22m\u001b[0m\u001b[1me\u001b[22m\u001b[0m\u001b[1mr\u001b[22m\u001b[0m\u001b[1mi\u001b[22m\u001b[0m\u001b[1mo\u001b[22m\u001b[0m\u001b[1md\u001b[22mogram ar_\u001b[0m\u001b[1mp\u001b[22m\u001b[0m\u001b[1me\u001b[22m\u001b[0m\u001b[1mr\u001b[22m\u001b[0m\u001b[1mi\u001b[22m\u001b[0m\u001b[1mo\u001b[22m\u001b[0m\u001b[1md\u001b[22mogram is_a\u001b[0m\u001b[1mp\u001b[22m\u001b[0m\u001b[1me\u001b[22m\u001b[0m\u001b[1mr\u001b[22m\u001b[0m\u001b[1mi\u001b[22m\u001b[0m\u001b[1mo\u001b[22m\u001b[0m\u001b[1md\u001b[22mic \u001b[0m\u001b[1mp\u001b[22maram\u001b[0m\u001b[1me\u001b[22mt\u001b[0m\u001b[1mr\u001b[22m\u001b[0m\u001b[1mi\u001b[22mc_c\u001b[0m\u001b[1mo\u001b[22mlorant\n",
      "\n"
     ]
    },
    {
     "data": {
      "text/latex": [
       "\\begin{verbatim}\n",
       "period(g)\n",
       "\\end{verbatim}\n",
       "Return the (common) period for all vertices in a strongly connected directed graph. Will throw an error if the graph is not strongly connected.\n",
       "\n",
       "\\section{Examples}\n",
       "\\begin{verbatim}\n",
       "julia> g = SimpleDiGraph([0 1 0; 0 0 1; 1 0 0]);\n",
       "\n",
       "julia> period(g)\n",
       "3\n",
       "\\end{verbatim}\n",
       "\\rule{\\textwidth}{1pt}\n",
       "Return the period of the Markov chain \\texttt{mc}.\n",
       "\n",
       "\\subparagraph{Arguments}\n",
       "\\begin{itemize}\n",
       "\\item \\texttt{mc::MarkovChain} : MarkovChain instance.\n",
       "\n",
       "\\end{itemize}\n",
       "\\subparagraph{Returns}\n",
       "\\begin{itemize}\n",
       "\\item \\texttt{::Int} : Period of \\texttt{mc}.\n",
       "\n",
       "\\end{itemize}\n"
      ],
      "text/markdown": [
       "```\n",
       "period(g)\n",
       "```\n",
       "\n",
       "Return the (common) period for all vertices in a strongly connected directed graph. Will throw an error if the graph is not strongly connected.\n",
       "\n",
       "# Examples\n",
       "\n",
       "```jldoctest\n",
       "julia> g = SimpleDiGraph([0 1 0; 0 0 1; 1 0 0]);\n",
       "\n",
       "julia> period(g)\n",
       "3\n",
       "```\n",
       "\n",
       "---\n",
       "\n",
       "Return the period of the Markov chain `mc`.\n",
       "\n",
       "##### Arguments\n",
       "\n",
       "  * `mc::MarkovChain` : MarkovChain instance.\n",
       "\n",
       "##### Returns\n",
       "\n",
       "  * `::Int` : Period of `mc`.\n"
      ],
      "text/plain": [
       "\u001b[36m  period(g)\u001b[39m\n",
       "\n",
       "  Return the (common) period for all vertices in a strongly connected directed\n",
       "  graph. Will throw an error if the graph is not strongly connected.\n",
       "\n",
       "\u001b[1m  Examples\u001b[22m\n",
       "\u001b[1m  ≡≡≡≡≡≡≡≡≡≡\u001b[22m\n",
       "\n",
       "\u001b[36m  julia> g = SimpleDiGraph([0 1 0; 0 0 1; 1 0 0]);\u001b[39m\n",
       "\u001b[36m  \u001b[39m\n",
       "\u001b[36m  julia> period(g)\u001b[39m\n",
       "\u001b[36m  3\u001b[39m\n",
       "\n",
       "  ────────────────────────────────────────────────────────────────────────────\n",
       "\n",
       "  Return the period of the Markov chain \u001b[36mmc\u001b[39m.\n",
       "\n",
       "\u001b[1m  Arguments\u001b[22m\n",
       "\u001b[1m  ⋅⋅⋅⋅⋅⋅⋅⋅⋅⋅⋅\u001b[22m\n",
       "\n",
       "    •    \u001b[36mmc::MarkovChain\u001b[39m : MarkovChain instance.\n",
       "\n",
       "\u001b[1m  Returns\u001b[22m\n",
       "\u001b[1m  ⋅⋅⋅⋅⋅⋅⋅⋅⋅\u001b[22m\n",
       "\n",
       "    •    \u001b[36m::Int\u001b[39m : Period of \u001b[36mmc\u001b[39m."
      ]
     },
     "execution_count": 42,
     "metadata": {},
     "output_type": "execute_result"
    }
   ],
   "source": [
    "?period"
   ]
  },
  {
   "cell_type": "code",
   "execution_count": 46,
   "metadata": {},
   "outputs": [
    {
     "data": {
      "image/png": "[encoded data removed]"
     },
     "execution_count": 46,
     "metadata": {},
     "output_type": "execute_result"
    }
   ],
   "source": [
    "P = [0.971 0.029 0.000\n",
    "     0.145 0.778 0.077\n",
    "     0.000 0.508 0.492] # stochastic matrix\n",
    "\n",
    "ψ = [0.0 0.2 0.8] # initial distribution\n",
    "\n",
    "t = 20 # path length\n",
    "x_vals = zeros(t)\n",
    "y_vals = similar(x_vals)\n",
    "z_vals = similar(x_vals)\n",
    "colors = [repeat([:red], 20); :black] # for plotting\n",
    "\n",
    "for i in 1:t\n",
    "    x_vals[i] = ψ[1]\n",
    "    y_vals[i] = ψ[2]\n",
    "    z_vals[i] = ψ[3]\n",
    "    ψ = ψ * P # update distribution\n",
    "end\n",
    "\n",
    "mc = MarkovChain(P)\n",
    "ψ_star = stationary_distributions(mc)[1]\n",
    "x_star, y_star, z_star = ψ_star # unpack the stationary dist\n",
    "plt = scatter([x_vals; x_star], [y_vals; y_star], [z_vals; z_star], color = colors,\n",
    "              gridalpha = 0.5, legend = :none)\n",
    "plot!(plt, camera = (45,45))"
   ]
  },
  {
   "cell_type": "markdown",
   "metadata": {},
   "source": [
    "### Exercise 1"
   ]
  },
  {
   "cell_type": "code",
   "execution_count": 61,
   "metadata": {},
   "outputs": [
    {
     "data": {
      "image/png": "[encoded data removed]"
     },
     "execution_count": 61,
     "metadata": {},
     "output_type": "execute_result"
    }
   ],
   "source": [
    "\n",
    "P  = [0.9 0.1; 0.1 0.0 0.9]\n",
    "mc = MarkovChain(P)\n",
    "n = 10_000\n",
    "p = 0.5\n",
    "\n",
    "plot_mc = Array{Vector}(undef, 2)\n",
    "    for i in 1:2\n",
    "    X = simulate(mc, 10_000, init = i)\n",
    "    X_m = cumsum(X .== 1) ./(1:n)\n",
    "    plot_mc[i] = X_m .- p\n",
    "end\n",
    "\n",
    "plot(plot_mc[1], color = :blue, label = \"  X = 1.0.0 \")\n",
    "plot!(plot_mc[2], color = :green, label = \"  X = 2 \")\n",
    "\n",
    "\n",
    "\n"
   ]
  },
  {
   "cell_type": "markdown",
   "metadata": {},
   "source": [
    "### Exercise 2"
   ]
  },
  {
   "cell_type": "code",
   "execution_count": 122,
   "metadata": {},
   "outputs": [
    {
     "data": {
      "text/plain": [
       "14-element Array{Pair{Int64,Float64},1}:\n",
       "  7 => 0.16840527577937653\n",
       " 10 => 0.15755395683453238\n",
       " 13 => 0.11819544364508393\n",
       " 11 => 0.09253597122302158\n",
       " 14 => 0.09253597122302158\n",
       "  2 => 0.08732014388489209\n",
       "  8 => 0.054676258992805746\n",
       "  9 => 0.05251798561151079\n",
       "  5 => 0.05251798561151078\n",
       "  3 => 0.041127098321342925\n",
       " 12 => 0.034292565947242205\n",
       "  4 => 0.032733812949640284\n",
       "  6 => 0.012470023980815346\n",
       "  1 => 0.0031175059952038365"
      ]
     },
     "execution_count": 122,
     "metadata": {},
     "output_type": "execute_result"
    }
   ],
   "source": [
    "using LinearAlgebra, Statistics\n",
    "using Distributions, Plots, Printf, QuantEcon, Random\n",
    "gr(fmt = :png);\n",
    "\n",
    "function PageRank(M)\n",
    "    M = M./sum(M, dims = 2)\n",
    "    mc = MarkovChain(M)\n",
    "    return stationary_distributions(mc)[1]\n",
    "end\n",
    "\n",
    "\n",
    "M = [0.0 0.0 0.0 1.0 0.0 1.0 0.0 0.0 0.0 0.0 0.0 0.0 0.0 0.0 ;\n",
    "    0.0 0.0 0.0 0.0 0.0 0.0 0.0 0.0 0.0 1.0 1.0 0.0 1.0 0.0 ;\n",
    "    0.0 0.0 1.0 0.0 0.0 0.0 1.0 0.0 0.0 1.0 0.0 0.0 1.0 0.0 ;\n",
    "    0.0 0.0 0.0 0.0 0.0 1.0 0.0 1.0 0.0 0.0 1.0 0.0 0.0 0.0 ;\n",
    "    0.0 0.0 0.0 1.0 0.0 0.0 0.0 1.0 0.0 0.0 0.0 1.0 0.0 0.0 ;\n",
    "    1.0 1.0 0.0 0.0 0.0 0.0 0.0 0.0 0.0 1.0 0.0 1.0 0.0 0.0 ;\n",
    "    0.0 1.0 0.0 0.0 0.0 0.0 0.0 0.0 0.0 1.0 0.0 0.0 0.0 0.0 ;\n",
    "    0.0 0.0 0.0 1.0 0.0 0.0 1.0 0.0 0.0 0.0 0.0 1.0 1.0 0.0 ;\n",
    "    0.0 0.0 0.0 0.0 0.0 0.0 1.0 1.0 0.0 0.0 0.0 0.0 0.0 0.0 ;\n",
    "    0.0 0.0 0.0 0.0 1.0 0.0 0.0 0.0 1.0 0.0 1.0 0.0 0.0 0.0 ;\n",
    "    0.0 0.0 0.0 0.0 0.0 0.0 0.0 0.0 0.0 0.0 0.0 0.0 0.0 1.0 ;\n",
    "    0.0 0.0 0.0 0.0 0.0 0.0 0.0 0.0 0.0 0.0 0.0 0.0 1.0 0.0 ;\n",
    "    0.0 0.0 0.0 0.0 0.0 0.0 1.0 0.0 0.0 0.0 0.0 0.0 0.0 0.0 ; \n",
    "    0.0 0.0 1.0 0.0 0.0 0.0 0.0 0.0 0.0 1.0 0.0 0.0 1.0 0.0 ]\n",
    "\n",
    "list = ['a','b','c','d','e','f','g','h','i','j','k','l','m','n']\n",
    "\n",
    "k = zeros(14)\n",
    "ranked_pages = Dict(zip(keys(list), PageRank(M)))\n",
    "sort(collect(ranked_pages), by = x -> x[2],rev = true)"
   ]
  },
  {
   "cell_type": "code",
   "execution_count": 60,
   "metadata": {},
   "outputs": [
    {
     "data": {
      "text/plain": [
       "7×7 Array{Float64,2}:\n",
       " 0.124107     0.375893     0.375893   …  0.0101947  0.000264073  1.92981e-6\n",
       " 0.0416323    0.240219     0.436297      0.039686   0.00191965   2.65606e-5\n",
       " 0.0104607    0.113646     0.375893      0.113646   0.0101947    0.000266003\n",
       " 0.00194621   0.039686     0.240219      0.240219   0.039686     0.00194621\n",
       " 0.000266003  0.0101947    0.113646      0.375893   0.113646     0.0104607\n",
       " 2.65606e-5   0.00191965   0.039686   …  0.436297   0.240219     0.0416323\n",
       " 1.92981e-6   0.000264073  0.0101947     0.375893   0.375893     0.124107"
      ]
     },
     "execution_count": 60,
     "metadata": {},
     "output_type": "execute_result"
    }
   ],
   "source": [
    "using LinearAlgebra, Statistics\n",
    "using Distributions, Plots, Printf, QuantEcon, Random\n",
    "\n",
    "\n",
    "function approx_markov(ρ, σ_u; m = 3, n = 7)\n",
    "    σ_y = sqrt(σ_u^2/(1 - ρ^2))\n",
    "    x = range(-m * σ_y, stop = m * σ_y , length = n)\n",
    "    s = step(x)\n",
    "    P = zeros(n,n)\n",
    "    for row in 1:n \n",
    "        P[row,1] = cdf(Normal(0,σ_u),(x[1] - ρ*x[row] + s/2))\n",
    "        P[row,n] = 1 - cdf(Normal(0,σ_u),(x[n] - ρ*x[row] - s/2))\n",
    "        for colum in 2:n-1\n",
    "            P[row, colum] = cdf(Normal(0,σ_u),(x[colum] - ρ*x[row] + s/2)) - cdf(Normal(0,σ_u),(x[colum] - ρ*x[row] - s/2))\n",
    "        end\n",
    "    end\n",
    "    return (P,x)\n",
    "end\n",
    "\n",
    "approx_markov(0.5, 1.0)[1]\n"
   ]
  },
  {
   "cell_type": "code",
   "execution_count": null,
   "metadata": {},
   "outputs": [],
   "source": []
  }
 ],
 "metadata": {
  "kernelspec": {
   "display_name": "Julia 1.4.1",
   "language": "julia",
   "name": "julia-1.4"
  },
  "language_info": {
   "file_extension": ".jl",
   "mimetype": "application/julia",
   "name": "julia",
   "version": "1.4.1"
  }
 },
 "nbformat": 4,
 "nbformat_minor": 4
}
